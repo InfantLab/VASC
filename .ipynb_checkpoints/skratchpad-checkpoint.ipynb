{
 "cells": [
  {
   "cell_type": "markdown",
   "metadata": {},
   "source": [
    "This is my personal file for checking things i don't understand about python, numpy, etc.\n",
    "It probably won't ever get uploaded to github. But now you know, just in case."
   ]
  },
  {
   "cell_type": "code",
   "execution_count": 1,
   "metadata": {},
   "outputs": [
    {
     "name": "stdout",
     "output_type": "stream",
     "text": [
      "Automatic pdb calling has been turned ON\n"
     ]
    }
   ],
   "source": [
    "#turn on debugging\n",
    "%pdb on"
   ]
  },
  {
   "cell_type": "code",
   "execution_count": null,
   "metadata": {},
   "outputs": [],
   "source": [
    "import os\n",
    "import numpy as np\n",
    "a = np.array([0.1,1.1,2.1,3.1,4.1,5.1,6.1,7.1])"
   ]
  },
  {
   "cell_type": "code",
   "execution_count": 2,
   "metadata": {},
   "outputs": [],
   "source": [
    "xs = [0+3*i for i in range(3)]\n",
    "ys = [1+3*i for i in range(3)]\n",
    "ps = [2+3*i for i in range(3)]"
   ]
  },
  {
   "cell_type": "code",
   "execution_count": null,
   "metadata": {},
   "outputs": [],
   "source": [
    "print(a[xs])\n",
    "print(a[ys])"
   ]
  },
  {
   "cell_type": "code",
   "execution_count": null,
   "metadata": {},
   "outputs": [],
   "source": [
    "!dir"
   ]
  },
  {
   "cell_type": "code",
   "execution_count": null,
   "metadata": {},
   "outputs": [],
   "source": [
    "a = 6\n"
   ]
  },
  {
   "cell_type": "code",
   "execution_count": null,
   "metadata": {},
   "outputs": [],
   "source": [
    "import threading,time\n",
    "a=5\n",
    "threading.Thread(target=lambda:[print(a),time.sleep(20),print(a)]).start()"
   ]
  },
  {
   "cell_type": "code",
   "execution_count": null,
   "metadata": {},
   "outputs": [],
   "source": [
    "wd =  os.getcwd() + \"\\\\\"\n",
    "# locations of videos and output\n",
    "videos_in = wd + \"..\\\\videos_in\\\\\" \n",
    "videos_out_openpose = wd + \"..\\\\videos_out_openpose\\\\\"\n",
    "\n",
    "# location of openposedemo - THIS WILL BE DIFFERENT ON YOUR COMPUTER\n",
    "openposepath = \"C:\\\\Users\\\\cas\\\\openpose-1.5.0-binaries-win64-gpu-python-flir-3d_recommended\\\\bin\\\\\"\n",
    "\n",
    "if sys.platform == \"win32\":\n",
    "    app = \"OpenPoseDemo.exe\"\n",
    "else:\n",
    "    app = 'OpenPoseDemo.bin'\n",
    "\n",
    "openposeapp = openposepath + app\n",
    "\n",
    "print(openposeapp)"
   ]
  },
  {
   "cell_type": "code",
   "execution_count": null,
   "metadata": {},
   "outputs": [],
   "source": [
    "optstring = \"\"\n",
    "for key in params:\n",
    "    optstring += \" --\" + key + \" \" + params[key]\n",
    "\n",
    "print(optstring)\n",
    "\n",
    "for vid in allvideos:\n",
    "    try:\n",
    "        print(\"Staring openpose processing of \" + vid)\n",
    "        # Log the time\n",
    "        time_start = time.time()\n",
    "        video = \" --video \" + vid\n",
    "        opbin = openposeapp + video + optstring\n",
    "        print(opbin)\n",
    "        exitcode = os.system(opbin)\n",
    "        # Log the time again\n",
    "        time_end = time.time()\n",
    "        if (exitcode == 0):\n",
    "            # Print stats\n",
    "            print (\"Done \" + vid)\n",
    "            print (\"It took %d seconds for conversion.\" % (time_end-time_start))\n",
    "        else:\n",
    "            print(\"OpenPose error. Exit code %d\" % exitcode)\n",
    "    except Exception as e:\n",
    "        print(\"Error: \", e)\n",
    "        pass"
   ]
  },
  {
   "cell_type": "markdown",
   "metadata": {},
   "source": [
    "Useful Jupyter extensions\n",
    "\n",
    "`jupyter labextension install @jupyterlab/toc`\n",
    "\n",
    "`jupyter labextension install @lckr/jupyterlab_variableinspector`\n"
   ]
  },
  {
   "cell_type": "code",
   "execution_count": null,
   "metadata": {},
   "outputs": [],
   "source": [
    "def bad_function(var):\n",
    "    return var + 0\n",
    " \n",
    "bad_function(\"Mike\")"
   ]
  },
  {
   "cell_type": "code",
   "execution_count": null,
   "metadata": {},
   "outputs": [],
   "source": [
    "proc = ['lookit.01', 'lookit.02', 'lookit.03', 'lookit.04', 'lookit.05', 'lookit.06', 'lookit.07', 'lookit.08', 'lookit.09', 'lookit.10']"
   ]
  },
  {
   "cell_type": "code",
   "execution_count": null,
   "metadata": {},
   "outputs": [],
   "source": [
    "proc['lookit.01']"
   ]
  },
  {
   "cell_type": "code",
   "execution_count": null,
   "metadata": {},
   "outputs": [],
   "source": [
    "videos = {\"camera1\" :{\"name\": \"lookit.01\",\n",
    "  \"frames\": 412,\n",
    "  \"start\": 0,\n",
    "  \"end\": 412,\n",
    "  \"processed\": True},\n",
    "    \"camera2\":\n",
    "    {\"name\": \"lookit.01\",\n",
    "  \"frames\": 412,\n",
    "  \"start\": 0,\n",
    "  \"end\": 412,\n",
    "  \"processed\": None}\n",
    "         }\n",
    "print(videos)"
   ]
  },
  {
   "cell_type": "code",
   "execution_count": null,
   "metadata": {},
   "outputs": [],
   "source": [
    "cars = [\n",
    "    {\"model\": \"BMW 230\", \"mpg\": 27.5},\n",
    "    {\"model\": \"Ford Edge\", \"mpg\": 24.1}\n",
    "  ]\n",
    "print(cars)\n",
    "len(cars)"
   ]
  },
  {
   "cell_type": "code",
   "execution_count": null,
   "metadata": {},
   "outputs": [],
   "source": [
    "\n",
    "from datetime import datetime\n",
    "my_date = datetime.now()\n",
    "print(my_date.isoformat())\n",
    "\n",
    "strdate = my_date.isoformat()\n",
    "\n",
    "strdate2 = \"2020-01-20T20:20:20\""
   ]
  },
  {
   "cell_type": "code",
   "execution_count": null,
   "metadata": {},
   "outputs": [],
   "source": [
    "mydate2 = datetime.fromisoformat(strdate2)\n",
    "\n"
   ]
  },
  {
   "cell_type": "code",
   "execution_count": null,
   "metadata": {},
   "outputs": [],
   "source": [
    "videos.json = {}"
   ]
  },
  {
   "cell_type": "code",
   "execution_count": null,
   "metadata": {},
   "outputs": [],
   "source": [
    "proc = {}\n",
    "proc[\"camera1\"] = {}\n",
    "proc[\"camera2\"] = {}"
   ]
  },
  {
   "cell_type": "code",
   "execution_count": null,
   "metadata": {},
   "outputs": [],
   "source": [
    "proc[\"camera1\"][\"name\"] = \"vid1\""
   ]
  },
  {
   "cell_type": "code",
   "execution_count": null,
   "metadata": {},
   "outputs": [],
   "source": [
    "proc[\"camera2\"][\"openpose\"] = \"now\""
   ]
  },
  {
   "cell_type": "code",
   "execution_count": null,
   "metadata": {},
   "outputs": [],
   "source": [
    "base, fmt = os.path.splitext(\"basename.01.avi\")\n",
    "\n",
    "print(base)\n",
    "print(fmt)"
   ]
  },
  {
   "cell_type": "code",
   "execution_count": null,
   "metadata": {},
   "outputs": [],
   "source": [
    "\n",
    "import ipywidgets as widgets\n",
    "from IPython.display import display\n",
    "\n",
    "widgets.IntSlider(\n",
    "    value=5,\n",
    "    min=1,\n",
    "    max=10,\n",
    "    step=1)"
   ]
  },
  {
   "cell_type": "code",
   "execution_count": null,
   "metadata": {},
   "outputs": [],
   "source": [
    "widgets.IntSlider()"
   ]
  },
  {
   "cell_type": "code",
   "execution_count": null,
   "metadata": {},
   "outputs": [],
   "source": []
  },
  {
   "cell_type": "code",
   "execution_count": null,
   "metadata": {},
   "outputs": [],
   "source": []
  },
  {
   "cell_type": "markdown",
   "metadata": {},
   "source": [
    "## Multivariate Gaussian Random Walk\n",
    "\n",
    "From https://docs.pymc.io/notebooks/MvGaussianRandomWalk_demo.html\n"
   ]
  },
  {
   "cell_type": "code",
   "execution_count": null,
   "metadata": {},
   "outputs": [],
   "source": [
    "import numpy as np\n",
    "import matplotlib.pyplot as plt\n",
    "from scipy.linalg import cholesky\n",
    "\n",
    "import pymc3 as pm\n",
    "#import theano\n",
    "\n",
    "np.random.seed(42)\n",
    "%matplotlib inline"
   ]
  },
  {
   "cell_type": "code",
   "execution_count": null,
   "metadata": {},
   "outputs": [],
   "source": [
    "R = 3\n",
    "N = 5\n",
    "\n",
    "#create array of zeros\n",
    "alldata = np.zeros([R,N])\n",
    "print(alldata)\n",
    "\n",
    "#fill in first entry\n",
    "alldata[0,0] = 1\n",
    "print(alldata)\n",
    "\n",
    "#fill in column 1\n",
    "alldata[:,0] = [1,1,1]\n",
    "print(alldata)\n",
    "\n",
    "alldata[0,:] = 2\n",
    "print(alldata)\n"
   ]
  },
  {
   "cell_type": "code",
   "execution_count": null,
   "metadata": {},
   "outputs": [],
   "source": [
    "\n",
    "D = 3\n",
    "N = 300\n",
    "sections = 5\n",
    "period = N/sections\n",
    "\n",
    "Sigma_a = np.random.randn(D, D)\n",
    "Sigma_a = Sigma_a.T.dot(Sigma_a)\n",
    "L_a = cholesky(Sigma_a, lower=True)\n",
    "\n",
    "Sigma_b = np.random.randn(D, D)\n",
    "Sigma_b = Sigma_b.T.dot(Sigma_b)\n",
    "L_b = cholesky(Sigma_b, lower=True)\n",
    "\n",
    "# Gaussian Random walk:\n",
    "alpha = np.cumsum(L_a.dot(np.random.randn(D, sections)), axis=1).T\n",
    "beta = np.cumsum(L_b.dot(np.random.randn(D, sections)), axis=1).T\n",
    "sigma = 0.1\n",
    "\n",
    "t = np.arange(N)[:, None]/ N\n",
    "alpha = np.repeat(alpha, period, axis=0)\n",
    "beta = np.repeat(beta, period, axis=0)\n",
    "y = alpha + beta*t + sigma*np.random.randn(N, 1)"
   ]
  },
  {
   "cell_type": "code",
   "execution_count": null,
   "metadata": {},
   "outputs": [],
   "source": [
    "print(alpha)"
   ]
  },
  {
   "cell_type": "code",
   "execution_count": null,
   "metadata": {},
   "outputs": [],
   "source": [
    "plt.figure(figsize=(12, 5))\n",
    "plt.plot(t, beta)\n",
    "plt.title('Three Correlated Series')\n",
    "plt.show()\n",
    "\n"
   ]
  },
  {
   "cell_type": "code",
   "execution_count": null,
   "metadata": {},
   "outputs": [],
   "source": [
    "from IPython.display import display, clear_output\n",
    "import ipywidgets as widgets\n",
    "import seaborn as sns\n",
    "\n",
    "mydata = {'a': range(3),\n",
    "          'b': range(4),\n",
    "          'c': range(5)}\n",
    "default = 'b'\n",
    "sns.boxplot(data=mydata[default])\n",
    "\n",
    "w = widgets.Dropdown(\n",
    "    options=mydata.keys(),\n",
    "    value = default,\n",
    "    description='List',\n",
    ")\n",
    "display(w)\n",
    "\n",
    "def on_change(change):\n",
    "    if change['name'] == 'value' and (change['new'] != change['old']):\n",
    "        clear_output()\n",
    "        display(w)        \n",
    "        sns.boxplot(data = mydata[change['new']])\n",
    "\n",
    "w.observe(on_change)"
   ]
  },
  {
   "cell_type": "code",
   "execution_count": null,
   "metadata": {},
   "outputs": [],
   "source": [
    "%matplotlib inline\n",
    "\n",
    "from matplotlib.pyplot import *\n",
    "import ipywidgets \n",
    "\n",
    "button = ipywidgets.Button(description=\"Button\")\n",
    "out = ipywidgets.Output()\n",
    "\n",
    "def on_button_clicked(b):\n",
    "    with out:\n",
    "        clear_output(True)\n",
    "        plot([1,2],[2,1])\n",
    "        show()\n",
    "\n",
    "button.on_click(on_button_clicked)\n",
    "\n",
    "display(button)\n",
    "\n",
    "with out:\n",
    "    plot([1,2],[1,2])\n",
    "    show()\n",
    "\n",
    "out"
   ]
  }
 ],
 "metadata": {
  "kernelspec": {
   "display_name": "Python 3",
   "language": "python",
   "name": "python3"
  },
  "language_info": {
   "codemirror_mode": {
    "name": "ipython",
    "version": 3
   },
   "file_extension": ".py",
   "mimetype": "text/x-python",
   "name": "python",
   "nbconvert_exporter": "python",
   "pygments_lexer": "ipython3",
   "version": "3.7.6"
  }
 },
 "nbformat": 4,
 "nbformat_minor": 4
}
