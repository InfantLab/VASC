{
 "cells": [
  {
   "cell_type": "markdown",
   "metadata": {},
   "source": [
    "This is my personal file for checking things i don't understand about python, numpy, etc.\n",
    "It probably won't ever get uploaded to github. But now you know, just in case."
   ]
  },
  {
   "cell_type": "code",
   "execution_count": 2,
   "metadata": {},
   "outputs": [
    {
     "name": "stdout",
     "output_type": "stream",
     "text": [
      "3.7.9 (default, Aug 31 2020, 17:10:11) [MSC v.1916 64 bit (AMD64)]\n",
      "C:\\Users\\cas\\Anaconda3\\python.exe\n",
      "vasc\n",
      "C:\\Users\\cas\\Anaconda3\\envs\\vasc\n"
     ]
    }
   ],
   "source": [
    "#having some problems with launching the right envirionment from powershell\n",
    "#these are supposed to tell me what environment i'm in. (tbh i don't believe it as i had problem loading a module that wasn't in base.)\n",
    "import sys\n",
    "print(sys.version)\n",
    "print(sys.executable)\n",
    "\n",
    "import os\n",
    "print (os.environ['CONDA_DEFAULT_ENV'])\n",
    "print (os.environ['CONDA_PREFIX'])"
   ]
  },
  {
   "cell_type": "code",
   "execution_count": 24,
   "metadata": {},
   "outputs": [],
   "source": [
    "import os\n",
    "import numpy as np\n",
    "import pandas as pd\n",
    "\n",
    "import matplotlib.pyplot as plt\n",
    "%matplotlib inline"
   ]
  },
  {
   "cell_type": "code",
   "execution_count": 8,
   "metadata": {},
   "outputs": [
    {
     "name": "stdout",
     "output_type": "stream",
     "text": [
      "[[   inf 103.     1.1     inf]\n",
      " [   inf   1.23 123.      inf]\n",
      " [   inf    inf   2.35 133.  ]\n",
      " [   inf    inf    inf   3.4 ]]\n"
     ]
    }
   ],
   "source": [
    "\n",
    "deltas = np.array(np.full((4,4),np.inf))\n",
    "\n",
    "deltas[0,1] = 103\n",
    "deltas[0,2] = 1.1\n",
    "deltas[1,1] = 1.23\n",
    "deltas[1,2] = 123\n",
    "deltas[2,2] = 2.35\n",
    "deltas[2,3] = 133\n",
    "deltas[3,3] = 3.4\n",
    "\n",
    "print (deltas)"
   ]
  },
  {
   "cell_type": "code",
   "execution_count": 81,
   "metadata": {},
   "outputs": [],
   "source": []
  },
  {
   "cell_type": "code",
   "execution_count": 9,
   "metadata": {},
   "outputs": [
    {
     "name": "stdout",
     "output_type": "stream",
     "text": [
      "[[0.39519664 0.25284956 0.06168913 0.0658433  0.00858284 0.59352946\n",
      "  0.0498056  0.06397185 0.52489275 0.26225848]\n",
      " [0.09576895 0.6865411  0.36111874 0.4842123  0.84361541 0.95245225\n",
      "  0.96161651 0.29068045 0.47413521 0.09340176]\n",
      " [0.99292075 0.40868471 0.25322526 0.2514248  0.02671625 0.11536716\n",
      "  0.9506318  0.11626209 0.93572856 0.70886642]\n",
      " [0.04592559 0.10333718 0.42447382 0.71571813 0.29047545 0.71166766\n",
      "  0.48255387 0.54451942 0.82020926 0.58295865]\n",
      " [0.88091461 0.46808999 0.41334031 0.46628119 0.52131124 0.4407249\n",
      "  0.95417921 0.32623227 0.85241685 0.06846958]\n",
      " [0.75029292 0.43416928 0.92319537 0.72049046 0.72499315 0.59705542\n",
      "  0.13005855 0.72398034 0.78993112 0.69340349]\n",
      " [0.06883723 0.56361645 0.06069933 0.49820192 0.86339091 0.28691618\n",
      "  0.98310643 0.84208759 0.34558355 0.89102757]\n",
      " [0.41681609 0.82051346 0.45000459 0.63825287 0.59810559 0.67869431\n",
      "  0.80771814 0.08829602 0.64370539 0.44441653]\n",
      " [0.11167034 0.62767684 0.98856899 0.08781331 0.05909569 0.1740256\n",
      "  0.04795408 0.11185556 0.17558879 0.55594747]\n",
      " [0.62904243 0.54736161 0.43237676 0.99898664 0.8282647  0.8813819\n",
      "  0.27075231 0.06056067 0.63659858 0.12437212]]\n"
     ]
    },
    {
     "ename": "NameError",
     "evalue": "name 'minimumswaps' is not defined",
     "output_type": "error",
     "traceback": [
      "\u001b[1;31m---------------------------------------------------------------------------\u001b[0m",
      "\u001b[1;31mNameError\u001b[0m                                 Traceback (most recent call last)",
      "\u001b[1;32m<ipython-input-9-fdf88aa58c7a>\u001b[0m in \u001b[0;36m<module>\u001b[1;34m\u001b[0m\n\u001b[0;32m      1\u001b[0m \u001b[0mbigrandom\u001b[0m \u001b[1;33m=\u001b[0m \u001b[0mnp\u001b[0m\u001b[1;33m.\u001b[0m\u001b[0mrandom\u001b[0m\u001b[1;33m.\u001b[0m\u001b[0mrand\u001b[0m\u001b[1;33m(\u001b[0m\u001b[1;36m10\u001b[0m\u001b[1;33m,\u001b[0m\u001b[1;36m10\u001b[0m\u001b[1;33m)\u001b[0m\u001b[1;33m\u001b[0m\u001b[1;33m\u001b[0m\u001b[0m\n\u001b[0;32m      2\u001b[0m \u001b[0mprint\u001b[0m\u001b[1;33m(\u001b[0m\u001b[0mbigrandom\u001b[0m\u001b[1;33m)\u001b[0m\u001b[1;33m\u001b[0m\u001b[1;33m\u001b[0m\u001b[0m\n\u001b[1;32m----> 3\u001b[1;33m \u001b[0mminimumswaps\u001b[0m\u001b[1;33m(\u001b[0m\u001b[0mbigrandom\u001b[0m\u001b[1;33m)\u001b[0m\u001b[1;33m\u001b[0m\u001b[1;33m\u001b[0m\u001b[0m\n\u001b[0m",
      "\u001b[1;31mNameError\u001b[0m: name 'minimumswaps' is not defined"
     ]
    }
   ],
   "source": [
    "bigrandom = np.random.rand(10,10)\n",
    "print(bigrandom)\n",
    "minimumswaps(bigrandom)"
   ]
  },
  {
   "cell_type": "code",
   "execution_count": 10,
   "metadata": {},
   "outputs": [
    {
     "name": "stdout",
     "output_type": "stream",
     "text": [
      "0 0\n",
      "0 1\n",
      "1 1\n"
     ]
    }
   ],
   "source": [
    "people = [0, 1]\n",
    "\n",
    "for p1 in range(len(people)): #first person from frame f\n",
    "    r1 = people[p1] #what person is this?\n",
    "    whosleft = range(p1,len(people))\n",
    "    for p2 in whosleft: #next person from frame f + 1\n",
    "        r2 = people[p2] #what person is this?\n",
    "        print(p1, p2)"
   ]
  },
  {
   "cell_type": "code",
   "execution_count": 11,
   "metadata": {},
   "outputs": [
    {
     "name": "stdout",
     "output_type": "stream",
     "text": [
      "Automatic pdb calling has been turned ON\n"
     ]
    }
   ],
   "source": [
    "#turn on debugging\n",
    "%pdb on"
   ]
  },
  {
   "cell_type": "markdown",
   "metadata": {},
   "source": [
    "Sanity checking what happens when you have a correlation in a moving window... "
   ]
  },
  {
   "cell_type": "code",
   "execution_count": 2,
   "metadata": {},
   "outputs": [],
   "source": [
    "df = pd.DataFrame(np.arange(0,1000))\n",
    "\n",
    "df[\"Cs\"] = np.cos(df)\n",
    "df[\"C2\"] = df[\"Cs\"] + .1\n",
    "df.loc[500:,\"C2\"] = 0"
   ]
  },
  {
   "cell_type": "code",
   "execution_count": 12,
   "metadata": {},
   "outputs": [
    {
     "ename": "NameError",
     "evalue": "name 'df' is not defined",
     "output_type": "error",
     "traceback": [
      "\u001b[1;31m---------------------------------------------------------------------------\u001b[0m",
      "\u001b[1;31mNameError\u001b[0m                                 Traceback (most recent call last)",
      "\u001b[1;32m<ipython-input-12-2eade70e920f>\u001b[0m in \u001b[0;36m<module>\u001b[1;34m\u001b[0m\n\u001b[1;32m----> 1\u001b[1;33m \u001b[0mroll\u001b[0m \u001b[1;33m=\u001b[0m \u001b[0mdf\u001b[0m\u001b[1;33m[\u001b[0m\u001b[1;34m\"Cs\"\u001b[0m\u001b[1;33m]\u001b[0m\u001b[1;33m.\u001b[0m\u001b[0mrolling\u001b[0m\u001b[1;33m(\u001b[0m\u001b[0mwindow\u001b[0m\u001b[1;33m=\u001b[0m\u001b[1;36m100\u001b[0m\u001b[1;33m,\u001b[0m \u001b[0mcenter\u001b[0m\u001b[1;33m=\u001b[0m\u001b[1;32mTrue\u001b[0m\u001b[1;33m)\u001b[0m\u001b[1;33m.\u001b[0m\u001b[0mcorr\u001b[0m\u001b[1;33m(\u001b[0m\u001b[0mdf\u001b[0m\u001b[1;33m[\u001b[0m\u001b[1;34m\"C2\"\u001b[0m\u001b[1;33m]\u001b[0m\u001b[1;33m)\u001b[0m\u001b[1;33m\u001b[0m\u001b[1;33m\u001b[0m\u001b[0m\n\u001b[0m\u001b[0;32m      2\u001b[0m \u001b[1;33m\u001b[0m\u001b[0m\n\u001b[0;32m      3\u001b[0m \u001b[0mf\u001b[0m\u001b[1;33m,\u001b[0m\u001b[0max\u001b[0m\u001b[1;33m=\u001b[0m\u001b[0mplt\u001b[0m\u001b[1;33m.\u001b[0m\u001b[0msubplots\u001b[0m\u001b[1;33m(\u001b[0m\u001b[1;36m2\u001b[0m\u001b[1;33m,\u001b[0m\u001b[1;36m1\u001b[0m\u001b[1;33m,\u001b[0m\u001b[0mfigsize\u001b[0m\u001b[1;33m=\u001b[0m\u001b[1;33m(\u001b[0m\u001b[1;36m14\u001b[0m\u001b[1;33m,\u001b[0m\u001b[1;36m6\u001b[0m\u001b[1;33m)\u001b[0m\u001b[1;33m,\u001b[0m\u001b[0msharex\u001b[0m\u001b[1;33m=\u001b[0m\u001b[1;32mTrue\u001b[0m\u001b[1;33m)\u001b[0m\u001b[1;33m\u001b[0m\u001b[1;33m\u001b[0m\u001b[0m\n\u001b[0;32m      4\u001b[0m \u001b[0mdf\u001b[0m\u001b[1;33m.\u001b[0m\u001b[0mloc\u001b[0m\u001b[1;33m[\u001b[0m\u001b[1;33m:\u001b[0m\u001b[1;33m,\u001b[0m\u001b[1;33m(\u001b[0m\u001b[1;34m\"Cs\"\u001b[0m\u001b[1;33m,\u001b[0m\u001b[1;34m\"C2\"\u001b[0m\u001b[1;33m)\u001b[0m\u001b[1;33m]\u001b[0m\u001b[1;33m.\u001b[0m\u001b[0mplot\u001b[0m\u001b[1;33m(\u001b[0m\u001b[0max\u001b[0m\u001b[1;33m=\u001b[0m\u001b[0max\u001b[0m\u001b[1;33m[\u001b[0m\u001b[1;36m0\u001b[0m\u001b[1;33m]\u001b[0m\u001b[1;33m)\u001b[0m\u001b[1;33m\u001b[0m\u001b[1;33m\u001b[0m\u001b[0m\n\u001b[0;32m      5\u001b[0m \u001b[0mroll\u001b[0m\u001b[1;33m.\u001b[0m\u001b[0mplot\u001b[0m\u001b[1;33m(\u001b[0m\u001b[0max\u001b[0m\u001b[1;33m=\u001b[0m\u001b[0max\u001b[0m\u001b[1;33m[\u001b[0m\u001b[1;36m1\u001b[0m\u001b[1;33m]\u001b[0m\u001b[1;33m)\u001b[0m\u001b[1;33m\u001b[0m\u001b[1;33m\u001b[0m\u001b[0m\n",
      "\u001b[1;31mNameError\u001b[0m: name 'df' is not defined"
     ]
    },
    {
     "name": "stdout",
     "output_type": "stream",
     "text": [
      "> \u001b[1;32m<ipython-input-12-2eade70e920f>\u001b[0m(1)\u001b[0;36m<module>\u001b[1;34m()\u001b[0m\n",
      "\u001b[1;32m----> 1 \u001b[1;33m\u001b[0mroll\u001b[0m \u001b[1;33m=\u001b[0m \u001b[0mdf\u001b[0m\u001b[1;33m[\u001b[0m\u001b[1;34m\"Cs\"\u001b[0m\u001b[1;33m]\u001b[0m\u001b[1;33m.\u001b[0m\u001b[0mrolling\u001b[0m\u001b[1;33m(\u001b[0m\u001b[0mwindow\u001b[0m\u001b[1;33m=\u001b[0m\u001b[1;36m100\u001b[0m\u001b[1;33m,\u001b[0m \u001b[0mcenter\u001b[0m\u001b[1;33m=\u001b[0m\u001b[1;32mTrue\u001b[0m\u001b[1;33m)\u001b[0m\u001b[1;33m.\u001b[0m\u001b[0mcorr\u001b[0m\u001b[1;33m(\u001b[0m\u001b[0mdf\u001b[0m\u001b[1;33m[\u001b[0m\u001b[1;34m\"C2\"\u001b[0m\u001b[1;33m]\u001b[0m\u001b[1;33m)\u001b[0m\u001b[1;33m\u001b[0m\u001b[1;33m\u001b[0m\u001b[0m\n",
      "\u001b[0m\u001b[1;32m      2 \u001b[1;33m\u001b[1;33m\u001b[0m\u001b[0m\n",
      "\u001b[0m\u001b[1;32m      3 \u001b[1;33m\u001b[0mf\u001b[0m\u001b[1;33m,\u001b[0m\u001b[0max\u001b[0m\u001b[1;33m=\u001b[0m\u001b[0mplt\u001b[0m\u001b[1;33m.\u001b[0m\u001b[0msubplots\u001b[0m\u001b[1;33m(\u001b[0m\u001b[1;36m2\u001b[0m\u001b[1;33m,\u001b[0m\u001b[1;36m1\u001b[0m\u001b[1;33m,\u001b[0m\u001b[0mfigsize\u001b[0m\u001b[1;33m=\u001b[0m\u001b[1;33m(\u001b[0m\u001b[1;36m14\u001b[0m\u001b[1;33m,\u001b[0m\u001b[1;36m6\u001b[0m\u001b[1;33m)\u001b[0m\u001b[1;33m,\u001b[0m\u001b[0msharex\u001b[0m\u001b[1;33m=\u001b[0m\u001b[1;32mTrue\u001b[0m\u001b[1;33m)\u001b[0m\u001b[1;33m\u001b[0m\u001b[1;33m\u001b[0m\u001b[0m\n",
      "\u001b[0m\u001b[1;32m      4 \u001b[1;33m\u001b[0mdf\u001b[0m\u001b[1;33m.\u001b[0m\u001b[0mloc\u001b[0m\u001b[1;33m[\u001b[0m\u001b[1;33m:\u001b[0m\u001b[1;33m,\u001b[0m\u001b[1;33m(\u001b[0m\u001b[1;34m\"Cs\"\u001b[0m\u001b[1;33m,\u001b[0m\u001b[1;34m\"C2\"\u001b[0m\u001b[1;33m)\u001b[0m\u001b[1;33m]\u001b[0m\u001b[1;33m.\u001b[0m\u001b[0mplot\u001b[0m\u001b[1;33m(\u001b[0m\u001b[0max\u001b[0m\u001b[1;33m=\u001b[0m\u001b[0max\u001b[0m\u001b[1;33m[\u001b[0m\u001b[1;36m0\u001b[0m\u001b[1;33m]\u001b[0m\u001b[1;33m)\u001b[0m\u001b[1;33m\u001b[0m\u001b[1;33m\u001b[0m\u001b[0m\n",
      "\u001b[0m\u001b[1;32m      5 \u001b[1;33m\u001b[0mroll\u001b[0m\u001b[1;33m.\u001b[0m\u001b[0mplot\u001b[0m\u001b[1;33m(\u001b[0m\u001b[0max\u001b[0m\u001b[1;33m=\u001b[0m\u001b[0max\u001b[0m\u001b[1;33m[\u001b[0m\u001b[1;36m1\u001b[0m\u001b[1;33m]\u001b[0m\u001b[1;33m)\u001b[0m\u001b[1;33m\u001b[0m\u001b[1;33m\u001b[0m\u001b[0m\n",
      "\u001b[0m\n"
     ]
    },
    {
     "name": "stdin",
     "output_type": "stream",
     "text": [
      "ipdb>  q\n"
     ]
    }
   ],
   "source": [
    "roll = df[\"Cs\"].rolling(window=100, center=True).corr(df[\"C2\"])\n",
    "\n",
    "f,ax=plt.subplots(2,1,figsize=(14,6),sharex=True)\n",
    "df.loc[:,(\"Cs\",\"C2\")].plot(ax=ax[0])\n",
    "roll.plot(ax=ax[1])"
   ]
  },
  {
   "cell_type": "code",
   "execution_count": 3,
   "metadata": {},
   "outputs": [
    {
     "ename": "NameError",
     "evalue": "name 'np' is not defined",
     "output_type": "error",
     "traceback": [
      "\u001b[1;31m---------------------------------------------------------------------------\u001b[0m",
      "\u001b[1;31mNameError\u001b[0m                                 Traceback (most recent call last)",
      "\u001b[1;32m<ipython-input-3-884e3df826ca>\u001b[0m in \u001b[0;36m<module>\u001b[1;34m\u001b[0m\n\u001b[1;32m----> 1\u001b[1;33m \u001b[0ma\u001b[0m \u001b[1;33m=\u001b[0m \u001b[0mnp\u001b[0m\u001b[1;33m.\u001b[0m\u001b[0marray\u001b[0m\u001b[1;33m(\u001b[0m\u001b[1;33m[\u001b[0m\u001b[1;36m0.1\u001b[0m\u001b[1;33m,\u001b[0m\u001b[1;36m1.1\u001b[0m\u001b[1;33m,\u001b[0m\u001b[1;36m2.1\u001b[0m\u001b[1;33m,\u001b[0m\u001b[1;36m3.1\u001b[0m\u001b[1;33m,\u001b[0m\u001b[1;36m4.1\u001b[0m\u001b[1;33m,\u001b[0m\u001b[1;36m5.1\u001b[0m\u001b[1;33m,\u001b[0m\u001b[1;36m6.1\u001b[0m\u001b[1;33m,\u001b[0m\u001b[1;36m7.1\u001b[0m\u001b[1;33m]\u001b[0m\u001b[1;33m)\u001b[0m\u001b[1;33m\u001b[0m\u001b[1;33m\u001b[0m\u001b[0m\n\u001b[0m",
      "\u001b[1;31mNameError\u001b[0m: name 'np' is not defined"
     ]
    }
   ],
   "source": [
    "a = np.array([0.1,1.1,2.1,3.1,4.1,5.1,6.1,7.1])"
   ]
  },
  {
   "cell_type": "code",
   "execution_count": 1,
   "metadata": {},
   "outputs": [],
   "source": [
    "xs = [0+3*i for i in range(3)]\n",
    "ys = [1+3*i for i in range(3)]\n",
    "ps = [2+3*i for i in range(3)]"
   ]
  },
  {
   "cell_type": "code",
   "execution_count": 2,
   "metadata": {},
   "outputs": [
    {
     "ename": "NameError",
     "evalue": "name 'a' is not defined",
     "output_type": "error",
     "traceback": [
      "\u001b[1;31m---------------------------------------------------------------------------\u001b[0m",
      "\u001b[1;31mNameError\u001b[0m                                 Traceback (most recent call last)",
      "\u001b[1;32m<ipython-input-2-ce4523d78067>\u001b[0m in \u001b[0;36m<module>\u001b[1;34m\u001b[0m\n\u001b[1;32m----> 1\u001b[1;33m \u001b[0mprint\u001b[0m\u001b[1;33m(\u001b[0m\u001b[0ma\u001b[0m\u001b[1;33m[\u001b[0m\u001b[0mxs\u001b[0m\u001b[1;33m]\u001b[0m\u001b[1;33m)\u001b[0m\u001b[1;33m\u001b[0m\u001b[1;33m\u001b[0m\u001b[0m\n\u001b[0m\u001b[0;32m      2\u001b[0m \u001b[0mprint\u001b[0m\u001b[1;33m(\u001b[0m\u001b[0ma\u001b[0m\u001b[1;33m[\u001b[0m\u001b[0mys\u001b[0m\u001b[1;33m]\u001b[0m\u001b[1;33m)\u001b[0m\u001b[1;33m\u001b[0m\u001b[1;33m\u001b[0m\u001b[0m\n",
      "\u001b[1;31mNameError\u001b[0m: name 'a' is not defined"
     ]
    }
   ],
   "source": [
    "print(a[xs])\n",
    "print(a[ys])"
   ]
  },
  {
   "cell_type": "code",
   "execution_count": null,
   "metadata": {},
   "outputs": [],
   "source": [
    "!dir"
   ]
  },
  {
   "cell_type": "code",
   "execution_count": null,
   "metadata": {},
   "outputs": [],
   "source": [
    "a = 6\n"
   ]
  },
  {
   "cell_type": "code",
   "execution_count": null,
   "metadata": {},
   "outputs": [],
   "source": [
    "import threading,time\n",
    "a=5\n",
    "threading.Thread(target=lambda:[print(a),time.sleep(20),print(a)]).start()"
   ]
  },
  {
   "cell_type": "code",
   "execution_count": null,
   "metadata": {},
   "outputs": [],
   "source": [
    "wd =  os.getcwd() + \"\\\\\"\n",
    "# locations of videos and output\n",
    "videos_in = wd + \"..\\\\videos_in\\\\\" \n",
    "videos_out_openpose = wd + \"..\\\\videos_out_openpose\\\\\"\n",
    "\n",
    "# location of openposedemo - THIS WILL BE DIFFERENT ON YOUR COMPUTER\n",
    "openposepath = \"C:\\\\Users\\\\cas\\\\openpose-1.5.0-binaries-win64-gpu-python-flir-3d_recommended\\\\bin\\\\\"\n",
    "\n",
    "if sys.platform == \"win32\":\n",
    "    app = \"OpenPoseDemo.exe\"\n",
    "else:\n",
    "    app = 'OpenPoseDemo.bin'\n",
    "\n",
    "openposeapp = openposepath + app\n",
    "\n",
    "print(openposeapp)"
   ]
  },
  {
   "cell_type": "code",
   "execution_count": null,
   "metadata": {},
   "outputs": [],
   "source": [
    "optstring = \"\"\n",
    "for key in params:\n",
    "    optstring += \" --\" + key + \" \" + params[key]\n",
    "\n",
    "print(optstring)\n",
    "\n",
    "for vid in allvideos:\n",
    "    try:\n",
    "        print(\"Staring openpose processing of \" + vid)\n",
    "        # Log the time\n",
    "        time_start = time.time()\n",
    "        video = \" --video \" + vid\n",
    "        opbin = openposeapp + video + optstring\n",
    "        print(opbin)\n",
    "        exitcode = os.system(opbin)\n",
    "        # Log the time again\n",
    "        time_end = time.time()\n",
    "        if (exitcode == 0):\n",
    "            # Print stats\n",
    "            print (\"Done \" + vid)\n",
    "            print (\"It took %d seconds for conversion.\" % (time_end-time_start))\n",
    "        else:\n",
    "            print(\"OpenPose error. Exit code %d\" % exitcode)\n",
    "    except Exception as e:\n",
    "        print(\"Error: \", e)\n",
    "        pass"
   ]
  },
  {
   "cell_type": "markdown",
   "metadata": {},
   "source": [
    "Useful Jupyter extensions\n",
    "\n",
    "`jupyter labextension install @jupyterlab/toc`\n",
    "\n",
    "`jupyter labextension install @lckr/jupyterlab_variableinspector`\n"
   ]
  },
  {
   "cell_type": "code",
   "execution_count": 5,
   "metadata": {},
   "outputs": [
    {
     "ename": "TypeError",
     "evalue": "can only concatenate str (not \"int\") to str",
     "output_type": "error",
     "traceback": [
      "\u001b[1;31m---------------------------------------------------------------------------\u001b[0m",
      "\u001b[1;31mTypeError\u001b[0m                                 Traceback (most recent call last)",
      "\u001b[1;32m<ipython-input-5-e62ae3ee5fd7>\u001b[0m in \u001b[0;36m<module>\u001b[1;34m\u001b[0m\n\u001b[0;32m      2\u001b[0m     \u001b[1;32mreturn\u001b[0m \u001b[0mvar\u001b[0m \u001b[1;33m+\u001b[0m \u001b[1;36m0\u001b[0m\u001b[1;33m\u001b[0m\u001b[1;33m\u001b[0m\u001b[0m\n\u001b[0;32m      3\u001b[0m \u001b[1;33m\u001b[0m\u001b[0m\n\u001b[1;32m----> 4\u001b[1;33m \u001b[0mbad_function\u001b[0m\u001b[1;33m(\u001b[0m\u001b[1;34m\"Mike\"\u001b[0m\u001b[1;33m)\u001b[0m\u001b[1;33m\u001b[0m\u001b[1;33m\u001b[0m\u001b[0m\n\u001b[0m",
      "\u001b[1;32m<ipython-input-5-e62ae3ee5fd7>\u001b[0m in \u001b[0;36mbad_function\u001b[1;34m(var)\u001b[0m\n\u001b[0;32m      1\u001b[0m \u001b[1;32mdef\u001b[0m \u001b[0mbad_function\u001b[0m\u001b[1;33m(\u001b[0m\u001b[0mvar\u001b[0m\u001b[1;33m)\u001b[0m\u001b[1;33m:\u001b[0m\u001b[1;33m\u001b[0m\u001b[1;33m\u001b[0m\u001b[0m\n\u001b[1;32m----> 2\u001b[1;33m     \u001b[1;32mreturn\u001b[0m \u001b[0mvar\u001b[0m \u001b[1;33m+\u001b[0m \u001b[1;36m0\u001b[0m\u001b[1;33m\u001b[0m\u001b[1;33m\u001b[0m\u001b[0m\n\u001b[0m\u001b[0;32m      3\u001b[0m \u001b[1;33m\u001b[0m\u001b[0m\n\u001b[0;32m      4\u001b[0m \u001b[0mbad_function\u001b[0m\u001b[1;33m(\u001b[0m\u001b[1;34m\"Mike\"\u001b[0m\u001b[1;33m)\u001b[0m\u001b[1;33m\u001b[0m\u001b[1;33m\u001b[0m\u001b[0m\n",
      "\u001b[1;31mTypeError\u001b[0m: can only concatenate str (not \"int\") to str"
     ]
    }
   ],
   "source": [
    "def bad_function(var):\n",
    "    return var + 0\n",
    " \n",
    "bad_function(\"Mike\")"
   ]
  },
  {
   "cell_type": "code",
   "execution_count": null,
   "metadata": {},
   "outputs": [],
   "source": [
    "proc = ['lookit.01', 'lookit.02', 'lookit.03', 'lookit.04', 'lookit.05', 'lookit.06', 'lookit.07', 'lookit.08', 'lookit.09', 'lookit.10']"
   ]
  },
  {
   "cell_type": "code",
   "execution_count": null,
   "metadata": {},
   "outputs": [],
   "source": [
    "proc['lookit.01']"
   ]
  },
  {
   "cell_type": "code",
   "execution_count": 4,
   "metadata": {},
   "outputs": [
    {
     "name": "stdout",
     "output_type": "stream",
     "text": [
      "{'camera1': {'name': 'lookit.01', 'frames': 412, 'start': 0, 'end': 412, 'processed': True}, 'camera2': {'name': 'lookit.02', 'frames': 450, 'start': 0, 'end': 412, 'processed': None}}\n"
     ]
    }
   ],
   "source": [
    "videos = {\"camera1\" :{\"name\": \"lookit.01\",\n",
    "  \"frames\": 412,\n",
    "  \"start\": 0,\n",
    "  \"end\": 412,\n",
    "  \"processed\": True},\n",
    "    \"camera2\":\n",
    "    {\"name\": \"lookit.02\",\n",
    "  \"frames\": 450,\n",
    "  \"start\": 0,\n",
    "  \"end\": 412,\n",
    "  \"processed\": None}\n",
    "         }\n",
    "print(videos)"
   ]
  },
  {
   "cell_type": "code",
   "execution_count": 5,
   "metadata": {},
   "outputs": [
    {
     "name": "stdout",
     "output_type": "stream",
     "text": [
      "{'camera1': {'name': 'lookit.02', 'frames': 450, 'start': 0, 'end': 412, 'processed': None}, 'camera2': {'name': 'lookit.01', 'frames': 412, 'start': 0, 'end': 412, 'processed': True}}\n"
     ]
    }
   ],
   "source": [
    "temp = videos[\"camera1\"]\n",
    "videos[\"camera1\"] = videos[\"camera2\"]\n",
    "videos[\"camera2\"] = temp\n",
    "print(videos)"
   ]
  },
  {
   "cell_type": "code",
   "execution_count": null,
   "metadata": {},
   "outputs": [],
   "source": [
    "cars = [\n",
    "    {\"model\": \"BMW 230\", \"mpg\": 27.5},\n",
    "    {\"model\": \"Ford Edge\", \"mpg\": 24.1}\n",
    "  ]\n",
    "print(cars)\n",
    "len(cars)"
   ]
  },
  {
   "cell_type": "code",
   "execution_count": null,
   "metadata": {},
   "outputs": [],
   "source": [
    "\n",
    "from datetime import datetime\n",
    "my_date = datetime.now()\n",
    "print(my_date.isoformat())\n",
    "\n",
    "strdate = my_date.isoformat()\n",
    "\n",
    "strdate2 = \"2020-01-20T20:20:20\""
   ]
  },
  {
   "cell_type": "code",
   "execution_count": null,
   "metadata": {},
   "outputs": [],
   "source": [
    "mydate2 = datetime.fromisoformat(strdate2)\n",
    "\n"
   ]
  },
  {
   "cell_type": "code",
   "execution_count": null,
   "metadata": {},
   "outputs": [],
   "source": [
    "videos.json = {}"
   ]
  },
  {
   "cell_type": "code",
   "execution_count": null,
   "metadata": {},
   "outputs": [],
   "source": [
    "proc = {}\n",
    "proc[\"camera1\"] = {}\n",
    "proc[\"camera2\"] = {}"
   ]
  },
  {
   "cell_type": "code",
   "execution_count": null,
   "metadata": {},
   "outputs": [],
   "source": [
    "proc[\"camera1\"][\"name\"] = \"vid1\""
   ]
  },
  {
   "cell_type": "code",
   "execution_count": null,
   "metadata": {},
   "outputs": [],
   "source": [
    "proc[\"camera2\"][\"openpose\"] = \"now\""
   ]
  },
  {
   "cell_type": "code",
   "execution_count": null,
   "metadata": {},
   "outputs": [],
   "source": [
    "base, fmt = os.path.splitext(\"basename.01.avi\")\n",
    "\n",
    "print(base)\n",
    "print(fmt)"
   ]
  },
  {
   "cell_type": "code",
   "execution_count": null,
   "metadata": {},
   "outputs": [],
   "source": [
    "\n",
    "import ipywidgets as widgets\n",
    "from IPython.display import display\n",
    "\n",
    "widgets.IntSlider(\n",
    "    value=5,\n",
    "    min=1,\n",
    "    max=10,\n",
    "    step=1)"
   ]
  },
  {
   "cell_type": "code",
   "execution_count": null,
   "metadata": {},
   "outputs": [],
   "source": [
    "widgets.IntSlider()"
   ]
  },
  {
   "cell_type": "code",
   "execution_count": null,
   "metadata": {},
   "outputs": [],
   "source": []
  },
  {
   "cell_type": "code",
   "execution_count": 43,
   "metadata": {},
   "outputs": [
    {
     "name": "stdout",
     "output_type": "stream",
     "text": [
      "{0: 3000, 1: 1.22, 2: inf, 3: 200, 4: 600}\n",
      "swap 0 1\n",
      "{1: 3000, 2: inf, 3: 200, 4: 600}\n",
      "swap 1 3\n",
      "{2: inf, 3: 3000, 4: 600}\n",
      "swap 2 4\n",
      "{3: 3000, 4: inf}\n",
      "3\n"
     ]
    }
   ],
   "source": [
    "#how do we swap the data so that the smallest variance is at the bottom. it's a little tricky!\n",
    "vs = {}\n",
    "vs[0] = 3000\n",
    "vs[2] = np.inf\n",
    "vs[4] = 600\n",
    "vs[3] = 200\n",
    "vs[1] = 1.22\n",
    "\n",
    "#vsperson = dict(sorted(vs.items(), key=lambda item: item[0]))\n",
    "#vsorted = dict(sorted(vs.items(), key=lambda item: item[1]))\n",
    "#print(vsperson)\n",
    "#print(vsorted)\n",
    "\n",
    "#sort by index\n",
    "vs = dict(sorted(vs.items(), key=lambda item: item[0]))\n",
    "#print(min(vs.keys()))\n",
    "#print(min(vs.values()))\n",
    "\n",
    "while len(vs) > 1:\n",
    "    print(vs)\n",
    "    minkey = min(vs.keys())\n",
    "    minvarkey = min(vs,key=vs.get)\n",
    "    if minkey == minvarkey:\n",
    "        #do nothing\n",
    "        print(minkey)\n",
    "    else:\n",
    "        #swap these sets of data around\n",
    "        print(\"swap\", minkey, minvarkey)\n",
    "        vs[minvarkey] = vs[minkey]\n",
    "    vs.pop(minkey)\n",
    "\n",
    "    "
   ]
  },
  {
   "cell_type": "code",
   "execution_count": 2,
   "metadata": {},
   "outputs": [
    {
     "ename": "AttributeError",
     "evalue": "'dict' object has no attribute 'sort'",
     "output_type": "error",
     "traceback": [
      "\u001b[1;31m---------------------------------------------------------------------------\u001b[0m",
      "\u001b[1;31mAttributeError\u001b[0m                            Traceback (most recent call last)",
      "\u001b[1;32m<ipython-input-2-01fc063df443>\u001b[0m in \u001b[0;36m<module>\u001b[1;34m\u001b[0m\n\u001b[1;32m----> 1\u001b[1;33m \u001b[0mvs\u001b[0m\u001b[1;33m.\u001b[0m\u001b[0msort\u001b[0m\u001b[1;33m(\u001b[0m\u001b[1;33m)\u001b[0m\u001b[1;33m\u001b[0m\u001b[1;33m\u001b[0m\u001b[0m\n\u001b[0m",
      "\u001b[1;31mAttributeError\u001b[0m: 'dict' object has no attribute 'sort'"
     ]
    }
   ],
   "source": [
    "vs.sort()"
   ]
  },
  {
   "cell_type": "markdown",
   "metadata": {},
   "source": [
    "## savez_compressed woes"
   ]
  },
  {
   "cell_type": "code",
   "execution_count": 6,
   "metadata": {},
   "outputs": [
    {
     "name": "stdout",
     "output_type": "stream",
     "text": [
      "(10, 1, 20, 20)\n",
      "(10, 1, 20, 20)\n"
     ]
    }
   ],
   "source": [
    "keypoints_array = np.random.randn(10,1, 20,20)\n",
    "print(keypoints_array.shape)\n",
    "\n",
    "np.savez_compressed('alldata.npz', keypoints_array=keypoints_array)\n",
    "\n",
    "reloaded = np.load('alldata.npz')\n",
    "keypoints_original = reloaded[\"keypoints_array\"] \n",
    "\n",
    "print(keypoints_array.shape)\n"
   ]
  },
  {
   "cell_type": "code",
   "execution_count": 15,
   "metadata": {},
   "outputs": [
    {
     "name": "stdout",
     "output_type": "stream",
     "text": [
      "(10, 3, 3, 200, 2000)\n",
      "(10, 3, 3, 200, 2000)\n"
     ]
    }
   ],
   "source": [
    "keypoints_array = np.random.randn(10,3, 3, 200,2000)\n",
    "keypoints_array[:,1:3,:,:,:] = 0\n",
    "print(keypoints_array.shape)\n",
    "\n",
    "np.savez_compressed('alldata.npz', keypoints_array=keypoints_array)\n",
    "\n",
    "reloaded = np.load('alldata.npz')\n",
    "keypoints_original = reloaded[\"keypoints_array\"] \n",
    "\n",
    "print(keypoints_array.shape)\n",
    "\n",
    "#print(keypoints_array[1,:,1,:])"
   ]
  },
  {
   "cell_type": "markdown",
   "metadata": {},
   "source": [
    "## Multivariate Gaussian Random Walk\n",
    "\n",
    "From https://docs.pymc.io/notebooks/MvGaussianRandomWalk_demo.html\n"
   ]
  },
  {
   "cell_type": "code",
   "execution_count": 7,
   "metadata": {},
   "outputs": [
    {
     "ename": "ModuleNotFoundError",
     "evalue": "No module named 'pymc3'",
     "output_type": "error",
     "traceback": [
      "\u001b[1;31m---------------------------------------------------------------------------\u001b[0m",
      "\u001b[1;31mModuleNotFoundError\u001b[0m                       Traceback (most recent call last)",
      "\u001b[1;32m<ipython-input-7-279924c7ae45>\u001b[0m in \u001b[0;36m<module>\u001b[1;34m\u001b[0m\n\u001b[0;32m      3\u001b[0m \u001b[1;32mfrom\u001b[0m \u001b[0mscipy\u001b[0m\u001b[1;33m.\u001b[0m\u001b[0mlinalg\u001b[0m \u001b[1;32mimport\u001b[0m \u001b[0mcholesky\u001b[0m\u001b[1;33m\u001b[0m\u001b[1;33m\u001b[0m\u001b[0m\n\u001b[0;32m      4\u001b[0m \u001b[1;33m\u001b[0m\u001b[0m\n\u001b[1;32m----> 5\u001b[1;33m \u001b[1;32mimport\u001b[0m \u001b[0mpymc3\u001b[0m \u001b[1;32mas\u001b[0m \u001b[0mpm\u001b[0m\u001b[1;33m\u001b[0m\u001b[1;33m\u001b[0m\u001b[0m\n\u001b[0m\u001b[0;32m      6\u001b[0m \u001b[1;31m#import theano\u001b[0m\u001b[1;33m\u001b[0m\u001b[1;33m\u001b[0m\u001b[1;33m\u001b[0m\u001b[0m\n\u001b[0;32m      7\u001b[0m \u001b[1;33m\u001b[0m\u001b[0m\n",
      "\u001b[1;31mModuleNotFoundError\u001b[0m: No module named 'pymc3'"
     ]
    }
   ],
   "source": [
    "import numpy as np\n",
    "import matplotlib.pyplot as plt\n",
    "from scipy.linalg import cholesky\n",
    "\n",
    "import pymc3 as pm\n",
    "#import theano\n",
    "\n",
    "np.random.seed(42)\n",
    "%matplotlib inline"
   ]
  },
  {
   "cell_type": "code",
   "execution_count": 6,
   "metadata": {},
   "outputs": [
    {
     "ename": "NameError",
     "evalue": "name 'np' is not defined",
     "output_type": "error",
     "traceback": [
      "\u001b[1;31m---------------------------------------------------------------------------\u001b[0m",
      "\u001b[1;31mNameError\u001b[0m                                 Traceback (most recent call last)",
      "\u001b[1;32m<ipython-input-6-06ad473e7660>\u001b[0m in \u001b[0;36m<module>\u001b[1;34m\u001b[0m\n\u001b[0;32m      3\u001b[0m \u001b[1;33m\u001b[0m\u001b[0m\n\u001b[0;32m      4\u001b[0m \u001b[1;31m#create array of zeros\u001b[0m\u001b[1;33m\u001b[0m\u001b[1;33m\u001b[0m\u001b[1;33m\u001b[0m\u001b[0m\n\u001b[1;32m----> 5\u001b[1;33m \u001b[0malldata\u001b[0m \u001b[1;33m=\u001b[0m \u001b[0mnp\u001b[0m\u001b[1;33m.\u001b[0m\u001b[0mzeros\u001b[0m\u001b[1;33m(\u001b[0m\u001b[1;33m[\u001b[0m\u001b[0mR\u001b[0m\u001b[1;33m,\u001b[0m\u001b[0mN\u001b[0m\u001b[1;33m]\u001b[0m\u001b[1;33m)\u001b[0m\u001b[1;33m\u001b[0m\u001b[1;33m\u001b[0m\u001b[0m\n\u001b[0m\u001b[0;32m      6\u001b[0m \u001b[0mprint\u001b[0m\u001b[1;33m(\u001b[0m\u001b[0malldata\u001b[0m\u001b[1;33m)\u001b[0m\u001b[1;33m\u001b[0m\u001b[1;33m\u001b[0m\u001b[0m\n\u001b[0;32m      7\u001b[0m \u001b[1;33m\u001b[0m\u001b[0m\n",
      "\u001b[1;31mNameError\u001b[0m: name 'np' is not defined"
     ]
    }
   ],
   "source": [
    "R = 3\n",
    "N = 5\n",
    "\n",
    "#create array of zeros\n",
    "alldata = np.zeros([R,N])\n",
    "print(alldata)\n",
    "\n",
    "#fill in first entry\n",
    "alldata[0,0] = 1\n",
    "print(alldata)\n",
    "\n",
    "#fill in column 1\n",
    "alldata[:,0] = [1,1,1]\n",
    "print(alldata)\n",
    "\n",
    "alldata[0,:] = 2\n",
    "print(alldata)\n"
   ]
  },
  {
   "cell_type": "code",
   "execution_count": 15,
   "metadata": {},
   "outputs": [],
   "source": [
    "\n",
    "D = 3\n",
    "N = 300\n",
    "sections = 5\n",
    "period = N/sections\n",
    "\n",
    "Sigma_a = np.random.randn(D, D)\n",
    "Sigma_a = Sigma_a.T.dot(Sigma_a)\n",
    "L_a = cholesky(Sigma_a, lower=True)\n",
    "\n",
    "Sigma_b = np.random.randn(D, D)\n",
    "Sigma_b = Sigma_b.T.dot(Sigma_b)\n",
    "L_b = cholesky(Sigma_b, lower=True)\n",
    "\n",
    "# Gaussian Random walk:\n",
    "alpha = np.cumsum(L_a.dot(np.random.randn(D, sections)), axis=1).T\n",
    "beta = np.cumsum(L_b.dot(np.random.randn(D, sections)), axis=1).T\n",
    "sigma = 0.1\n",
    "\n",
    "t = np.arange(N)[:, None]/ N\n",
    "alpha = np.repeat(alpha, period, axis=0)\n",
    "beta = np.repeat(beta, period, axis=0)\n",
    "y = alpha + beta*t + sigma*np.random.randn(N, 1)"
   ]
  },
  {
   "cell_type": "code",
   "execution_count": 16,
   "metadata": {},
   "outputs": [
    {
     "name": "stdout",
     "output_type": "stream",
     "text": [
      "[[ 0.08814557  0.05707629 -0.22282662]\n",
      " [ 0.08814557  0.05707629 -0.22282662]\n",
      " [ 0.08814557  0.05707629 -0.22282662]\n",
      " [ 0.08814557  0.05707629 -0.22282662]\n",
      " [ 0.08814557  0.05707629 -0.22282662]\n",
      " [ 0.08814557  0.05707629 -0.22282662]\n",
      " [ 0.08814557  0.05707629 -0.22282662]\n",
      " [ 0.08814557  0.05707629 -0.22282662]\n",
      " [ 0.08814557  0.05707629 -0.22282662]\n",
      " [ 0.08814557  0.05707629 -0.22282662]\n",
      " [ 0.08814557  0.05707629 -0.22282662]\n",
      " [ 0.08814557  0.05707629 -0.22282662]\n",
      " [ 0.08814557  0.05707629 -0.22282662]\n",
      " [ 0.08814557  0.05707629 -0.22282662]\n",
      " [ 0.08814557  0.05707629 -0.22282662]\n",
      " [ 0.08814557  0.05707629 -0.22282662]\n",
      " [ 0.08814557  0.05707629 -0.22282662]\n",
      " [ 0.08814557  0.05707629 -0.22282662]\n",
      " [ 0.08814557  0.05707629 -0.22282662]\n",
      " [ 0.08814557  0.05707629 -0.22282662]\n",
      " [ 0.08814557  0.05707629 -0.22282662]\n",
      " [ 0.08814557  0.05707629 -0.22282662]\n",
      " [ 0.08814557  0.05707629 -0.22282662]\n",
      " [ 0.08814557  0.05707629 -0.22282662]\n",
      " [ 0.08814557  0.05707629 -0.22282662]\n",
      " [ 0.08814557  0.05707629 -0.22282662]\n",
      " [ 0.08814557  0.05707629 -0.22282662]\n",
      " [ 0.08814557  0.05707629 -0.22282662]\n",
      " [ 0.08814557  0.05707629 -0.22282662]\n",
      " [ 0.08814557  0.05707629 -0.22282662]\n",
      " [ 0.08814557  0.05707629 -0.22282662]\n",
      " [ 0.08814557  0.05707629 -0.22282662]\n",
      " [ 0.08814557  0.05707629 -0.22282662]\n",
      " [ 0.08814557  0.05707629 -0.22282662]\n",
      " [ 0.08814557  0.05707629 -0.22282662]\n",
      " [ 0.08814557  0.05707629 -0.22282662]\n",
      " [ 0.08814557  0.05707629 -0.22282662]\n",
      " [ 0.08814557  0.05707629 -0.22282662]\n",
      " [ 0.08814557  0.05707629 -0.22282662]\n",
      " [ 0.08814557  0.05707629 -0.22282662]\n",
      " [ 0.08814557  0.05707629 -0.22282662]\n",
      " [ 0.08814557  0.05707629 -0.22282662]\n",
      " [ 0.08814557  0.05707629 -0.22282662]\n",
      " [ 0.08814557  0.05707629 -0.22282662]\n",
      " [ 0.08814557  0.05707629 -0.22282662]\n",
      " [ 0.08814557  0.05707629 -0.22282662]\n",
      " [ 0.08814557  0.05707629 -0.22282662]\n",
      " [ 0.08814557  0.05707629 -0.22282662]\n",
      " [ 0.08814557  0.05707629 -0.22282662]\n",
      " [ 0.08814557  0.05707629 -0.22282662]\n",
      " [ 0.08814557  0.05707629 -0.22282662]\n",
      " [ 0.08814557  0.05707629 -0.22282662]\n",
      " [ 0.08814557  0.05707629 -0.22282662]\n",
      " [ 0.08814557  0.05707629 -0.22282662]\n",
      " [ 0.08814557  0.05707629 -0.22282662]\n",
      " [ 0.08814557  0.05707629 -0.22282662]\n",
      " [ 0.08814557  0.05707629 -0.22282662]\n",
      " [ 0.08814557  0.05707629 -0.22282662]\n",
      " [ 0.08814557  0.05707629 -0.22282662]\n",
      " [ 0.08814557  0.05707629 -0.22282662]\n",
      " [ 0.36020387  1.17799412 -0.21650568]\n",
      " [ 0.36020387  1.17799412 -0.21650568]\n",
      " [ 0.36020387  1.17799412 -0.21650568]\n",
      " [ 0.36020387  1.17799412 -0.21650568]\n",
      " [ 0.36020387  1.17799412 -0.21650568]\n",
      " [ 0.36020387  1.17799412 -0.21650568]\n",
      " [ 0.36020387  1.17799412 -0.21650568]\n",
      " [ 0.36020387  1.17799412 -0.21650568]\n",
      " [ 0.36020387  1.17799412 -0.21650568]\n",
      " [ 0.36020387  1.17799412 -0.21650568]\n",
      " [ 0.36020387  1.17799412 -0.21650568]\n",
      " [ 0.36020387  1.17799412 -0.21650568]\n",
      " [ 0.36020387  1.17799412 -0.21650568]\n",
      " [ 0.36020387  1.17799412 -0.21650568]\n",
      " [ 0.36020387  1.17799412 -0.21650568]\n",
      " [ 0.36020387  1.17799412 -0.21650568]\n",
      " [ 0.36020387  1.17799412 -0.21650568]\n",
      " [ 0.36020387  1.17799412 -0.21650568]\n",
      " [ 0.36020387  1.17799412 -0.21650568]\n",
      " [ 0.36020387  1.17799412 -0.21650568]\n",
      " [ 0.36020387  1.17799412 -0.21650568]\n",
      " [ 0.36020387  1.17799412 -0.21650568]\n",
      " [ 0.36020387  1.17799412 -0.21650568]\n",
      " [ 0.36020387  1.17799412 -0.21650568]\n",
      " [ 0.36020387  1.17799412 -0.21650568]\n",
      " [ 0.36020387  1.17799412 -0.21650568]\n",
      " [ 0.36020387  1.17799412 -0.21650568]\n",
      " [ 0.36020387  1.17799412 -0.21650568]\n",
      " [ 0.36020387  1.17799412 -0.21650568]\n",
      " [ 0.36020387  1.17799412 -0.21650568]\n",
      " [ 0.36020387  1.17799412 -0.21650568]\n",
      " [ 0.36020387  1.17799412 -0.21650568]\n",
      " [ 0.36020387  1.17799412 -0.21650568]\n",
      " [ 0.36020387  1.17799412 -0.21650568]\n",
      " [ 0.36020387  1.17799412 -0.21650568]\n",
      " [ 0.36020387  1.17799412 -0.21650568]\n",
      " [ 0.36020387  1.17799412 -0.21650568]\n",
      " [ 0.36020387  1.17799412 -0.21650568]\n",
      " [ 0.36020387  1.17799412 -0.21650568]\n",
      " [ 0.36020387  1.17799412 -0.21650568]\n",
      " [ 0.36020387  1.17799412 -0.21650568]\n",
      " [ 0.36020387  1.17799412 -0.21650568]\n",
      " [ 0.36020387  1.17799412 -0.21650568]\n",
      " [ 0.36020387  1.17799412 -0.21650568]\n",
      " [ 0.36020387  1.17799412 -0.21650568]\n",
      " [ 0.36020387  1.17799412 -0.21650568]\n",
      " [ 0.36020387  1.17799412 -0.21650568]\n",
      " [ 0.36020387  1.17799412 -0.21650568]\n",
      " [ 0.36020387  1.17799412 -0.21650568]\n",
      " [ 0.36020387  1.17799412 -0.21650568]\n",
      " [ 0.36020387  1.17799412 -0.21650568]\n",
      " [ 0.36020387  1.17799412 -0.21650568]\n",
      " [ 0.36020387  1.17799412 -0.21650568]\n",
      " [ 0.36020387  1.17799412 -0.21650568]\n",
      " [ 0.36020387  1.17799412 -0.21650568]\n",
      " [ 0.36020387  1.17799412 -0.21650568]\n",
      " [ 0.36020387  1.17799412 -0.21650568]\n",
      " [ 0.36020387  1.17799412 -0.21650568]\n",
      " [ 0.36020387  1.17799412 -0.21650568]\n",
      " [ 0.36020387  1.17799412 -0.21650568]\n",
      " [ 1.49310337  4.36349783  0.32917917]\n",
      " [ 1.49310337  4.36349783  0.32917917]\n",
      " [ 1.49310337  4.36349783  0.32917917]\n",
      " [ 1.49310337  4.36349783  0.32917917]\n",
      " [ 1.49310337  4.36349783  0.32917917]\n",
      " [ 1.49310337  4.36349783  0.32917917]\n",
      " [ 1.49310337  4.36349783  0.32917917]\n",
      " [ 1.49310337  4.36349783  0.32917917]\n",
      " [ 1.49310337  4.36349783  0.32917917]\n",
      " [ 1.49310337  4.36349783  0.32917917]\n",
      " [ 1.49310337  4.36349783  0.32917917]\n",
      " [ 1.49310337  4.36349783  0.32917917]\n",
      " [ 1.49310337  4.36349783  0.32917917]\n",
      " [ 1.49310337  4.36349783  0.32917917]\n",
      " [ 1.49310337  4.36349783  0.32917917]\n",
      " [ 1.49310337  4.36349783  0.32917917]\n",
      " [ 1.49310337  4.36349783  0.32917917]\n",
      " [ 1.49310337  4.36349783  0.32917917]\n",
      " [ 1.49310337  4.36349783  0.32917917]\n",
      " [ 1.49310337  4.36349783  0.32917917]\n",
      " [ 1.49310337  4.36349783  0.32917917]\n",
      " [ 1.49310337  4.36349783  0.32917917]\n",
      " [ 1.49310337  4.36349783  0.32917917]\n",
      " [ 1.49310337  4.36349783  0.32917917]\n",
      " [ 1.49310337  4.36349783  0.32917917]\n",
      " [ 1.49310337  4.36349783  0.32917917]\n",
      " [ 1.49310337  4.36349783  0.32917917]\n",
      " [ 1.49310337  4.36349783  0.32917917]\n",
      " [ 1.49310337  4.36349783  0.32917917]\n",
      " [ 1.49310337  4.36349783  0.32917917]\n",
      " [ 1.49310337  4.36349783  0.32917917]\n",
      " [ 1.49310337  4.36349783  0.32917917]\n",
      " [ 1.49310337  4.36349783  0.32917917]\n",
      " [ 1.49310337  4.36349783  0.32917917]\n",
      " [ 1.49310337  4.36349783  0.32917917]\n",
      " [ 1.49310337  4.36349783  0.32917917]\n",
      " [ 1.49310337  4.36349783  0.32917917]\n",
      " [ 1.49310337  4.36349783  0.32917917]\n",
      " [ 1.49310337  4.36349783  0.32917917]\n",
      " [ 1.49310337  4.36349783  0.32917917]\n",
      " [ 1.49310337  4.36349783  0.32917917]\n",
      " [ 1.49310337  4.36349783  0.32917917]\n",
      " [ 1.49310337  4.36349783  0.32917917]\n",
      " [ 1.49310337  4.36349783  0.32917917]\n",
      " [ 1.49310337  4.36349783  0.32917917]\n",
      " [ 1.49310337  4.36349783  0.32917917]\n",
      " [ 1.49310337  4.36349783  0.32917917]\n",
      " [ 1.49310337  4.36349783  0.32917917]\n",
      " [ 1.49310337  4.36349783  0.32917917]\n",
      " [ 1.49310337  4.36349783  0.32917917]\n",
      " [ 1.49310337  4.36349783  0.32917917]\n",
      " [ 1.49310337  4.36349783  0.32917917]\n",
      " [ 1.49310337  4.36349783  0.32917917]\n",
      " [ 1.49310337  4.36349783  0.32917917]\n",
      " [ 1.49310337  4.36349783  0.32917917]\n",
      " [ 1.49310337  4.36349783  0.32917917]\n",
      " [ 1.49310337  4.36349783  0.32917917]\n",
      " [ 1.49310337  4.36349783  0.32917917]\n",
      " [ 1.49310337  4.36349783  0.32917917]\n",
      " [ 1.49310337  4.36349783  0.32917917]\n",
      " [ 2.23930222  5.75829028  1.68128289]\n",
      " [ 2.23930222  5.75829028  1.68128289]\n",
      " [ 2.23930222  5.75829028  1.68128289]\n",
      " [ 2.23930222  5.75829028  1.68128289]\n",
      " [ 2.23930222  5.75829028  1.68128289]\n",
      " [ 2.23930222  5.75829028  1.68128289]\n",
      " [ 2.23930222  5.75829028  1.68128289]\n",
      " [ 2.23930222  5.75829028  1.68128289]\n",
      " [ 2.23930222  5.75829028  1.68128289]\n",
      " [ 2.23930222  5.75829028  1.68128289]\n",
      " [ 2.23930222  5.75829028  1.68128289]\n",
      " [ 2.23930222  5.75829028  1.68128289]\n",
      " [ 2.23930222  5.75829028  1.68128289]\n",
      " [ 2.23930222  5.75829028  1.68128289]\n",
      " [ 2.23930222  5.75829028  1.68128289]\n",
      " [ 2.23930222  5.75829028  1.68128289]\n",
      " [ 2.23930222  5.75829028  1.68128289]\n",
      " [ 2.23930222  5.75829028  1.68128289]\n",
      " [ 2.23930222  5.75829028  1.68128289]\n",
      " [ 2.23930222  5.75829028  1.68128289]\n",
      " [ 2.23930222  5.75829028  1.68128289]\n",
      " [ 2.23930222  5.75829028  1.68128289]\n",
      " [ 2.23930222  5.75829028  1.68128289]\n",
      " [ 2.23930222  5.75829028  1.68128289]\n",
      " [ 2.23930222  5.75829028  1.68128289]\n",
      " [ 2.23930222  5.75829028  1.68128289]\n",
      " [ 2.23930222  5.75829028  1.68128289]\n",
      " [ 2.23930222  5.75829028  1.68128289]\n",
      " [ 2.23930222  5.75829028  1.68128289]\n",
      " [ 2.23930222  5.75829028  1.68128289]\n",
      " [ 2.23930222  5.75829028  1.68128289]\n",
      " [ 2.23930222  5.75829028  1.68128289]\n",
      " [ 2.23930222  5.75829028  1.68128289]\n",
      " [ 2.23930222  5.75829028  1.68128289]\n",
      " [ 2.23930222  5.75829028  1.68128289]\n",
      " [ 2.23930222  5.75829028  1.68128289]\n",
      " [ 2.23930222  5.75829028  1.68128289]\n",
      " [ 2.23930222  5.75829028  1.68128289]\n",
      " [ 2.23930222  5.75829028  1.68128289]\n",
      " [ 2.23930222  5.75829028  1.68128289]\n",
      " [ 2.23930222  5.75829028  1.68128289]\n",
      " [ 2.23930222  5.75829028  1.68128289]\n",
      " [ 2.23930222  5.75829028  1.68128289]\n",
      " [ 2.23930222  5.75829028  1.68128289]\n",
      " [ 2.23930222  5.75829028  1.68128289]\n",
      " [ 2.23930222  5.75829028  1.68128289]\n",
      " [ 2.23930222  5.75829028  1.68128289]\n",
      " [ 2.23930222  5.75829028  1.68128289]\n",
      " [ 2.23930222  5.75829028  1.68128289]\n",
      " [ 2.23930222  5.75829028  1.68128289]\n",
      " [ 2.23930222  5.75829028  1.68128289]\n",
      " [ 2.23930222  5.75829028  1.68128289]\n",
      " [ 2.23930222  5.75829028  1.68128289]\n",
      " [ 2.23930222  5.75829028  1.68128289]\n",
      " [ 2.23930222  5.75829028  1.68128289]\n",
      " [ 2.23930222  5.75829028  1.68128289]\n",
      " [ 2.23930222  5.75829028  1.68128289]\n",
      " [ 2.23930222  5.75829028  1.68128289]\n",
      " [ 2.23930222  5.75829028  1.68128289]\n",
      " [ 2.23930222  5.75829028  1.68128289]\n",
      " [ 1.39500352  4.28413547  0.526679  ]\n",
      " [ 1.39500352  4.28413547  0.526679  ]\n",
      " [ 1.39500352  4.28413547  0.526679  ]\n",
      " [ 1.39500352  4.28413547  0.526679  ]\n",
      " [ 1.39500352  4.28413547  0.526679  ]\n",
      " [ 1.39500352  4.28413547  0.526679  ]\n",
      " [ 1.39500352  4.28413547  0.526679  ]\n",
      " [ 1.39500352  4.28413547  0.526679  ]\n",
      " [ 1.39500352  4.28413547  0.526679  ]\n",
      " [ 1.39500352  4.28413547  0.526679  ]\n",
      " [ 1.39500352  4.28413547  0.526679  ]\n",
      " [ 1.39500352  4.28413547  0.526679  ]\n",
      " [ 1.39500352  4.28413547  0.526679  ]\n",
      " [ 1.39500352  4.28413547  0.526679  ]\n",
      " [ 1.39500352  4.28413547  0.526679  ]\n",
      " [ 1.39500352  4.28413547  0.526679  ]\n",
      " [ 1.39500352  4.28413547  0.526679  ]\n",
      " [ 1.39500352  4.28413547  0.526679  ]\n",
      " [ 1.39500352  4.28413547  0.526679  ]\n",
      " [ 1.39500352  4.28413547  0.526679  ]\n",
      " [ 1.39500352  4.28413547  0.526679  ]\n",
      " [ 1.39500352  4.28413547  0.526679  ]\n",
      " [ 1.39500352  4.28413547  0.526679  ]\n",
      " [ 1.39500352  4.28413547  0.526679  ]\n",
      " [ 1.39500352  4.28413547  0.526679  ]\n",
      " [ 1.39500352  4.28413547  0.526679  ]\n",
      " [ 1.39500352  4.28413547  0.526679  ]\n",
      " [ 1.39500352  4.28413547  0.526679  ]\n",
      " [ 1.39500352  4.28413547  0.526679  ]\n",
      " [ 1.39500352  4.28413547  0.526679  ]\n",
      " [ 1.39500352  4.28413547  0.526679  ]\n",
      " [ 1.39500352  4.28413547  0.526679  ]\n",
      " [ 1.39500352  4.28413547  0.526679  ]\n",
      " [ 1.39500352  4.28413547  0.526679  ]\n",
      " [ 1.39500352  4.28413547  0.526679  ]\n",
      " [ 1.39500352  4.28413547  0.526679  ]\n",
      " [ 1.39500352  4.28413547  0.526679  ]\n",
      " [ 1.39500352  4.28413547  0.526679  ]\n",
      " [ 1.39500352  4.28413547  0.526679  ]\n",
      " [ 1.39500352  4.28413547  0.526679  ]\n",
      " [ 1.39500352  4.28413547  0.526679  ]\n",
      " [ 1.39500352  4.28413547  0.526679  ]\n",
      " [ 1.39500352  4.28413547  0.526679  ]\n",
      " [ 1.39500352  4.28413547  0.526679  ]\n",
      " [ 1.39500352  4.28413547  0.526679  ]\n",
      " [ 1.39500352  4.28413547  0.526679  ]\n",
      " [ 1.39500352  4.28413547  0.526679  ]\n",
      " [ 1.39500352  4.28413547  0.526679  ]\n",
      " [ 1.39500352  4.28413547  0.526679  ]\n",
      " [ 1.39500352  4.28413547  0.526679  ]\n",
      " [ 1.39500352  4.28413547  0.526679  ]\n",
      " [ 1.39500352  4.28413547  0.526679  ]\n",
      " [ 1.39500352  4.28413547  0.526679  ]\n",
      " [ 1.39500352  4.28413547  0.526679  ]\n",
      " [ 1.39500352  4.28413547  0.526679  ]\n",
      " [ 1.39500352  4.28413547  0.526679  ]\n",
      " [ 1.39500352  4.28413547  0.526679  ]\n",
      " [ 1.39500352  4.28413547  0.526679  ]\n",
      " [ 1.39500352  4.28413547  0.526679  ]\n",
      " [ 1.39500352  4.28413547  0.526679  ]]\n"
     ]
    }
   ],
   "source": [
    "print(alpha)"
   ]
  },
  {
   "cell_type": "code",
   "execution_count": 4,
   "metadata": {},
   "outputs": [
    {
     "ename": "NameError",
     "evalue": "name 'plt' is not defined",
     "output_type": "error",
     "traceback": [
      "\u001b[1;31m---------------------------------------------------------------------------\u001b[0m",
      "\u001b[1;31mNameError\u001b[0m                                 Traceback (most recent call last)",
      "\u001b[1;32m<ipython-input-4-1421a400d7de>\u001b[0m in \u001b[0;36m<module>\u001b[1;34m\u001b[0m\n\u001b[1;32m----> 1\u001b[1;33m \u001b[0mplt\u001b[0m\u001b[1;33m.\u001b[0m\u001b[0mfigure\u001b[0m\u001b[1;33m(\u001b[0m\u001b[0mfigsize\u001b[0m\u001b[1;33m=\u001b[0m\u001b[1;33m(\u001b[0m\u001b[1;36m12\u001b[0m\u001b[1;33m,\u001b[0m \u001b[1;36m5\u001b[0m\u001b[1;33m)\u001b[0m\u001b[1;33m)\u001b[0m\u001b[1;33m\u001b[0m\u001b[1;33m\u001b[0m\u001b[0m\n\u001b[0m\u001b[0;32m      2\u001b[0m \u001b[0mplt\u001b[0m\u001b[1;33m.\u001b[0m\u001b[0mplot\u001b[0m\u001b[1;33m(\u001b[0m\u001b[0mt\u001b[0m\u001b[1;33m,\u001b[0m \u001b[0mbeta\u001b[0m\u001b[1;33m)\u001b[0m\u001b[1;33m\u001b[0m\u001b[1;33m\u001b[0m\u001b[0m\n\u001b[0;32m      3\u001b[0m \u001b[0mplt\u001b[0m\u001b[1;33m.\u001b[0m\u001b[0mtitle\u001b[0m\u001b[1;33m(\u001b[0m\u001b[1;34m'Three Correlated Series'\u001b[0m\u001b[1;33m)\u001b[0m\u001b[1;33m\u001b[0m\u001b[1;33m\u001b[0m\u001b[0m\n\u001b[0;32m      4\u001b[0m \u001b[0mplt\u001b[0m\u001b[1;33m.\u001b[0m\u001b[0mshow\u001b[0m\u001b[1;33m(\u001b[0m\u001b[1;33m)\u001b[0m\u001b[1;33m\u001b[0m\u001b[1;33m\u001b[0m\u001b[0m\n\u001b[0;32m      5\u001b[0m \u001b[1;33m\u001b[0m\u001b[0m\n",
      "\u001b[1;31mNameError\u001b[0m: name 'plt' is not defined"
     ]
    }
   ],
   "source": [
    "plt.figure(figsize=(12, 5))\n",
    "plt.plot(t, beta)\n",
    "plt.title('Three Correlated Series')\n",
    "plt.show()\n",
    "\n"
   ]
  },
  {
   "cell_type": "code",
   "execution_count": 1,
   "metadata": {},
   "outputs": [
    {
     "ename": "ModuleNotFoundError",
     "evalue": "No module named 'seaborn'",
     "output_type": "error",
     "traceback": [
      "\u001b[1;31m---------------------------------------------------------------------------\u001b[0m",
      "\u001b[1;31mModuleNotFoundError\u001b[0m                       Traceback (most recent call last)",
      "\u001b[1;32m~\\AppData\\Local\\Temp/ipykernel_8892/2017695050.py\u001b[0m in \u001b[0;36m<module>\u001b[1;34m\u001b[0m\n\u001b[0;32m      1\u001b[0m \u001b[1;32mfrom\u001b[0m \u001b[0mIPython\u001b[0m\u001b[1;33m.\u001b[0m\u001b[0mdisplay\u001b[0m \u001b[1;32mimport\u001b[0m \u001b[0mdisplay\u001b[0m\u001b[1;33m,\u001b[0m \u001b[0mclear_output\u001b[0m\u001b[1;33m\u001b[0m\u001b[1;33m\u001b[0m\u001b[0m\n\u001b[0;32m      2\u001b[0m \u001b[1;32mimport\u001b[0m \u001b[0mipywidgets\u001b[0m \u001b[1;32mas\u001b[0m \u001b[0mwidgets\u001b[0m\u001b[1;33m\u001b[0m\u001b[1;33m\u001b[0m\u001b[0m\n\u001b[1;32m----> 3\u001b[1;33m \u001b[1;32mimport\u001b[0m \u001b[0mseaborn\u001b[0m \u001b[1;32mas\u001b[0m \u001b[0msns\u001b[0m\u001b[1;33m\u001b[0m\u001b[1;33m\u001b[0m\u001b[0m\n\u001b[0m\u001b[0;32m      4\u001b[0m \u001b[1;33m\u001b[0m\u001b[0m\n\u001b[0;32m      5\u001b[0m mydata = {'a': range(3),\n",
      "\u001b[1;31mModuleNotFoundError\u001b[0m: No module named 'seaborn'"
     ]
    }
   ],
   "source": [
    "from IPython.display import display, clear_output\n",
    "import ipywidgets as widgets\n",
    "import seaborn as sns\n",
    "\n",
    "mydata = {'a': range(3),\n",
    "          'b': range(4),\n",
    "          'c': range(5)}\n",
    "default = 'b'\n",
    "sns.boxplot(data=mydata[default])\n",
    "\n",
    "w = widgets.Dropdown(\n",
    "    options=mydata.keys(),\n",
    "    value = default,\n",
    "    description='List',\n",
    ")\n",
    "display(w)\n",
    "\n",
    "def on_change(change):\n",
    "    if change['name'] == 'value' and (change['new'] != change['old']):\n",
    "        clear_output()\n",
    "        display(w)        \n",
    "        sns.boxplot(data = mydata[change['new']])\n",
    "\n",
    "w.observe(on_change)"
   ]
  },
  {
   "cell_type": "code",
   "execution_count": 2,
   "metadata": {},
   "outputs": [
    {
     "data": {
      "application/vnd.jupyter.widget-view+json": {
       "model_id": "0d90a683c8574be5b7537717b5ec97d2",
       "version_major": 2,
       "version_minor": 0
      },
      "text/plain": [
       "Button(description='Button', style=ButtonStyle())"
      ]
     },
     "metadata": {},
     "output_type": "display_data"
    },
    {
     "data": {
      "application/vnd.jupyter.widget-view+json": {
       "model_id": "2023aaf6c2ef402f883ec7a57696e7de",
       "version_major": 2,
       "version_minor": 0
      },
      "text/plain": [
       "Output()"
      ]
     },
     "metadata": {},
     "output_type": "display_data"
    }
   ],
   "source": [
    "%matplotlib inline\n",
    "\n",
    "from matplotlib.pyplot import *\n",
    "import ipywidgets \n",
    "\n",
    "button = ipywidgets.Button(description=\"Button\")\n",
    "out = ipywidgets.Output()\n",
    "\n",
    "def on_button_clicked(b):\n",
    "    with out:\n",
    "        clear_output(True)\n",
    "        plot([1,2],[2,1])\n",
    "        show()\n",
    "\n",
    "button.on_click(on_button_clicked)\n",
    "\n",
    "display(button)\n",
    "\n",
    "with out:\n",
    "    plot([1,2],[1,2])\n",
    "    show()\n",
    "\n",
    "out"
   ]
  },
  {
   "cell_type": "markdown",
   "metadata": {},
   "source": [
    "## What's wrong with ipycanvas"
   ]
  },
  {
   "cell_type": "code",
   "execution_count": 1,
   "metadata": {},
   "outputs": [
    {
     "data": {
      "application/vnd.jupyter.widget-view+json": {
       "model_id": "e52eab93bfa34d908e73b0484588779c",
       "version_major": 2,
       "version_minor": 0
      },
      "text/plain": [
       "Canvas(height=300, width=300)"
      ]
     },
     "metadata": {},
     "output_type": "display_data"
    }
   ],
   "source": [
    "from ipywidgets import Image\n",
    "\n",
    "from ipycanvas import Canvas\n",
    "\n",
    "sprite1 = Image.from_file('keypoints_pose_25.png')\n",
    "\n",
    "canvas = Canvas(width=300, height=300)\n",
    "\n",
    "canvas.fill_style = '#a9cafc'\n",
    "canvas.fill_rect(0, 0, 300, 300)\n",
    "\n",
    "canvas.draw_image(sprite1, 50, 50)\n",
    "\n",
    "canvas"
   ]
  },
  {
   "cell_type": "code",
   "execution_count": 3,
   "metadata": {},
   "outputs": [
    {
     "ename": "NameError",
     "evalue": "name 'np' is not defined",
     "output_type": "error",
     "traceback": [
      "\u001b[1;31m---------------------------------------------------------------------------\u001b[0m",
      "\u001b[1;31mNameError\u001b[0m                                 Traceback (most recent call last)",
      "\u001b[1;32m<ipython-input-3-c451e154ca38>\u001b[0m in \u001b[0;36m<module>\u001b[1;34m\u001b[0m\n\u001b[0;32m      1\u001b[0m \u001b[1;32mfrom\u001b[0m \u001b[0mipycanvas\u001b[0m \u001b[1;32mimport\u001b[0m \u001b[0mCanvas\u001b[0m\u001b[1;33m\u001b[0m\u001b[1;33m\u001b[0m\u001b[0m\n\u001b[0;32m      2\u001b[0m \u001b[1;33m\u001b[0m\u001b[0m\n\u001b[1;32m----> 3\u001b[1;33m \u001b[0mx\u001b[0m \u001b[1;33m=\u001b[0m \u001b[0mnp\u001b[0m\u001b[1;33m.\u001b[0m\u001b[0mlinspace\u001b[0m\u001b[1;33m(\u001b[0m\u001b[1;33m-\u001b[0m\u001b[1;36m1\u001b[0m\u001b[1;33m,\u001b[0m \u001b[1;36m1\u001b[0m\u001b[1;33m,\u001b[0m \u001b[1;36m600\u001b[0m\u001b[1;33m)\u001b[0m\u001b[1;33m\u001b[0m\u001b[1;33m\u001b[0m\u001b[0m\n\u001b[0m\u001b[0;32m      4\u001b[0m \u001b[0my\u001b[0m \u001b[1;33m=\u001b[0m \u001b[0mnp\u001b[0m\u001b[1;33m.\u001b[0m\u001b[0mlinspace\u001b[0m\u001b[1;33m(\u001b[0m\u001b[1;33m-\u001b[0m\u001b[1;36m1\u001b[0m\u001b[1;33m,\u001b[0m \u001b[1;36m1\u001b[0m\u001b[1;33m,\u001b[0m \u001b[1;36m600\u001b[0m\u001b[1;33m)\u001b[0m\u001b[1;33m\u001b[0m\u001b[1;33m\u001b[0m\u001b[0m\n\u001b[0;32m      5\u001b[0m \u001b[1;33m\u001b[0m\u001b[0m\n",
      "\u001b[1;31mNameError\u001b[0m: name 'np' is not defined"
     ]
    }
   ],
   "source": [
    "from ipycanvas import Canvas\n",
    "\n",
    "x = np.linspace(-1, 1, 600)\n",
    "y = np.linspace(-1, 1, 600)\n",
    "\n",
    "x_grid, y_grid = np.meshgrid(x, y)\n",
    "\n",
    "blue_channel = np.array(np.sin(x_grid**2 + y_grid**2) * 255, dtype=np.int32)\n",
    "red_channel = np.zeros_like(blue_channel) + 200\n",
    "green_channel = np.zeros_like(blue_channel) + 50\n",
    "\n",
    "image_data = np.stack((red_channel, blue_channel, green_channel), axis=2)\n",
    "\n",
    "canvas = Canvas(width=image_data.shape[0], height=image_data.shape[1])\n",
    "canvas.put_image_data(image_data, 0, 0)\n",
    "\n",
    "canvas"
   ]
  },
  {
   "cell_type": "code",
   "execution_count": 6,
   "metadata": {},
   "outputs": [
    {
     "data": {
      "application/vnd.jupyter.widget-view+json": {
       "model_id": "0eff46c315d34d12b3a801f654fd0893",
       "version_major": 2,
       "version_minor": 0
      },
      "text/plain": [
       "IntSlider(value=0)"
      ]
     },
     "metadata": {},
     "output_type": "display_data"
    }
   ],
   "source": [
    "from ipywidgets import IntSlider\n",
    "\n",
    "IntSlider()"
   ]
  },
  {
   "cell_type": "code",
   "execution_count": 1,
   "metadata": {},
   "outputs": [
    {
     "data": {
      "application/vnd.jupyter.widget-view+json": {
       "model_id": "1b8c585cddc34371afb94855f7d50794",
       "version_major": 2,
       "version_minor": 0
      },
      "text/plain": [
       "Canvas(height=300, width=300)"
      ]
     },
     "metadata": {},
     "output_type": "display_data"
    }
   ],
   "source": [
    "from ipycanvas import Canvas\n",
    "canvas = Canvas(width=300, height=300)\n",
    "canvas.fill_style = '#a9cafc'\n",
    "canvas.fill_rect(25,25,100,100)\n",
    "canvas"
   ]
  },
  {
   "cell_type": "markdown",
   "metadata": {},
   "source": [
    "This is my personal file for checking things i don't understand about python, numpy, etc.\n",
    "It probably won't ever get uploaded to github. But now you know, just in case."
   ]
  },
  {
   "cell_type": "code",
   "execution_count": null,
   "metadata": {},
   "outputs": [
    {
     "name": "stdout",
     "output_type": "stream",
     "text": [
      "10\n",
      "0.006896551724137932\n"
     ]
    },
    {
     "data": {
      "image/png": "[encoded data removed]",
      "text/plain": [
       "<Figure size 432x288 with 1 Axes>"
      ]
     },
     "metadata": {
      "needs_background": "light"
     },
     "output_type": "display_data"
    }
   ],
   "source": [
    "GuessSMT  = 5000  #we expect infants to have a spontaneous ISI of 450 ms\n",
    "GuessFreq = 1000/GuessSMT\n",
    "guess_freq = GuessFreq / fps\n",
    "guess_phase = 5\n",
    "guess_amp = 10\n",
    "guess_mean = 0\n",
    "\n",
    "#the function that we want to fit to our data. \n",
    "#basically a sine wave where we optimize everything - especially frequency.\n",
    "def optimize_func(x_data, amp, freq, phase, mean):\n",
    "    return amp * np.sin((twopi * freq) * x_data + phase) + mean\n",
    "\n",
    "data_first_guess = optimize_func(x_data, guess_amp, guess_freq, guess_phase, guess_mean)\n",
    "\n",
    "print(guess_amp)\n",
    "print(guess_freq)\n",
    "plt.figure(figsize=(6, 4),)\n",
    "plt.plot(x_time, data_first_guess, label = 'First guess')\n",
    "plt.show()\n"
   ]
  },
  {
   "cell_type": "code",
   "execution_count": null,
   "metadata": {},
   "outputs": [],
   "source": [
    "binwidth =2\n",
    "targets = [400, 500, 600, 700]\n",
    "sum(targets[2:2+binwidth])"
   ]
  }
 ],
 "metadata": {
  "kernelspec": {
   "display_name": "Python 3 (ipykernel)",
   "language": "python",
   "name": "python3"
  },
  "language_info": {
   "codemirror_mode": {
    "name": "ipython",
    "version": 3
   },
   "file_extension": ".py",
   "mimetype": "text/x-python",
   "name": "python",
   "nbconvert_exporter": "python",
   "pygments_lexer": "ipython3",
   "version": "3.8.12"
  }
 },
 "nbformat": 4,
 "nbformat_minor": 4
}
