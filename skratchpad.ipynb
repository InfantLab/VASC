{
 "cells": [
  {
   "cell_type": "markdown",
   "metadata": {},
   "source": [
    "This is my personal file for checking things i don't understand about python, numpy, etc.\n",
    "It probably won't ever get uploaded to github. But now you know, just in case."
   ]
  },
  {
   "cell_type": "code",
   "execution_count": null,
   "metadata": {},
   "outputs": [],
   "source": []
  },
  {
   "cell_type": "code",
   "execution_count": 24,
   "metadata": {},
   "outputs": [],
   "source": [
    "import os\n",
    "import numpy as np\n",
    "a = np.array([0.1,1.1,2.1,3.1,4.1,5.1,6.1,7.1])"
   ]
  },
  {
   "cell_type": "code",
   "execution_count": 15,
   "metadata": {},
   "outputs": [],
   "source": [
    "xs = [0+3*i for i in range(3)]\n",
    "ys = [1+3*i for i in range(3)]\n",
    "ps = [2+3*i for i in range(3)]"
   ]
  },
  {
   "cell_type": "code",
   "execution_count": 16,
   "metadata": {},
   "outputs": [
    {
     "name": "stdout",
     "output_type": "stream",
     "text": [
      "[0.1 3.1 6.1]\n",
      "[1.1 4.1 7.1]\n"
     ]
    }
   ],
   "source": [
    "print(a[xs])\n",
    "print(a[ys])"
   ]
  },
  {
   "cell_type": "code",
   "execution_count": 5,
   "metadata": {},
   "outputs": [
    {
     "name": "stdout",
     "output_type": "stream",
     "text": [
      " Volume in drive C has no label.\n",
      " Volume Serial Number is 9E80-9C38\n",
      "\n",
      " Directory of C:\\Users\\cas\\OneDrive - Goldsmiths College\\Projects\\Measuring Responsive Caregiving\\VASC\n",
      "\n",
      "2020-01-06  18:13    <DIR>          .\n",
      "2020-01-06  18:13    <DIR>          ..\n",
      "2020-01-06  18:07    <DIR>          .ipynb_checkpoints\n",
      "2020-01-06  16:10             1,092 LICENSE\n",
      "2020-01-06  18:01             1,939 README.md\n",
      "2020-01-06  18:13             3,745 skratchpad.ipynb\n",
      "2020-01-06  18:02            10,163 Step1.ProcessVideo.ipynb\n",
      "2020-01-02  12:49           645,350 Step2.OrganiseData.ipynb\n",
      "2020-01-02  12:48               650 Step3.AnalyseData.ipynb\n",
      "               6 File(s)        662,939 bytes\n",
      "               3 Dir(s)  385,703,043,072 bytes free\n"
     ]
    }
   ],
   "source": [
    "!dir"
   ]
  },
  {
   "cell_type": "code",
   "execution_count": 3,
   "metadata": {},
   "outputs": [
    {
     "name": "stdout",
     "output_type": "stream",
     "text": [
      "6\n"
     ]
    }
   ],
   "source": [
    "a = 6\n"
   ]
  },
  {
   "cell_type": "code",
   "execution_count": 2,
   "metadata": {},
   "outputs": [
    {
     "name": "stdout",
     "output_type": "stream",
     "text": [
      "5\n"
     ]
    }
   ],
   "source": [
    "import threading,time\n",
    "a=5\n",
    "threading.Thread(target=lambda:[print(a),time.sleep(20),print(a)]).start()"
   ]
  },
  {
   "cell_type": "code",
   "execution_count": null,
   "metadata": {},
   "outputs": [],
   "source": [
    "wd =  os.getcwd() + \"\\\\\"\n",
    "# locations of videos and output\n",
    "videos_in = wd + \"..\\\\videos_in\\\\\" \n",
    "videos_out_openpose = wd + \"..\\\\videos_out_openpose\\\\\"\n",
    "\n",
    "# location of openposedemo - THIS WILL BE DIFFERENT ON YOUR COMPUTER\n",
    "openposepath = \"C:\\\\Users\\\\cas\\\\openpose-1.5.0-binaries-win64-gpu-python-flir-3d_recommended\\\\bin\\\\\"\n",
    "\n",
    "if sys.platform == \"win32\":\n",
    "    app = \"OpenPoseDemo.exe\"\n",
    "else:\n",
    "    app = 'OpenPoseDemo.bin'\n",
    "\n",
    "openposeapp = openposepath + app\n",
    "\n",
    "print(openposeapp)"
   ]
  },
  {
   "cell_type": "code",
   "execution_count": null,
   "metadata": {},
   "outputs": [],
   "source": [
    "optstring = \"\"\n",
    "for key in params:\n",
    "    optstring += \" --\" + key + \" \" + params[key]\n",
    "\n",
    "print(optstring)\n",
    "\n",
    "for vid in allvideos:\n",
    "    try:\n",
    "        print(\"Staring openpose processing of \" + vid)\n",
    "        # Log the time\n",
    "        time_start = time.time()\n",
    "        video = \" --video \" + vid\n",
    "        opbin = openposeapp + video + optstring\n",
    "        print(opbin)\n",
    "        exitcode = os.system(opbin)\n",
    "        # Log the time again\n",
    "        time_end = time.time()\n",
    "        if (exitcode == 0):\n",
    "            # Print stats\n",
    "            print (\"Done \" + vid)\n",
    "            print (\"It took %d seconds for conversion.\" % (time_end-time_start))\n",
    "        else:\n",
    "            print(\"OpenPose error. Exit code %d\" % exitcode)\n",
    "    except Exception as e:\n",
    "        print(\"Error: \", e)\n",
    "        pass"
   ]
  },
  {
   "cell_type": "markdown",
   "metadata": {},
   "source": [
    "Useful Jupyter extensions\n",
    "\n",
    "`jupyter labextension install @jupyterlab/toc`\n",
    "\n",
    "`jupyter labextension install @lckr/jupyterlab_variableinspector`\n"
   ]
  },
  {
   "cell_type": "code",
   "execution_count": 4,
   "metadata": {},
   "outputs": [
    {
     "ename": "TypeError",
     "evalue": "can only concatenate str (not \"int\") to str",
     "output_type": "error",
     "traceback": [
      "\u001b[1;31m---------------------------------------------------------------------------\u001b[0m",
      "\u001b[1;31mTypeError\u001b[0m                                 Traceback (most recent call last)",
      "\u001b[1;32m<ipython-input-4-e62ae3ee5fd7>\u001b[0m in \u001b[0;36m<module>\u001b[1;34m\u001b[0m\n\u001b[0;32m      2\u001b[0m     \u001b[1;32mreturn\u001b[0m \u001b[0mvar\u001b[0m \u001b[1;33m+\u001b[0m \u001b[1;36m0\u001b[0m\u001b[1;33m\u001b[0m\u001b[1;33m\u001b[0m\u001b[0m\n\u001b[0;32m      3\u001b[0m \u001b[1;33m\u001b[0m\u001b[0m\n\u001b[1;32m----> 4\u001b[1;33m \u001b[0mbad_function\u001b[0m\u001b[1;33m(\u001b[0m\u001b[1;34m\"Mike\"\u001b[0m\u001b[1;33m)\u001b[0m\u001b[1;33m\u001b[0m\u001b[1;33m\u001b[0m\u001b[0m\n\u001b[0m",
      "\u001b[1;32m<ipython-input-4-e62ae3ee5fd7>\u001b[0m in \u001b[0;36mbad_function\u001b[1;34m(var)\u001b[0m\n\u001b[0;32m      1\u001b[0m \u001b[1;32mdef\u001b[0m \u001b[0mbad_function\u001b[0m\u001b[1;33m(\u001b[0m\u001b[0mvar\u001b[0m\u001b[1;33m)\u001b[0m\u001b[1;33m:\u001b[0m\u001b[1;33m\u001b[0m\u001b[1;33m\u001b[0m\u001b[0m\n\u001b[1;32m----> 2\u001b[1;33m     \u001b[1;32mreturn\u001b[0m \u001b[0mvar\u001b[0m \u001b[1;33m+\u001b[0m \u001b[1;36m0\u001b[0m\u001b[1;33m\u001b[0m\u001b[1;33m\u001b[0m\u001b[0m\n\u001b[0m\u001b[0;32m      3\u001b[0m \u001b[1;33m\u001b[0m\u001b[0m\n\u001b[0;32m      4\u001b[0m \u001b[0mbad_function\u001b[0m\u001b[1;33m(\u001b[0m\u001b[1;34m\"Mike\"\u001b[0m\u001b[1;33m)\u001b[0m\u001b[1;33m\u001b[0m\u001b[1;33m\u001b[0m\u001b[0m\n",
      "\u001b[1;31mTypeError\u001b[0m: can only concatenate str (not \"int\") to str"
     ]
    },
    {
     "name": "stdout",
     "output_type": "stream",
     "text": [
      "> \u001b[1;32m<ipython-input-4-e62ae3ee5fd7>\u001b[0m(2)\u001b[0;36mbad_function\u001b[1;34m()\u001b[0m\n",
      "\u001b[1;32m      1 \u001b[1;33m\u001b[1;32mdef\u001b[0m \u001b[0mbad_function\u001b[0m\u001b[1;33m(\u001b[0m\u001b[0mvar\u001b[0m\u001b[1;33m)\u001b[0m\u001b[1;33m:\u001b[0m\u001b[1;33m\u001b[0m\u001b[1;33m\u001b[0m\u001b[0m\n",
      "\u001b[0m\u001b[1;32m----> 2 \u001b[1;33m    \u001b[1;32mreturn\u001b[0m \u001b[0mvar\u001b[0m \u001b[1;33m+\u001b[0m \u001b[1;36m0\u001b[0m\u001b[1;33m\u001b[0m\u001b[1;33m\u001b[0m\u001b[0m\n",
      "\u001b[0m\u001b[1;32m      3 \u001b[1;33m\u001b[1;33m\u001b[0m\u001b[0m\n",
      "\u001b[0m\u001b[1;32m      4 \u001b[1;33m\u001b[0mbad_function\u001b[0m\u001b[1;33m(\u001b[0m\u001b[1;34m\"Mike\"\u001b[0m\u001b[1;33m)\u001b[0m\u001b[1;33m\u001b[0m\u001b[1;33m\u001b[0m\u001b[0m\n",
      "\u001b[0m\n"
     ]
    },
    {
     "name": "stdin",
     "output_type": "stream",
     "text": [
      "ipdb>  q\n"
     ]
    }
   ],
   "source": [
    "def bad_function(var):\n",
    "    return var + 0\n",
    " \n",
    "bad_function(\"Mike\")"
   ]
  },
  {
   "cell_type": "code",
   "execution_count": 5,
   "metadata": {},
   "outputs": [],
   "source": [
    "proc = ['lookit.01', 'lookit.02', 'lookit.03', 'lookit.04', 'lookit.05', 'lookit.06', 'lookit.07', 'lookit.08', 'lookit.09', 'lookit.10']"
   ]
  },
  {
   "cell_type": "code",
   "execution_count": null,
   "metadata": {},
   "outputs": [],
   "source": [
    "proc['lookit.01']"
   ]
  },
  {
   "cell_type": "code",
   "execution_count": 12,
   "metadata": {},
   "outputs": [
    {
     "name": "stdout",
     "output_type": "stream",
     "text": [
      "[{'name': 'lookit.01', 'frames': 412, 'start': 0, 'end': 412, 'processed': True}, {'name': 'lookit.01', 'frames': 412, 'start': 0, 'end': 412, 'processed': True}]\n"
     ]
    }
   ],
   "source": [
    "videos = [{\"name\": \"lookit.01\",\n",
    "  \"frames\": 412,\n",
    "  \"start\": 0,\n",
    "  \"end\": 412,\n",
    "  \"processed\": True},\n",
    "    {\"name\": \"lookit.01\",\n",
    "  \"frames\": 412,\n",
    "  \"start\": 0,\n",
    "  \"end\": 412,\n",
    "  \"processed\": Null}\n",
    "         ]\n",
    "print(videos)"
   ]
  },
  {
   "cell_type": "code",
   "execution_count": 1,
   "metadata": {},
   "outputs": [
    {
     "name": "stdout",
     "output_type": "stream",
     "text": [
      "[{'model': 'BMW 230', 'mpg': 27.5}, {'model': 'Ford Edge', 'mpg': 24.1}]\n"
     ]
    },
    {
     "data": {
      "text/plain": [
       "2"
      ]
     },
     "execution_count": 1,
     "metadata": {},
     "output_type": "execute_result"
    }
   ],
   "source": [
    "cars = [\n",
    "    {\"model\": \"BMW 230\", \"mpg\": 27.5},\n",
    "    {\"model\": \"Ford Edge\", \"mpg\": 24.1}\n",
    "  ]\n",
    "print(cars)\n",
    "len(cars)"
   ]
  },
  {
   "cell_type": "code",
   "execution_count": 11,
   "metadata": {},
   "outputs": [
    {
     "name": "stdout",
     "output_type": "stream",
     "text": [
      "2020-01-25T15:02:41.651915\n"
     ]
    }
   ],
   "source": [
    "\n",
    "from datetime import datetime\n",
    "my_date = datetime.now()\n",
    "print(my_date.isoformat())\n",
    "\n",
    "strdate = my_date.isoformat()\n",
    "\n",
    "strdate2 = \"2020-01-20T20:20:20\""
   ]
  },
  {
   "cell_type": "code",
   "execution_count": 12,
   "metadata": {},
   "outputs": [],
   "source": [
    "mydate2 = datetime.fromisoformat(strdate2)\n",
    "\n"
   ]
  },
  {
   "cell_type": "code",
   "execution_count": 20,
   "metadata": {},
   "outputs": [
    {
     "ename": "NameError",
     "evalue": "name 'videos' is not defined",
     "output_type": "error",
     "traceback": [
      "\u001b[1;31m---------------------------------------------------------------------------\u001b[0m",
      "\u001b[1;31mNameError\u001b[0m                                 Traceback (most recent call last)",
      "\u001b[1;32m<ipython-input-20-455e6ce45c04>\u001b[0m in \u001b[0;36m<module>\u001b[1;34m\u001b[0m\n\u001b[1;32m----> 1\u001b[1;33m \u001b[0mvideos\u001b[0m\u001b[1;33m.\u001b[0m\u001b[0mjson\u001b[0m \u001b[1;33m=\u001b[0m \u001b[1;33m{\u001b[0m\u001b[1;33m}\u001b[0m\u001b[1;33m\u001b[0m\u001b[1;33m\u001b[0m\u001b[0m\n\u001b[0m",
      "\u001b[1;31mNameError\u001b[0m: name 'videos' is not defined"
     ]
    }
   ],
   "source": [
    "videos.json = {}"
   ]
  },
  {
   "cell_type": "code",
   "execution_count": 17,
   "metadata": {},
   "outputs": [],
   "source": [
    "proc[0] = {}\n",
    "proc[1] = {}"
   ]
  },
  {
   "cell_type": "code",
   "execution_count": 16,
   "metadata": {},
   "outputs": [],
   "source": [
    "proc[0][\"name\"] = \"vid1\""
   ]
  },
  {
   "cell_type": "code",
   "execution_count": 22,
   "metadata": {},
   "outputs": [],
   "source": [
    "proc[1][\"openpose\"] = \"now\""
   ]
  },
  {
   "cell_type": "code",
   "execution_count": 28,
   "metadata": {},
   "outputs": [
    {
     "name": "stdout",
     "output_type": "stream",
     "text": [
      "basename.01\n",
      ".avi\n"
     ]
    }
   ],
   "source": [
    "base, fmt = os.path.splitext(\"basename.01.avi\")\n",
    "\n",
    "print(base)\n",
    "print(fmt)"
   ]
  },
  {
   "cell_type": "code",
   "execution_count": 1,
   "metadata": {},
   "outputs": [
    {
     "data": {
      "application/vnd.jupyter.widget-view+json": {
       "model_id": "fff1fd806c0a4d89ae61ce968e742a5b",
       "version_major": 2,
       "version_minor": 0
      },
      "text/plain": [
       "IntSlider(value=5, max=10, min=1)"
      ]
     },
     "metadata": {},
     "output_type": "display_data"
    }
   ],
   "source": [
    "\n",
    "import ipywidgets as widgets\n",
    "from IPython.display import display\n",
    "\n",
    "widgets.IntSlider(\n",
    "    value=5,\n",
    "    min=1,\n",
    "    max=10,\n",
    "    step=1)"
   ]
  },
  {
   "cell_type": "code",
   "execution_count": 2,
   "metadata": {},
   "outputs": [
    {
     "data": {
      "application/vnd.jupyter.widget-view+json": {
       "model_id": "ae0e25d55b2f463093bb014cc7a74799",
       "version_major": 2,
       "version_minor": 0
      },
      "text/plain": [
       "IntSlider(value=0)"
      ]
     },
     "metadata": {},
     "output_type": "display_data"
    }
   ],
   "source": [
    "widgets.IntSlider()"
   ]
  },
  {
   "cell_type": "code",
   "execution_count": null,
   "metadata": {},
   "outputs": [],
   "source": []
  },
  {
   "cell_type": "code",
   "execution_count": null,
   "metadata": {},
   "outputs": [],
   "source": []
  },
  {
   "cell_type": "markdown",
   "metadata": {},
   "source": [
    "## Multivariate Gaussian Random Walk\n",
    "\n",
    "From https://docs.pymc.io/notebooks/MvGaussianRandomWalk_demo.html\n"
   ]
  },
  {
   "cell_type": "code",
   "execution_count": 2,
   "metadata": {},
   "outputs": [
    {
     "ename": "ModuleNotFoundError",
     "evalue": "No module named 'pymc3'",
     "output_type": "error",
     "traceback": [
      "\u001b[1;31m---------------------------------------------------------------------------\u001b[0m",
      "\u001b[1;31mModuleNotFoundError\u001b[0m                       Traceback (most recent call last)",
      "\u001b[1;32m<ipython-input-2-279924c7ae45>\u001b[0m in \u001b[0;36m<module>\u001b[1;34m\u001b[0m\n\u001b[0;32m      3\u001b[0m \u001b[1;32mfrom\u001b[0m \u001b[0mscipy\u001b[0m\u001b[1;33m.\u001b[0m\u001b[0mlinalg\u001b[0m \u001b[1;32mimport\u001b[0m \u001b[0mcholesky\u001b[0m\u001b[1;33m\u001b[0m\u001b[1;33m\u001b[0m\u001b[0m\n\u001b[0;32m      4\u001b[0m \u001b[1;33m\u001b[0m\u001b[0m\n\u001b[1;32m----> 5\u001b[1;33m \u001b[1;32mimport\u001b[0m \u001b[0mpymc3\u001b[0m \u001b[1;32mas\u001b[0m \u001b[0mpm\u001b[0m\u001b[1;33m\u001b[0m\u001b[1;33m\u001b[0m\u001b[0m\n\u001b[0m\u001b[0;32m      6\u001b[0m \u001b[1;31m#import theano\u001b[0m\u001b[1;33m\u001b[0m\u001b[1;33m\u001b[0m\u001b[1;33m\u001b[0m\u001b[0m\n\u001b[0;32m      7\u001b[0m \u001b[1;33m\u001b[0m\u001b[0m\n",
      "\u001b[1;31mModuleNotFoundError\u001b[0m: No module named 'pymc3'"
     ]
    }
   ],
   "source": [
    "import numpy as np\n",
    "import matplotlib.pyplot as plt\n",
    "from scipy.linalg import cholesky\n",
    "\n",
    "import pymc3 as pm\n",
    "#import theano\n",
    "\n",
    "np.random.seed(42)\n",
    "%matplotlib inline"
   ]
  },
  {
   "cell_type": "code",
   "execution_count": 7,
   "metadata": {},
   "outputs": [
    {
     "name": "stdout",
     "output_type": "stream",
     "text": [
      "[[0. 0. 0. 0. 0.]\n",
      " [0. 0. 0. 0. 0.]\n",
      " [0. 0. 0. 0. 0.]]\n",
      "[[1. 0. 0. 0. 0.]\n",
      " [0. 0. 0. 0. 0.]\n",
      " [0. 0. 0. 0. 0.]]\n",
      "[[1. 0. 0. 0. 0.]\n",
      " [1. 0. 0. 0. 0.]\n",
      " [1. 0. 0. 0. 0.]]\n",
      "[[2. 2. 2. 2. 2.]\n",
      " [1. 0. 0. 0. 0.]\n",
      " [1. 0. 0. 0. 0.]]\n"
     ]
    }
   ],
   "source": [
    "R = 3\n",
    "N = 5\n",
    "\n",
    "#create array of zeros\n",
    "alldata = np.zeros([R,N])\n",
    "print(alldata)\n",
    "\n",
    "#fill in first entry\n",
    "alldata[0,0] = 1\n",
    "print(alldata)\n",
    "\n",
    "#fill in column 1\n",
    "alldata[:,0] = [1,1,1]\n",
    "print(alldata)\n",
    "\n",
    "alldata[0,:] = 2\n",
    "print(alldata)\n"
   ]
  },
  {
   "cell_type": "code",
   "execution_count": 1,
   "metadata": {},
   "outputs": [
    {
     "ename": "NameError",
     "evalue": "name 'np' is not defined",
     "output_type": "error",
     "traceback": [
      "\u001b[1;31m---------------------------------------------------------------------------\u001b[0m",
      "\u001b[1;31mNameError\u001b[0m                                 Traceback (most recent call last)",
      "\u001b[1;32m<ipython-input-1-3053ec33a565>\u001b[0m in \u001b[0;36m<module>\u001b[1;34m\u001b[0m\n\u001b[0;32m      4\u001b[0m \u001b[0mperiod\u001b[0m \u001b[1;33m=\u001b[0m \u001b[0mN\u001b[0m\u001b[1;33m/\u001b[0m\u001b[0msections\u001b[0m\u001b[1;33m\u001b[0m\u001b[1;33m\u001b[0m\u001b[0m\n\u001b[0;32m      5\u001b[0m \u001b[1;33m\u001b[0m\u001b[0m\n\u001b[1;32m----> 6\u001b[1;33m \u001b[0mSigma_a\u001b[0m \u001b[1;33m=\u001b[0m \u001b[0mnp\u001b[0m\u001b[1;33m.\u001b[0m\u001b[0mrandom\u001b[0m\u001b[1;33m.\u001b[0m\u001b[0mrandn\u001b[0m\u001b[1;33m(\u001b[0m\u001b[0mD\u001b[0m\u001b[1;33m,\u001b[0m \u001b[0mD\u001b[0m\u001b[1;33m)\u001b[0m\u001b[1;33m\u001b[0m\u001b[1;33m\u001b[0m\u001b[0m\n\u001b[0m\u001b[0;32m      7\u001b[0m \u001b[0mSigma_a\u001b[0m \u001b[1;33m=\u001b[0m \u001b[0mSigma_a\u001b[0m\u001b[1;33m.\u001b[0m\u001b[0mT\u001b[0m\u001b[1;33m.\u001b[0m\u001b[0mdot\u001b[0m\u001b[1;33m(\u001b[0m\u001b[0mSigma_a\u001b[0m\u001b[1;33m)\u001b[0m\u001b[1;33m\u001b[0m\u001b[1;33m\u001b[0m\u001b[0m\n\u001b[0;32m      8\u001b[0m \u001b[0mL_a\u001b[0m \u001b[1;33m=\u001b[0m \u001b[0mcholesky\u001b[0m\u001b[1;33m(\u001b[0m\u001b[0mSigma_a\u001b[0m\u001b[1;33m,\u001b[0m \u001b[0mlower\u001b[0m\u001b[1;33m=\u001b[0m\u001b[1;32mTrue\u001b[0m\u001b[1;33m)\u001b[0m\u001b[1;33m\u001b[0m\u001b[1;33m\u001b[0m\u001b[0m\n",
      "\u001b[1;31mNameError\u001b[0m: name 'np' is not defined"
     ]
    }
   ],
   "source": [
    "\n",
    "D = 3\n",
    "N = 300\n",
    "sections = 5\n",
    "period = N/sections\n",
    "\n",
    "Sigma_a = np.random.randn(D, D)\n",
    "Sigma_a = Sigma_a.T.dot(Sigma_a)\n",
    "L_a = cholesky(Sigma_a, lower=True)\n",
    "\n",
    "Sigma_b = np.random.randn(D, D)\n",
    "Sigma_b = Sigma_b.T.dot(Sigma_b)\n",
    "L_b = cholesky(Sigma_b, lower=True)\n",
    "\n",
    "# Gaussian Random walk:\n",
    "alpha = np.cumsum(L_a.dot(np.random.randn(D, sections)), axis=1).T\n",
    "beta = np.cumsum(L_b.dot(np.random.randn(D, sections)), axis=1).T\n",
    "sigma = 0.1\n",
    "\n",
    "t = np.arange(N)[:, None]/ N\n",
    "alpha = np.repeat(alpha, period, axis=0)\n",
    "beta = np.repeat(beta, period, axis=0)\n",
    "y = alpha + beta*t + sigma*np.random.randn(N, 1)"
   ]
  },
  {
   "cell_type": "code",
   "execution_count": 13,
   "metadata": {},
   "outputs": [
    {
     "name": "stdout",
     "output_type": "stream",
     "text": [
      "[[-2.04260172e+00 -1.36509893e+00  4.48159016e-01]\n",
      " [-2.04260172e+00 -1.36509893e+00  4.48159016e-01]\n",
      " [-2.04260172e+00 -1.36509893e+00  4.48159016e-01]\n",
      " [-2.04260172e+00 -1.36509893e+00  4.48159016e-01]\n",
      " [-2.04260172e+00 -1.36509893e+00  4.48159016e-01]\n",
      " [-2.04260172e+00 -1.36509893e+00  4.48159016e-01]\n",
      " [-2.04260172e+00 -1.36509893e+00  4.48159016e-01]\n",
      " [-2.04260172e+00 -1.36509893e+00  4.48159016e-01]\n",
      " [-2.04260172e+00 -1.36509893e+00  4.48159016e-01]\n",
      " [-2.04260172e+00 -1.36509893e+00  4.48159016e-01]\n",
      " [-2.04260172e+00 -1.36509893e+00  4.48159016e-01]\n",
      " [-2.04260172e+00 -1.36509893e+00  4.48159016e-01]\n",
      " [-2.04260172e+00 -1.36509893e+00  4.48159016e-01]\n",
      " [-2.04260172e+00 -1.36509893e+00  4.48159016e-01]\n",
      " [-2.04260172e+00 -1.36509893e+00  4.48159016e-01]\n",
      " [-2.04260172e+00 -1.36509893e+00  4.48159016e-01]\n",
      " [-2.04260172e+00 -1.36509893e+00  4.48159016e-01]\n",
      " [-2.04260172e+00 -1.36509893e+00  4.48159016e-01]\n",
      " [-2.04260172e+00 -1.36509893e+00  4.48159016e-01]\n",
      " [-2.04260172e+00 -1.36509893e+00  4.48159016e-01]\n",
      " [-2.04260172e+00 -1.36509893e+00  4.48159016e-01]\n",
      " [-2.04260172e+00 -1.36509893e+00  4.48159016e-01]\n",
      " [-2.04260172e+00 -1.36509893e+00  4.48159016e-01]\n",
      " [-2.04260172e+00 -1.36509893e+00  4.48159016e-01]\n",
      " [-2.04260172e+00 -1.36509893e+00  4.48159016e-01]\n",
      " [-2.04260172e+00 -1.36509893e+00  4.48159016e-01]\n",
      " [-2.04260172e+00 -1.36509893e+00  4.48159016e-01]\n",
      " [-2.04260172e+00 -1.36509893e+00  4.48159016e-01]\n",
      " [-2.04260172e+00 -1.36509893e+00  4.48159016e-01]\n",
      " [-2.04260172e+00 -1.36509893e+00  4.48159016e-01]\n",
      " [-2.04260172e+00 -1.36509893e+00  4.48159016e-01]\n",
      " [-2.04260172e+00 -1.36509893e+00  4.48159016e-01]\n",
      " [-2.04260172e+00 -1.36509893e+00  4.48159016e-01]\n",
      " [-2.04260172e+00 -1.36509893e+00  4.48159016e-01]\n",
      " [-2.04260172e+00 -1.36509893e+00  4.48159016e-01]\n",
      " [-2.04260172e+00 -1.36509893e+00  4.48159016e-01]\n",
      " [-2.04260172e+00 -1.36509893e+00  4.48159016e-01]\n",
      " [-2.04260172e+00 -1.36509893e+00  4.48159016e-01]\n",
      " [-2.04260172e+00 -1.36509893e+00  4.48159016e-01]\n",
      " [-2.04260172e+00 -1.36509893e+00  4.48159016e-01]\n",
      " [-2.04260172e+00 -1.36509893e+00  4.48159016e-01]\n",
      " [-2.04260172e+00 -1.36509893e+00  4.48159016e-01]\n",
      " [-2.04260172e+00 -1.36509893e+00  4.48159016e-01]\n",
      " [-2.04260172e+00 -1.36509893e+00  4.48159016e-01]\n",
      " [-2.04260172e+00 -1.36509893e+00  4.48159016e-01]\n",
      " [-2.04260172e+00 -1.36509893e+00  4.48159016e-01]\n",
      " [-2.04260172e+00 -1.36509893e+00  4.48159016e-01]\n",
      " [-2.04260172e+00 -1.36509893e+00  4.48159016e-01]\n",
      " [-2.04260172e+00 -1.36509893e+00  4.48159016e-01]\n",
      " [-2.04260172e+00 -1.36509893e+00  4.48159016e-01]\n",
      " [-2.04260172e+00 -1.36509893e+00  4.48159016e-01]\n",
      " [-2.04260172e+00 -1.36509893e+00  4.48159016e-01]\n",
      " [-2.04260172e+00 -1.36509893e+00  4.48159016e-01]\n",
      " [-2.04260172e+00 -1.36509893e+00  4.48159016e-01]\n",
      " [-2.04260172e+00 -1.36509893e+00  4.48159016e-01]\n",
      " [-2.04260172e+00 -1.36509893e+00  4.48159016e-01]\n",
      " [-2.04260172e+00 -1.36509893e+00  4.48159016e-01]\n",
      " [-2.04260172e+00 -1.36509893e+00  4.48159016e-01]\n",
      " [-2.04260172e+00 -1.36509893e+00  4.48159016e-01]\n",
      " [-2.04260172e+00 -1.36509893e+00  4.48159016e-01]\n",
      " [-5.21958134e+00 -2.25924136e+00  9.45952964e-01]\n",
      " [-5.21958134e+00 -2.25924136e+00  9.45952964e-01]\n",
      " [-5.21958134e+00 -2.25924136e+00  9.45952964e-01]\n",
      " [-5.21958134e+00 -2.25924136e+00  9.45952964e-01]\n",
      " [-5.21958134e+00 -2.25924136e+00  9.45952964e-01]\n",
      " [-5.21958134e+00 -2.25924136e+00  9.45952964e-01]\n",
      " [-5.21958134e+00 -2.25924136e+00  9.45952964e-01]\n",
      " [-5.21958134e+00 -2.25924136e+00  9.45952964e-01]\n",
      " [-5.21958134e+00 -2.25924136e+00  9.45952964e-01]\n",
      " [-5.21958134e+00 -2.25924136e+00  9.45952964e-01]\n",
      " [-5.21958134e+00 -2.25924136e+00  9.45952964e-01]\n",
      " [-5.21958134e+00 -2.25924136e+00  9.45952964e-01]\n",
      " [-5.21958134e+00 -2.25924136e+00  9.45952964e-01]\n",
      " [-5.21958134e+00 -2.25924136e+00  9.45952964e-01]\n",
      " [-5.21958134e+00 -2.25924136e+00  9.45952964e-01]\n",
      " [-5.21958134e+00 -2.25924136e+00  9.45952964e-01]\n",
      " [-5.21958134e+00 -2.25924136e+00  9.45952964e-01]\n",
      " [-5.21958134e+00 -2.25924136e+00  9.45952964e-01]\n",
      " [-5.21958134e+00 -2.25924136e+00  9.45952964e-01]\n",
      " [-5.21958134e+00 -2.25924136e+00  9.45952964e-01]\n",
      " [-5.21958134e+00 -2.25924136e+00  9.45952964e-01]\n",
      " [-5.21958134e+00 -2.25924136e+00  9.45952964e-01]\n",
      " [-5.21958134e+00 -2.25924136e+00  9.45952964e-01]\n",
      " [-5.21958134e+00 -2.25924136e+00  9.45952964e-01]\n",
      " [-5.21958134e+00 -2.25924136e+00  9.45952964e-01]\n",
      " [-5.21958134e+00 -2.25924136e+00  9.45952964e-01]\n",
      " [-5.21958134e+00 -2.25924136e+00  9.45952964e-01]\n",
      " [-5.21958134e+00 -2.25924136e+00  9.45952964e-01]\n",
      " [-5.21958134e+00 -2.25924136e+00  9.45952964e-01]\n",
      " [-5.21958134e+00 -2.25924136e+00  9.45952964e-01]\n",
      " [-5.21958134e+00 -2.25924136e+00  9.45952964e-01]\n",
      " [-5.21958134e+00 -2.25924136e+00  9.45952964e-01]\n",
      " [-5.21958134e+00 -2.25924136e+00  9.45952964e-01]\n",
      " [-5.21958134e+00 -2.25924136e+00  9.45952964e-01]\n",
      " [-5.21958134e+00 -2.25924136e+00  9.45952964e-01]\n",
      " [-5.21958134e+00 -2.25924136e+00  9.45952964e-01]\n",
      " [-5.21958134e+00 -2.25924136e+00  9.45952964e-01]\n",
      " [-5.21958134e+00 -2.25924136e+00  9.45952964e-01]\n",
      " [-5.21958134e+00 -2.25924136e+00  9.45952964e-01]\n",
      " [-5.21958134e+00 -2.25924136e+00  9.45952964e-01]\n",
      " [-5.21958134e+00 -2.25924136e+00  9.45952964e-01]\n",
      " [-5.21958134e+00 -2.25924136e+00  9.45952964e-01]\n",
      " [-5.21958134e+00 -2.25924136e+00  9.45952964e-01]\n",
      " [-5.21958134e+00 -2.25924136e+00  9.45952964e-01]\n",
      " [-5.21958134e+00 -2.25924136e+00  9.45952964e-01]\n",
      " [-5.21958134e+00 -2.25924136e+00  9.45952964e-01]\n",
      " [-5.21958134e+00 -2.25924136e+00  9.45952964e-01]\n",
      " [-5.21958134e+00 -2.25924136e+00  9.45952964e-01]\n",
      " [-5.21958134e+00 -2.25924136e+00  9.45952964e-01]\n",
      " [-5.21958134e+00 -2.25924136e+00  9.45952964e-01]\n",
      " [-5.21958134e+00 -2.25924136e+00  9.45952964e-01]\n",
      " [-5.21958134e+00 -2.25924136e+00  9.45952964e-01]\n",
      " [-5.21958134e+00 -2.25924136e+00  9.45952964e-01]\n",
      " [-5.21958134e+00 -2.25924136e+00  9.45952964e-01]\n",
      " [-5.21958134e+00 -2.25924136e+00  9.45952964e-01]\n",
      " [-5.21958134e+00 -2.25924136e+00  9.45952964e-01]\n",
      " [-5.21958134e+00 -2.25924136e+00  9.45952964e-01]\n",
      " [-5.21958134e+00 -2.25924136e+00  9.45952964e-01]\n",
      " [-5.21958134e+00 -2.25924136e+00  9.45952964e-01]\n",
      " [-5.21958134e+00 -2.25924136e+00  9.45952964e-01]\n",
      " [-1.92260190e+00 -1.66515206e+00  1.28402143e-03]\n",
      " [-1.92260190e+00 -1.66515206e+00  1.28402143e-03]\n",
      " [-1.92260190e+00 -1.66515206e+00  1.28402143e-03]\n",
      " [-1.92260190e+00 -1.66515206e+00  1.28402143e-03]\n",
      " [-1.92260190e+00 -1.66515206e+00  1.28402143e-03]\n",
      " [-1.92260190e+00 -1.66515206e+00  1.28402143e-03]\n",
      " [-1.92260190e+00 -1.66515206e+00  1.28402143e-03]\n",
      " [-1.92260190e+00 -1.66515206e+00  1.28402143e-03]\n",
      " [-1.92260190e+00 -1.66515206e+00  1.28402143e-03]\n",
      " [-1.92260190e+00 -1.66515206e+00  1.28402143e-03]\n",
      " [-1.92260190e+00 -1.66515206e+00  1.28402143e-03]\n",
      " [-1.92260190e+00 -1.66515206e+00  1.28402143e-03]\n",
      " [-1.92260190e+00 -1.66515206e+00  1.28402143e-03]\n",
      " [-1.92260190e+00 -1.66515206e+00  1.28402143e-03]\n",
      " [-1.92260190e+00 -1.66515206e+00  1.28402143e-03]\n",
      " [-1.92260190e+00 -1.66515206e+00  1.28402143e-03]\n",
      " [-1.92260190e+00 -1.66515206e+00  1.28402143e-03]\n",
      " [-1.92260190e+00 -1.66515206e+00  1.28402143e-03]\n",
      " [-1.92260190e+00 -1.66515206e+00  1.28402143e-03]\n",
      " [-1.92260190e+00 -1.66515206e+00  1.28402143e-03]\n",
      " [-1.92260190e+00 -1.66515206e+00  1.28402143e-03]\n",
      " [-1.92260190e+00 -1.66515206e+00  1.28402143e-03]\n",
      " [-1.92260190e+00 -1.66515206e+00  1.28402143e-03]\n",
      " [-1.92260190e+00 -1.66515206e+00  1.28402143e-03]\n",
      " [-1.92260190e+00 -1.66515206e+00  1.28402143e-03]\n",
      " [-1.92260190e+00 -1.66515206e+00  1.28402143e-03]\n",
      " [-1.92260190e+00 -1.66515206e+00  1.28402143e-03]\n",
      " [-1.92260190e+00 -1.66515206e+00  1.28402143e-03]\n",
      " [-1.92260190e+00 -1.66515206e+00  1.28402143e-03]\n",
      " [-1.92260190e+00 -1.66515206e+00  1.28402143e-03]\n",
      " [-1.92260190e+00 -1.66515206e+00  1.28402143e-03]\n",
      " [-1.92260190e+00 -1.66515206e+00  1.28402143e-03]\n",
      " [-1.92260190e+00 -1.66515206e+00  1.28402143e-03]\n",
      " [-1.92260190e+00 -1.66515206e+00  1.28402143e-03]\n",
      " [-1.92260190e+00 -1.66515206e+00  1.28402143e-03]\n",
      " [-1.92260190e+00 -1.66515206e+00  1.28402143e-03]\n",
      " [-1.92260190e+00 -1.66515206e+00  1.28402143e-03]\n",
      " [-1.92260190e+00 -1.66515206e+00  1.28402143e-03]\n",
      " [-1.92260190e+00 -1.66515206e+00  1.28402143e-03]\n",
      " [-1.92260190e+00 -1.66515206e+00  1.28402143e-03]\n",
      " [-1.92260190e+00 -1.66515206e+00  1.28402143e-03]\n",
      " [-1.92260190e+00 -1.66515206e+00  1.28402143e-03]\n",
      " [-1.92260190e+00 -1.66515206e+00  1.28402143e-03]\n",
      " [-1.92260190e+00 -1.66515206e+00  1.28402143e-03]\n",
      " [-1.92260190e+00 -1.66515206e+00  1.28402143e-03]\n",
      " [-1.92260190e+00 -1.66515206e+00  1.28402143e-03]\n",
      " [-1.92260190e+00 -1.66515206e+00  1.28402143e-03]\n",
      " [-1.92260190e+00 -1.66515206e+00  1.28402143e-03]\n",
      " [-1.92260190e+00 -1.66515206e+00  1.28402143e-03]\n",
      " [-1.92260190e+00 -1.66515206e+00  1.28402143e-03]\n",
      " [-1.92260190e+00 -1.66515206e+00  1.28402143e-03]\n",
      " [-1.92260190e+00 -1.66515206e+00  1.28402143e-03]\n",
      " [-1.92260190e+00 -1.66515206e+00  1.28402143e-03]\n",
      " [-1.92260190e+00 -1.66515206e+00  1.28402143e-03]\n",
      " [-1.92260190e+00 -1.66515206e+00  1.28402143e-03]\n",
      " [-1.92260190e+00 -1.66515206e+00  1.28402143e-03]\n",
      " [-1.92260190e+00 -1.66515206e+00  1.28402143e-03]\n",
      " [-1.92260190e+00 -1.66515206e+00  1.28402143e-03]\n",
      " [-1.92260190e+00 -1.66515206e+00  1.28402143e-03]\n",
      " [-1.92260190e+00 -1.66515206e+00  1.28402143e-03]\n",
      " [-2.43048608e+00 -2.59038954e+00  1.73231095e+00]\n",
      " [-2.43048608e+00 -2.59038954e+00  1.73231095e+00]\n",
      " [-2.43048608e+00 -2.59038954e+00  1.73231095e+00]\n",
      " [-2.43048608e+00 -2.59038954e+00  1.73231095e+00]\n",
      " [-2.43048608e+00 -2.59038954e+00  1.73231095e+00]\n",
      " [-2.43048608e+00 -2.59038954e+00  1.73231095e+00]\n",
      " [-2.43048608e+00 -2.59038954e+00  1.73231095e+00]\n",
      " [-2.43048608e+00 -2.59038954e+00  1.73231095e+00]\n",
      " [-2.43048608e+00 -2.59038954e+00  1.73231095e+00]\n",
      " [-2.43048608e+00 -2.59038954e+00  1.73231095e+00]\n",
      " [-2.43048608e+00 -2.59038954e+00  1.73231095e+00]\n",
      " [-2.43048608e+00 -2.59038954e+00  1.73231095e+00]\n",
      " [-2.43048608e+00 -2.59038954e+00  1.73231095e+00]\n",
      " [-2.43048608e+00 -2.59038954e+00  1.73231095e+00]\n",
      " [-2.43048608e+00 -2.59038954e+00  1.73231095e+00]\n",
      " [-2.43048608e+00 -2.59038954e+00  1.73231095e+00]\n",
      " [-2.43048608e+00 -2.59038954e+00  1.73231095e+00]\n",
      " [-2.43048608e+00 -2.59038954e+00  1.73231095e+00]\n",
      " [-2.43048608e+00 -2.59038954e+00  1.73231095e+00]\n",
      " [-2.43048608e+00 -2.59038954e+00  1.73231095e+00]\n",
      " [-2.43048608e+00 -2.59038954e+00  1.73231095e+00]\n",
      " [-2.43048608e+00 -2.59038954e+00  1.73231095e+00]\n",
      " [-2.43048608e+00 -2.59038954e+00  1.73231095e+00]\n",
      " [-2.43048608e+00 -2.59038954e+00  1.73231095e+00]\n",
      " [-2.43048608e+00 -2.59038954e+00  1.73231095e+00]\n",
      " [-2.43048608e+00 -2.59038954e+00  1.73231095e+00]\n",
      " [-2.43048608e+00 -2.59038954e+00  1.73231095e+00]\n",
      " [-2.43048608e+00 -2.59038954e+00  1.73231095e+00]\n",
      " [-2.43048608e+00 -2.59038954e+00  1.73231095e+00]\n",
      " [-2.43048608e+00 -2.59038954e+00  1.73231095e+00]\n",
      " [-2.43048608e+00 -2.59038954e+00  1.73231095e+00]\n",
      " [-2.43048608e+00 -2.59038954e+00  1.73231095e+00]\n",
      " [-2.43048608e+00 -2.59038954e+00  1.73231095e+00]\n",
      " [-2.43048608e+00 -2.59038954e+00  1.73231095e+00]\n",
      " [-2.43048608e+00 -2.59038954e+00  1.73231095e+00]\n",
      " [-2.43048608e+00 -2.59038954e+00  1.73231095e+00]\n",
      " [-2.43048608e+00 -2.59038954e+00  1.73231095e+00]\n",
      " [-2.43048608e+00 -2.59038954e+00  1.73231095e+00]\n",
      " [-2.43048608e+00 -2.59038954e+00  1.73231095e+00]\n",
      " [-2.43048608e+00 -2.59038954e+00  1.73231095e+00]\n",
      " [-2.43048608e+00 -2.59038954e+00  1.73231095e+00]\n",
      " [-2.43048608e+00 -2.59038954e+00  1.73231095e+00]\n",
      " [-2.43048608e+00 -2.59038954e+00  1.73231095e+00]\n",
      " [-2.43048608e+00 -2.59038954e+00  1.73231095e+00]\n",
      " [-2.43048608e+00 -2.59038954e+00  1.73231095e+00]\n",
      " [-2.43048608e+00 -2.59038954e+00  1.73231095e+00]\n",
      " [-2.43048608e+00 -2.59038954e+00  1.73231095e+00]\n",
      " [-2.43048608e+00 -2.59038954e+00  1.73231095e+00]\n",
      " [-2.43048608e+00 -2.59038954e+00  1.73231095e+00]\n",
      " [-2.43048608e+00 -2.59038954e+00  1.73231095e+00]\n",
      " [-2.43048608e+00 -2.59038954e+00  1.73231095e+00]\n",
      " [-2.43048608e+00 -2.59038954e+00  1.73231095e+00]\n",
      " [-2.43048608e+00 -2.59038954e+00  1.73231095e+00]\n",
      " [-2.43048608e+00 -2.59038954e+00  1.73231095e+00]\n",
      " [-2.43048608e+00 -2.59038954e+00  1.73231095e+00]\n",
      " [-2.43048608e+00 -2.59038954e+00  1.73231095e+00]\n",
      " [-2.43048608e+00 -2.59038954e+00  1.73231095e+00]\n",
      " [-2.43048608e+00 -2.59038954e+00  1.73231095e+00]\n",
      " [-2.43048608e+00 -2.59038954e+00  1.73231095e+00]\n",
      " [-2.43048608e+00 -2.59038954e+00  1.73231095e+00]\n",
      " [-2.27858127e+00 -2.29053788e+00  1.55991031e+00]\n",
      " [-2.27858127e+00 -2.29053788e+00  1.55991031e+00]\n",
      " [-2.27858127e+00 -2.29053788e+00  1.55991031e+00]\n",
      " [-2.27858127e+00 -2.29053788e+00  1.55991031e+00]\n",
      " [-2.27858127e+00 -2.29053788e+00  1.55991031e+00]\n",
      " [-2.27858127e+00 -2.29053788e+00  1.55991031e+00]\n",
      " [-2.27858127e+00 -2.29053788e+00  1.55991031e+00]\n",
      " [-2.27858127e+00 -2.29053788e+00  1.55991031e+00]\n",
      " [-2.27858127e+00 -2.29053788e+00  1.55991031e+00]\n",
      " [-2.27858127e+00 -2.29053788e+00  1.55991031e+00]\n",
      " [-2.27858127e+00 -2.29053788e+00  1.55991031e+00]\n",
      " [-2.27858127e+00 -2.29053788e+00  1.55991031e+00]\n",
      " [-2.27858127e+00 -2.29053788e+00  1.55991031e+00]\n",
      " [-2.27858127e+00 -2.29053788e+00  1.55991031e+00]\n",
      " [-2.27858127e+00 -2.29053788e+00  1.55991031e+00]\n",
      " [-2.27858127e+00 -2.29053788e+00  1.55991031e+00]\n",
      " [-2.27858127e+00 -2.29053788e+00  1.55991031e+00]\n",
      " [-2.27858127e+00 -2.29053788e+00  1.55991031e+00]\n",
      " [-2.27858127e+00 -2.29053788e+00  1.55991031e+00]\n",
      " [-2.27858127e+00 -2.29053788e+00  1.55991031e+00]\n",
      " [-2.27858127e+00 -2.29053788e+00  1.55991031e+00]\n",
      " [-2.27858127e+00 -2.29053788e+00  1.55991031e+00]\n",
      " [-2.27858127e+00 -2.29053788e+00  1.55991031e+00]\n",
      " [-2.27858127e+00 -2.29053788e+00  1.55991031e+00]\n",
      " [-2.27858127e+00 -2.29053788e+00  1.55991031e+00]\n",
      " [-2.27858127e+00 -2.29053788e+00  1.55991031e+00]\n",
      " [-2.27858127e+00 -2.29053788e+00  1.55991031e+00]\n",
      " [-2.27858127e+00 -2.29053788e+00  1.55991031e+00]\n",
      " [-2.27858127e+00 -2.29053788e+00  1.55991031e+00]\n",
      " [-2.27858127e+00 -2.29053788e+00  1.55991031e+00]\n",
      " [-2.27858127e+00 -2.29053788e+00  1.55991031e+00]\n",
      " [-2.27858127e+00 -2.29053788e+00  1.55991031e+00]\n",
      " [-2.27858127e+00 -2.29053788e+00  1.55991031e+00]\n",
      " [-2.27858127e+00 -2.29053788e+00  1.55991031e+00]\n",
      " [-2.27858127e+00 -2.29053788e+00  1.55991031e+00]\n",
      " [-2.27858127e+00 -2.29053788e+00  1.55991031e+00]\n",
      " [-2.27858127e+00 -2.29053788e+00  1.55991031e+00]\n",
      " [-2.27858127e+00 -2.29053788e+00  1.55991031e+00]\n",
      " [-2.27858127e+00 -2.29053788e+00  1.55991031e+00]\n",
      " [-2.27858127e+00 -2.29053788e+00  1.55991031e+00]\n",
      " [-2.27858127e+00 -2.29053788e+00  1.55991031e+00]\n",
      " [-2.27858127e+00 -2.29053788e+00  1.55991031e+00]\n",
      " [-2.27858127e+00 -2.29053788e+00  1.55991031e+00]\n",
      " [-2.27858127e+00 -2.29053788e+00  1.55991031e+00]\n",
      " [-2.27858127e+00 -2.29053788e+00  1.55991031e+00]\n",
      " [-2.27858127e+00 -2.29053788e+00  1.55991031e+00]\n",
      " [-2.27858127e+00 -2.29053788e+00  1.55991031e+00]\n",
      " [-2.27858127e+00 -2.29053788e+00  1.55991031e+00]\n",
      " [-2.27858127e+00 -2.29053788e+00  1.55991031e+00]\n",
      " [-2.27858127e+00 -2.29053788e+00  1.55991031e+00]\n",
      " [-2.27858127e+00 -2.29053788e+00  1.55991031e+00]\n",
      " [-2.27858127e+00 -2.29053788e+00  1.55991031e+00]\n",
      " [-2.27858127e+00 -2.29053788e+00  1.55991031e+00]\n",
      " [-2.27858127e+00 -2.29053788e+00  1.55991031e+00]\n",
      " [-2.27858127e+00 -2.29053788e+00  1.55991031e+00]\n",
      " [-2.27858127e+00 -2.29053788e+00  1.55991031e+00]\n",
      " [-2.27858127e+00 -2.29053788e+00  1.55991031e+00]\n",
      " [-2.27858127e+00 -2.29053788e+00  1.55991031e+00]\n",
      " [-2.27858127e+00 -2.29053788e+00  1.55991031e+00]\n",
      " [-2.27858127e+00 -2.29053788e+00  1.55991031e+00]]\n"
     ]
    }
   ],
   "source": [
    "print(alpha)"
   ]
  },
  {
   "cell_type": "code",
   "execution_count": 15,
   "metadata": {},
   "outputs": [
    {
     "data": {
      "image/png": "[encoded data removed]",
      "text/plain": [
       "<Figure size 864x360 with 1 Axes>"
      ]
     },
     "metadata": {
      "needs_background": "light"
     },
     "output_type": "display_data"
    }
   ],
   "source": [
    "plt.figure(figsize=(12, 5))\n",
    "plt.plot(t, beta)\n",
    "plt.title('Three Correlated Series')\n",
    "plt.show()\n",
    "\n"
   ]
  },
  {
   "cell_type": "code",
   "execution_count": 4,
   "metadata": {},
   "outputs": [
    {
     "data": {
      "image/png": "[encoded data removed]",
      "text/plain": [
       "<Figure size 432x288 with 1 Axes>"
      ]
     },
     "metadata": {
      "needs_background": "light"
     },
     "output_type": "display_data"
    }
   ],
   "source": [
    "from IPython.display import display, clear_output\n",
    "import ipywidgets as widgets\n",
    "import seaborn as sns\n",
    "\n",
    "mydata = {'a': range(3),\n",
    "          'b': range(4),\n",
    "          'c': range(5)}\n",
    "default = 'b'\n",
    "sns.boxplot(data=mydata[default])\n",
    "\n",
    "w = widgets.Dropdown(\n",
    "    options=mydata.keys(),\n",
    "    value = default,\n",
    "    description='List',\n",
    ")\n",
    "display(w)\n",
    "\n",
    "def on_change(change):\n",
    "    if change['name'] == 'value' and (change['new'] != change['old']):\n",
    "        clear_output()\n",
    "        display(w)        \n",
    "        sns.boxplot(data = mydata[change['new']])\n",
    "\n",
    "w.observe(on_change)"
   ]
  },
  {
   "cell_type": "code",
   "execution_count": 6,
   "metadata": {},
   "outputs": [
    {
     "data": {
      "application/vnd.jupyter.widget-view+json": {
       "model_id": "0e80212769544c3dab144165ccce5940",
       "version_major": 2,
       "version_minor": 0
      },
      "text/plain": [
       "Button(description='Button', style=ButtonStyle())"
      ]
     },
     "metadata": {},
     "output_type": "display_data"
    },
    {
     "data": {
      "application/vnd.jupyter.widget-view+json": {
       "model_id": "493bac470bec4371bf79c486c3cb6606",
       "version_major": 2,
       "version_minor": 0
      },
      "text/plain": [
       "Output()"
      ]
     },
     "metadata": {},
     "output_type": "display_data"
    }
   ],
   "source": [
    "%matplotlib inline\n",
    "\n",
    "from matplotlib.pyplot import *\n",
    "import ipywidgets \n",
    "\n",
    "button = ipywidgets.Button(description=\"Button\")\n",
    "out = ipywidgets.Output()\n",
    "\n",
    "def on_button_clicked(b):\n",
    "    with out:\n",
    "        clear_output(True)\n",
    "        plot([1,2],[2,1])\n",
    "        show()\n",
    "\n",
    "button.on_click(on_button_clicked)\n",
    "\n",
    "display(button)\n",
    "\n",
    "with out:\n",
    "    plot([1,2],[1,2])\n",
    "    show()\n",
    "\n",
    "out"
   ]
  }
 ],
 "metadata": {
  "kernelspec": {
   "display_name": "Python 3",
   "language": "python",
   "name": "python3"
  },
  "language_info": {
   "codemirror_mode": {
    "name": "ipython",
    "version": 3
   },
   "file_extension": ".py",
   "mimetype": "text/x-python",
   "name": "python",
   "nbconvert_exporter": "python",
   "pygments_lexer": "ipython3",
   "version": "3.7.6"
  }
 },
 "nbformat": 4,
 "nbformat_minor": 4
}
