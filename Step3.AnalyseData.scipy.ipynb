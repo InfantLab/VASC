{
 "cells": [
  {
   "cell_type": "markdown",
   "metadata": {},
   "source": [
    "# Video Actor Synchroncy and Causality (VASC)\n",
    "## RAEng: Measuring Responsive Caregiving Project\n",
    "### Caspar Addyman, 2020\n",
    "### https://github.com/infantlab/VASC\n",
    "\n",
    "# Step 3: Analyse the data using scipy statsmodels\n",
    "\n",
    "This script correlates and compares the timeseries of wireframes for the two figures in the video `[\"parent\", \"infant\"]`\n",
    "\n",
    "We start by reloading the saved parquet file containing the multi-index numpy array of all [OpenPose](https://github.com/CMU-Perceptual-Computing-Lab/openpose) data from all pairs of individuals. \n",
    "\n"
   ]
  },
  {
   "cell_type": "code",
   "execution_count": 1,
   "metadata": {},
   "outputs": [
    {
     "name": "stdout",
     "output_type": "stream",
     "text": [
      "Automatic pdb calling has been turned ON\n"
     ]
    }
   ],
   "source": [
    "import sys\n",
    "import os\n",
    "import json\n",
    "import math\n",
    "import numpy as np       \n",
    "import pandas as pd\n",
    "import pyarrow.parquet as pq\n",
    "import matplotlib.pyplot as plt\n",
    "%matplotlib inline\n",
    "\n",
    "import logging\n",
    "import ipywidgets as widgets  #let's us add buttons and sliders to this page.\n",
    "from ipycanvas import Canvas\n",
    "\n",
    "import vasc #a module of our own functions (found in vasc.py in this folder)\n",
    "\n",
    "#turn on debugging\n",
    "logger = logging.getLogger()\n",
    "logger.setLevel(logging.INFO)\n",
    "%pdb on"
   ]
  },
  {
   "cell_type": "code",
   "execution_count": 2,
   "metadata": {},
   "outputs": [],
   "source": [
    "jupwd =  os.getcwd() + \"\\\\\"\n",
    "projectpath = os.getcwd() + \"\\\\..\\\\SpeakNSign\\\\\"\n",
    "# projectpath = os.getcwd() + \"\\\\..\\\\lookit\\\\\"\n",
    "\n",
    "# locations of videos and output\n",
    "videos_in = projectpath \n",
    "videos_out   = projectpath + \"out\"\n",
    "#videos_out = \"E:\\\\SpeakNSign\\\\out\"\n",
    "videos_out_openpose   = videos_out + \"\\\\openpose\"\n",
    "videos_out_timeseries = videos_out + \"\\\\timeseries\"\n",
    "videos_out_analyses   = videos_out + \"\\\\analyses\""
   ]
  },
  {
   "cell_type": "markdown",
   "metadata": {},
   "source": [
    "### 3.1 Load the clean data as a DataFrame\n",
    "\n",
    "Reload the clean data file created in step 2. "
   ]
  },
  {
   "cell_type": "code",
   "execution_count": 3,
   "metadata": {},
   "outputs": [
    {
     "name": "stdout",
     "output_type": "stream",
     "text": [
      "Existing clean.json found..\n"
     ]
    }
   ],
   "source": [
    "#retrieve the list of base names of processed videos.\n",
    "try:\n",
    "    with open(videos_out + '\\\\clean.json') as json_file:\n",
    "        videos = json.load(json_file)\n",
    "        print(\"Existing clean.json found..\")\n",
    "except:\n",
    "    print(\"File clean.json not found.\")"
   ]
  },
  {
   "cell_type": "code",
   "execution_count": 4,
   "metadata": {},
   "outputs": [
    {
     "name": "stdout",
     "output_type": "stream",
     "text": [
      "reading parquet file:\n",
      "video     SS003                                                          \\\n",
      "person   infant                                                           \n",
      "coord        0        1         2        3        4         5        6    \n",
      "0       556.540  356.132  0.899432  555.002  395.181  0.469440  547.184   \n",
      "1       555.026  356.080  0.761866  556.577  390.507  0.352666  545.625   \n",
      "2         0.000    0.000  0.000000    0.000    0.000  0.000000    0.000   \n",
      "3       556.507  354.526  0.722555  553.467  395.316  0.331564  556.561   \n",
      "4         0.000    0.000  0.000000    0.000    0.000  0.000000    0.000   \n",
      "\n",
      "video                               ...  SS098                                \\\n",
      "person                              ... parent                                 \n",
      "coord        7         8        9   ...     65   66   67   68   69   70   71   \n",
      "0       382.758  0.336208  515.839  ...    0.0  0.0  0.0  0.0  0.0  0.0  0.0   \n",
      "1       379.606  0.275334  531.538  ...    0.0  0.0  0.0  0.0  0.0  0.0  0.0   \n",
      "2         0.000  0.000000    0.000  ...    0.0  0.0  0.0  0.0  0.0  0.0  0.0   \n",
      "3       392.110  0.232135    0.000  ...    0.0  0.0  0.0  0.0  0.0  0.0  0.0   \n",
      "4         0.000  0.000000    0.000  ...    0.0  0.0  0.0  0.0  0.0  0.0  0.0   \n",
      "\n",
      "video                               \n",
      "person                              \n",
      "coord        72       73        74  \n",
      "0         0.000    0.000  0.000000  \n",
      "1       437.546  370.185  0.108079  \n",
      "2         0.000    0.000  0.000000  \n",
      "3         0.000    0.000  0.000000  \n",
      "4         0.000    0.000  0.000000  \n",
      "\n",
      "[5 rows x 7800 columns]\n"
     ]
    }
   ],
   "source": [
    "print('reading parquet file:')\n",
    "df = pq.read_table(videos_out_timeseries + '\\\\cleandata.parquet').to_pandas()\n",
    "\n",
    "#sort the column names as this helps with indexing\n",
    "df = df.sort_index(axis = 1)\n",
    "print(df.head())"
   ]
  },
  {
   "cell_type": "markdown",
   "metadata": {},
   "source": [
    "## 3.2 Process the data \n",
    "\n",
    "Next we set all 0 values to as missing value `np.nan` to enable interpolation.\n",
    "Then use numpy's built in `interpolate` method. "
   ]
  },
  {
   "cell_type": "code",
   "execution_count": 5,
   "metadata": {},
   "outputs": [],
   "source": [
    "df = df.replace(0.0, np.nan)\n",
    "\n",
    "#are we going to use all the data or a subset?\n",
    "first = 501\n",
    "last = 8500\n",
    "\n",
    "df = df.truncate(before  = first, after = last)"
   ]
  },
  {
   "cell_type": "code",
   "execution_count": 6,
   "metadata": {},
   "outputs": [],
   "source": [
    "df = df.interpolate()"
   ]
  },
  {
   "cell_type": "code",
   "execution_count": 7,
   "metadata": {},
   "outputs": [
    {
     "name": "stdout",
     "output_type": "stream",
     "text": [
      "video     SS003                                                          \\\n",
      "person   infant                                                           \n",
      "coord        0        1         2        3        4         5        6    \n",
      "501     559.714  357.592  0.787151  555.025  396.784  0.356000  555.002   \n",
      "502     559.765  357.602  0.839487  556.574  398.406  0.373636  559.706   \n",
      "503     559.783  357.606  0.777033  556.540  396.856  0.284398  558.187   \n",
      "504     559.736  357.585  0.785370  556.574  398.360  0.346349  558.166   \n",
      "505     559.691  357.645  0.834648  556.556  396.822  0.363410  558.152   \n",
      "\n",
      "video                                  ...  SS098                              \\\n",
      "person                                 ... parent                               \n",
      "coord        7         8           9   ...     65  66  67  68  69  70  71  72   \n",
      "501     393.608  0.236688  512.724000  ...    NaN NaN NaN NaN NaN NaN NaN NaN   \n",
      "502     395.207  0.250447  513.843571  ...    NaN NaN NaN NaN NaN NaN NaN NaN   \n",
      "503     393.708  0.188241  514.963143  ...    NaN NaN NaN NaN NaN NaN NaN NaN   \n",
      "504     393.676  0.233328  516.082714  ...    NaN NaN NaN NaN NaN NaN NaN NaN   \n",
      "505     392.121  0.228091  517.202286  ...    NaN NaN NaN NaN NaN NaN NaN NaN   \n",
      "\n",
      "video           \n",
      "person          \n",
      "coord   73  74  \n",
      "501    NaN NaN  \n",
      "502    NaN NaN  \n",
      "503    NaN NaN  \n",
      "504    NaN NaN  \n",
      "505    NaN NaN  \n",
      "\n",
      "[5 rows x 7800 columns]\n"
     ]
    },
    {
     "data": {
      "text/plain": [
       "(8000, 7800)"
      ]
     },
     "execution_count": 7,
     "metadata": {},
     "output_type": "execute_result"
    }
   ],
   "source": [
    "#take a quick look\n",
    "print(df.head())\n",
    "df.shape"
   ]
  },
  {
   "cell_type": "markdown",
   "metadata": {},
   "source": [
    "### 3.2.1 Mean movements\n",
    "We create a dictionary of the subsets of OpenPose coordinates we want to average and then call `mean` on the Pandas dataframe. e.g.\n",
    "\n",
    "```\n",
    "meanpoints = {\n",
    "               \"headx\" : [0, 3, 45, 48, 51, 54],\n",
    "               \"heady\" : [1, 4, 46, 49, 52, 55],\n",
    "               \"allx\" :  [0, 3, 6, 9, ...],\n",
    "               \"ally\" :  [1, 4, 7, 10, ...]\n",
    "             }\n",
    "```\n",
    "\n",
    "Then we call the `vasc.averageCoordinateTimeSeries` function to average across sets of coordinates. For a given set of videos and people. For example\n",
    "\n",
    "In:\n",
    "```\n",
    "videos = \"All\"\n",
    "people = \"Both\"\n",
    "df2 = vasc.averageCoordinateTimeSeries(df,meanpoints,videos,people)\n",
    "df2.head\n",
    "```\n",
    "\n",
    "Out:\n",
    "```\n",
    "person      infant                                          parent   \n",
    "avgs         headx       heady          xs          ys       headx   \n",
    "501     565.996600  369.840600  534.895615  398.482538  471.686200   \n",
    "502     567.231800  369.887600  534.354198  398.706552  471.849400   \n",
    "503     567.228600  370.159600  534.444328  398.678133  471.711600   \n",
    "504     566.912600  369.857000  535.369536  398.551636  472.309400\n",
    "...            ...         ...         ...         ...         ...\n",
    "```\n"
   ]
  },
  {
   "cell_type": "code",
   "execution_count": 8,
   "metadata": {},
   "outputs": [],
   "source": [
    "meanpoints = {\"head\" : vasc.headxys,\n",
    "              \"headx\": vasc.headx,\n",
    "              \"heady\": vasc.heady,\n",
    "              \"arms\" : vasc.armsxys,\n",
    "              \"armsx\": vasc.armsx,\n",
    "              \"armsy\": vasc.armsy,\n",
    "              \"all\"  : vasc.xys,\n",
    "              \"allx\" : vasc.xs,\n",
    "              \"ally\" : vasc.ys}\n",
    "\n",
    "vids = \"All\"\n",
    "people = [\"infant\",\"parent\"]\n",
    "\n",
    "#average across the points in each group (all points of head etc. )\n",
    "avgdf = vasc.averageCoordinateTimeSeries(df,meanpoints,vids,people)"
   ]
  },
  {
   "cell_type": "code",
   "execution_count": 9,
   "metadata": {},
   "outputs": [
    {
     "data": {
      "text/plain": [
       "<bound method NDFrame.head of video        SS003                                                  \\\n",
       "person      infant                                                   \n",
       "avgs          head       headx       heady        arms       armsx   \n",
       "501     467.918600  565.996600  369.840600  464.463600  526.178200   \n",
       "502     468.559700  567.231800  369.887600  463.025586  523.287914   \n",
       "503     468.694100  567.228600  370.159600  462.667971  523.204629   \n",
       "504     468.384800  566.912600  369.857000  463.712157  525.605343   \n",
       "505     468.539600  566.901600  370.177600  462.892543  523.339857   \n",
       "...            ...         ...         ...         ...         ...   \n",
       "8496    441.726583  527.623667  355.829500  437.275333  477.756333   \n",
       "8497    441.721500  525.792500  357.650500  438.857583  481.399167   \n",
       "8498    441.845083  526.313833  357.376333  436.504500  476.445833   \n",
       "8499    441.857000  526.825833  356.888167  437.139500  477.223667   \n",
       "8500    441.591833  525.014500  358.169167  439.633583  483.230167   \n",
       "\n",
       "video                                                               ...  \\\n",
       "person                                                      parent  ...   \n",
       "avgs         armsy         all        allx        ally        head  ...   \n",
       "501     402.749000  466.689077  534.895615  398.482538  372.051200  ...   \n",
       "502     402.763257  466.530375  534.354198  398.706552  371.981250  ...   \n",
       "503     402.131314  466.561230  534.444328  398.678133  372.065400  ...   \n",
       "504     401.818971  466.960586  535.369536  398.551636  371.916700  ...   \n",
       "505     402.445229  466.821596  534.617359  399.025833  372.058800  ...   \n",
       "...            ...         ...         ...         ...         ...  ...   \n",
       "8496    396.794333  422.315400  450.974987  393.655813  372.277083  ...   \n",
       "8497    396.316000  422.348700  450.868053  393.829347  372.142167  ...   \n",
       "8498    396.563167  420.968060  450.576160  391.359960  372.787083  ...   \n",
       "8499    397.055333  421.153880  450.883640  391.424120  372.923583  ...   \n",
       "8500    396.037000  421.879260  452.208040  391.550480  371.480833  ...   \n",
       "\n",
       "video        SS098                                                  \\\n",
       "person      infant      parent                                       \n",
       "avgs          ally        head       headx       heady        arms   \n",
       "501     285.663409  327.612500  449.524333  205.700667  328.070125   \n",
       "502     283.971258  327.126833  448.506000  205.747667  327.286125   \n",
       "503     282.194561  315.735000  434.417250  197.052750  327.090750   \n",
       "504     282.296523  315.523800  434.722950  196.324650  326.306125   \n",
       "505     281.395076  323.124680  446.193120  200.056240  326.714500   \n",
       "...            ...         ...         ...         ...         ...   \n",
       "8496    254.992846  378.131333  545.084500  211.178167  395.507250   \n",
       "8497    255.769242  377.769000  545.113500  210.424500  391.981750   \n",
       "8498    255.113238  377.888250  545.874167  209.902333  391.066500   \n",
       "8499    256.742838  377.769500  545.639500  209.899500  392.900500   \n",
       "8500    255.492598  377.227833  545.866500  208.589167  392.249667   \n",
       "\n",
       "video                                                               \n",
       "person                                                              \n",
       "avgs         armsx       armsy         all        allx        ally  \n",
       "501     398.737750  257.402500  317.695227  365.890636  269.499818  \n",
       "502     397.189250  257.383000  318.486318  365.900727  271.071909  \n",
       "503     393.655500  260.526000  315.675125  366.915833  264.434417  \n",
       "504     395.229500  257.382750  315.472850  367.410400  263.535300  \n",
       "505     395.645000  257.784000  318.353421  372.261686  264.445157  \n",
       "...            ...         ...         ...         ...         ...  \n",
       "8496    528.657667  262.356833  407.277773  534.596324  279.959222  \n",
       "8497    522.916833  261.046667  406.152420  532.971280  279.333560  \n",
       "8498    521.611667  260.521333  406.181600  533.031680  279.331520  \n",
       "8499    526.047167  259.753833  406.564580  534.413520  278.715640  \n",
       "8500    525.014833  259.484500  405.869320  533.401760  278.336880  \n",
       "\n",
       "[8000 rows x 936 columns]>"
      ]
     },
     "execution_count": 9,
     "metadata": {},
     "output_type": "execute_result"
    }
   ],
   "source": [
    "avgdf.head"
   ]
  },
  {
   "cell_type": "markdown",
   "metadata": {},
   "source": [
    "### 3.2.2 Rolling window of movements\n",
    "\n",
    "One thing we'd like to know is if mothers move in response to infants. The raw time series are probably too noisy to tell us this so instead we can look at few alternatives\n",
    "\n",
    "1. **Smoothed** - if we average the signal over a short rolling window we smooth out any high-frequency jitter. \n",
    "2. **Variance** - the variance of movement over a short rolling window. First we apply 2 second long (50 frame) rolling window to each coordinate of the body and use the stddev or variance function `std()` or `var()` . Then we take averages as in the step above. However, this time we combine x and y coordinates as this is now a movement index.\n",
    "\n",
    "\n"
   ]
  },
  {
   "cell_type": "code",
   "execution_count": 10,
   "metadata": {},
   "outputs": [],
   "source": [
    "win = 50 #2 seconds\n",
    "halfwin = math.floor(win/2)\n",
    "\n",
    "smoothdf = df.rolling(window = 5).mean()\n",
    "smoothdf = smoothdf.truncate(before  = first, after = last)\n",
    "\n",
    "vardf = df.rolling(window = win, min_periods = halfwin).var()\n",
    "vardf = vardf.truncate(before  = first + 50, after = last) # cut out the empty bits at the start\n",
    " \n",
    "smoothdf = vasc.averageCoordinateTimeSeries(smoothdf,meanpoints,vids,people)\n",
    "vardf = vasc.averageCoordinateTimeSeries(vardf,meanpoints,vids,people)"
   ]
  },
  {
   "cell_type": "markdown",
   "metadata": {},
   "source": [
    "Let's create a widget to plot some graphs of the data"
   ]
  },
  {
   "cell_type": "code",
   "execution_count": 32,
   "metadata": {
    "lines_to_next_cell": 0
   },
   "outputs": [
    {
     "data": {
      "application/vnd.jupyter.widget-view+json": {
       "model_id": "17e9c22e5fc243379166f66c44db6b7e",
       "version_major": 2,
       "version_minor": 0
      },
      "text/plain": [
       "Output()"
      ]
     },
     "metadata": {},
     "output_type": "display_data"
    }
   ],
   "source": [
    "vidlist = [] #used to fill dropdown options\n",
    "for vid in videos:  \n",
    "    vidlist.append(vid)\n",
    "        \n",
    "pickvid = widgets.Dropdown(\n",
    "    options= vidlist,\n",
    "    value= vidlist[0],\n",
    "    description='Subject:'\n",
    ")\n",
    "\n",
    "features = []\n",
    "for f in meanpoints:\n",
    "    features.append(f)\n",
    "    \n",
    "pickfeature = widgets.Dropdown(\n",
    "    options= features,\n",
    "    value= features[0],\n",
    "    description='Feature:'\n",
    ")\n",
    "\n",
    "linetypes = [\"Mean point\", \"Smoothed Mean (5 frames)\",\"Variance over 2 secs\"]\n",
    "picktype = widgets.Dropdown(\n",
    "    options= linetypes,\n",
    "    value= linetypes[0],\n",
    "    description='Line type:'\n",
    ")\n",
    "\n",
    "def pickvid_change(change):\n",
    "    if change['name'] == 'value' and (change['new'] != change['old']):\n",
    "        updateAll(True)\n",
    "        \n",
    "def pickfeature_change(change):\n",
    "    if change['name'] == 'value' and (change['new'] != change['old']):\n",
    "        updateAll(True)\n",
    "\n",
    "def picktype_change(change):\n",
    "    if change['name'] == 'value' and (change['new'] != change['old']):\n",
    "        updateAll(True)\n",
    "        \n",
    "pickvid.observe(pickvid_change, 'value') \n",
    "pickfeature.observe(pickfeature_change, 'value') \n",
    "picktype.observe(picktype_change, 'value') \n",
    "button_update = widgets.Button(description=\"Redraw\")\n",
    "output = widgets.Output()\n",
    "\n",
    "\n",
    "def drawGraphs(vid, feature, linetype):\n",
    "    \"\"\"Plot input signals\"\"\"\n",
    "    plt.ion()\n",
    "\n",
    "    f,ax=plt.subplots(4,1,figsize=(14,10),sharex=True)\n",
    "    ax[0].set_title('Infant')\n",
    "    ax[1].set_title('Parent')\n",
    "    ax[1].set_xlabel('Frames')\n",
    "\n",
    "    who = [\"infant\",\"parent\"]\n",
    "\n",
    "    if linetype == linetypes[0]:\n",
    "        usedf = avgdf\n",
    "    elif linetype == linetypes[1]:\n",
    "        usedf = smoothdf\n",
    "    else:\n",
    "        usedf = vardf\n",
    "        \n",
    "    #to select a single column..\n",
    "    infant = usedf[(vid, people[0], feature)].to_frame()\n",
    "    parent = usedf[(vid, people[1], feature)].to_frame()\n",
    "    n  = np.arange(usedf.shape[0])\n",
    "    \n",
    "    #selecting multiple columns slightly messier\n",
    "    #infant = df3.loc[50:,(vid, part[0], ('head','arms', 'all'))]\n",
    "    #parent = df3.loc[50:,(vid, part[1], ('head','arms', 'all'))]\n",
    "\n",
    "    ax[0].plot(n,infant)\n",
    "    ax[1].plot(n,parent, color='b')\n",
    "    \n",
    "    #calculate the correlations in a shorter rolling window\n",
    "    r_window_size = 120\n",
    "    rolling_r = usedf[(vid, who[0], feature)].rolling(window=r_window_size, center=True).corr(vardf[(vid, who[1], feature)])\n",
    "\n",
    "\n",
    "    usedf.loc[:,(vid, slice(None), feature)].plot(ax=ax[2])\n",
    "    ax[2].set(xlabel='Frame',ylabel='Movement index for parent and infant')\n",
    "\n",
    "    rolling_r.plot(ax=ax[3])\n",
    "    ax[3].set(xlabel='Frame',ylabel='Pearson r')\n",
    "    ax[3].set_title(\"Local correlation with rolling window size \" + str(r_window_size))\n",
    "\n",
    "    plt.show() \n",
    "\n",
    "def updateAll(forceUpdate = False):\n",
    "    output.clear_output(wait = True)\n",
    "    if forceUpdate:\n",
    "        logging.debug('forceUpdate')\n",
    "        #slider.value = 0\n",
    "        #slider.max = videos[pickvid.value][pickcam.value][\"end\"]\n",
    "    with output:\n",
    "        display(pickvid,pickfeature,picktype,button_update)  \n",
    "        drawGraphs(pickvid.value,pickfeature.value,picktype.value)\n",
    "    \n",
    "#draw everything for first time\n",
    "updateAll(True)\n",
    "output"
   ]
  },
  {
   "cell_type": "markdown",
   "metadata": {},
   "source": [
    "### 3.3 Movement analysis\n",
    "\n",
    "First we run some simple correlations between the mother and infant."
   ]
  },
  {
   "cell_type": "code",
   "execution_count": 12,
   "metadata": {},
   "outputs": [
    {
     "name": "stdout",
     "output_type": "stream",
     "text": [
      "<class 'pandas.core.frame.DataFrame'>\n"
     ]
    }
   ],
   "source": [
    "infant = vardf[(vid, people[0], 'head')].to_frame()\n",
    "infant.head\n",
    "print(type(infant))"
   ]
  },
  {
   "cell_type": "code",
   "execution_count": 13,
   "metadata": {},
   "outputs": [
    {
     "data": {
      "text/plain": [
       "0.1577043484821421"
      ]
     },
     "execution_count": 13,
     "metadata": {},
     "output_type": "execute_result"
    }
   ],
   "source": [
    "vid = \"SS003\"\n",
    "vardf[(vid, people[0], 'head')].corr(vardf[(vid, people[1], 'head')]) "
   ]
  },
  {
   "cell_type": "code",
   "execution_count": 14,
   "metadata": {},
   "outputs": [],
   "source": [
    "who = [\"infant\",\"parent\"]\n",
    "parts = [\"head\",\"arms\",\"all\"]\n",
    "results = pd.DataFrame(columns = (\"corrHead\",\"lagHead\",\"corrArms\",\"lagArms\",\"corrAll\",\"lagAll\",\"DyadSynScore\"),\n",
    "                      index = videos)"
   ]
  },
  {
   "cell_type": "code",
   "execution_count": 15,
   "metadata": {},
   "outputs": [],
   "source": [
    "#loop through colculate for each pair\n",
    "for vid in videos:\n",
    "    thisrow = []\n",
    "    for part in parts:\n",
    "        #to select a single column..\n",
    "        pearson = vardf[(vid, people[0], part)].corr(vardf[(vid, people[1], part)])\n",
    " \n",
    "        thisrow.append(pearson) #this is for correlation\n",
    "        thisrow.append(None) #this is for maximum lag\n",
    "    \n",
    "    thisrow.append(None) #don't have DyadSynScore yet \n",
    "    results.loc[vid] = thisrow"
   ]
  },
  {
   "cell_type": "code",
   "execution_count": null,
   "metadata": {},
   "outputs": [],
   "source": [
    "#take a quick look\n",
    "results"
   ]
  },
  {
   "cell_type": "markdown",
   "metadata": {},
   "source": [
    "## 3.4 Comparing to human coding. \n",
    "\n",
    "We have a spreadsheet of syhnchrony scores for each parent infant dyad. Here we see if we can find a measure that correlates with the human scores.\n",
    "\n",
    "First, load up the spreadsheet.."
   ]
  },
  {
   "cell_type": "code",
   "execution_count": 16,
   "metadata": {
    "lines_to_next_cell": 2
   },
   "outputs": [],
   "source": [
    "excelpath = projectpath + \"\\\\SS_CARE.xlsx\"\n",
    "\n",
    "filename, file_format = os.path.splitext(excelpath)\n",
    "if file_format and file_format == 'xls':\n",
    "    # use default reader \n",
    "    videolist = pd.read_excel(excelpath)\n",
    "else: \n",
    "    #since dec 2020 read_excel no longer supports xlsx (!?) so need to use openpyxl like so..\n",
    "    videolist = pd.read_excel(excelpath, engine = \"openpyxl\")\n",
    "    \n",
    "videolist = videolist.set_index(\"subject\")"
   ]
  },
  {
   "cell_type": "code",
   "execution_count": null,
   "metadata": {},
   "outputs": [],
   "source": [
    "#take a quick look\n",
    "videolist"
   ]
  },
  {
   "cell_type": "code",
   "execution_count": 17,
   "metadata": {},
   "outputs": [],
   "source": [
    "#copy the dyad syncrhony and maternal sensitivity scores into our data frame.\n",
    "results[\"DyadSynScore\"] = videolist[\"DyadSyn\"]\n",
    "results[\"MatSensScore\"] = videolist[\"MatSens\"]"
   ]
  },
  {
   "cell_type": "code",
   "execution_count": null,
   "metadata": {},
   "outputs": [],
   "source": [
    "#take a quick look\n",
    "results"
   ]
  },
  {
   "cell_type": "code",
   "execution_count": 20,
   "metadata": {},
   "outputs": [
    {
     "data": {
      "image/png": "[encoded data removed]",
      "text/plain": [
       "<Figure size 432x288 with 1 Axes>"
      ]
     },
     "metadata": {
      "needs_background": "light"
     },
     "output_type": "display_data"
    }
   ],
   "source": [
    "#scatter plots of these results. \n",
    "plt.scatter(results[\"DyadSynScore\"],results[\"corrArms\"], )\n",
    "plt.title(\"Correlation between expert rated synchrony and time series correlations\")\n",
    "plt.xlabel(\"Dyad Synchroncy Score\")\n",
    "plt.ylabel(\"Dyad Correlation\")\n",
    "plt.show()"
   ]
  },
  {
   "cell_type": "markdown",
   "metadata": {},
   "source": []
  },
  {
   "cell_type": "code",
   "execution_count": 24,
   "metadata": {},
   "outputs": [
    {
     "data": {
      "text/plain": [
       "0.18970482618748924"
      ]
     },
     "execution_count": 24,
     "metadata": {},
     "output_type": "execute_result"
    }
   ],
   "source": [
    "rolling_r.mean()"
   ]
  },
  {
   "cell_type": "markdown",
   "metadata": {},
   "source": [
    "So "
   ]
  },
  {
   "cell_type": "code",
   "execution_count": 26,
   "metadata": {},
   "outputs": [
    {
     "name": "stderr",
     "output_type": "stream",
     "text": [
      "<ipython-input-26-518f111a6da2>:34: UserWarning: FixedFormatter should only be used together with FixedLocator\n",
      "  ax.set_xticklabels([int(item-150) for item in ax.get_xticks()]);\n"
     ]
    },
    {
     "data": {
      "text/plain": [
       "<matplotlib.legend.Legend at 0x1f8bd45ed90>"
      ]
     },
     "execution_count": 26,
     "metadata": {},
     "output_type": "execute_result"
    },
    {
     "data": {
      "image/png": "[encoded data removed]",
      "text/plain": [
       "<Figure size 1008x216 with 1 Axes>"
      ]
     },
     "metadata": {
      "needs_background": "light"
     },
     "output_type": "display_data"
    }
   ],
   "source": [
    "\n",
    "\n",
    "d1 = vardf[(vid, who[0], parts[0])]\n",
    "d2 = vardf[(vid, who[1], parts[0])]\n",
    "seconds = 5\n",
    "fps = 25\n",
    "wholeads = who[0] + 'leads <> ' + who[1] + ' leads'\n",
    "rs = [vasc.crosscorr(d1,d2, lag) for lag in range(-int(seconds*fps-1),int(seconds*fps))]\n",
    "offset = np.ceil(len(rs)/2)-np.argmax(rs)\n",
    "f,ax=plt.subplots(figsize=(14,3))\n",
    "ax.plot(rs)\n",
    "ax.axvline(np.ceil(len(rs)/2),color='k',linestyle='--',label='Center')\n",
    "ax.axvline(np.argmax(rs),color='r',linestyle='--',label='Peak synchrony')\n",
    "ax.set(title=f'Offset = {offset} frames\\n' + wholeads,ylim=[.0,1],xlim=[0,300], xlabel='Offset',ylabel='Pearson r')\n",
    "ax.set_xticklabels([int(item-150) for item in ax.get_xticks()]);\n",
    "plt.legend()"
   ]
  },
  {
   "cell_type": "markdown",
   "metadata": {},
   "source": [
    "## 3.4 Granger Causality\n",
    "\n",
    "The next thing to look at is if the movements of the infant predict the movements of the parent. This would suggest parent is responding to the infant. \n"
   ]
  },
  {
   "cell_type": "code",
   "execution_count": null,
   "metadata": {
    "lines_to_next_cell": 0
   },
   "outputs": [],
   "source": [
    "\n",
    "https://towardsdatascience.com/granger-causality-and-vector-auto-regressive-model-for-time-series-forecasting-3226a64889a6\n",
    "\n",
    "https://www.machinelearningplus.com/time-series/time-series-analysis-python/\n",
    "    \n",
    "https://towardsdatascience.com/four-ways-to-quantify-synchrony-between-time-series-data-b99136c4a9c9\n",
    "    "
   ]
  },
  {
   "cell_type": "code",
   "execution_count": null,
   "metadata": {},
   "outputs": [],
   "source": []
  },
  {
   "cell_type": "code",
   "execution_count": null,
   "metadata": {
    "lines_to_next_cell": 2
   },
   "outputs": [],
   "source": []
  }
 ],
 "metadata": {
  "jupytext": {
   "formats": "ipynb,py:light"
  },
  "kernelspec": {
   "display_name": "Python 3",
   "language": "python",
   "name": "python3"
  },
  "language_info": {
   "codemirror_mode": {
    "name": "ipython",
    "version": 3
   },
   "file_extension": ".py",
   "mimetype": "text/x-python",
   "name": "python",
   "nbconvert_exporter": "python",
   "pygments_lexer": "ipython3",
   "version": "3.8.5"
  }
 },
 "nbformat": 4,
 "nbformat_minor": 4
}
