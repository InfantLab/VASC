{
 "cells": [
  {
   "cell_type": "markdown",
   "metadata": {},
   "source": [
    "# Video Actor Synchroncy and Causality (VASC)\n",
    "## RAEng: Measuring Responsive Caregiving Project\n",
    "### Caspar Addyman, 2020\n",
    "### https://github.com/infantlab/VASC\n",
    "\n",
    "# Step 2: Reorganise the OpenPose JSON wire frame data\n",
    "\n",
    "This script uses output from [OpenPose](https://github.com/CMU-Perceptual-Computing-Lab/openpose) human figure recognition neural network to create labeled wireframes for each figure in each frame of a video. \n",
    "\n",
    "\n",
    "The `write_json flag` saves the people pose data using a custom JSON writer. Each JSON file has a set of coordinates and confidence scores for each person identified in the frame. For a given person there is:\n",
    "\n",
    "> An array pose_keypoints_2d containing the body part locations and detection confidence formatted as x1,y1,c1,x2,y2,c2,.... The coordinates x and y can be normalized to the range [0,1], [-1,1], [0, source size], [0, output size], etc., depending on the flag keypoint_scale (see flag for more information), while c is the confidence score in the range [0,1].\n",
    "\n",
    "<img src=\"keypoints_pose_25.png\" alt=\"BODY-25 mapping\" width=\"240\"/>"
   ]
  },
  {
   "cell_type": "markdown",
   "metadata": {},
   "source": [
    "### 2.1 - import modules and initialise variables"
   ]
  },
  {
   "cell_type": "code",
   "execution_count": 1,
   "metadata": {},
   "outputs": [
    {
     "name": "stdout",
     "output_type": "stream",
     "text": [
      "Automatic pdb calling has been turned ON\n"
     ]
    }
   ],
   "source": [
    "import os                #operating system functions\n",
    "import math              #simple math\n",
    "import glob              #file listing\n",
    "import json              #importing and exporting json files \n",
    "import cv2               #computervision toolkit\n",
    "import numpy as np       #tools for numerical data\n",
    "import pandas as pd      \n",
    "import logging\n",
    "import ipywidgets as widgets  #let's us add buttons and sliders to this page.\n",
    "from ipycanvas import Canvas\n",
    "\n",
    "\n",
    "import matplotlib.pyplot as plt\n",
    "%matplotlib inline\n",
    "\n",
    "import vasc #a module of our own functions (found in vasc.py in this folder)\n",
    "\n",
    "#turn on debugging\n",
    "logger = logging.getLogger()\n",
    "logger.setLevel(logging.INFO)\n",
    "%pdb on   "
   ]
  },
  {
   "cell_type": "markdown",
   "metadata": {},
   "source": [
    "#### 2.1.1 - anonymise the videos?\n",
    "\n",
    "Setting the `anon` flag to \n",
    "\n",
    "* `True` - we will not display just the wireframes on black backround without the underlying images from the video. \n",
    "* `False` - we will *attempt to* draw video images - If videos are not available we fall back to anonymous mode "
   ]
  },
  {
   "cell_type": "code",
   "execution_count": 2,
   "metadata": {},
   "outputs": [],
   "source": [
    "anon = False"
   ]
  },
  {
   "cell_type": "markdown",
   "metadata": {},
   "source": [
    "### 2.2 - Where are the data?\n",
    "\n",
    "This routine only needs to know where to find the processed data  and what are the base names. The summary information is listed in the `videos.json` file we created. The raw numerical data is in `allframedata.npz`."
   ]
  },
  {
   "cell_type": "code",
   "execution_count": 3,
   "metadata": {},
   "outputs": [
    {
     "name": "stdout",
     "output_type": "stream",
     "text": [
      "C:\\Users\\cas\\OneDrive - Goldsmiths College\\Projects\\Measuring Responsive Caregiving\\VASC\\..\\lookit\\out\\openpose\n",
      "C:\\Users\\cas\\OneDrive - Goldsmiths College\\Projects\\Measuring Responsive Caregiving\\VASC\\..\\lookit\\out\\timeseries\n",
      "C:\\Users\\cas\\OneDrive - Goldsmiths College\\Projects\\Measuring Responsive Caregiving\\VASC\\..\\lookit\\out\\analyses\n"
     ]
    }
   ],
   "source": [
    "# where's the project folder?\n",
    "jupwd =  os.getcwd() + \"\\\\\"\n",
    "projectpath = os.getcwd() + \"\\\\..\\\\lookit\\\\\"\n",
    "\n",
    "# locations of videos and output\n",
    "videos_in = projectpath \n",
    "videos_out   = projectpath + \"out\"\n",
    "videos_out_openpose   = videos_out + \"\\\\openpose\"\n",
    "videos_out_timeseries = videos_out + \"\\\\timeseries\"\n",
    "videos_out_analyses   = videos_out + \"\\\\analyses\"\n",
    "\n",
    "print(videos_out_openpose)\n",
    "print(videos_out_timeseries)\n",
    "print(videos_out_analyses)"
   ]
  },
  {
   "cell_type": "code",
   "execution_count": 4,
   "metadata": {},
   "outputs": [],
   "source": [
    "#retrieve the list of base names of processed videos.\n",
    "with open(videos_out + '\\\\videos.json') as json_file:\n",
    "    videos = json.load(json_file)"
   ]
  },
  {
   "cell_type": "code",
   "execution_count": 4,
   "metadata": {},
   "outputs": [
    {
     "name": "stdout",
     "output_type": "stream",
     "text": [
      "lookit.01\n",
      "{'fullname': 'lookit.01.mp4', 'fullpath': 'C:\\\\Users\\\\Cas\\\\OneDrive - Goldsmiths College\\\\Projects\\\\Measuring Responsive Caregiving\\\\lookit\\\\lookit.01.mp4', 'index': 0, 'format': '.mp4', 'openpose': {'exitcode': 0, 'when': '2020-02-24T10:33:45.063115', 'out': 'C:\\\\Users\\\\Cas\\\\OneDrive - Goldsmiths College\\\\Projects\\\\Measuring Responsive Caregiving\\\\lookit\\\\out\\\\openpose\\\\lookit.01_output.avi'}, 'height': 480, 'width': 640, 'fps': 15, 'n_frames': 162, 'frames': 162, 'maxpeople': 4, 'start': 0, 'end': 161}\n",
      "lookit.02\n",
      "{'fullname': 'lookit.02.mp4', 'fullpath': 'C:\\\\Users\\\\Cas\\\\OneDrive - Goldsmiths College\\\\Projects\\\\Measuring Responsive Caregiving\\\\lookit\\\\lookit.02.mp4', 'index': 1, 'format': '.mp4', 'openpose': {'exitcode': 0, 'when': '2020-02-24T10:33:56.472137', 'out': 'C:\\\\Users\\\\Cas\\\\OneDrive - Goldsmiths College\\\\Projects\\\\Measuring Responsive Caregiving\\\\lookit\\\\out\\\\openpose\\\\lookit.02_output.avi'}, 'height': 480, 'width': 640, 'fps': 19, 'n_frames': 162, 'frames': 161, 'maxpeople': 2, 'start': 0, 'end': 160}\n",
      "lookit.03\n",
      "{'fullname': 'lookit.03.mp4', 'fullpath': 'C:\\\\Users\\\\Cas\\\\OneDrive - Goldsmiths College\\\\Projects\\\\Measuring Responsive Caregiving\\\\lookit\\\\lookit.03.mp4', 'index': 2, 'format': '.mp4', 'openpose': {'exitcode': 0, 'when': '2020-02-24T10:34:08.445698', 'out': 'C:\\\\Users\\\\Cas\\\\OneDrive - Goldsmiths College\\\\Projects\\\\Measuring Responsive Caregiving\\\\lookit\\\\out\\\\openpose\\\\lookit.03_output.avi'}, 'height': 480, 'width': 640, 'fps': 13, 'n_frames': 164, 'frames': 164, 'maxpeople': 3, 'start': 0, 'end': 163}\n",
      "lookit.04\n",
      "{'fullname': 'lookit.04.mp4', 'fullpath': 'C:\\\\Users\\\\Cas\\\\OneDrive - Goldsmiths College\\\\Projects\\\\Measuring Responsive Caregiving\\\\lookit\\\\lookit.04.mp4', 'index': 3, 'format': '.mp4', 'openpose': {'exitcode': 0, 'when': '2020-02-24T10:34:31.370322', 'out': 'C:\\\\Users\\\\Cas\\\\OneDrive - Goldsmiths College\\\\Projects\\\\Measuring Responsive Caregiving\\\\lookit\\\\out\\\\openpose\\\\lookit.04_output.avi'}, 'height': 480, 'width': 640, 'fps': 29, 'n_frames': 379, 'frames': 379, 'maxpeople': 3, 'start': 0, 'end': 378}\n",
      "lookit.05\n",
      "{'fullname': 'lookit.05.mp4', 'fullpath': 'C:\\\\Users\\\\Cas\\\\OneDrive - Goldsmiths College\\\\Projects\\\\Measuring Responsive Caregiving\\\\lookit\\\\lookit.05.mp4', 'index': 4, 'format': '.mp4', 'openpose': {'exitcode': 0, 'when': '2020-02-24T10:34:55.950875', 'out': 'C:\\\\Users\\\\Cas\\\\OneDrive - Goldsmiths College\\\\Projects\\\\Measuring Responsive Caregiving\\\\lookit\\\\out\\\\openpose\\\\lookit.05_output.avi'}, 'height': 480, 'width': 640, 'fps': 30, 'n_frames': 412, 'frames': 412, 'maxpeople': 4, 'start': 0, 'end': 411}\n",
      "lookit.06\n",
      "{'fullname': 'lookit.06.mp4', 'fullpath': 'C:\\\\Users\\\\Cas\\\\OneDrive - Goldsmiths College\\\\Projects\\\\Measuring Responsive Caregiving\\\\lookit\\\\lookit.06.mp4', 'index': 5, 'format': '.mp4', 'openpose': {'exitcode': 0, 'when': '2020-02-24T10:35:11.741776', 'out': 'C:\\\\Users\\\\Cas\\\\OneDrive - Goldsmiths College\\\\Projects\\\\Measuring Responsive Caregiving\\\\lookit\\\\out\\\\openpose\\\\lookit.06_output.avi'}, 'height': 480, 'width': 640, 'fps': 29, 'n_frames': 229, 'frames': 229, 'maxpeople': 4, 'start': 0, 'end': 228}\n",
      "lookit.07\n",
      "{'fullname': 'lookit.07.mp4', 'fullpath': 'C:\\\\Users\\\\Cas\\\\OneDrive - Goldsmiths College\\\\Projects\\\\Measuring Responsive Caregiving\\\\lookit\\\\lookit.07.mp4', 'index': 6, 'format': '.mp4', 'openpose': {'exitcode': 0, 'when': '2020-02-24T10:35:30.138330', 'out': 'C:\\\\Users\\\\Cas\\\\OneDrive - Goldsmiths College\\\\Projects\\\\Measuring Responsive Caregiving\\\\lookit\\\\out\\\\openpose\\\\lookit.07_output.avi'}, 'height': 480, 'width': 640, 'fps': 29, 'n_frames': 282, 'frames': 282, 'maxpeople': 3, 'start': 0, 'end': 281}\n",
      "lookit.08\n",
      "{'fullname': 'lookit.08.mp4', 'fullpath': 'C:\\\\Users\\\\Cas\\\\OneDrive - Goldsmiths College\\\\Projects\\\\Measuring Responsive Caregiving\\\\lookit\\\\lookit.08.mp4', 'index': 7, 'format': '.mp4', 'openpose': {'exitcode': 0, 'when': '2020-02-24T10:35:45.647647', 'out': 'C:\\\\Users\\\\Cas\\\\OneDrive - Goldsmiths College\\\\Projects\\\\Measuring Responsive Caregiving\\\\lookit\\\\out\\\\openpose\\\\lookit.08_output.avi'}, 'height': 480, 'width': 640, 'fps': 29, 'n_frames': 222, 'frames': 222, 'maxpeople': 3, 'start': 0, 'end': 221}\n",
      "lookit.09\n",
      "{'fullname': 'lookit.09.mp4', 'fullpath': 'C:\\\\Users\\\\Cas\\\\OneDrive - Goldsmiths College\\\\Projects\\\\Measuring Responsive Caregiving\\\\lookit\\\\lookit.09.mp4', 'index': 8, 'format': '.mp4', 'openpose': {'exitcode': 0, 'when': '2020-02-24T10:36:03.348819', 'out': 'C:\\\\Users\\\\Cas\\\\OneDrive - Goldsmiths College\\\\Projects\\\\Measuring Responsive Caregiving\\\\lookit\\\\out\\\\openpose\\\\lookit.09_output.avi'}, 'height': 480, 'width': 640, 'fps': 30, 'n_frames': 245, 'frames': 245, 'maxpeople': 3, 'start': 0, 'end': 244}\n",
      "lookit.10\n",
      "{'fullname': 'lookit.10.mp4', 'fullpath': 'C:\\\\Users\\\\Cas\\\\OneDrive - Goldsmiths College\\\\Projects\\\\Measuring Responsive Caregiving\\\\lookit\\\\lookit.10.mp4', 'index': 9, 'format': '.mp4', 'openpose': {'exitcode': 0, 'when': '2020-02-24T10:36:21.183036', 'out': 'C:\\\\Users\\\\Cas\\\\OneDrive - Goldsmiths College\\\\Projects\\\\Measuring Responsive Caregiving\\\\lookit\\\\out\\\\openpose\\\\lookit.10_output.avi'}, 'height': 480, 'width': 640, 'fps': 29, 'n_frames': 259, 'frames': 259, 'maxpeople': 3, 'start': 0, 'end': 258}\n"
     ]
    }
   ],
   "source": [
    "#optional - check the json\n",
    "for vid in videos:  \n",
    "    print(vid)\n",
    "    print(videos[vid])"
   ]
  },
  {
   "cell_type": "code",
   "execution_count": 5,
   "metadata": {},
   "outputs": [],
   "source": [
    "#can reload the values without recomputing\n",
    "reloaded = np.load('allframedata.npz')\n",
    "keypoints_original = reloaded[\"keypoints_array\"]\n",
    "keypoints_array = np.copy(keypoints_original)"
   ]
  },
  {
   "cell_type": "code",
   "execution_count": 6,
   "metadata": {},
   "outputs": [
    {
     "data": {
      "text/plain": [
       "(10, 412, 4, 75)"
      ]
     },
     "execution_count": 6,
     "metadata": {},
     "output_type": "execute_result"
    }
   ],
   "source": [
    "keypoints_array.shape"
   ]
  },
  {
   "cell_type": "markdown",
   "metadata": {},
   "source": [
    "### Step 2.3 Clean the data\n",
    "\n",
    "We now have an numpy array called `keypoints_array` containing all the openpose numbers for all videos. Now we need to do some cleaning of the data. We provide set of tools to do this. There are several tasks we need to do.\n",
    "\n",
    "1. Tag the first and last frames of interest. \n",
    "2. Tag the adult & infant in first frame of interest. So both individuals should be in first frame.\n",
    "3. Try to automatically tag then in subsequent frames.\n",
    "4. Manually fix anything the automatic process gets wrong.\n",
    "5. Exclude other detected people (3rd parties & false positives)\n"
   ]
  },
  {
   "cell_type": "markdown",
   "metadata": {},
   "source": [
    "### Step 2.3.1: Where does the interesting data start and end?\n",
    "\n",
    "For many videos, the period of interest might start (and end) some time into the video. For now we are using the whole video .\n",
    "TODO  - We wiil give the user the opportunity to set these.\n"
   ]
  },
  {
   "cell_type": "code",
   "execution_count": 7,
   "metadata": {},
   "outputs": [],
   "source": [
    "#let's loop through the processed list and set and startframe and endframe for each video\n",
    "# for the moment we'll just use the full video.\n",
    "# TODO - we will let the use specify this per video \n",
    "for vid in videos:\n",
    "    videos[vid][\"start\"] = 0\n",
    "    videos[vid][\"end\"] = videos[vid][\"frames\"] -1"
   ]
  },
  {
   "cell_type": "markdown",
   "metadata": {},
   "source": [
    "### Step 2.3.2: Tag the actors of interest at start\n",
    "\n",
    "We want to know which person is the adult and which is the infant in the first frame. We want the child to be Person 0 and Adult to be Person 1. The buttons below provide the choice to swap data series so that this is correct.\n",
    "\n",
    "For example, if child data starts in series 3, we pick 3 in the drop down list next to button `Swap to child (0)` and then press the button. This will swap these two series.\n",
    "\n",
    "This function operates beyond the current frame so it's possible to use it multiple times if data jumps around. However, there is a short cut for part of this process.."
   ]
  },
  {
   "cell_type": "markdown",
   "metadata": {},
   "source": [
    "### Step 2.3.3: Track actors frame by frame\n",
    "\n",
    "At present OpenPose doesn't track individuals from one frame to the next (I believe they are working on this). It just labels each person in each frame. This means that Person 1 in frame 1 might become Person 2 by frame 100. Here we provide some tools that automatically trying to guess who is who. This is tricky so we also ask for human input. \n",
    "\n",
    "Once the child and adult data start in series 0 and 1 respectively, press the `Auto fix` button.\n",
    "\n",
    "If this leaves a few errors we can move slider to affected frame and use the swap series function to manually correct."
   ]
  },
  {
   "cell_type": "markdown",
   "metadata": {},
   "source": [
    "### Step 2.3.4: Exclude other people\n",
    "\n",
    "Finally we can delete any people in background or false positives (ghosts) detected by OpenPose. We simply set these to zero."
   ]
  },
  {
   "cell_type": "code",
   "execution_count": 8,
   "metadata": {},
   "outputs": [],
   "source": [
    "def swapSeries(keypoints_array,vidx,pers1,pers2,start,end):\n",
    "    \"\"\"helper function for swapping sections of time series. This is useful because openpose isn't\n",
    "       consistent in labelling people so we need to rearrange things.\n",
    "    Args:\n",
    "        keypoints_array: all the data.\n",
    "        vidx: which video? - specifies first dimension of array\n",
    "        pers1: which people to swap 1\n",
    "        pers2: which people to swap 2\n",
    "        start: where in time series do we start? (TODO can be blank - start at beginning)\n",
    "        end: where in time series do we end? (TODO can be blank - to end)\n",
    "    Returns:\n",
    "        a rearranged keypoints_array\n",
    "    \"\"\"\n",
    "    temp = np.copy(keypoints_array[vidx,start:end,pers1,:])  #temporary copy pers1 \n",
    "    keypoints_array[vidx,start:end,pers1,:] = keypoints_array[vidx,start:end,pers2,:] #pers2 to pers 1\n",
    "    keypoints_array[vidx,start:end,pers2,:] = temp\n",
    "    \n",
    "    return keypoints_array\n",
    "        \n",
    "def deleteSeries(keypoints_array,vidx,pers,start,end):\n",
    "    \"\"\"helper function for deleting time series that aren't parent or child.\n",
    "    Args:\n",
    "        keypoints_array: all the data.\n",
    "        vidx: which video? - specifies first dimension of array\n",
    "        pers: which person to delete\n",
    "        start: where in time series do we start? (TODO can be blank - start at beginning)\n",
    "        end: where in time series do we end? (TODO can be blank - to end)\n",
    "    Returns:\n",
    "        a rearranged keypoints_array\n",
    "    \"\"\"\n",
    "    #simply set all these values to zero\n",
    "    keypoints_array[vidx,start:end,pers,:] = 0\n",
    "    #TODO - update the corresponding json file.\n",
    "    return keypoints_array\n",
    "    \n",
    "def fixpeopleSeries(keypoints_array,vidx,people, start, end):\n",
    "    \"\"\" openpose isn't consistent in labelling people (person 1 could be labeled pers 2 in next frame).\n",
    "    So we go through frame by frame and label people in new frame with index of nearest person from previous frame. This *should* fix things.\n",
    "    I have horrible feeling it will get messed up by missing data. Let's find out..\n",
    "    Args:\n",
    "        keypoints_array: all the data.\n",
    "        vidx: which video? - specifies first dimension of array\n",
    "        people: list of all people we are comparing. \n",
    "        start: where in time series do we start? (TODO can be blank - start at beginning)\n",
    "        end: where in time series do we end? (TODO can be blank - to end)\n",
    "    Returns:\n",
    "        a rearranged keypoints_array\n",
    "    \"\"\"\n",
    "    #This may get messy!\n",
    "    for f in range(start,end-1):\n",
    "        print (\"frame \", '{:4d}'.format(f))\n",
    "        # we loop through all pairs of people\n",
    "        for p1 in range(len(people)-1):\n",
    "            r1 = people[p1] #what row is this?\n",
    "            whosleft = range(p1,len(people))\n",
    "            delta = {}\n",
    "            for p2 in whosleft: \n",
    "                r2 = people[p2] #what row is this?\n",
    "                delta[p2] = vasc.diffKeypoints(keypoints_array[vidx,f,p1,:],keypoints_array[vidx,f+1,p2,:],vasc.xys)\n",
    "                print(p1,p2,np.nansum(delta[p2]),any(np.isfinite(delta[p2])))\n",
    "            #this next line finds the minimum & non-null value\n",
    "            key_min = min(np.nansum(delta.keys()), key=(lambda k: delta[k]))\n",
    "            print (key_min)\n",
    "            if key_min != p1:\n",
    "                #swap the rest of series between these two \n",
    "                keypoints_array = swapSeries(keypoints_array,vidx,p1,key_min,f+1,end)\n"
   ]
  },
  {
   "cell_type": "code",
   "execution_count": 9,
   "metadata": {},
   "outputs": [
    {
     "data": {
      "application/vnd.jupyter.widget-view+json": {
       "model_id": "bee299a5344c464786ea551464e5c3a0",
       "version_major": 2,
       "version_minor": 0
      },
      "text/plain": [
       "Output()"
      ]
     },
     "metadata": {},
     "output_type": "display_data"
    }
   ],
   "source": [
    "canvas = Canvas(width=800, height=600)\n",
    "\n",
    "vidlist = [] #useful for displaying\n",
    "for vid in videos:  \n",
    "    vidlist.append(vid)\n",
    "\n",
    "pickvid = widgets.Dropdown(\n",
    "    options= vidlist,\n",
    "    value= vidlist[0],\n",
    "    description='Select video:'\n",
    ")\n",
    "\n",
    "#pressing this button swaps one set of data to be index 0 - default for child.\n",
    "button_swapchild = widgets.Button(description=\"Swap to child (0)\")\n",
    "child = widgets.Dropdown(\n",
    "    options = list(range(4)),\n",
    "    value= 0,\n",
    "    description='Set: '\n",
    ")\n",
    "babybox = widgets.HBox([button_swapchild, child])\n",
    "adult = widgets.Dropdown(\n",
    "    options = list(range(4)),\n",
    "    value= 1,\n",
    "    description='Set: '\n",
    ")\n",
    "button_swapadult = widgets.Button(description=\"Swap to adult (1)\")\n",
    "adultbox = widgets.HBox([button_swapadult,adult])\n",
    "\n",
    "button_remove = widgets.Button(description=\"Remove these data\")\n",
    "remove = widgets.Dropdown(\n",
    "    options = list(range(4)),\n",
    "    value= 2,\n",
    "    description='Set: '\n",
    ")\n",
    "removebox = widgets.HBox([button_remove,remove])\n",
    "\n",
    "\n",
    "slider = widgets.IntSlider(\n",
    "    value=0,\n",
    "    min=0,\n",
    "    max=161,\n",
    "    step=1,\n",
    "    description='Frame:',\n",
    "    continuous_update=False,\n",
    "    orientation='horizontal',\n",
    "    readout=True,\n",
    "    readout_format='d'\n",
    ")\n",
    "\n",
    "button_update = widgets.Button(description=\"Redraw\")\n",
    "button_fixseries = widgets.Button(description=\"Auto fix\")\n",
    "button_reset_one = widgets.Button(description=\"Reset this video\")\n",
    "button_reset_all = widgets.Button(description=\"Reset all\")\n",
    "buttonbox = widgets.HBox([button_update,button_fixseries,button_reset_one,button_reset_all])\n",
    "output = widgets.Output()\n",
    "\n",
    "def pickvid_change(change):\n",
    "    if change['name'] == 'value' and (change['new'] != change['old']):\n",
    "        updateAll(True)\n",
    "\n",
    "def slider_change(slider):\n",
    "    updateAll(False)\n",
    "\n",
    "def on_button_clicked(output):\n",
    "    logging.info('button_update_all clicked')\n",
    "    updateAll(True)\n",
    "\n",
    "def on_reset_all(output):\n",
    "    global keypoints_array\n",
    "    logging.info('button_reset_all clicked')\n",
    "    keypoints_array = np.copy(keypoints_original)\n",
    "    updateAll(True)\n",
    "\n",
    "def on_fixseries(output):\n",
    "    global keypoints_array\n",
    "    logging.info('on_fixseries')\n",
    "    v = videos[pickvid.value][\"index\"]\n",
    "    end  = videos[pickvid.value][\"end\"]\n",
    "    fixpeopleSeries(keypoints_array,v,[0,1],slider.value, end)\n",
    "    updateAll(True)\n",
    "\n",
    "def on_deleteseries(output):\n",
    "    global keypoints_array\n",
    "    logging.info('on_fixseries')\n",
    "    v = videos[pickvid.value][\"index\"]\n",
    "    end  = videos[pickvid.value][\"end\"]\n",
    "    deleteSeries(keypoints_array,v,remove.value,slider.value, end)\n",
    "    updateAll(True)\n",
    "    \n",
    "def on_swapchild(output):\n",
    "    global keypoints_array\n",
    "    logging.info('on_swapchild')\n",
    "    v = videos[pickvid.value][\"index\"]\n",
    "    end  = videos[pickvid.value][\"end\"]\n",
    "    swapSeries(keypoints_array,v,0,child.value,slider.value,end)\n",
    "    updateAll(True)\n",
    "\n",
    "def on_swapadult(output):\n",
    "    global keypoints_array\n",
    "    logging.info('on_swapadult')\n",
    "    v = videos[pickvid.value][\"index\"]\n",
    "    end  = int(videos[pickvid.value][\"end\"])\n",
    "    swapSeries(keypoints_array,v,1,adult.value,slider.value,end)\n",
    "    updateAll(True)\n",
    "\n",
    "\n",
    "slider.observe(slider_change, 'value')\n",
    "pickvid.observe(pickvid_change, 'value')\n",
    "button_swapchild.on_click(on_swapchild)\n",
    "button_swapadult.on_click(on_swapadult)\n",
    "button_fixseries.on_click(on_fixseries)\n",
    "button_remove.on_click(on_deleteseries)\n",
    "button_update.on_click(on_button_clicked)\n",
    "button_reset_all.on_click(on_reset_all)\n",
    "\n",
    "##functions to draw complicated stuff..\n",
    "def drawOneFrame(frameNum):\n",
    "    vid = pickvid.value\n",
    "    v = videos[vid][\"index\"]  # which subarray of data do we need?\n",
    "    vidpath = videos_in + \"\\\\\" + videos[vid][\"fullname\"]\n",
    "    frame = vasc.getframeimage(vidpath,frameNum) \n",
    "    vasc.drawPoints(frame,keypoints_array[v,frameNum,:,:],videos[vid][\"maxpeople\"])\n",
    "    vasc.drawLines(frame,keypoints_array[v,frameNum,:,:],videos[vid][\"maxpeople\"])\n",
    "    vasc.drawBodyCG(frame,keypoints_array[v,frameNum,:,:],videos[vid][\"maxpeople\"])\n",
    "    #send the image to the canvas\n",
    "    img = cv2.cvtColor(frame, cv2.COLOR_BGR2RGB)\n",
    "    hiddencanvas = Canvas(width=img.shape[1], height=img.shape[0])\n",
    "    hiddencanvas.put_image_data(img, 0, 0)\n",
    "    canvas.draw_image(hiddencanvas,0,0,canvas.width,canvas.height)\n",
    "    canvas.restore()\n",
    "    \n",
    "def drawMovementGraph(vid, points, frame = 0, average = True):\n",
    "    v = videos[vid][\"index\"]\n",
    "    N = videos[vid][\"frames\"]\n",
    "    t = np.zeros([N,1])\n",
    "    t[:,0]= list(range(N))\n",
    "\n",
    "    ceegees = np.zeros([N,videos[vid][\"maxpeople\"]])\n",
    "\n",
    "    for frameNum in range(N):\n",
    "        for p in range(videos[vid][\"maxpeople\"]):\n",
    "            personkeypoints = keypoints_array[v,frameNum,p,:]\n",
    "            avx = vasc.averagePoint(personkeypoints,vasc.xs)\n",
    "            if (avx > 0):\n",
    "                ceegees[frameNum,p] = avx\n",
    "            else:\n",
    "                ceegees[frameNum,p] = None\n",
    "\n",
    "    plt.figure(figsize=(12, 4))\n",
    "    plt.plot(t,ceegees)\n",
    "    logging.info(\"frame = \" + str(frame))\n",
    "    plt.axvline(x=frame,c='tab:cyan')\n",
    "    plt.title('Horizontal movement of people (average) over time.)')\n",
    "    plt.legend([0, 1, 2, 3])\n",
    "    plt.show()\n",
    "\n",
    "def updateAll(forceUpdate = False):\n",
    "    output.clear_output()\n",
    "    if forceUpdate:\n",
    "        slider.value = 0\n",
    "        slider.max = videos[pickvid.value][\"end\"]\n",
    "    with output:\n",
    "        display(canvas,pickvid, babybox,adultbox,removebox, slider, buttonbox)  \n",
    "        drawOneFrame(slider.value)\n",
    "        drawMovementGraph(pickvid.value,vasc.xs,slider.value,True)\n",
    "    \n",
    "#draw everything for first time\n",
    "updateAll(True)\n",
    "output"
   ]
  },
  {
   "cell_type": "markdown",
   "metadata": {},
   "source": [
    "### Step 2.4: TODO - Correct for camera motion?\n",
    "\n",
    "Some video sets the camera is not fixed. Any camera movements will cause perfectly correlated movements in the pair of signals. We need to decide what (if anything) to do about this. (Not yet implemented.)"
   ]
  },
  {
   "cell_type": "markdown",
   "metadata": {},
   "source": [
    "### Step 2.5: TODO - Interpolate missing data\n",
    "\n",
    "There are still likely to be gaps. We need to decide what to do about those.  (Not yet implemented.) "
   ]
  },
  {
   "cell_type": "markdown",
   "metadata": {},
   "source": [
    "### Step 2.6: TODO - Exclude whole video\n",
    "\n",
    "Some time the data will look too bad to use. In which case, we need to completely remove this whole set. (Not yet implemented.) "
   ]
  },
  {
   "cell_type": "code",
   "execution_count": null,
   "metadata": {},
   "outputs": [],
   "source": [
    "(Not yet implemented.) "
   ]
  },
  {
   "cell_type": "markdown",
   "metadata": {},
   "source": [
    "## Step 2.6: Save the data!\n",
    "\n",
    "Saving the data at this stage so we don't have to repeat these steps again if we reorganise or reanalyse the data.\n",
    "\n",
    "We create a compressed NumPy array `cleandata.npz` containing the person location data for all the videos. \n",
    "\n",
    "We also update the `videos.json` file with more info about the videos. "
   ]
  },
  {
   "cell_type": "code",
   "execution_count": 24,
   "metadata": {},
   "outputs": [],
   "source": [
    "#update the json file in the video out directory\n",
    "with open(videos_out + '\\\\videos.json', 'w') as outfile:\n",
    "    json.dump(videos, outfile)\n",
    "\n",
    "# in the time series folder we save the data file. \n",
    "#in a compressed format as it has a lot of empty values\n",
    "np.savez_compressed(videos_out_timeseries + '\\\\cleandata.npz', keypoints_array=keypoints_array)\n",
    "\n"
   ]
  },
  {
   "cell_type": "markdown",
   "metadata": {},
   "source": [
    "#### That's it. \n",
    "\n",
    "Now go onto [Step 3 - Analyse the data](Step3.AnalyseData.scipy)"
   ]
  }
 ],
 "metadata": {
  "kernelspec": {
   "display_name": "Python 3",
   "language": "python",
   "name": "python3"
  },
  "language_info": {
   "codemirror_mode": {
    "name": "ipython",
    "version": 3
   },
   "file_extension": ".py",
   "mimetype": "text/x-python",
   "name": "python",
   "nbconvert_exporter": "python",
   "pygments_lexer": "ipython3",
   "version": "3.7.6"
  }
 },
 "nbformat": 4,
 "nbformat_minor": 4
}
