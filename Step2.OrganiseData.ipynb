{
 "cells": [
  {
   "cell_type": "markdown",
   "metadata": {},
   "source": [
    "# Video Actor Synchroncy and Causality (VASC)\n",
    "## RAEng: Measuring Responsive Caregiving Project\n",
    "### Caspar Addyman, 2020\n",
    "### https://github.com/infantlab/VASC\n",
    "\n",
    "# Step 2: Reorganise the OpenPose JSON wire frame data\n",
    "\n",
    "This script uses output from [OpenPose](https://github.com/CMU-Perceptual-Computing-Lab/openpose) human figure recognition neural network to create labeled wireframes for each figure in each frame of a video. \n",
    "\n",
    "\n",
    "The `write_json flag` saves the people pose data using a custom JSON writer. Each JSON file has a set of coordinates and confidence scores for each person identified in the frame. For a given person there is:\n",
    "\n",
    "> An array pose_keypoints_2d containing the body part locations and detection confidence formatted as x1,y1,c1,x2,y2,c2,.... The coordinates x and y can be normalized to the range [0,1], [-1,1], [0, source size], [0, output size], etc., depending on the flag keypoint_scale (see flag for more information), while c is the confidence score in the range [0,1].\n",
    "\n",
    "<img src=\"keypoints_pose_25.png\" alt=\"BODY-25 mapping\" width=\"240\"/>"
   ]
  },
  {
   "cell_type": "markdown",
   "metadata": {},
   "source": [
    "## 2.1 - import modules and initialise variables"
   ]
  },
  {
   "cell_type": "code",
   "execution_count": 1,
   "metadata": {},
   "outputs": [
    {
     "name": "stdout",
     "output_type": "stream",
     "text": [
      "Automatic pdb calling has been turned ON\n"
     ]
    }
   ],
   "source": [
    "import os                #operating system functions\n",
    "import math              #simple math\n",
    "import glob              #file listing\n",
    "import json              #importing and exporting json files \n",
    "import cv2               #computervision toolkit\n",
    "import numpy as np       #tools for numerical data\n",
    "import pandas as pd      \n",
    "import logging\n",
    "import ipywidgets as widgets  #let's us add buttons and sliders to this page.\n",
    "from ipycanvas import Canvas\n",
    "\n",
    "\n",
    "import matplotlib.pyplot as plt\n",
    "%matplotlib inline\n",
    "\n",
    "import vasc #a module of our own functions (found in vasc.py in this folder)\n",
    "\n",
    "#turn on debugging\n",
    "logger = logging.getLogger()\n",
    "logger.setLevel(logging.INFO)\n",
    "%pdb on   "
   ]
  },
  {
   "cell_type": "markdown",
   "metadata": {},
   "source": [
    "#### 2.1.1 - anonymise the videos?\n",
    "\n",
    "Setting the `anon` flag to \n",
    "\n",
    "* `True` - we will not display just the wireframes on black backround without the underlying images from the video. \n",
    "* `False` - we will *attempt to* draw video images - If videos are not available we fall back to anonymous mode "
   ]
  },
  {
   "cell_type": "code",
   "execution_count": 9,
   "metadata": {},
   "outputs": [],
   "source": [
    "anon = True"
   ]
  },
  {
   "cell_type": "markdown",
   "metadata": {},
   "source": [
    "## 2.2 - Where are the data?\n",
    "\n",
    "This routine only needs to know where to find the processed data  and what are the base names. The summary information is listed in the `videos.json` file we created. The raw numerical data is in `allframedata.npz`."
   ]
  },
  {
   "cell_type": "code",
   "execution_count": 3,
   "metadata": {},
   "outputs": [
    {
     "name": "stdout",
     "output_type": "stream",
     "text": [
      "C:\\Users\\cas\\OneDrive - Goldsmiths College\\Projects\\Measuring Responsive Caregiving\\VASC\\..\\SpeaknSign\\out\\openpose\n",
      "C:\\Users\\cas\\OneDrive - Goldsmiths College\\Projects\\Measuring Responsive Caregiving\\VASC\\..\\SpeaknSign\\out\\timeseries\n",
      "C:\\Users\\cas\\OneDrive - Goldsmiths College\\Projects\\Measuring Responsive Caregiving\\VASC\\..\\SpeaknSign\\out\\analyses\n"
     ]
    }
   ],
   "source": [
    "# where's the project folder?\n",
    "jupwd =  os.getcwd() + \"\\\\\"\n",
    "projectpath = os.getcwd() + \"\\\\..\\\\SpeaknSign\\\\\"\n",
    "#projectpath = os.getcwd() + \"\\\\..\\\\lookit\\\\\"\n",
    "\n",
    "\n",
    "# locations of videos and output\n",
    "videos_in = projectpath \n",
    "videos_out   = projectpath + \"out\"\n",
    "#videos_out1 = video_out\n",
    "videos_out1 = \"E:\\\\SpeakNSign\\\\out\"\n",
    "videos_out_openpose   = videos_out + \"\\\\openpose\"\n",
    "videos_out_timeseries = videos_out + \"\\\\timeseries\"\n",
    "videos_out_analyses   = videos_out + \"\\\\analyses\"\n",
    "\n",
    "print(videos_out_openpose)\n",
    "print(videos_out_timeseries)\n",
    "print(videos_out_analyses)"
   ]
  },
  {
   "cell_type": "code",
   "execution_count": 4,
   "metadata": {},
   "outputs": [
    {
     "name": "stdout",
     "output_type": "stream",
     "text": [
      "Existing videos.json found..\n"
     ]
    }
   ],
   "source": [
    "#retrieve the list of base names of processed videos.\n",
    "try:\n",
    "    with open(videos_out + '\\\\videos.json') as json_file:\n",
    "        videos = json.load(json_file)\n",
    "        print(\"Existing videos.json found..\")\n",
    "except:\n",
    "    videos = {}\n",
    "    print(\"videos.json not found in \", videos_out)"
   ]
  },
  {
   "cell_type": "code",
   "execution_count": null,
   "metadata": {},
   "outputs": [],
   "source": [
    "#optional - check the json\n",
    "for vid in videos:  \n",
    "    print(vid)\n",
    "    for cam in videos[vid]:\n",
    "        print(videos[vid][cam])"
   ]
  },
  {
   "cell_type": "code",
   "execution_count": 5,
   "metadata": {
    "lines_to_next_cell": 2
   },
   "outputs": [],
   "source": [
    "#can reload the values without recomputing\n",
    "#reloaded = np.load(videos_out_timeseries + '\\\\allframedata.npz')\n",
    "reloaded = np.load(videos_out_timeseries + '\\\\cleandata.npz')\n",
    "keypoints_original = reloaded[\"keypoints_array\"] #the unprocessed data\n",
    "#keypoints_array = np.copy(keypoints_original)  #an array where we clean the data."
   ]
  },
  {
   "cell_type": "code",
   "execution_count": null,
   "metadata": {},
   "outputs": [],
   "source": [
    "reloaded"
   ]
  },
  {
   "cell_type": "code",
   "execution_count": 6,
   "metadata": {},
   "outputs": [
    {
     "data": {
      "text/plain": [
       "(60, 3, 38797, 10, 75)"
      ]
     },
     "execution_count": 6,
     "metadata": {},
     "output_type": "execute_result"
    }
   ],
   "source": [
    "keypoints_array = keypoints_original  #an array where we clean the data.\n",
    "keypoints_array.shape"
   ]
  },
  {
   "cell_type": "markdown",
   "metadata": {},
   "source": [
    "## Step 2.3 Clean the data\n",
    "\n",
    "We now have an numpy array called `keypoints_array` containing all the openpose numbers for all videos. Now we need to do some cleaning of the data. We provide set of tools to do this. There are several tasks we need to do.\n",
    "\n",
    "1. Pick camera with best view of both participants - swap this to camera 1 (Assu\n",
    "2. Tag the first and last frames of interest. \n",
    "3. Tag the adult & infant in first frame of interest. So both individuals should be in first frame.\n",
    "4. Try to automatically tag then in subsequent frames.\n",
    "5. Manually fix anything the automatic process gets wrong.\n",
    "6. Exclude other detected people (3rd parties & false positives)\n",
    "\n",
    "\n",
    "We do all of this with the control panel below. \n"
   ]
  },
  {
   "cell_type": "markdown",
   "metadata": {},
   "source": [
    "### Step 2.3.1: Which is best camera angle?\n",
    "\n",
    "If we have just one camera then use that. If there are multiple angles, pick the best one and swap it to be \"camera1\". \n"
   ]
  },
  {
   "cell_type": "markdown",
   "metadata": {},
   "source": [
    "### Step 2.3.2: Where does the interesting data start and end?\n",
    "\n",
    "For many videos, the period of interest might start (and end) some time into the video. For now we are using the whole video .\n",
    "TODO  - We wiil give the user the opportunity to set these.\n"
   ]
  },
  {
   "cell_type": "code",
   "execution_count": 7,
   "metadata": {},
   "outputs": [],
   "source": [
    "#let's loop through the processed list and set and startframe and endframe for each video\n",
    "# for the moment we'll just use the full video.\n",
    "# TODO - we will let the use specify this per video \n",
    "for vid in videos:\n",
    "    for cam in videos[vid]:\n",
    "        videos[vid][cam][\"start\"] = 0\n",
    "        videos[vid][cam][\"end\"] = videos[vid][cam][\"frames\"]"
   ]
  },
  {
   "cell_type": "markdown",
   "metadata": {},
   "source": [
    "### Step 2.3.2: Tag the actors of interest at start\n",
    "\n",
    "We want to know which person is the adult and which is the infant in the first frame. We want the child to be Person 0 and Adult to be Person 1. The buttons below provide the choice to swap data series so that this is correct.\n",
    "\n",
    "For example, if child data starts in series 3, we pick 3 in the drop down list next to button `Swap to child (0)` and then press the button. This will swap these two series.\n",
    "\n",
    "This function operates beyond the current frame so it's possible to use it multiple times if data jumps around. However, there is a short cut for part of this process.."
   ]
  },
  {
   "cell_type": "markdown",
   "metadata": {},
   "source": [
    "### Step 2.3.3: Track actors frame by frame\n",
    "\n",
    "At present OpenPose doesn't track individuals from one frame to the next (I believe they are working on this). It just labels each person in each frame. This means that Person 1 in frame 1 might become Person 2 by frame 100. Here we provide some tools that automatically trying to guess who is who. This is tricky so we also ask for human input. \n",
    "\n",
    "Once the child and adult data start in series 0 and 1 respectively, press the `Auto fix` button.\n",
    "\n",
    "If this leaves a few errors we can move slider to affected frame and use the swap series function to manually correct."
   ]
  },
  {
   "cell_type": "markdown",
   "metadata": {},
   "source": [
    "### Step 2.3.4: Exclude other people\n",
    "\n",
    "Finally we can delete any people in background or false positives (ghosts) detected by OpenPose. We simply set these to zero."
   ]
  },
  {
   "cell_type": "markdown",
   "metadata": {},
   "source": [
    "## CONTROL PANEL\n",
    "\n",
    "Run this BIG block of code to provide controls to edit and reorganise the data. \n",
    "If anything goes wrong you can revert to the original data. \n",
    "\n",
    "This needs ipywidgets and ipycanvas to be installed. (See Step 0)."
   ]
  },
  {
   "cell_type": "code",
   "execution_count": 10,
   "metadata": {},
   "outputs": [
    {
     "data": {
      "application/vnd.jupyter.widget-view+json": {
       "model_id": "f2da1de714de4c5ca94df1ae0528c538",
       "version_major": 2,
       "version_minor": 0
      },
      "text/plain": [
       "Output()"
      ]
     },
     "metadata": {},
     "output_type": "display_data"
    }
   ],
   "source": [
    "canvas = Canvas(width=800, height=600)\n",
    "\n",
    "vidlist = [] #used to fill dropdown options\n",
    "camlist = [] #used to fill dropdown options\n",
    "for vid in videos:  \n",
    "    vidlist.append(vid)\n",
    "    \n",
    "for cam in videos[vid]:  \n",
    "    camlist.append(cam)\n",
    "    \n",
    "pickvid = widgets.Dropdown(\n",
    "    options= vidlist,\n",
    "    value= vidlist[0],\n",
    "    description='Select subject:'\n",
    ")\n",
    "button_exclude =  widgets.Button(description='DELETE THIS ONE!')\n",
    "\n",
    "\n",
    "pickcam = widgets.Dropdown(\n",
    "    options= camlist,\n",
    "    value= camlist[0],\n",
    "    description='Select camera:'\n",
    ")\n",
    "button_swapcam = widgets.Button(description=\"Swap this to camera1\")\n",
    "cambox = widgets.HBox([pickcam, button_swapcam])\n",
    "\n",
    "#pressing this button swaps one set of data to be index 0 - default for child.\n",
    "button_swapchild = widgets.Button(description=\"Swap to child (0)\")\n",
    "child = widgets.Dropdown(\n",
    "    options = list(range(10)),\n",
    "    value= 0,\n",
    "    description='Set: '\n",
    ")\n",
    "babybox = widgets.HBox([button_swapchild, child])\n",
    "adult = widgets.Dropdown(\n",
    "    options = list(range(10)),\n",
    "    value= 1,\n",
    "    description='Set: '\n",
    ")\n",
    "button_swapadult = widgets.Button(description=\"Swap to adult (1)\")\n",
    "adultbox = widgets.HBox([button_swapadult,adult])\n",
    "\n",
    "button_remove = widgets.Button(description=\"Remove these data\")\n",
    "remove = widgets.Dropdown(\n",
    "    options = list(range(10)),\n",
    "    value= 2,\n",
    "    description='Set: '\n",
    ")\n",
    "removebox = widgets.HBox([button_remove,remove])\n",
    "\n",
    "\n",
    "slider = widgets.IntSlider(\n",
    "    value=0,\n",
    "    min=0,\n",
    "    max=161,\n",
    "    step=1,\n",
    "    description='Frame:',\n",
    "    continuous_update=False,\n",
    "    orientation='horizontal',\n",
    "    readout=True,\n",
    "    readout_format='d'\n",
    ")\n",
    "\n",
    "\n",
    "button_update = widgets.Button(description=\"Redraw\")\n",
    "button_fixseries = widgets.Button(description=\"Auto fix\")\n",
    "button_reset_one = widgets.Button(description=\"Reset this video\")\n",
    "button_reset_all = widgets.Button(description=\"Reset all\")\n",
    "buttonbox = widgets.HBox([button_update,button_fixseries,button_exclude,button_reset_one,button_reset_all])\n",
    "output = widgets.Output()\n",
    "\n",
    "def pickvid_change(change):\n",
    "    if change['name'] == 'value' and (change['new'] != change['old']):\n",
    "        updateAll(True)\n",
    "        \n",
    "def pickcam_change(change):\n",
    "    if change['name'] == 'value' and (change['new'] != change['old']):\n",
    "        updateAll(True)\n",
    "\n",
    "def slider_change(slider):\n",
    "    updateAll(False)\n",
    "\n",
    "def on_button_clicked(output):\n",
    "    logging.info('button_update_all clicked')\n",
    "    updateAll(True)\n",
    "\n",
    "def on_reset_all(output):\n",
    "    global keypoints_array\n",
    "    logging.info('button_reset_all clicked')\n",
    "    keypoints_array = np.copy(keypoints_original)\n",
    "    updateAll(True)\n",
    "\n",
    "def on_fixseries(output):\n",
    "    global keypoints_array\n",
    "    logging.info('on_fixseries')\n",
    "    v = videos[pickvid.value][pickcam.value][\"v\"]\n",
    "    c = videos[pickvid.value][pickcam.value][\"c\"]\n",
    "    end  = videos[pickvid.value][pickcam.value][\"end\"]\n",
    "    vasc.fixpeopleSeries(keypoints_array,v,c,[0,1],slider.value, end)\n",
    "    updateAll(True)\n",
    "\n",
    "def on_deleteparticipant(output):\n",
    "    global keypoints_array\n",
    "    global videos\n",
    "    logging.info('on_deleteparticipant')\n",
    "    for cam in videos[pickvid.value]: #loop through delete all cameras for this video.\n",
    "        v = videos[pickvid.value][cam][\"v\"]\n",
    "        c = videos[pickvid.value][cam][\"c\"]\n",
    "        end  = videos[pickvid.value][cam][\"end\"]\n",
    "        vasc.deleteSeries(keypoints_array,v,c,remove.value,0, end)\n",
    "    #now remove this from videos object\n",
    "    if pickvid.value in videos:\n",
    "        logging.info(pickvid.value)\n",
    "        del videos[pickvid.value]\n",
    "    #repopulate the dropdown\n",
    "    for vid in videos:  \n",
    "        vidlist.append(vid)\n",
    "    pickvid.options = vidlist\n",
    "    updateAll(True)\n",
    "    \n",
    "def on_deleteseries(output):\n",
    "    global keypoints_array\n",
    "    global videos\n",
    "    logging.info('on_fixseries')\n",
    "    v = videos[pickvid.value][pickcam.value][\"v\"]\n",
    "    c = videos[pickvid.value][pickcam.value][\"c\"]\n",
    "    end  = videos[pickvid.value][pickcam.value][\"end\"]\n",
    "    vasc.deleteSeries(keypoints_array,v,c,remove.value,slider.value, end)\n",
    "    updateAll(True)\n",
    "\n",
    "def on_swapcam(output):\n",
    "    global keypoints_array\n",
    "    global videos\n",
    "    logging.info('on_swapcam')\n",
    "    print(videos[pickvid.value][pickcam.value])\n",
    "    videos, keypoints_array = vasc.swapCameras(videos, keypoints_array,pickvid.value,pickcam.value,\"camera1\")\n",
    "    updateAll(True)\n",
    "    \n",
    "def on_swapchild(output):\n",
    "    global keypoints_array\n",
    "    global videos\n",
    "    logging.info('on_swapchild')\n",
    "    v = videos[pickvid.value][pickcam.value][\"v\"]\n",
    "    c = videos[pickvid.value][pickcam.value][\"c\"]\n",
    "    end  = videos[pickvid.value][pickcam.value][\"end\"]\n",
    "    vasc.swapSeries(keypoints_array,v,c,0,child.value,slider.value,end)\n",
    "    updateAll(True)\n",
    "\n",
    "def on_swapadult(output):\n",
    "    global keypoints_array\n",
    "    global videos\n",
    "    logging.info('on_swapadult')\n",
    "    v = videos[pickvid.value][pickcam.value][\"v\"]\n",
    "    c = videos[pickvid.value][pickcam.value][\"c\"]\n",
    "    end  = int(videos[pickvid.value][pickcam.value][\"end\"])\n",
    "    vasc.swapSeries(keypoints_array,v,c,1,adult.value,slider.value,end)\n",
    "    updateAll(True)\n",
    "\n",
    "\n",
    "slider.observe(slider_change, 'value')\n",
    "pickvid.observe(pickvid_change, 'value') \n",
    "pickcam.observe(pickcam_change, 'value') \n",
    "button_exclude.on_click(on_deleteparticipant) \n",
    "button_swapcam.on_click(on_swapcam)\n",
    "button_swapchild.on_click(on_swapchild)\n",
    "button_swapadult.on_click(on_swapadult)\n",
    "button_fixseries.on_click(on_fixseries)\n",
    "button_remove.on_click(on_deleteseries)\n",
    "button_update.on_click(on_button_clicked)\n",
    "button_reset_all.on_click(on_reset_all)\n",
    "\n",
    "##functions to draw complicated stuff..\n",
    "def drawOneFrame(vid, cam, frameNum):\n",
    "    # which subarray of data do we need?\n",
    "    v = videos[vid][cam][\"v\"]\n",
    "    c = videos[vid][cam][\"c\"]\n",
    "    if anon == True:\n",
    "        #draw a black image\n",
    "        frame = np.zeros((videos[vid][cam][\"height\"], videos[vid][cam][\"width\"], 3), dtype = \"uint8\")\n",
    "    else:\n",
    "        vidpath = videos[pickvid.value][pickcam.value][\"fullpath\"]\n",
    "        frame = vasc.getframeimage(vidpath,frameNum) \n",
    "    vasc.drawPoints(frame,keypoints_array[v,c,frameNum,:,:],videos[vid][cam][\"maxpeople\"])\n",
    "    vasc.drawLines(frame,keypoints_array[v,c,frameNum,:,:],videos[vid][cam][\"maxpeople\"])\n",
    "    vasc.drawBodyCG(frame,keypoints_array[v,c,frameNum,:,:],videos[vid][cam][\"maxpeople\"])\n",
    "    #send the image to the canvas\n",
    "    img = cv2.cvtColor(frame, cv2.COLOR_BGR2RGB)\n",
    "    hiddencanvas = Canvas(width=img.shape[1], height=img.shape[0])\n",
    "    hiddencanvas.put_image_data(img, 0, 0)\n",
    "    canvas.draw_image(hiddencanvas,0,0,canvas.width,canvas.height)\n",
    "    canvas.restore()\n",
    "    \n",
    "def drawMovementGraph(vid, cam, points, frame = 0, average = True):\n",
    "    v = videos[vid][cam][\"v\"]\n",
    "    c = videos[vid][cam][\"c\"]\n",
    "    N = videos[vid][cam][\"frames\"]\n",
    "    t = np.zeros([N,1])\n",
    "    t[:,0]= list(range(N))\n",
    "\n",
    "    #variable to track the centre of gravity for each person\n",
    "    ceegees = np.zeros([N,videos[vid][cam][\"maxpeople\"]])\n",
    "\n",
    "    for frameNum in range(N):\n",
    "        for p in range(videos[vid][cam][\"maxpeople\"]):\n",
    "            personkeypoints = keypoints_array[v,c,frameNum,p,:]\n",
    "            avx = vasc.averagePoint(personkeypoints,vasc.xs)\n",
    "            if (avx > 0):\n",
    "                ceegees[frameNum,p] = avx\n",
    "            else:\n",
    "                ceegees[frameNum,p] = None\n",
    "\n",
    "    plt.figure(figsize=(12, 4))\n",
    "    plt.plot(t,ceegees)\n",
    "    plt.axvline(x=frame,c='tab:cyan')\n",
    "    plt.title('Horizontal movement of people (average) over time.)')\n",
    "    plt.legend([0, 1, 2, 3])\n",
    "    plt.show()\n",
    "\n",
    "def updateAll(forceUpdate = False):\n",
    "    output.clear_output(wait = True)\n",
    "    if forceUpdate:\n",
    "        slider.value = 0\n",
    "        slider.max = videos[pickvid.value][pickcam.value][\"end\"]\n",
    "    with output:\n",
    "        display(canvas,pickvid,cambox, babybox,adultbox,removebox, slider, buttonbox)  \n",
    "        drawOneFrame(pickvid.value,pickcam.value,slider.value)\n",
    "        drawMovementGraph(pickvid.value,pickcam.value,vasc.xs,slider.value,True)\n",
    "\n",
    "#draw everything for first time\n",
    "updateAll(True)\n",
    "output"
   ]
  },
  {
   "cell_type": "markdown",
   "metadata": {},
   "source": [
    "### Step 2.4: TODO - Correct for camera motion?\n",
    "\n",
    "Some video sets the camera is not fixed. Any camera movements will cause perfectly correlated movements in the pair of signals. We need to decide what (if anything) to do about this. (Not yet implemented.)\n",
    "\n"
   ]
  },
  {
   "cell_type": "markdown",
   "metadata": {},
   "source": [
    "### Step 2.5: TODO - Interpolate missing data\n",
    "\n",
    "There are still likely to be gaps. We need to decide what to do about those.  At the moment interpolation is done by scipy in the Step 3 code."
   ]
  },
  {
   "cell_type": "markdown",
   "metadata": {},
   "source": [
    "### Step 2.6: TODO - Exclude whole video\n",
    "\n",
    "Some time the data will look too bad to use. In which case, we need to completely remove this whole set. (Not yet implemented.) "
   ]
  },
  {
   "cell_type": "code",
   "execution_count": null,
   "metadata": {},
   "outputs": [],
   "source": [
    "keypoints_array.shape"
   ]
  },
  {
   "cell_type": "markdown",
   "metadata": {},
   "source": [
    "## Step 2.7: Save the numpy data!\n",
    "\n",
    "Saving the data at this stage so we don't have to repeat these steps again if we reorganise or reanalyse the data.\n",
    "\n",
    "We create a compressed NumPy array `cleandata.npz` containing the person location data for all the videos. \n",
    "\n",
    "We also update the `videos.json` file with more info about the videos. in a new file called `clean.json`. "
   ]
  },
  {
   "cell_type": "code",
   "execution_count": null,
   "metadata": {},
   "outputs": [],
   "source": [
    "#update the json file in the video out directory\n",
    "with open(videos_out + '\\\\clean.json', 'w') as outfile:\n",
    "    json.dump(videos, outfile)\n",
    "\n",
    "# in the time series folder we save the data file. \n",
    "#in a compressed format as it has a lot of empty values\n",
    "np.savez_compressed(videos_out_timeseries + '\\\\cleandata.npz', keypoints_array=keypoints_array)"
   ]
  },
  {
   "cell_type": "markdown",
   "metadata": {},
   "source": [
    "## Step 2.8: Save a pandas dataframe version too.\n",
    "\n",
    "Most of our analysis will be done with SciPy which uses pandas dataframes as its main data format. So let's build a multiindex dataframe containing just the data we need. \n",
    "\n",
    "The rows will have three levels of hierarchy (video x person x BODY25-coordinate). The rows are the individual frames. So a single column will contain the complete time-series of a single dimension of a single point of one person.  So in this example: \n",
    "```\n",
    "rows 0-411 represent the 412 frames of data.\n",
    "\n",
    "col 0 is x-coordinate of point 0 (nose) of infant in video 'lookit.01'\n",
    "col 1 is y-coordinate of point 0 (nose) of infant in video 'lookit.01'\n",
    "col 2 is openpose confidence score for how well it identified that point.\n",
    "```\n",
    "\n",
    "<img src=\"multiindexdataframe.png\" alt=\"multiindex\" width=\"871\"/>\n"
   ]
  },
  {
   "cell_type": "code",
   "execution_count": null,
   "metadata": {},
   "outputs": [],
   "source": [
    "#optional\n",
    "#can reload the clean values without recomputing steps above\n",
    "reloaded = np.load(videos_out_timeseries + '\\\\cleandata.npz')\n",
    "keypoints_array = reloaded[\"keypoints_array\"] #the unprocessed data\n",
    "keypoints_array.shape"
   ]
  },
  {
   "cell_type": "code",
   "execution_count": null,
   "metadata": {
    "lines_to_next_cell": 2
   },
   "outputs": [],
   "source": [
    "#delete all cameras except 0 \n",
    "keypoints_array = np.delete(keypoints_array,np.s_[1:],1)\n",
    "#delete all people except 0 & 1\n",
    "keypoints_array = np.delete(keypoints_array,np.s_[2:],3)\n",
    "shp = keypoints_array.shape"
   ]
  },
  {
   "cell_type": "markdown",
   "metadata": {},
   "source": [
    "first create an empty dataframe with right shape"
   ]
  },
  {
   "cell_type": "code",
   "execution_count": null,
   "metadata": {},
   "outputs": [],
   "source": [
    "#first list the three levels of row hierarchy\n",
    "toplevel = videos.keys()\n",
    "participants = [\"infant\",\"parent\"]\n",
    "coords = list(range(3*vasc.nPoints)) #we have 3 x 25 coordinates to store\n",
    "\n",
    "#columns are frames\n",
    "timeseries = list(range(shp[2])) #how big is third dimension of the array?\n",
    "\n",
    "col_names = ['video','person','coord']\n",
    "#row_names = ['frames']\n",
    "\n",
    "col_index = pd.MultiIndex.from_product([toplevel,participants,coords], names=col_names)\n",
    "\n",
    "cleandf = pd.DataFrame(columns=col_index, index = timeseries)\n",
    "#cleandf.head()"
   ]
  },
  {
   "cell_type": "markdown",
   "metadata": {},
   "source": [
    "Then populate the dataframe row by row."
   ]
  },
  {
   "cell_type": "code",
   "execution_count": null,
   "metadata": {},
   "outputs": [],
   "source": [
    "for vid in videos:\n",
    "    for p in range(2) :\n",
    "        v = videos[vid][\"camera1\"][\"v\"]\n",
    "        part = participants[p]\n",
    "        for r in range(3*vasc.nPoints):\n",
    "            cleandf[(vid, part, r)] = keypoints_array[v,0,:,p,r]\n",
    "\n",
    "cleandf"
   ]
  },
  {
   "cell_type": "code",
   "execution_count": null,
   "metadata": {},
   "outputs": [],
   "source": [
    "#Sort the columns into alphabetical order (helps with step 3 calculations.)\n",
    "cleandf = cleandf.sort_index(axis = 1)"
   ]
  },
  {
   "cell_type": "markdown",
   "metadata": {},
   "source": [
    "Finally save this to a compressed file.\n",
    "\n",
    "We use the fast `parquet` format with library `pyarrow` in order to preserve our hierarchical index in a compressed format. We save into the timeseries sub-folder. "
   ]
  },
  {
   "cell_type": "code",
   "execution_count": null,
   "metadata": {
    "lines_to_end_of_cell_marker": 2
   },
   "outputs": [],
   "source": [
    "import pyarrow as pa\n",
    "import pyarrow.parquet as pq\n",
    "\n",
    "pq.write_table(pa.Table.from_pandas(cleandf), videos_out_timeseries + '\\\\cleandata.parquet')"
   ]
  },
  {
   "cell_type": "code",
   "execution_count": null,
   "metadata": {
    "lines_to_next_cell": 2
   },
   "outputs": [],
   "source": [
    "print('reading parquet file:')\n",
    "pqdf = pq.read_table(videos_out_timeseries + '\\\\cleandata.parquet').to_pandas()\n",
    "print(pqdf.head())"
   ]
  },
  {
   "cell_type": "markdown",
   "metadata": {},
   "source": [
    "#### That's it. \n",
    "\n",
    "Now go onto [Step 3 - Analyse the data](Step3.AnalyseData.scipy)"
   ]
  }
 ],
 "metadata": {
  "jupytext": {
   "formats": "ipynb,py:light"
  },
  "kernelspec": {
   "display_name": "Python 3",
   "language": "python",
   "name": "python3"
  },
  "language_info": {
   "codemirror_mode": {
    "name": "ipython",
    "version": 3
   },
   "file_extension": ".py",
   "mimetype": "text/x-python",
   "name": "python",
   "nbconvert_exporter": "python",
   "pygments_lexer": "ipython3",
   "version": "3.7.9"
  }
 },
 "nbformat": 4,
 "nbformat_minor": 4
}
