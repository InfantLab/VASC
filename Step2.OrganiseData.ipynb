{
 "cells": [
  {
   "cell_type": "markdown",
   "metadata": {},
   "source": [
    "# Video Actor Synchroncy and Causality (VASC)\n",
    "## RAEng: Measuring Responsive Caregiving Project\n",
    "### Caspar Addyman, 2020\n",
    "### https://github.com/infantlab/VASC\n",
    "\n",
    "# Step 2: Reorganise the OpenPose JSON wire frame data\n",
    "\n",
    "This script uses output from [OpenPose](https://github.com/CMU-Perceptual-Computing-Lab/openpose) human figure recognition neural network to create labeled wireframes for each figure in each frame of a video. \n",
    "\n",
    "\n",
    "The `write_json flag` saves the people pose data using a custom JSON writer. Each JSON file has a set of coordinates and confidence scores for each person identified in the frame. For a given person there is:\n",
    "\n",
    "> An array pose_keypoints_2d containing the body part locations and detection confidence formatted as x1,y1,c1,x2,y2,c2,.... The coordinates x and y can be normalized to the range [0,1], [-1,1], [0, source size], [0, output size], etc., depending on the flag keypoint_scale (see flag for more information), while c is the confidence score in the range [0,1].\n",
    "\n",
    "<img src=\"keypoints_pose_25.png\" alt=\"BODY-25 mapping\" width=\"240\"/>"
   ]
  },
  {
   "cell_type": "markdown",
   "metadata": {},
   "source": [
    "## 2.1 - import modules and initialise variables"
   ]
  },
  {
   "cell_type": "code",
   "execution_count": 1,
   "metadata": {},
   "outputs": [
    {
     "name": "stdout",
     "output_type": "stream",
     "text": [
      "Automatic pdb calling has been turned ON\n"
     ]
    }
   ],
   "source": [
    "import os                #operating system functions\n",
    "import math              #simple math\n",
    "import glob              #file listing\n",
    "import json              #importing and exporting json files \n",
    "import cv2               #computervision toolkit\n",
    "import numpy as np       #tools for numerical data\n",
    "import pandas as pd      \n",
    "import logging\n",
    "import ipywidgets as widgets  #let's us add buttons and sliders to this page.\n",
    "from ipycanvas import Canvas\n",
    "\n",
    "\n",
    "import matplotlib.pyplot as plt\n",
    "%matplotlib inline\n",
    "\n",
    "import vasc #a module of our own functions (found in vasc.py in this folder)\n",
    "\n",
    "#turn on debugging\n",
    "logger = logging.getLogger()\n",
    "logger.setLevel(logging.INFO)\n",
    "%pdb on   "
   ]
  },
  {
   "cell_type": "markdown",
   "metadata": {},
   "source": [
    "#### 2.1.1 - anonymise the videos?\n",
    "\n",
    "Setting the `anon` flag to \n",
    "\n",
    "* `True` - we will not display just the wireframes on black backround without the underlying images from the video. \n",
    "* `False` - we will *attempt to* draw video images - If videos are not available we fall back to anonymous mode "
   ]
  },
  {
   "cell_type": "code",
   "execution_count": 2,
   "metadata": {},
   "outputs": [],
   "source": [
    "anon = True"
   ]
  },
  {
   "cell_type": "markdown",
   "metadata": {},
   "source": [
    "## 2.2 - Where are the data?\n",
    "\n",
    "This routine only needs to know where to find the processed data  and what are the base names. The summary information is listed in the `videos.json` file we created. The raw numerical data is in `allframedata.npz`."
   ]
  },
  {
   "cell_type": "code",
   "execution_count": 3,
   "metadata": {},
   "outputs": [
    {
     "name": "stdout",
     "output_type": "stream",
     "text": [
      "C:\\Users\\cas\\OneDrive - Goldsmiths College\\Projects\\Measuring Responsive Caregiving\\VASC\\..\\SpeaknSign\\out\\openpose\n",
      "C:\\Users\\cas\\OneDrive - Goldsmiths College\\Projects\\Measuring Responsive Caregiving\\VASC\\..\\SpeaknSign\\out\\timeseries\n",
      "C:\\Users\\cas\\OneDrive - Goldsmiths College\\Projects\\Measuring Responsive Caregiving\\VASC\\..\\SpeaknSign\\out\\analyses\n"
     ]
    }
   ],
   "source": [
    "# where's the project folder?\n",
    "jupwd =  os.getcwd() + \"\\\\\"\n",
    "projectpath = os.getcwd() + \"\\\\..\\\\SpeaknSign\\\\\"\n",
    "#projectpath = os.getcwd() + \"\\\\..\\\\lookit\\\\\"\n",
    "\n",
    "\n",
    "# locations of videos and output\n",
    "videos_in = projectpath \n",
    "videos_out   = projectpath + \"out\"\n",
    "#videos_out1 = video_out\n",
    "videos_out1 = \"E:\\\\SpeakNSign\\\\out\"\n",
    "videos_out_openpose   = videos_out + \"\\\\openpose\"\n",
    "videos_out_timeseries = videos_out + \"\\\\timeseries\"\n",
    "videos_out_analyses   = videos_out + \"\\\\analyses\"\n",
    "\n",
    "print(videos_out_openpose)\n",
    "print(videos_out_timeseries)\n",
    "print(videos_out_analyses)"
   ]
  },
  {
   "cell_type": "code",
   "execution_count": 4,
   "metadata": {},
   "outputs": [
    {
     "name": "stdout",
     "output_type": "stream",
     "text": [
      "Existing videos.json found..\n"
     ]
    }
   ],
   "source": [
    "#retrieve the list of base names of processed videos.\n",
    "try:\n",
    "    with open(videos_out + '\\\\videos.json') as json_file:\n",
    "        videos = json.load(json_file)\n",
    "        print(\"Existing videos.json found..\")\n",
    "except:\n",
    "    videos = {}\n",
    "    print(\"videos.json not found in \", videos_out)"
   ]
  },
  {
   "cell_type": "code",
   "execution_count": 15,
   "metadata": {},
   "outputs": [
    {
     "name": "stdout",
     "output_type": "stream",
     "text": [
      "SS003\n",
      "{'shortname': 'SS003.camera1', 'stemname': 'SS003_13314_1', 'fullname': 'SS003_13314_1.mp4', 'fullpath': 'U:\\\\Toddler_videos\\\\SS003\\\\SS003_13314_1.mp4', 'index': 0, 'format': '.mp4', 'openpose': {'exitcode': 0, 'when': '2020-04-14T00:54:23.025646', 'out': 'E:\\\\SpeakNSign\\\\out\\\\openpose\\\\SS003_output.avi'}, 'height': 576, 'width': 720, 'fps': 25, 'n_frames': 16760, 'frames': 16760, 'maxpeople': 5, 'v': 0, 'c': 0, 'start': 0, 'end': 16760}\n",
      "{'shortname': 'SS003.camera2', 'stemname': 'SS003_13314_2', 'fullname': 'SS003_13314_2.mp4', 'fullpath': 'U:\\\\Toddler_videos\\\\SS003\\\\SS003_13314_2.mp4', 'index': 1, 'format': '.mp4', 'openpose': {'exitcode': 0, 'when': '2020-04-14T01:16:49.684328', 'out': 'E:\\\\SpeakNSign\\\\out\\\\openpose\\\\SS003_output.avi'}, 'height': 576, 'width': 720, 'fps': 25, 'n_frames': 16759, 'frames': 16759, 'maxpeople': 6, 'v': 0, 'c': 1, 'start': 0, 'end': 16759}\n",
      "{'shortname': 'SS003.camera3', 'stemname': 'SS003_13314_3', 'fullname': 'SS003_13314_3.mp4', 'fullpath': 'U:\\\\Toddler_videos\\\\SS003\\\\SS003_13314_3.mp4', 'index': 2, 'format': '.mp4', 'openpose': {'exitcode': 0, 'when': '2020-04-14T08:45:53.538557', 'out': 'E:\\\\SpeakNSign\\\\out\\\\openpose\\\\SS003_output.avi'}, 'height': 576, 'width': 720, 'fps': 25, 'n_frames': 16767, 'frames': 16767, 'maxpeople': 6, 'v': 0, 'c': 2, 'start': 0, 'end': 16767}\n",
      "SS010\n",
      "{'shortname': 'SS010.camera1', 'stemname': 'PCI_SS010_1', 'fullname': 'PCI_SS010_1.mp4', 'fullpath': 'U:\\\\Toddler_videos\\\\SS010\\\\PCI_SS010_1.mp4', 'index': 0, 'format': '.mp4', 'openpose': {'exitcode': 0, 'when': '2020-04-17T11:45:05.486971', 'out': 'E:\\\\SpeakNSign\\\\out\\\\openpose\\\\SS010_output.avi'}, 'height': 576, 'width': 720, 'fps': 25, 'n_frames': 16088, 'frames': 16088, 'maxpeople': 5, 'v': 1, 'c': 0, 'start': 0, 'end': 16088}\n",
      "{'shortname': 'SS010.camera2', 'stemname': 'PCI_SS010_2', 'fullname': 'PCI_SS010_2.mp4', 'fullpath': 'U:\\\\Toddler_videos\\\\SS010\\\\PCI_SS010_2.mp4', 'index': 1, 'format': '.mp4', 'openpose': {'exitcode': 0, 'when': '2020-04-17T12:00:20.078545', 'out': 'E:\\\\SpeakNSign\\\\out\\\\openpose\\\\SS010_output.avi'}, 'height': 576, 'width': 720, 'fps': 25, 'n_frames': 16107, 'frames': 16107, 'maxpeople': 4, 'v': 1, 'c': 1, 'start': 0, 'end': 16107}\n",
      "{'shortname': 'SS010.camera3', 'stemname': 'PCI_SS010_3', 'fullname': 'PCI_SS010_3.mp4', 'fullpath': 'U:\\\\Toddler_videos\\\\SS010\\\\PCI_SS010_3.mp4', 'index': 2, 'format': '.mp4', 'openpose': {'exitcode': 0, 'when': '2020-04-17T12:15:14.415091', 'out': 'E:\\\\SpeakNSign\\\\out\\\\openpose\\\\SS010_output.avi'}, 'height': 576, 'width': 720, 'fps': 25, 'n_frames': 16091, 'frames': 16091, 'maxpeople': 5, 'v': 1, 'c': 2, 'start': 0, 'end': 16091}\n",
      "SS013\n",
      "{'shortname': 'SS013.camera1', 'stemname': 'CAM1_20140515-103645', 'fullname': 'CAM1_20140515-103645.mp4', 'fullpath': 'U:\\\\Toddler_videos\\\\ss013\\\\CAM1_20140515-103645.mp4', 'index': 3, 'format': '.mp4', 'openpose': {'exitcode': 0, 'when': '2020-04-17T12:34:04.525149', 'out': 'E:\\\\SpeakNSign\\\\out\\\\openpose\\\\SS013_output.avi'}, 'height': 576, 'width': 720, 'fps': 25, 'n_frames': 18173, 'frames': 18173, 'maxpeople': 5, 'v': 2, 'c': 0, 'start': 0, 'end': 18173}\n",
      "{'shortname': 'SS013.camera2', 'stemname': 'CAM2_20140515-103645', 'fullname': 'CAM2_20140515-103645.mp4', 'fullpath': 'U:\\\\Toddler_videos\\\\ss013\\\\CAM2_20140515-103645.mp4', 'index': 4, 'format': '.mp4', 'openpose': {'exitcode': 0, 'when': '2020-04-17T12:52:14.903418', 'out': 'E:\\\\SpeakNSign\\\\out\\\\openpose\\\\SS013_output.avi'}, 'height': 576, 'width': 720, 'fps': 25, 'n_frames': 18174, 'frames': 18174, 'maxpeople': 6, 'v': 2, 'c': 1, 'start': 0, 'end': 18174}\n",
      "{'shortname': 'SS013.camera3', 'stemname': 'CAM3_20140515-103645', 'fullname': 'CAM3_20140515-103645.mp4', 'fullpath': 'U:\\\\Toddler_videos\\\\ss013\\\\CAM3_20140515-103645.mp4', 'index': 5, 'format': '.mp4', 'openpose': {'exitcode': 0, 'when': '2020-04-17T13:10:15.501756', 'out': 'E:\\\\SpeakNSign\\\\out\\\\openpose\\\\SS013_output.avi'}, 'height': 576, 'width': 720, 'fps': 24, 'n_frames': 18174, 'frames': 18174, 'maxpeople': 5, 'v': 2, 'c': 2, 'start': 0, 'end': 18174}\n",
      "SS015\n",
      "{'shortname': 'SS015.camera1', 'stemname': 'SS015_PCI1', 'fullname': 'SS015_PCI1.mp4', 'fullpath': 'U:\\\\Toddler_videos\\\\SS015\\\\SS015_PCI1.mp4', 'index': 6, 'format': '.mp4', 'openpose': {'exitcode': 0, 'when': '2020-04-17T13:29:38.417691', 'out': 'E:\\\\SpeakNSign\\\\out\\\\openpose\\\\SS015_output.avi'}, 'height': 576, 'width': 720, 'fps': 25, 'n_frames': 19339, 'frames': 19339, 'maxpeople': 6, 'v': 3, 'c': 0, 'start': 0, 'end': 19339}\n",
      "{'shortname': 'SS015.camera2', 'stemname': 'SS015_PCI2', 'fullname': 'SS015_PCI2.mp4', 'fullpath': 'U:\\\\Toddler_videos\\\\SS015\\\\SS015_PCI2.mp4', 'index': 7, 'format': '.mp4', 'openpose': {'exitcode': 0, 'when': '2020-04-17T13:48:57.826294', 'out': 'E:\\\\SpeakNSign\\\\out\\\\openpose\\\\SS015_output.avi'}, 'height': 576, 'width': 720, 'fps': 25, 'n_frames': 19340, 'frames': 19340, 'maxpeople': 5, 'v': 3, 'c': 1, 'start': 0, 'end': 19340}\n",
      "{'shortname': 'SS015.camera3', 'stemname': 'SS015_PCI3', 'fullname': 'SS015_PCI3.mp4', 'fullpath': 'U:\\\\Toddler_videos\\\\SS015\\\\SS015_PCI3.mp4', 'index': 8, 'format': '.mp4', 'openpose': {'exitcode': 0, 'when': '2020-04-17T14:06:59.866742', 'out': 'E:\\\\SpeakNSign\\\\out\\\\openpose\\\\SS015_output.avi'}, 'height': 576, 'width': 720, 'fps': 25, 'n_frames': 19360, 'frames': 19360, 'maxpeople': 5, 'v': 3, 'c': 2, 'start': 0, 'end': 19360}\n",
      "SS016\n",
      "{'shortname': 'SS016.camera1', 'stemname': 'SS016_PCI1', 'fullname': 'SS016_PCI1.mp4', 'fullpath': 'U:\\\\Toddler_videos\\\\SS016\\\\SS016_PCI1.mp4', 'index': 9, 'format': '.mp4', 'openpose': {'exitcode': 0, 'when': '2020-04-17T14:23:03.427124', 'out': 'E:\\\\SpeakNSign\\\\out\\\\openpose\\\\SS016_output.avi'}, 'height': 576, 'width': 720, 'fps': 24, 'n_frames': 17156, 'frames': 17156, 'maxpeople': 5, 'v': 4, 'c': 0, 'start': 0, 'end': 17156}\n",
      "{'shortname': 'SS016.camera2', 'stemname': 'SS016_PCI2', 'fullname': 'SS016_PCI2.mp4', 'fullpath': 'U:\\\\Toddler_videos\\\\SS016\\\\SS016_PCI2.mp4', 'index': 10, 'format': '.mp4', 'openpose': {'exitcode': 0, 'when': '2020-04-17T14:38:48.748342', 'out': 'E:\\\\SpeakNSign\\\\out\\\\openpose\\\\SS016_output.avi'}, 'height': 576, 'width': 720, 'fps': 25, 'n_frames': 17154, 'frames': 17154, 'maxpeople': 5, 'v': 4, 'c': 1, 'start': 0, 'end': 17154}\n",
      "{'shortname': 'SS016.camera3', 'stemname': 'SS016_PCI3', 'fullname': 'SS016_PCI3.mp4', 'fullpath': 'U:\\\\Toddler_videos\\\\SS016\\\\SS016_PCI3.mp4', 'index': 11, 'format': '.mp4', 'openpose': {'exitcode': 0, 'when': '2020-04-17T14:55:33.382268', 'out': 'E:\\\\SpeakNSign\\\\out\\\\openpose\\\\SS016_output.avi'}, 'height': 576, 'width': 720, 'fps': 25, 'n_frames': 17153, 'frames': 17153, 'maxpeople': 5, 'v': 4, 'c': 2, 'start': 0, 'end': 17153}\n",
      "SS021\n",
      "{'shortname': 'SS021.camera1', 'stemname': 'SS021_PCI_1', 'fullname': 'SS021_PCI_1.mp4', 'fullpath': 'U:\\\\Toddler_videos\\\\SS021\\\\SS021_PCI_1.mp4', 'index': 18, 'format': '.mp4', 'openpose': {'exitcode': 0, 'when': '2020-04-17T16:41:34.445174', 'out': 'E:\\\\SpeakNSign\\\\out\\\\openpose\\\\SS021_output.avi'}, 'height': 576, 'width': 720, 'fps': 24, 'n_frames': 19248, 'frames': 19248, 'maxpeople': 4, 'v': 7, 'c': 0, 'start': 0, 'end': 19248}\n",
      "{'shortname': 'SS021.camera2', 'stemname': 'SS021_PCI_2', 'fullname': 'SS021_PCI_2.mp4', 'fullpath': 'U:\\\\Toddler_videos\\\\SS021\\\\SS021_PCI_2.mp4', 'index': 19, 'format': '.mp4', 'openpose': {'exitcode': 0, 'when': '2020-04-17T17:02:48.136811', 'out': 'E:\\\\SpeakNSign\\\\out\\\\openpose\\\\SS021_output.avi'}, 'height': 576, 'width': 720, 'fps': 25, 'n_frames': 19251, 'frames': 19251, 'maxpeople': 7, 'v': 7, 'c': 1, 'start': 0, 'end': 19251}\n",
      "{'shortname': 'SS021.camera3', 'stemname': 'SS021_PCI_3', 'fullname': 'SS021_PCI_3.mp4', 'fullpath': 'U:\\\\Toddler_videos\\\\SS021\\\\SS021_PCI_3.mp4', 'index': 20, 'format': '.mp4', 'openpose': {'exitcode': 0, 'when': '2020-04-17T17:27:38.234978', 'out': 'E:\\\\SpeakNSign\\\\out\\\\openpose\\\\SS021_output.avi'}, 'height': 576, 'width': 720, 'fps': 24, 'n_frames': 19250, 'frames': 19250, 'maxpeople': 4, 'v': 7, 'c': 2, 'start': 0, 'end': 19250}\n",
      "SS022\n",
      "{'shortname': 'SS022.camera1', 'stemname': 'CAM1_20140624-133628', 'fullname': 'CAM1_20140624-133628.mp4', 'fullpath': 'U:\\\\Toddler_videos\\\\SS022\\\\CAM1_20140624-133628.mp4', 'index': 21, 'format': '.mp4', 'openpose': {'exitcode': 0, 'when': '2020-04-17T17:56:09.233016', 'out': 'E:\\\\SpeakNSign\\\\out\\\\openpose\\\\SS022_output.avi'}, 'height': 576, 'width': 720, 'fps': 24, 'n_frames': 20347, 'frames': 20347, 'maxpeople': 6, 'v': 8, 'c': 0, 'start': 0, 'end': 20347}\n",
      "{'shortname': 'SS022.camera2', 'stemname': 'CAM2_20140624-133629', 'fullname': 'CAM2_20140624-133629.mp4', 'fullpath': 'U:\\\\Toddler_videos\\\\SS022\\\\CAM2_20140624-133629.mp4', 'index': 22, 'format': '.mp4', 'openpose': {'exitcode': 0, 'when': '2020-04-17T18:15:30.582539', 'out': 'E:\\\\SpeakNSign\\\\out\\\\openpose\\\\SS022_output.avi'}, 'height': 576, 'width': 720, 'fps': 25, 'n_frames': 20352, 'frames': 20352, 'maxpeople': 5, 'v': 8, 'c': 1, 'start': 0, 'end': 20352}\n",
      "{'shortname': 'SS022.camera3', 'stemname': 'CAM3_20140624-133629', 'fullname': 'CAM3_20140624-133629.mp4', 'fullpath': 'U:\\\\Toddler_videos\\\\SS022\\\\CAM3_20140624-133629.mp4', 'index': 23, 'format': '.mp4', 'openpose': {'exitcode': 0, 'when': '2020-04-17T18:34:42.463750', 'out': 'E:\\\\SpeakNSign\\\\out\\\\openpose\\\\SS022_output.avi'}, 'height': 576, 'width': 720, 'fps': 24, 'n_frames': 20352, 'frames': 20352, 'maxpeople': 5, 'v': 8, 'c': 2, 'start': 0, 'end': 20352}\n",
      "SS023\n",
      "{'shortname': 'SS023.camera1', 'stemname': 'CAM1_20140625-123113', 'fullname': 'CAM1_20140625-123113.mp4', 'fullpath': 'U:\\\\Toddler_videos\\\\SS023\\\\CAM1_20140625-123113.mp4', 'index': 24, 'format': '.mp4', 'openpose': {'exitcode': 0, 'when': '2020-04-17T18:52:12.557030', 'out': 'E:\\\\SpeakNSign\\\\out\\\\openpose\\\\SS023_output.avi'}, 'height': 576, 'width': 720, 'fps': 25, 'n_frames': 18809, 'frames': 18809, 'maxpeople': 5, 'v': 9, 'c': 0, 'start': 0, 'end': 18809}\n",
      "{'shortname': 'SS023.camera2', 'stemname': 'CAM2_20140625-123113', 'fullname': 'CAM2_20140625-123113.mp4', 'fullpath': 'U:\\\\Toddler_videos\\\\SS023\\\\CAM2_20140625-123113.mp4', 'index': 25, 'format': '.mp4', 'openpose': {'exitcode': 0, 'when': '2020-04-17T19:09:37.521278', 'out': 'E:\\\\SpeakNSign\\\\out\\\\openpose\\\\SS023_output.avi'}, 'height': 576, 'width': 720, 'fps': 25, 'n_frames': 18811, 'frames': 18811, 'maxpeople': 5, 'v': 9, 'c': 1, 'start': 0, 'end': 18811}\n",
      "{'shortname': 'SS023.camera3', 'stemname': 'CAM3_20140625-123113', 'fullname': 'CAM3_20140625-123113.mp4', 'fullpath': 'U:\\\\Toddler_videos\\\\SS023\\\\CAM3_20140625-123113.mp4', 'index': 26, 'format': '.mp4', 'openpose': {'exitcode': 0, 'when': '2020-04-17T19:27:23.987988', 'out': 'E:\\\\SpeakNSign\\\\out\\\\openpose\\\\SS023_output.avi'}, 'height': 576, 'width': 720, 'fps': 24, 'n_frames': 18810, 'frames': 18810, 'maxpeople': 6, 'v': 9, 'c': 2, 'start': 0, 'end': 18810}\n",
      "SS030\n",
      "{'shortname': 'SS030.camera1', 'stemname': 'CAM3_20140722-141412', 'fullname': 'CAM3_20140722-141412.mp4', 'fullpath': 'U:\\\\Toddler_videos\\\\SS030\\\\CAM3_20140722-141412.mp4', 'index': 27, 'format': '.mp4', 'openpose': {'exitcode': 0, 'when': '2020-04-17T19:36:35.970456', 'out': 'E:\\\\SpeakNSign\\\\out\\\\openpose\\\\SS030_output.avi'}, 'height': 576, 'width': 720, 'fps': 25, 'n_frames': 10213, 'frames': 10213, 'maxpeople': 3, 'v': 10, 'c': 0, 'start': 0, 'end': 10213}\n",
      "{'shortname': 'SS030.camera2', 'stemname': 'CAM1_20140722-141412', 'fullname': 'CAM1_20140722-141412.mp4', 'fullpath': 'U:\\\\Toddler_videos\\\\SS030\\\\CAM1_20140722-141412.mp4', 'index': 28, 'format': '.mp4', 'openpose': {'exitcode': 0, 'when': '2020-04-17T19:45:29.548946', 'out': 'E:\\\\SpeakNSign\\\\out\\\\openpose\\\\SS030_output.avi'}, 'height': 576, 'width': 720, 'fps': 25, 'n_frames': 10203, 'frames': 10203, 'maxpeople': 4, 'v': 10, 'c': 1, 'start': 0, 'end': 10203}\n",
      "{'shortname': 'SS030.camera3', 'stemname': 'CAM2_20140722-141412', 'fullname': 'CAM2_20140722-141412.mp4', 'fullpath': 'U:\\\\Toddler_videos\\\\SS030\\\\CAM2_20140722-141412.mp4', 'index': 29, 'format': '.mp4', 'openpose': {'exitcode': 0, 'when': '2020-04-17T19:54:43.725161', 'out': 'E:\\\\SpeakNSign\\\\out\\\\openpose\\\\SS030_output.avi'}, 'height': 576, 'width': 720, 'fps': 25, 'n_frames': 10208, 'frames': 10208, 'maxpeople': 4, 'v': 10, 'c': 2, 'start': 0, 'end': 10208}\n",
      "SS033\n",
      "{'shortname': 'SS033.camera1', 'stemname': 'CAM3_20140918-125924', 'fullname': 'CAM3_20140918-125924.mp4', 'fullpath': 'U:\\\\Toddler_videos\\\\SS033\\\\CAM3_20140918-125924.mp4', 'index': 30, 'format': '.mp4', 'openpose': {'exitcode': 0, 'when': '2020-04-17T20:11:34.672513', 'out': 'E:\\\\SpeakNSign\\\\out\\\\openpose\\\\SS033_output.avi'}, 'height': 576, 'width': 720, 'fps': 24, 'n_frames': 17932, 'frames': 17932, 'maxpeople': 8, 'v': 11, 'c': 0, 'start': 0, 'end': 17932}\n",
      "{'shortname': 'SS033.camera2', 'stemname': 'CAM1_20140918-125924', 'fullname': 'CAM1_20140918-125924.mp4', 'fullpath': 'U:\\\\Toddler_videos\\\\SS033\\\\CAM1_20140918-125924.mp4', 'index': 31, 'format': '.mp4', 'openpose': {'exitcode': 0, 'when': '2020-04-17T20:28:01.684093', 'out': 'E:\\\\SpeakNSign\\\\out\\\\openpose\\\\SS033_output.avi'}, 'height': 576, 'width': 720, 'fps': 25, 'n_frames': 17933, 'frames': 17933, 'maxpeople': 5, 'v': 11, 'c': 1, 'start': 0, 'end': 17933}\n",
      "{'shortname': 'SS033.camera3', 'stemname': 'CAM2_20140918-125924', 'fullname': 'CAM2_20140918-125924.mp4', 'fullpath': 'U:\\\\Toddler_videos\\\\SS033\\\\CAM2_20140918-125924.mp4', 'index': 32, 'format': '.mp4', 'openpose': {'exitcode': 0, 'when': '2020-04-17T20:45:07.591038', 'out': 'E:\\\\SpeakNSign\\\\out\\\\openpose\\\\SS033_output.avi'}, 'height': 576, 'width': 720, 'fps': 25, 'n_frames': 17933, 'frames': 17933, 'maxpeople': 8, 'v': 11, 'c': 2, 'start': 0, 'end': 17933}\n",
      "SS035\n",
      "{'shortname': 'SS035.camera1', 'stemname': 'CAM3_20141002-130731', 'fullname': 'CAM3_20141002-130731.mp4', 'fullpath': 'U:\\\\Toddler_videos\\\\SS035\\\\CAM3_20141002-130731.mp4', 'index': 33, 'format': '.mp4', 'openpose': {'exitcode': 0, 'when': '2020-04-17T21:03:58.664658', 'out': 'E:\\\\SpeakNSign\\\\out\\\\openpose\\\\SS035_output.avi'}, 'height': 576, 'width': 720, 'fps': 25, 'n_frames': 19668, 'frames': 19668, 'maxpeople': 5, 'v': 12, 'c': 0, 'start': 0, 'end': 19668}\n",
      "{'shortname': 'SS035.camera2', 'stemname': 'CAM1_20141002-130731', 'fullname': 'CAM1_20141002-130731.mp4', 'fullpath': 'U:\\\\Toddler_videos\\\\SS035\\\\CAM1_20141002-130731.mp4', 'index': 34, 'format': '.mp4', 'openpose': {'exitcode': 0, 'when': '2020-04-17T21:22:30.348558', 'out': 'E:\\\\SpeakNSign\\\\out\\\\openpose\\\\SS035_output.avi'}, 'height': 576, 'width': 720, 'fps': 25, 'n_frames': 19667, 'frames': 19667, 'maxpeople': 6, 'v': 12, 'c': 1, 'start': 0, 'end': 19667}\n",
      "{'shortname': 'SS035.camera3', 'stemname': 'CAM2_20141002-130731', 'fullname': 'CAM2_20141002-130731.mp4', 'fullpath': 'U:\\\\Toddler_videos\\\\SS035\\\\CAM2_20141002-130731.mp4', 'index': 35, 'format': '.mp4', 'openpose': {'exitcode': 0, 'when': '2020-04-17T21:46:34.884695', 'out': 'E:\\\\SpeakNSign\\\\out\\\\openpose\\\\SS035_output.avi'}, 'height': 576, 'width': 720, 'fps': 25, 'n_frames': 19669, 'frames': 19669, 'maxpeople': 6, 'v': 12, 'c': 2, 'start': 0, 'end': 19669}\n",
      "SS036\n",
      "{'shortname': 'SS036.camera1', 'stemname': 'CAM3_20141023-112255', 'fullname': 'CAM3_20141023-112255.mp4', 'fullpath': 'U:\\\\Toddler_videos\\\\SS036\\\\CAM3_20141023-112255.mp4', 'index': 36, 'format': '.mp4', 'openpose': {'exitcode': 0, 'when': '2020-04-17T22:10:17.644276', 'out': 'E:\\\\SpeakNSign\\\\out\\\\openpose\\\\SS036_output.avi'}, 'height': 576, 'width': 720, 'fps': 24, 'n_frames': 21160, 'frames': 21160, 'maxpeople': 6, 'v': 13, 'c': 0, 'start': 0, 'end': 21160}\n",
      "{'shortname': 'SS036.camera2', 'stemname': 'CAM1_20141023-112255', 'fullname': 'CAM1_20141023-112255.mp4', 'fullpath': 'U:\\\\Toddler_videos\\\\SS036\\\\CAM1_20141023-112255.mp4', 'index': 37, 'format': '.mp4', 'openpose': {'exitcode': 0, 'when': '2020-04-17T22:29:21.737015', 'out': 'E:\\\\SpeakNSign\\\\out\\\\openpose\\\\SS036_output.avi'}, 'height': 576, 'width': 720, 'fps': 24, 'n_frames': 21164, 'frames': 21164, 'maxpeople': 5, 'v': 13, 'c': 1, 'start': 0, 'end': 21164}\n",
      "{'shortname': 'SS036.camera3', 'stemname': 'CAM2_20141023-112255', 'fullname': 'CAM2_20141023-112255.mp4', 'fullpath': 'U:\\\\Toddler_videos\\\\SS036\\\\CAM2_20141023-112255.mp4', 'index': 38, 'format': '.mp4', 'openpose': {'exitcode': 0, 'when': '2020-04-17T22:51:18.532460', 'out': 'E:\\\\SpeakNSign\\\\out\\\\openpose\\\\SS036_output.avi'}, 'height': 576, 'width': 720, 'fps': 24, 'n_frames': 21170, 'frames': 21170, 'maxpeople': 6, 'v': 13, 'c': 2, 'start': 0, 'end': 21170}\n",
      "SS041\n",
      "{'shortname': 'SS041.camera1', 'stemname': 'CAM3_20141118-123723', 'fullname': 'CAM3_20141118-123723.mp4', 'fullpath': 'U:\\\\Toddler_videos\\\\ss041\\\\CAM3_20141118-123723.mp4', 'index': 39, 'format': '.mp4', 'openpose': {'exitcode': 0, 'when': '2020-04-17T23:13:05.745560', 'out': 'E:\\\\SpeakNSign\\\\out\\\\openpose\\\\SS041_output.avi'}, 'height': 576, 'width': 720, 'fps': 25, 'n_frames': 19515, 'frames': 19515, 'maxpeople': 6, 'v': 14, 'c': 0, 'start': 0, 'end': 19515}\n",
      "{'shortname': 'SS041.camera2', 'stemname': 'CAM1_20141118-123723', 'fullname': 'CAM1_20141118-123723.mp4', 'fullpath': 'U:\\\\Toddler_videos\\\\ss041\\\\CAM1_20141118-123723.mp4', 'index': 40, 'format': '.mp4', 'openpose': {'exitcode': 0, 'when': '2020-04-17T23:32:03.845602', 'out': 'E:\\\\SpeakNSign\\\\out\\\\openpose\\\\SS041_output.avi'}, 'height': 576, 'width': 720, 'fps': 25, 'n_frames': 19514, 'frames': 19514, 'maxpeople': 5, 'v': 14, 'c': 1, 'start': 0, 'end': 19514}\n",
      "{'shortname': 'SS041.camera3', 'stemname': 'CAM2_20141118-123723', 'fullname': 'CAM2_20141118-123723.mp4', 'fullpath': 'U:\\\\Toddler_videos\\\\ss041\\\\CAM2_20141118-123723.mp4', 'index': 41, 'format': '.mp4', 'openpose': {'exitcode': 0, 'when': '2020-04-17T23:50:21.579080', 'out': 'E:\\\\SpeakNSign\\\\out\\\\openpose\\\\SS041_output.avi'}, 'height': 576, 'width': 720, 'fps': 25, 'n_frames': 19513, 'frames': 19513, 'maxpeople': 5, 'v': 14, 'c': 2, 'start': 0, 'end': 19513}\n",
      "SS044\n",
      "{'shortname': 'SS044.camera1', 'stemname': 'CAM3_20141204-103359', 'fullname': 'CAM3_20141204-103359.mp4', 'fullpath': 'U:\\\\Toddler_videos\\\\ss044\\\\CAM3_20141204-103359.mp4', 'index': 42, 'format': '.mp4', 'openpose': {'exitcode': 0, 'when': '2020-04-17T23:57:26.076153', 'out': 'E:\\\\SpeakNSign\\\\out\\\\openpose\\\\SS044_output.avi'}, 'height': 576, 'width': 720, 'fps': 24, 'n_frames': 8175, 'frames': 8175, 'maxpeople': 5, 'v': 15, 'c': 0, 'start': 0, 'end': 8175}\n",
      "{'shortname': 'SS044.camera2', 'stemname': 'CAM1_20141204-103359', 'fullname': 'CAM1_20141204-103359.mp4', 'fullpath': 'U:\\\\Toddler_videos\\\\ss044\\\\CAM1_20141204-103359.mp4', 'index': 43, 'format': '.mp4', 'openpose': {'exitcode': 0, 'when': '2020-04-18T00:04:49.590497', 'out': 'E:\\\\SpeakNSign\\\\out\\\\openpose\\\\SS044_output.avi'}, 'height': 576, 'width': 720, 'fps': 24, 'n_frames': 8175, 'frames': 8175, 'maxpeople': 5, 'v': 15, 'c': 1, 'start': 0, 'end': 8175}\n",
      "{'shortname': 'SS044.camera3', 'stemname': 'CAM2_20141204-103359', 'fullname': 'CAM2_20141204-103359.mp4', 'fullpath': 'U:\\\\Toddler_videos\\\\ss044\\\\CAM2_20141204-103359.mp4', 'index': 44, 'format': '.mp4', 'openpose': {'exitcode': 0, 'when': '2020-04-18T00:12:09.365110', 'out': 'E:\\\\SpeakNSign\\\\out\\\\openpose\\\\SS044_output.avi'}, 'height': 576, 'width': 720, 'fps': 25, 'n_frames': 8177, 'frames': 8177, 'maxpeople': 5, 'v': 15, 'c': 2, 'start': 0, 'end': 8177}\n",
      "SS045\n",
      "{'shortname': 'SS045.camera1', 'stemname': 'CAM1_20141209-115325', 'fullname': 'CAM1_20141209-115325.mp4', 'fullpath': 'U:\\\\Toddler_videos\\\\ss045\\\\PCI\\\\CAM1_20141209-115325.mp4', 'index': 45, 'format': '.mp4', 'openpose': {'exitcode': 0, 'when': '2020-04-18T00:32:34.900184', 'out': 'E:\\\\SpeakNSign\\\\out\\\\openpose\\\\SS045_output.avi'}, 'height': 576, 'width': 720, 'fps': 25, 'n_frames': 17657, 'frames': 17657, 'maxpeople': 8, 'v': 16, 'c': 0, 'start': 0, 'end': 17657}\n",
      "{'shortname': 'SS045.camera2', 'stemname': 'CAM2_20141209-115325', 'fullname': 'CAM2_20141209-115325.mp4', 'fullpath': 'U:\\\\Toddler_videos\\\\ss045\\\\PCI\\\\CAM2_20141209-115325.mp4', 'index': 46, 'format': '.mp4', 'openpose': {'exitcode': 0, 'when': '2020-04-18T00:56:34.906409', 'out': 'E:\\\\SpeakNSign\\\\out\\\\openpose\\\\SS045_output.avi'}, 'height': 576, 'width': 720, 'fps': 25, 'n_frames': 17657, 'frames': 17657, 'maxpeople': 6, 'v': 16, 'c': 1, 'start': 0, 'end': 17657}\n",
      "{'shortname': 'SS045.camera3', 'stemname': 'CAM3_20141209-115325', 'fullname': 'CAM3_20141209-115325.mp4', 'fullpath': 'U:\\\\Toddler_videos\\\\ss045\\\\PCI\\\\CAM3_20141209-115325.mp4', 'index': 47, 'format': '.mp4', 'openpose': {'exitcode': 0, 'when': '2020-04-18T01:12:53.314080', 'out': 'E:\\\\SpeakNSign\\\\out\\\\openpose\\\\SS045_output.avi'}, 'height': 576, 'width': 720, 'fps': 25, 'n_frames': 17664, 'frames': 17664, 'maxpeople': 5, 'v': 16, 'c': 2, 'start': 0, 'end': 17664}\n",
      "SS048\n",
      "{'shortname': 'SS048.camera1', 'stemname': 'CAM3_20150106-105558', 'fullname': 'CAM3_20150106-105558.mp4', 'fullpath': 'U:\\\\Toddler_videos\\\\ss048\\\\CAM3_20150106-105558.mp4', 'index': 48, 'format': '.mp4', 'openpose': {'exitcode': 0, 'when': '2020-04-18T01:32:05.855436', 'out': 'E:\\\\SpeakNSign\\\\out\\\\openpose\\\\SS048_output.avi'}, 'height': 576, 'width': 720, 'fps': 25, 'n_frames': 20579, 'frames': 20579, 'maxpeople': 5, 'v': 17, 'c': 0, 'start': 0, 'end': 20579}\n",
      "{'shortname': 'SS048.camera2', 'stemname': 'CAM1_20150106-105558', 'fullname': 'CAM1_20150106-105558.mp4', 'fullpath': 'U:\\\\Toddler_videos\\\\ss048\\\\CAM1_20150106-105558.mp4', 'index': 49, 'format': '.mp4', 'openpose': {'exitcode': 0, 'when': '2020-04-18T01:51:18.035087', 'out': 'E:\\\\SpeakNSign\\\\out\\\\openpose\\\\SS048_output.avi'}, 'height': 576, 'width': 720, 'fps': 24, 'n_frames': 20571, 'frames': 20571, 'maxpeople': 6, 'v': 17, 'c': 1, 'start': 0, 'end': 20571}\n",
      "{'shortname': 'SS048.camera3', 'stemname': 'CAM2_20150106-105558', 'fullname': 'CAM2_20150106-105558.mp4', 'fullpath': 'U:\\\\Toddler_videos\\\\ss048\\\\CAM2_20150106-105558.mp4', 'index': 50, 'format': '.mp4', 'openpose': {'exitcode': 0, 'when': '2020-04-18T02:10:27.101541', 'out': 'E:\\\\SpeakNSign\\\\out\\\\openpose\\\\SS048_output.avi'}, 'height': 576, 'width': 720, 'fps': 25, 'n_frames': 20585, 'frames': 20585, 'maxpeople': 5, 'v': 17, 'c': 2, 'start': 0, 'end': 20585}\n",
      "SS053\n",
      "{'shortname': 'SS053.camera1', 'stemname': 'CAM3_20150120-124816', 'fullname': 'CAM3_20150120-124816.mp4', 'fullpath': 'U:\\\\Toddler_videos\\\\ss053\\\\CAM3_20150120-124816.mp4', 'index': 3, 'format': '.mp4', 'openpose': {'exitcode': 0, 'when': '2020-04-14T09:06:50.736920', 'out': 'E:\\\\SpeakNSign\\\\out\\\\openpose\\\\SS053_output.avi'}, 'height': 576, 'width': 720, 'fps': 25, 'n_frames': 19461, 'frames': 19461, 'maxpeople': 6, 'v': 18, 'c': 0, 'start': 0, 'end': 19461}\n",
      "{'shortname': 'SS053.camera2', 'stemname': 'CAM1_20150120-124816', 'fullname': 'CAM1_20150120-124816.mp4', 'fullpath': 'U:\\\\Toddler_videos\\\\ss053\\\\CAM1_20150120-124816.mp4', 'index': 4, 'format': '.mp4', 'openpose': {'exitcode': 0, 'when': '2020-04-14T09:25:36.049623', 'out': 'E:\\\\SpeakNSign\\\\out\\\\openpose\\\\SS053_output.avi'}, 'height': 576, 'width': 720, 'fps': 25, 'n_frames': 19460, 'frames': 19460, 'maxpeople': 5, 'v': 18, 'c': 1, 'start': 0, 'end': 19460}\n",
      "{'shortname': 'SS053.camera3', 'stemname': 'CAM2_20150120-124816', 'fullname': 'CAM2_20150120-124816.mp4', 'fullpath': 'U:\\\\Toddler_videos\\\\ss053\\\\CAM2_20150120-124816.mp4', 'index': 5, 'format': '.mp4', 'openpose': {'exitcode': 0, 'when': '2020-04-14T09:43:52.204373', 'out': 'E:\\\\SpeakNSign\\\\out\\\\openpose\\\\SS053_output.avi'}, 'height': 576, 'width': 720, 'fps': 25, 'n_frames': 19461, 'frames': 19461, 'maxpeople': 6, 'v': 18, 'c': 2, 'start': 0, 'end': 19461}\n",
      "SS054\n",
      "{'shortname': 'SS054.camera1', 'stemname': 'CAM3_20150122-142314', 'fullname': 'CAM3_20150122-142314.mp4', 'fullpath': 'U:\\\\Toddler_videos\\\\ss054\\\\CAM3_20150122-142314.mp4', 'index': 6, 'format': '.mp4', 'openpose': {'exitcode': 0, 'when': '2020-04-14T10:01:25.444518', 'out': 'E:\\\\SpeakNSign\\\\out\\\\openpose\\\\SS054_output.avi'}, 'height': 576, 'width': 720, 'fps': 25, 'n_frames': 18779, 'frames': 18779, 'maxpeople': 5, 'v': 19, 'c': 0, 'start': 0, 'end': 18779}\n",
      "{'shortname': 'SS054.camera2', 'stemname': 'CAM1_20150122-142314', 'fullname': 'CAM1_20150122-142314.mp4', 'fullpath': 'U:\\\\Toddler_videos\\\\ss054\\\\CAM1_20150122-142314.mp4', 'index': 7, 'format': '.mp4', 'openpose': {'exitcode': 0, 'when': '2020-04-14T10:18:59.958048', 'out': 'E:\\\\SpeakNSign\\\\out\\\\openpose\\\\SS054_output.avi'}, 'height': 576, 'width': 720, 'fps': 25, 'n_frames': 18769, 'frames': 18769, 'maxpeople': 5, 'v': 19, 'c': 1, 'start': 0, 'end': 18769}\n",
      "{'shortname': 'SS054.camera3', 'stemname': 'CAM2_20150122-142314', 'fullname': 'CAM2_20150122-142314.mp4', 'fullpath': 'U:\\\\Toddler_videos\\\\ss054\\\\CAM2_20150122-142314.mp4', 'index': 8, 'format': '.mp4', 'openpose': {'exitcode': 0, 'when': '2020-04-14T10:36:30.995387', 'out': 'E:\\\\SpeakNSign\\\\out\\\\openpose\\\\SS054_output.avi'}, 'height': 576, 'width': 720, 'fps': 25, 'n_frames': 18785, 'frames': 18785, 'maxpeople': 5, 'v': 19, 'c': 2, 'start': 0, 'end': 18785}\n",
      "SS057\n",
      "{'shortname': 'SS057.camera1', 'stemname': 'CAM3_20150212-103032', 'fullname': 'CAM3_20150212-103032.mp4', 'fullpath': 'U:\\\\Toddler_videos\\\\ss057\\\\CAM3_20150212-103032.mp4', 'index': 9, 'format': '.mp4', 'openpose': {'exitcode': 0, 'when': '2020-04-14T10:52:41.373887', 'out': 'E:\\\\SpeakNSign\\\\out\\\\openpose\\\\SS057_output.avi'}, 'height': 576, 'width': 720, 'fps': 24, 'n_frames': 17944, 'frames': 17944, 'maxpeople': 6, 'v': 20, 'c': 0, 'start': 0, 'end': 17944}\n",
      "{'shortname': 'SS057.camera2', 'stemname': 'CAM1_20150212-103032', 'fullname': 'CAM1_20150212-103032.mp4', 'fullpath': 'U:\\\\Toddler_videos\\\\ss057\\\\CAM1_20150212-103032.mp4', 'index': 10, 'format': '.mp4', 'openpose': {'exitcode': 0, 'when': '2020-04-14T11:08:39.828783', 'out': 'E:\\\\SpeakNSign\\\\out\\\\openpose\\\\SS057_output.avi'}, 'height': 576, 'width': 720, 'fps': 24, 'n_frames': 17917, 'frames': 17917, 'maxpeople': 6, 'v': 20, 'c': 1, 'start': 0, 'end': 17917}\n",
      "{'shortname': 'SS057.camera3', 'stemname': 'CAM2_20150212-103032', 'fullname': 'CAM2_20150212-103032.mp4', 'fullpath': 'U:\\\\Toddler_videos\\\\ss057\\\\CAM2_20150212-103032.mp4', 'index': 11, 'format': '.mp4', 'openpose': {'exitcode': 0, 'when': '2020-04-14T11:25:25.577405', 'out': 'E:\\\\SpeakNSign\\\\out\\\\openpose\\\\SS057_output.avi'}, 'height': 576, 'width': 720, 'fps': 24, 'n_frames': 17981, 'frames': 17981, 'maxpeople': 5, 'v': 20, 'c': 2, 'start': 0, 'end': 17981}\n",
      "SS065\n",
      "{'shortname': 'SS065.camera1', 'stemname': 'CAM3_20150312-135813', 'fullname': 'CAM3_20150312-135813.mp4', 'fullpath': 'U:\\\\Toddler_videos\\\\ss065\\\\CAM3_20150312-135813.mp4', 'index': 15, 'format': '.mp4', 'openpose': {'exitcode': 0, 'when': '2020-04-14T12:39:34.552461', 'out': 'E:\\\\SpeakNSign\\\\out\\\\openpose\\\\SS065_output.avi'}, 'height': 576, 'width': 720, 'fps': 25, 'n_frames': 16833, 'frames': 16833, 'maxpeople': 6, 'v': 22, 'c': 0, 'start': 0, 'end': 16833}\n",
      "{'shortname': 'SS065.camera2', 'stemname': 'CAM1_20150312-135813', 'fullname': 'CAM1_20150312-135813.mp4', 'fullpath': 'U:\\\\Toddler_videos\\\\ss065\\\\CAM1_20150312-135813.mp4', 'index': 16, 'format': '.mp4', 'openpose': {'exitcode': 0, 'when': '2020-04-14T12:55:05.010295', 'out': 'E:\\\\SpeakNSign\\\\out\\\\openpose\\\\SS065_output.avi'}, 'height': 576, 'width': 720, 'fps': 25, 'n_frames': 16835, 'frames': 16835, 'maxpeople': 6, 'v': 22, 'c': 1, 'start': 0, 'end': 16835}\n",
      "{'shortname': 'SS065.camera3', 'stemname': 'CAM2_20150312-135813', 'fullname': 'CAM2_20150312-135813.mp4', 'fullpath': 'U:\\\\Toddler_videos\\\\ss065\\\\CAM2_20150312-135813.mp4', 'index': 17, 'format': '.mp4', 'openpose': {'exitcode': 0, 'when': '2020-04-14T13:11:09.274798', 'out': 'E:\\\\SpeakNSign\\\\out\\\\openpose\\\\SS065_output.avi'}, 'height': 576, 'width': 720, 'fps': 25, 'n_frames': 16836, 'frames': 16836, 'maxpeople': 5, 'v': 22, 'c': 2, 'start': 0, 'end': 16836}\n",
      "SS068\n",
      "{'shortname': 'SS068.camera1', 'stemname': 'CAM3_20150324-104924', 'fullname': 'CAM3_20150324-104924.mp4', 'fullpath': 'U:\\\\Toddler_videos\\\\ss068\\\\CAM3_20150324-104924.mp4', 'index': 18, 'format': '.mp4', 'openpose': {'exitcode': 0, 'when': '2020-04-14T13:29:30.805734', 'out': 'E:\\\\SpeakNSign\\\\out\\\\openpose\\\\SS068_output.avi'}, 'height': 576, 'width': 720, 'fps': 25, 'n_frames': 19214, 'frames': 19214, 'maxpeople': 6, 'v': 23, 'c': 0, 'start': 0, 'end': 19214}\n",
      "{'shortname': 'SS068.camera2', 'stemname': 'CAM1_20150324-104924', 'fullname': 'CAM1_20150324-104924.mp4', 'fullpath': 'U:\\\\Toddler_videos\\\\ss068\\\\CAM1_20150324-104924.mp4', 'index': 19, 'format': '.mp4', 'openpose': {'exitcode': 0, 'when': '2020-04-14T13:47:48.059025', 'out': 'E:\\\\SpeakNSign\\\\out\\\\openpose\\\\SS068_output.avi'}, 'height': 576, 'width': 720, 'fps': 25, 'n_frames': 19211, 'frames': 19211, 'maxpeople': 5, 'v': 23, 'c': 1, 'start': 0, 'end': 19211}\n",
      "{'shortname': 'SS068.camera3', 'stemname': 'CAM2_20150324-104924', 'fullname': 'CAM2_20150324-104924.mp4', 'fullpath': 'U:\\\\Toddler_videos\\\\ss068\\\\CAM2_20150324-104924.mp4', 'index': 20, 'format': '.mp4', 'openpose': {'exitcode': 0, 'when': '2020-04-14T13:55:43.617337', 'out': 'E:\\\\SpeakNSign\\\\out\\\\openpose\\\\SS068_output.avi'}, 'height': 576, 'width': 720, 'fps': 25, 'n_frames': 19203, 'frames': 8642, 'maxpeople': 5, 'v': 23, 'c': 2, 'start': 0, 'end': 8642}\n",
      "SS070\n",
      "{'shortname': 'SS070.camera1', 'stemname': 'CAM2_20150326-111929', 'fullname': 'CAM2_20150326-111929.mp4', 'fullpath': 'U:\\\\Toddler_videos\\\\ss070\\\\CAM2_20150326-111929.mp4', 'index': 51, 'format': '.mp4', 'openpose': {'exitcode': 0, 'when': '2020-04-18T02:24:18.147746', 'out': 'E:\\\\SpeakNSign\\\\out\\\\openpose\\\\SS070_output.avi'}, 'height': 576, 'width': 720, 'fps': 24, 'n_frames': 16572, 'frames': 16572, 'maxpeople': 5, 'v': 24, 'c': 0, 'start': 0, 'end': 16572}\n",
      "{'shortname': 'SS070.camera2', 'stemname': 'CAM3_20150326-111929', 'fullname': 'CAM3_20150326-111929.mp4', 'fullpath': 'U:\\\\Toddler_videos\\\\ss070\\\\CAM3_20150326-111929.mp4', 'index': 0, 'format': '.mp4', 'openpose': {'exitcode': 0, 'when': '2020-04-18T06:51:18.670004', 'out': 'E:\\\\SpeakNSign\\\\out\\\\openpose\\\\SS070_output.avi'}, 'height': 576, 'width': 720, 'fps': 24, 'n_frames': 16597, 'frames': 16597, 'maxpeople': 5, 'v': 24, 'c': 1, 'start': 0, 'end': 16597}\n",
      "{'shortname': 'SS070.camera3', 'stemname': 'CAM1_20150326-111929', 'fullname': 'CAM1_20150326-111929.mp4', 'fullpath': 'U:\\\\Toddler_videos\\\\ss070\\\\CAM1_20150326-111929.mp4', 'index': 1, 'format': '.mp4', 'openpose': {'exitcode': 0, 'when': '2020-04-18T07:58:28.771515', 'out': 'E:\\\\SpeakNSign\\\\out\\\\openpose\\\\SS070_output.avi'}, 'height': 576, 'width': 720, 'fps': 24, 'n_frames': 16508, 'frames': 16508, 'maxpeople': 5, 'v': 24, 'c': 2, 'start': 0, 'end': 16508}\n",
      "SS084\n",
      "{'shortname': 'SS084.camera1', 'stemname': 'CAM1_20160210-114630', 'fullname': 'CAM1_20160210-114630.mp4', 'fullpath': 'U:\\\\Toddler_videos\\\\SS084\\\\CAM1_20160210-114630.mp4', 'index': 3, 'format': '.mp4', 'openpose': {'exitcode': 0, 'when': '2020-04-18T10:00:15.720756', 'out': 'E:\\\\SpeakNSign\\\\out\\\\openpose\\\\SS084_output.avi'}, 'height': 576, 'width': 720, 'fps': 25, 'n_frames': 8288, 'frames': 8288, 'maxpeople': 5, 'v': 26, 'c': 0, 'start': 0, 'end': 8288}\n",
      "{'shortname': 'SS084.camera2', 'stemname': 'CAM2_20160210-114630', 'fullname': 'CAM2_20160210-114630.mp4', 'fullpath': 'U:\\\\Toddler_videos\\\\SS084\\\\CAM2_20160210-114630.mp4', 'index': 4, 'format': '.mp4', 'openpose': {'exitcode': 0, 'when': '2020-04-18T10:07:26.262361', 'out': 'E:\\\\SpeakNSign\\\\out\\\\openpose\\\\SS084_output.avi'}, 'height': 576, 'width': 720, 'fps': 25, 'n_frames': 8294, 'frames': 8294, 'maxpeople': 5, 'v': 26, 'c': 1, 'start': 0, 'end': 8294}\n",
      "{'shortname': 'SS084.camera3', 'stemname': 'CAM3_20160210-114630', 'fullname': 'CAM3_20160210-114630.mp4', 'fullpath': 'U:\\\\Toddler_videos\\\\SS084\\\\CAM3_20160210-114630.mp4', 'index': 5, 'format': '.mp4', 'openpose': {'exitcode': 0, 'when': '2020-04-18T10:15:14.743293', 'out': 'E:\\\\SpeakNSign\\\\out\\\\openpose\\\\SS084_output.avi'}, 'height': 576, 'width': 720, 'fps': 25, 'n_frames': 8295, 'frames': 8295, 'maxpeople': 5, 'v': 26, 'c': 2, 'start': 0, 'end': 8295}\n",
      "SS085\n",
      "{'shortname': 'SS085.camera1', 'stemname': 'CAM3_20160223-104241', 'fullname': 'CAM3_20160223-104241.mp4', 'fullpath': 'U:\\\\Toddler_videos\\\\SS085\\\\CAM3_20160223-104241.mp4', 'index': 6, 'format': '.mp4', 'openpose': {'exitcode': 0, 'when': '2020-04-18T10:21:03.572528', 'out': 'E:\\\\SpeakNSign\\\\out\\\\openpose\\\\SS085_output.avi'}, 'height': 576, 'width': 720, 'fps': 24, 'n_frames': 6731, 'frames': 6731, 'maxpeople': 5, 'v': 27, 'c': 0, 'start': 0, 'end': 6731}\n",
      "{'shortname': 'SS085.camera2', 'stemname': 'CAM1_20160223-104241', 'fullname': 'CAM1_20160223-104241.mp4', 'fullpath': 'U:\\\\Toddler_videos\\\\SS085\\\\CAM1_20160223-104241.mp4', 'index': 7, 'format': '.mp4', 'openpose': {'exitcode': 0, 'when': '2020-04-18T10:27:21.473877', 'out': 'E:\\\\SpeakNSign\\\\out\\\\openpose\\\\SS085_output.avi'}, 'height': 576, 'width': 720, 'fps': 24, 'n_frames': 7061, 'frames': 7061, 'maxpeople': 5, 'v': 27, 'c': 1, 'start': 0, 'end': 7061}\n",
      "{'shortname': 'SS085.camera3', 'stemname': 'CAM2_20160223-104241', 'fullname': 'CAM2_20160223-104241.mp4', 'fullpath': 'U:\\\\Toddler_videos\\\\SS085\\\\CAM2_20160223-104241.mp4', 'index': 8, 'format': '.mp4', 'openpose': {'exitcode': 0, 'when': '2020-04-18T10:33:30.587981', 'out': 'E:\\\\SpeakNSign\\\\out\\\\openpose\\\\SS085_output.avi'}, 'height': 576, 'width': 720, 'fps': 24, 'n_frames': 7060, 'frames': 7060, 'maxpeople': 5, 'v': 27, 'c': 2, 'start': 0, 'end': 7060}\n",
      "SS095\n",
      "{'shortname': 'SS095.camera1', 'stemname': 'CAM3_20160609-123140', 'fullname': 'CAM3_20160609-123140.mp4', 'fullpath': 'U:\\\\Toddler_videos\\\\SS095\\\\CAM3_20160609-123140.mp4', 'index': 9, 'format': '.mp4', 'openpose': {'exitcode': 0, 'when': '2020-04-18T10:41:04.572512', 'out': 'E:\\\\SpeakNSign\\\\out\\\\openpose\\\\SS095_output.avi'}, 'height': 576, 'width': 720, 'fps': 25, 'n_frames': 8048, 'frames': 8048, 'maxpeople': 5, 'v': 28, 'c': 0, 'start': 0, 'end': 8048}\n",
      "{'shortname': 'SS095.camera2', 'stemname': 'CAM1_20160609-123140', 'fullname': 'CAM1_20160609-123140.mp4', 'fullpath': 'U:\\\\Toddler_videos\\\\SS095\\\\CAM1_20160609-123140.mp4', 'index': 10, 'format': '.mp4', 'openpose': {'exitcode': 0, 'when': '2020-04-18T10:48:47.419276', 'out': 'E:\\\\SpeakNSign\\\\out\\\\openpose\\\\SS095_output.avi'}, 'height': 576, 'width': 720, 'fps': 25, 'n_frames': 8069, 'frames': 8069, 'maxpeople': 5, 'v': 28, 'c': 1, 'start': 0, 'end': 8069}\n",
      "{'shortname': 'SS095.camera3', 'stemname': 'CAM2_20160609-123140', 'fullname': 'CAM2_20160609-123140.mp4', 'fullpath': 'U:\\\\Toddler_videos\\\\SS095\\\\CAM2_20160609-123140.mp4', 'index': 11, 'format': '.mp4', 'openpose': {'exitcode': 0, 'when': '2020-04-18T10:55:50.468863', 'out': 'E:\\\\SpeakNSign\\\\out\\\\openpose\\\\SS095_output.avi'}, 'height': 576, 'width': 720, 'fps': 25, 'n_frames': 8054, 'frames': 8054, 'maxpeople': 5, 'v': 28, 'c': 2, 'start': 0, 'end': 8054}\n",
      "SS096\n",
      "{'shortname': 'SS096.camera1', 'stemname': 'CAM3_20160630-115350', 'fullname': 'CAM3_20160630-115350.mp4', 'fullpath': 'U:\\\\Toddler_videos\\\\ss096\\\\CAM3_20160630-115350.mp4', 'index': 12, 'format': '.mp4', 'openpose': {'exitcode': 0, 'when': '2020-04-18T11:02:42.305652', 'out': 'E:\\\\SpeakNSign\\\\out\\\\openpose\\\\SS096_output.avi'}, 'height': 576, 'width': 720, 'fps': 25, 'n_frames': 7846, 'frames': 7846, 'maxpeople': 5, 'v': 29, 'c': 0, 'start': 0, 'end': 7846}\n",
      "{'shortname': 'SS096.camera2', 'stemname': 'CAM1_20160630-115350', 'fullname': 'CAM1_20160630-115350.mp4', 'fullpath': 'U:\\\\Toddler_videos\\\\ss096\\\\CAM1_20160630-115350.mp4', 'index': 13, 'format': '.mp4', 'openpose': {'exitcode': 0, 'when': '2020-04-18T11:09:39.484888', 'out': 'E:\\\\SpeakNSign\\\\out\\\\openpose\\\\SS096_output.avi'}, 'height': 576, 'width': 720, 'fps': 25, 'n_frames': 7835, 'frames': 7835, 'maxpeople': 5, 'v': 29, 'c': 1, 'start': 0, 'end': 7835}\n",
      "{'shortname': 'SS096.camera3', 'stemname': 'CAM2_20160630-115350', 'fullname': 'CAM2_20160630-115350.mp4', 'fullpath': 'U:\\\\Toddler_videos\\\\ss096\\\\CAM2_20160630-115350.mp4', 'index': 14, 'format': '.mp4', 'openpose': {'exitcode': 0, 'when': '2020-04-18T11:16:40.134364', 'out': 'E:\\\\SpeakNSign\\\\out\\\\openpose\\\\SS096_output.avi'}, 'height': 576, 'width': 720, 'fps': 25, 'n_frames': 7826, 'frames': 7826, 'maxpeople': 5, 'v': 29, 'c': 2, 'start': 0, 'end': 7826}\n",
      "SS097\n",
      "{'shortname': 'SS097.camera1', 'stemname': 'CAM3_20160630-142332', 'fullname': 'CAM3_20160630-142332.mp4', 'fullpath': 'U:\\\\Toddler_videos\\\\ss097\\\\CAM3_20160630-142332.mp4', 'index': 15, 'format': '.mp4', 'openpose': {'exitcode': 0, 'when': '2020-04-18T11:24:52.496838', 'out': 'E:\\\\SpeakNSign\\\\out\\\\openpose\\\\SS097_output.avi'}, 'height': 576, 'width': 720, 'fps': 25, 'n_frames': 9051, 'frames': 9051, 'maxpeople': 5, 'v': 30, 'c': 0, 'start': 0, 'end': 9051}\n",
      "{'shortname': 'SS097.camera2', 'stemname': 'CAM1_20160630-142332', 'fullname': 'CAM1_20160630-142332.mp4', 'fullpath': 'U:\\\\Toddler_videos\\\\ss097\\\\CAM1_20160630-142332.mp4', 'index': 16, 'format': '.mp4', 'openpose': {'exitcode': 0, 'when': '2020-04-18T11:32:48.050944', 'out': 'E:\\\\SpeakNSign\\\\out\\\\openpose\\\\SS097_output.avi'}, 'height': 576, 'width': 720, 'fps': 25, 'n_frames': 9053, 'frames': 9053, 'maxpeople': 5, 'v': 30, 'c': 1, 'start': 0, 'end': 9053}\n",
      "{'shortname': 'SS097.camera3', 'stemname': 'CAM2_20160630-142332', 'fullname': 'CAM2_20160630-142332.mp4', 'fullpath': 'U:\\\\Toddler_videos\\\\ss097\\\\CAM2_20160630-142332.mp4', 'index': 17, 'format': '.mp4', 'openpose': {'exitcode': 0, 'when': '2020-04-18T11:40:41.577796', 'out': 'E:\\\\SpeakNSign\\\\out\\\\openpose\\\\SS097_output.avi'}, 'height': 576, 'width': 720, 'fps': 25, 'n_frames': 9037, 'frames': 9037, 'maxpeople': 5, 'v': 30, 'c': 2, 'start': 0, 'end': 9037}\n",
      "SS098\n",
      "{'shortname': 'SS098.camera1', 'stemname': 'CAM3_20160705-114711', 'fullname': 'CAM3_20160705-114711.mp4', 'fullpath': 'U:\\\\Toddler_videos\\\\SS098\\\\CAM3_20160705-114711.mp4', 'index': 18, 'format': '.mp4', 'openpose': {'exitcode': 0, 'when': '2020-04-18T11:48:28.175421', 'out': 'E:\\\\SpeakNSign\\\\out\\\\openpose\\\\SS098_output.avi'}, 'height': 576, 'width': 720, 'fps': 25, 'n_frames': 8945, 'frames': 8945, 'maxpeople': 5, 'v': 31, 'c': 0, 'start': 0, 'end': 8945}\n",
      "{'shortname': 'SS098.camera2', 'stemname': 'CAM1_20160705-114711', 'fullname': 'CAM1_20160705-114711.mp4', 'fullpath': 'U:\\\\Toddler_videos\\\\SS098\\\\CAM1_20160705-114711.mp4', 'index': 19, 'format': '.mp4', 'openpose': {'exitcode': 0, 'when': '2020-04-18T11:56:18.227216', 'out': 'E:\\\\SpeakNSign\\\\out\\\\openpose\\\\SS098_output.avi'}, 'height': 576, 'width': 720, 'fps': 25, 'n_frames': 8964, 'frames': 8964, 'maxpeople': 5, 'v': 31, 'c': 1, 'start': 0, 'end': 8964}\n",
      "{'shortname': 'SS098.camera3', 'stemname': 'CAM2_20160705-114711', 'fullname': 'CAM2_20160705-114711.mp4', 'fullpath': 'U:\\\\Toddler_videos\\\\SS098\\\\CAM2_20160705-114711.mp4', 'index': 20, 'format': '.mp4', 'openpose': {'exitcode': 0, 'when': '2020-04-18T12:04:13.601529', 'out': 'E:\\\\SpeakNSign\\\\out\\\\openpose\\\\SS098_output.avi'}, 'height': 576, 'width': 720, 'fps': 25, 'n_frames': 8963, 'frames': 8963, 'maxpeople': 5, 'v': 31, 'c': 2, 'start': 0, 'end': 8963}\n",
      "SS004\n",
      "{'shortname': 'SS004.camera1', 'stemname': 'S&S_004_270314_3', 'fullname': 'S&S_004_270314_3.mp4', 'fullpath': 'U:\\\\Toddler_videos\\\\SS004\\\\S&S_004_270314_3.mp4', 'index': 24, 'format': '.mp4', 'openpose': {'exitcode': 0, 'when': '2020-04-18T13:18:59.970619', 'out': 'E:\\\\SpeakNSign\\\\out\\\\openpose\\\\SS004_output.avi'}, 'height': 576, 'width': 720, 'fps': 25, 'n_frames': 19699, 'frames': 19699, 'maxpeople': 6, 'v': 33, 'c': 0, 'start': 0, 'end': 19699}\n",
      "{'shortname': 'SS004.camera2', 'stemname': 'S&S_004_270314_1', 'fullname': 'S&S_004_270314_1.mp4', 'fullpath': 'U:\\\\Toddler_videos\\\\SS004\\\\S&S_004_270314_1.mp4', 'index': 25, 'format': '.mp4', 'openpose': {'exitcode': 0, 'when': '2020-04-18T13:38:10.874426', 'out': 'E:\\\\SpeakNSign\\\\out\\\\openpose\\\\SS004_output.avi'}, 'height': 576, 'width': 720, 'fps': 25, 'n_frames': 19693, 'frames': 19693, 'maxpeople': 8, 'v': 33, 'c': 1, 'start': 0, 'end': 19693}\n",
      "{'shortname': 'SS004.camera3', 'stemname': 'S&S_004_270314_2', 'fullname': 'S&S_004_270314_2.mp4', 'fullpath': 'U:\\\\Toddler_videos\\\\SS004\\\\S&S_004_270314_2.mp4', 'index': 26, 'format': '.mp4', 'openpose': {'exitcode': 0, 'when': '2020-04-18T13:56:57.430083', 'out': 'E:\\\\SpeakNSign\\\\out\\\\openpose\\\\SS004_output.avi'}, 'height': 576, 'width': 720, 'fps': 25, 'n_frames': 19695, 'frames': 19695, 'maxpeople': 5, 'v': 33, 'c': 2, 'start': 0, 'end': 19695}\n",
      "SS005\n",
      "{'shortname': 'SS005.camera1', 'stemname': 'CAM3_20140405-113335', 'fullname': 'CAM3_20140405-113335.mp4', 'fullpath': 'U:\\\\Toddler_videos\\\\SS005\\\\CAM3_20140405-113335.mp4', 'index': 27, 'format': '.mp4', 'openpose': {'exitcode': 0, 'when': '2020-04-18T14:06:32.385718', 'out': 'E:\\\\SpeakNSign\\\\out\\\\openpose\\\\SS005_output.avi'}, 'height': 576, 'width': 720, 'fps': 25, 'n_frames': 10694, 'frames': 10694, 'maxpeople': 5, 'v': 34, 'c': 0, 'start': 0, 'end': 10694}\n",
      "{'shortname': 'SS005.camera2', 'stemname': 'CAM1_20140405-113335', 'fullname': 'CAM1_20140405-113335.mp4', 'fullpath': 'U:\\\\Toddler_videos\\\\SS005\\\\CAM1_20140405-113335.mp4', 'index': 28, 'format': '.mp4', 'openpose': {'exitcode': 0, 'when': '2020-04-18T14:16:16.342227', 'out': 'E:\\\\SpeakNSign\\\\out\\\\openpose\\\\SS005_output.avi'}, 'height': 576, 'width': 720, 'fps': 25, 'n_frames': 10695, 'frames': 10695, 'maxpeople': 5, 'v': 34, 'c': 1, 'start': 0, 'end': 10695}\n",
      "{'shortname': 'SS005.camera3', 'stemname': 'CAM2_20140405-113335', 'fullname': 'CAM2_20140405-113335.mp4', 'fullpath': 'U:\\\\Toddler_videos\\\\SS005\\\\CAM2_20140405-113335.mp4', 'index': 29, 'format': '.mp4', 'openpose': {'exitcode': 0, 'when': '2020-04-18T14:26:50.972603', 'out': 'E:\\\\SpeakNSign\\\\out\\\\openpose\\\\SS005_output.avi'}, 'height': 576, 'width': 720, 'fps': 25, 'n_frames': 10679, 'frames': 10679, 'maxpeople': 5, 'v': 34, 'c': 2, 'start': 0, 'end': 10679}\n",
      "SS007\n",
      "{'shortname': 'SS007.camera1', 'stemname': 'CAM1_20140410-104127', 'fullname': 'CAM1_20140410-104127.mp4', 'fullpath': 'U:\\\\Toddler_videos\\\\SS007\\\\CAM1_20140410-104127.mp4', 'index': 30, 'format': '.mp4', 'openpose': {'exitcode': 0, 'when': '2020-04-18T14:53:51.794559', 'out': 'E:\\\\SpeakNSign\\\\out\\\\openpose\\\\SS007_output.avi'}, 'height': 576, 'width': 720, 'fps': 24, 'n_frames': 18835, 'frames': 18835, 'maxpeople': 5, 'v': 35, 'c': 0, 'start': 0, 'end': 18835}\n",
      "{'shortname': 'SS007.camera2', 'stemname': 'CAM2_20140410-104127', 'fullname': 'CAM2_20140410-104127.mp4', 'fullpath': 'U:\\\\Toddler_videos\\\\SS007\\\\CAM2_20140410-104127.mp4', 'index': 31, 'format': '.mp4', 'openpose': {'exitcode': 0, 'when': '2020-04-18T15:12:12.393650', 'out': 'E:\\\\SpeakNSign\\\\out\\\\openpose\\\\SS007_output.avi'}, 'height': 576, 'width': 720, 'fps': 25, 'n_frames': 18870, 'frames': 18870, 'maxpeople': 5, 'v': 35, 'c': 1, 'start': 0, 'end': 18870}\n",
      "{'shortname': 'SS007.camera3', 'stemname': 'CAM3_20140410-104127', 'fullname': 'CAM3_20140410-104127.mp4', 'fullpath': 'U:\\\\Toddler_videos\\\\SS007\\\\CAM3_20140410-104127.mp4', 'index': 32, 'format': '.mp4', 'openpose': {'exitcode': 0, 'when': '2020-04-18T15:31:29.175432', 'out': 'E:\\\\SpeakNSign\\\\out\\\\openpose\\\\SS007_output.avi'}, 'height': 576, 'width': 720, 'fps': 24, 'n_frames': 18834, 'frames': 18834, 'maxpeople': 5, 'v': 35, 'c': 2, 'start': 0, 'end': 18834}\n",
      "SS009\n",
      "{'shortname': 'SS009.camera1', 'stemname': 'PCI_SS009_1', 'fullname': 'PCI_SS009_1.mp4', 'fullpath': 'U:\\\\Toddler_videos\\\\SS009\\\\PCI_SS009_1.mp4', 'index': 33, 'format': '.mp4', 'openpose': {'exitcode': 0, 'when': '2020-04-18T15:41:50.843600', 'out': 'E:\\\\SpeakNSign\\\\out\\\\openpose\\\\SS009_output.avi'}, 'height': 576, 'width': 720, 'fps': 24, 'n_frames': 10583, 'frames': 10583, 'maxpeople': 5, 'v': 36, 'c': 0, 'start': 0, 'end': 10583}\n",
      "{'shortname': 'SS009.camera2', 'stemname': 'PCI_SS009_2', 'fullname': 'PCI_SS009_2.mp4', 'fullpath': 'U:\\\\Toddler_videos\\\\SS009\\\\PCI_SS009_2.mp4', 'index': 34, 'format': '.mp4', 'openpose': {'exitcode': 0, 'when': '2020-04-18T15:51:56.285198', 'out': 'E:\\\\SpeakNSign\\\\out\\\\openpose\\\\SS009_output.avi'}, 'height': 576, 'width': 720, 'fps': 25, 'n_frames': 10583, 'frames': 10583, 'maxpeople': 5, 'v': 36, 'c': 1, 'start': 0, 'end': 10583}\n",
      "{'shortname': 'SS009.camera3', 'stemname': 'PCI_SS009_3', 'fullname': 'PCI_SS009_3.mp4', 'fullpath': 'U:\\\\Toddler_videos\\\\SS009\\\\PCI_SS009_3.mp4', 'index': 35, 'format': '.mp4', 'openpose': {'exitcode': 0, 'when': '2020-04-18T16:01:52.529375', 'out': 'E:\\\\SpeakNSign\\\\out\\\\openpose\\\\SS009_output.avi'}, 'height': 576, 'width': 720, 'fps': 24, 'n_frames': 10582, 'frames': 10582, 'maxpeople': 5, 'v': 36, 'c': 2, 'start': 0, 'end': 10582}\n",
      "SS024\n",
      "{'shortname': 'SS024.camera1', 'stemname': 'CAM3_20140701-125951', 'fullname': 'CAM3_20140701-125951.mp4', 'fullpath': 'U:\\\\Toddler_videos\\\\ss024\\\\CAM3_20140701-125951.mp4', 'index': 36, 'format': '.mp4', 'openpose': {'exitcode': 0, 'when': '2020-04-18T16:15:35.723544', 'out': 'E:\\\\SpeakNSign\\\\out\\\\openpose\\\\SS024_output.avi'}, 'height': 576, 'width': 720, 'fps': 25, 'n_frames': 14706, 'frames': 14706, 'maxpeople': 5, 'v': 37, 'c': 0, 'start': 0, 'end': 14706}\n",
      "{'shortname': 'SS024.camera2', 'stemname': 'CAM1_20140701-125951', 'fullname': 'CAM1_20140701-125951.mp4', 'fullpath': 'U:\\\\Toddler_videos\\\\ss024\\\\CAM1_20140701-125951.mp4', 'index': 37, 'format': '.mp4', 'openpose': {'exitcode': 0, 'when': '2020-04-18T16:29:18.842141', 'out': 'E:\\\\SpeakNSign\\\\out\\\\openpose\\\\SS024_output.avi'}, 'height': 576, 'width': 720, 'fps': 25, 'n_frames': 14707, 'frames': 14707, 'maxpeople': 5, 'v': 37, 'c': 1, 'start': 0, 'end': 14707}\n",
      "{'shortname': 'SS024.camera3', 'stemname': 'CAM2_20140701-125951', 'fullname': 'CAM2_20140701-125951.mp4', 'fullpath': 'U:\\\\Toddler_videos\\\\ss024\\\\CAM2_20140701-125951.mp4', 'index': 38, 'format': '.mp4', 'openpose': {'exitcode': 0, 'when': '2020-04-18T16:42:47.886355', 'out': 'E:\\\\SpeakNSign\\\\out\\\\openpose\\\\SS024_output.avi'}, 'height': 576, 'width': 720, 'fps': 25, 'n_frames': 14707, 'frames': 14707, 'maxpeople': 6, 'v': 37, 'c': 2, 'start': 0, 'end': 14707}\n",
      "SS026\n",
      "{'shortname': 'SS026.camera1', 'stemname': 'CAM3_20140710-100406', 'fullname': 'CAM3_20140710-100406.mp4', 'fullpath': 'U:\\\\Toddler_videos\\\\ss026\\\\CAM3_20140710-100406.mp4', 'index': 39, 'format': '.mp4', 'openpose': {'exitcode': 0, 'when': '2020-04-18T16:54:16.583096', 'out': 'E:\\\\SpeakNSign\\\\out\\\\openpose\\\\SS026_output.avi'}, 'height': 576, 'width': 720, 'fps': 24, 'n_frames': 12822, 'frames': 12822, 'maxpeople': 6, 'v': 38, 'c': 0, 'start': 0, 'end': 12822}\n",
      "{'shortname': 'SS026.camera2', 'stemname': 'CAM1_20140710-100406', 'fullname': 'CAM1_20140710-100406.mp4', 'fullpath': 'U:\\\\Toddler_videos\\\\ss026\\\\CAM1_20140710-100406.mp4', 'index': 40, 'format': '.mp4', 'openpose': {'exitcode': 0, 'when': '2020-04-18T17:05:56.172124', 'out': 'E:\\\\SpeakNSign\\\\out\\\\openpose\\\\SS026_output.avi'}, 'height': 576, 'width': 720, 'fps': 24, 'n_frames': 12822, 'frames': 12822, 'maxpeople': 6, 'v': 38, 'c': 1, 'start': 0, 'end': 12822}\n",
      "{'shortname': 'SS026.camera3', 'stemname': 'CAM2_20140710-100406', 'fullname': 'CAM2_20140710-100406.mp4', 'fullpath': 'U:\\\\Toddler_videos\\\\ss026\\\\CAM2_20140710-100406.mp4', 'index': 41, 'format': '.mp4', 'openpose': {'exitcode': 0, 'when': '2020-04-18T17:17:36.897682', 'out': 'E:\\\\SpeakNSign\\\\out\\\\openpose\\\\SS026_output.avi'}, 'height': 576, 'width': 720, 'fps': 25, 'n_frames': 12799, 'frames': 12799, 'maxpeople': 5, 'v': 38, 'c': 2, 'start': 0, 'end': 12799}\n",
      "SS028\n",
      "{'shortname': 'SS028.camera1', 'stemname': 'SS028_PCI3', 'fullname': 'SS028_PCI3.mp4', 'fullpath': 'U:\\\\Toddler_videos\\\\SS028\\\\SS028_PCI3.mp4', 'index': 42, 'format': '.mp4', 'openpose': {'exitcode': 0, 'when': '2020-04-18T17:34:27.333468', 'out': 'E:\\\\SpeakNSign\\\\out\\\\openpose\\\\SS028_output.avi'}, 'height': 576, 'width': 720, 'fps': 24, 'n_frames': 17968, 'frames': 17968, 'maxpeople': 7, 'v': 39, 'c': 0, 'start': 0, 'end': 17968}\n",
      "{'shortname': 'SS028.camera2', 'stemname': 'SS028_PCI1', 'fullname': 'SS028_PCI1.mp4', 'fullpath': 'U:\\\\Toddler_videos\\\\SS028\\\\SS028_PCI1.mp4', 'index': 43, 'format': '.mp4', 'openpose': {'exitcode': 0, 'when': '2020-04-18T17:51:42.845387', 'out': 'E:\\\\SpeakNSign\\\\out\\\\openpose\\\\SS028_output.avi'}, 'height': 576, 'width': 720, 'fps': 25, 'n_frames': 17968, 'frames': 17968, 'maxpeople': 5, 'v': 39, 'c': 1, 'start': 0, 'end': 17968}\n",
      "{'shortname': 'SS028.camera3', 'stemname': 'SS028_PCI2', 'fullname': 'SS028_PCI2.mp4', 'fullpath': 'U:\\\\Toddler_videos\\\\SS028\\\\SS028_PCI2.mp4', 'index': 44, 'format': '.mp4', 'openpose': {'exitcode': 0, 'when': '2020-04-18T18:09:41.158245', 'out': 'E:\\\\SpeakNSign\\\\out\\\\openpose\\\\SS028_output.avi'}, 'height': 576, 'width': 720, 'fps': 25, 'n_frames': 17969, 'frames': 17969, 'maxpeople': 6, 'v': 39, 'c': 2, 'start': 0, 'end': 17969}\n",
      "SS029\n",
      "{'shortname': 'SS029.camera1', 'stemname': 'CAM1_20140722-101124', 'fullname': 'CAM1_20140722-101124.mp4', 'fullpath': 'U:\\\\Toddler_videos\\\\SS029\\\\CAM1_20140722-101124.mp4', 'index': 45, 'format': '.mp4', 'openpose': {'exitcode': 0, 'when': '2020-04-18T18:18:09.797994', 'out': 'E:\\\\SpeakNSign\\\\out\\\\openpose\\\\SS029_output.avi'}, 'height': 576, 'width': 720, 'fps': 25, 'n_frames': 9566, 'frames': 9566, 'maxpeople': 6, 'v': 40, 'c': 0, 'start': 0, 'end': 9566}\n",
      "{'shortname': 'SS029.camera2', 'stemname': 'CAM2_20140722-101124', 'fullname': 'CAM2_20140722-101124.mp4', 'fullpath': 'U:\\\\Toddler_videos\\\\SS029\\\\CAM2_20140722-101124.mp4', 'index': 46, 'format': '.mp4', 'openpose': {'exitcode': 0, 'when': '2020-04-18T18:26:35.569911', 'out': 'E:\\\\SpeakNSign\\\\out\\\\openpose\\\\SS029_output.avi'}, 'height': 576, 'width': 720, 'fps': 25, 'n_frames': 9572, 'frames': 9572, 'maxpeople': 5, 'v': 40, 'c': 1, 'start': 0, 'end': 9572}\n",
      "{'shortname': 'SS029.camera3', 'stemname': 'CAM3_20140722-101124', 'fullname': 'CAM3_20140722-101124.mp4', 'fullpath': 'U:\\\\Toddler_videos\\\\SS029\\\\CAM3_20140722-101124.mp4', 'index': 47, 'format': '.mp4', 'openpose': {'exitcode': 0, 'when': '2020-04-18T18:35:02.551517', 'out': 'E:\\\\SpeakNSign\\\\out\\\\openpose\\\\SS029_output.avi'}, 'height': 576, 'width': 720, 'fps': 25, 'n_frames': 9566, 'frames': 9566, 'maxpeople': 5, 'v': 40, 'c': 2, 'start': 0, 'end': 9566}\n",
      "SS031\n",
      "{'shortname': 'SS031.camera1', 'stemname': 'SS031_PCI3', 'fullname': 'SS031_PCI3.mp4', 'fullpath': 'U:\\\\Toddler_videos\\\\SS031\\\\SS031_PCI3.mp4', 'index': 48, 'format': '.mp4', 'openpose': {'exitcode': 0, 'when': '2020-04-18T18:54:27.342772', 'out': 'E:\\\\SpeakNSign\\\\out\\\\openpose\\\\SS031_output.avi'}, 'height': 576, 'width': 720, 'fps': 24, 'n_frames': 19646, 'frames': 19646, 'maxpeople': 5, 'v': 41, 'c': 0, 'start': 0, 'end': 19646}\n",
      "{'shortname': 'SS031.camera2', 'stemname': 'SS031_PCI1', 'fullname': 'SS031_PCI1.mp4', 'fullpath': 'U:\\\\Toddler_videos\\\\SS031\\\\SS031_PCI1.mp4', 'index': 49, 'format': '.mp4', 'openpose': {'exitcode': 0, 'when': '2020-04-18T19:13:21.452088', 'out': 'E:\\\\SpeakNSign\\\\out\\\\openpose\\\\SS031_output.avi'}, 'height': 576, 'width': 720, 'fps': 24, 'n_frames': 19745, 'frames': 19745, 'maxpeople': 6, 'v': 41, 'c': 1, 'start': 0, 'end': 19745}\n",
      "{'shortname': 'SS031.camera3', 'stemname': 'SS031_PCI2', 'fullname': 'SS031_PCI2.mp4', 'fullpath': 'U:\\\\Toddler_videos\\\\SS031\\\\SS031_PCI2.mp4', 'index': 50, 'format': '.mp4', 'openpose': {'exitcode': 0, 'when': '2020-04-18T19:31:40.911121', 'out': 'E:\\\\SpeakNSign\\\\out\\\\openpose\\\\SS031_output.avi'}, 'height': 576, 'width': 720, 'fps': 24, 'n_frames': 19730, 'frames': 19730, 'maxpeople': 5, 'v': 41, 'c': 2, 'start': 0, 'end': 19730}\n",
      "SS043\n",
      "{'shortname': 'SS043.camera1', 'stemname': 'CAM3_20141202-145214', 'fullname': 'CAM3_20141202-145214.mp4', 'fullpath': 'U:\\\\Toddler_videos\\\\ss043\\\\CAM3_20141202-145214.mp4', 'index': 51, 'format': '.mp4', 'openpose': {'exitcode': 0, 'when': '2020-04-18T19:51:03.795567', 'out': 'E:\\\\SpeakNSign\\\\out\\\\openpose\\\\SS043_output.avi'}, 'height': 576, 'width': 720, 'fps': 25, 'n_frames': 20830, 'frames': 20830, 'maxpeople': 5, 'v': 42, 'c': 0, 'start': 0, 'end': 20830}\n",
      "{'shortname': 'SS043.camera2', 'stemname': 'CAM1_20141202-145214', 'fullname': 'CAM1_20141202-145214.mp4', 'fullpath': 'U:\\\\Toddler_videos\\\\ss043\\\\CAM1_20141202-145214.mp4', 'index': 52, 'format': '.mp4', 'openpose': {'exitcode': 0, 'when': '2020-04-18T20:10:34.025873', 'out': 'E:\\\\SpeakNSign\\\\out\\\\openpose\\\\SS043_output.avi'}, 'height': 576, 'width': 720, 'fps': 25, 'n_frames': 20821, 'frames': 20821, 'maxpeople': 7, 'v': 42, 'c': 1, 'start': 0, 'end': 20821}\n",
      "{'shortname': 'SS043.camera3', 'stemname': 'CAM2_20141202-145214', 'fullname': 'CAM2_20141202-145214.mp4', 'fullpath': 'U:\\\\Toddler_videos\\\\ss043\\\\CAM2_20141202-145214.mp4', 'index': 53, 'format': '.mp4', 'openpose': {'exitcode': 0, 'when': '2020-04-18T20:32:17.248999', 'out': 'E:\\\\SpeakNSign\\\\out\\\\openpose\\\\SS043_output.avi'}, 'height': 576, 'width': 720, 'fps': 25, 'n_frames': 20810, 'frames': 20810, 'maxpeople': 6, 'v': 42, 'c': 2, 'start': 0, 'end': 20810}\n",
      "SS046\n",
      "{'shortname': 'SS046.camera1', 'stemname': 'CAM3_20141209-122622', 'fullname': 'CAM3_20141209-122622.mp4', 'fullpath': 'U:\\\\Toddler_videos\\\\ss046\\\\CAM3_20141209-122622.mp4', 'index': 54, 'format': '.mp4', 'openpose': {'exitcode': 0, 'when': '2020-04-18T20:58:20.477993', 'out': 'E:\\\\SpeakNSign\\\\out\\\\openpose\\\\SS046_output.avi'}, 'height': 576, 'width': 720, 'fps': 25, 'n_frames': 23501, 'frames': 23501, 'maxpeople': 6, 'v': 43, 'c': 0, 'start': 0, 'end': 23501}\n",
      "{'shortname': 'SS046.camera2', 'stemname': 'CAM1_20141209-122622', 'fullname': 'CAM1_20141209-122622.mp4', 'fullpath': 'U:\\\\Toddler_videos\\\\ss046\\\\CAM1_20141209-122622.mp4', 'index': 55, 'format': '.mp4', 'openpose': {'exitcode': 0, 'when': '2020-04-18T21:22:01.797766', 'out': 'E:\\\\SpeakNSign\\\\out\\\\openpose\\\\SS046_output.avi'}, 'height': 576, 'width': 720, 'fps': 25, 'n_frames': 23493, 'frames': 23493, 'maxpeople': 6, 'v': 43, 'c': 1, 'start': 0, 'end': 23493}\n",
      "{'shortname': 'SS046.camera3', 'stemname': 'CAM2_20141209-122622', 'fullname': 'CAM2_20141209-122622.mp4', 'fullpath': 'U:\\\\Toddler_videos\\\\ss046\\\\CAM2_20141209-122622.mp4', 'index': 56, 'format': '.mp4', 'openpose': {'exitcode': 0, 'when': '2020-04-18T21:22:14.783248', 'out': 'E:\\\\SpeakNSign\\\\out\\\\openpose\\\\SS046_output.avi'}, 'height': 576, 'width': 720, 'fps': 25, 'n_frames': 23504, 'frames': 23504, 'maxpeople': 7, 'v': 43, 'c': 2, 'start': 0, 'end': 23504}\n",
      "SS050\n",
      "{'shortname': 'SS050.camera1', 'stemname': 'CAM3_20150113-104218', 'fullname': 'CAM3_20150113-104218.mp4', 'fullpath': 'U:\\\\Toddler_videos\\\\ss050\\\\CAM3_20150113-104218.mp4', 'index': 57, 'format': '.mp4', 'openpose': {'exitcode': 0, 'when': '2020-04-18T21:42:21.544006', 'out': 'E:\\\\SpeakNSign\\\\out\\\\openpose\\\\SS050_output.avi'}, 'height': 576, 'width': 720, 'fps': 25, 'n_frames': 19722, 'frames': 19722, 'maxpeople': 5, 'v': 44, 'c': 0, 'start': 0, 'end': 19722}\n",
      "{'shortname': 'SS050.camera2', 'stemname': 'CAM1_20150113-104218', 'fullname': 'CAM1_20150113-104218.mp4', 'fullpath': 'U:\\\\Toddler_videos\\\\ss050\\\\CAM1_20150113-104218.mp4', 'index': 58, 'format': '.mp4', 'openpose': {'exitcode': 0, 'when': '2020-04-18T22:01:23.779751', 'out': 'E:\\\\SpeakNSign\\\\out\\\\openpose\\\\SS050_output.avi'}, 'height': 576, 'width': 720, 'fps': 25, 'n_frames': 19742, 'frames': 19742, 'maxpeople': 7, 'v': 44, 'c': 1, 'start': 0, 'end': 19742}\n",
      "{'shortname': 'SS050.camera3', 'stemname': 'CAM2_20150113-104218', 'fullname': 'CAM2_20150113-104218.mp4', 'fullpath': 'U:\\\\Toddler_videos\\\\ss050\\\\CAM2_20150113-104218.mp4', 'index': 59, 'format': '.mp4', 'openpose': {'exitcode': 0, 'when': '2020-04-18T22:20:28.357410', 'out': 'E:\\\\SpeakNSign\\\\out\\\\openpose\\\\SS050_output.avi'}, 'height': 576, 'width': 720, 'fps': 25, 'n_frames': 19738, 'frames': 19738, 'maxpeople': 7, 'v': 44, 'c': 2, 'start': 0, 'end': 19738}\n",
      "SS051\n",
      "{'shortname': 'SS051.camera1', 'stemname': 'CAM2_20150113-100912', 'fullname': 'CAM2_20150113-100912.mp4', 'fullpath': 'U:\\\\Toddler_videos\\\\ss051\\\\CAM2_20150113-100912.mp4', 'index': 60, 'format': '.mp4', 'openpose': {'exitcode': 0, 'when': '2020-04-18T22:38:42.999830', 'out': 'E:\\\\SpeakNSign\\\\out\\\\openpose\\\\SS051_output.avi'}, 'height': 576, 'width': 720, 'fps': 25, 'n_frames': 19215, 'frames': 19215, 'maxpeople': 5, 'v': 45, 'c': 0, 'start': 0, 'end': 19215}\n",
      "{'shortname': 'SS051.camera2', 'stemname': 'CAM3_20150113-100912', 'fullname': 'CAM3_20150113-100912.mp4', 'fullpath': 'U:\\\\Toddler_videos\\\\ss051\\\\CAM3_20150113-100912.mp4', 'index': 61, 'format': '.mp4', 'openpose': {'exitcode': 0, 'when': '2020-04-18T22:56:44.848656', 'out': 'E:\\\\SpeakNSign\\\\out\\\\openpose\\\\SS051_output.avi'}, 'height': 576, 'width': 720, 'fps': 25, 'n_frames': 19200, 'frames': 19200, 'maxpeople': 6, 'v': 45, 'c': 1, 'start': 0, 'end': 19200}\n",
      "{'shortname': 'SS051.camera3', 'stemname': 'CAM1_20150113-100912', 'fullname': 'CAM1_20150113-100912.mp4', 'fullpath': 'U:\\\\Toddler_videos\\\\ss051\\\\CAM1_20150113-100912.mp4', 'index': 62, 'format': '.mp4', 'openpose': {'exitcode': 0, 'when': '2020-04-18T23:15:15.458122', 'out': 'E:\\\\SpeakNSign\\\\out\\\\openpose\\\\SS051_output.avi'}, 'height': 576, 'width': 720, 'fps': 25, 'n_frames': 19198, 'frames': 19198, 'maxpeople': 6, 'v': 45, 'c': 2, 'start': 0, 'end': 19198}\n",
      "SS052\n",
      "{'shortname': 'SS052.camera1', 'stemname': 'CAM3_20150113-124346', 'fullname': 'CAM3_20150113-124346.mp4', 'fullpath': 'U:\\\\Toddler_videos\\\\ss052\\\\CAM3_20150113-124346.mp4', 'index': 63, 'format': '.mp4', 'openpose': {'exitcode': 0, 'when': '2020-04-18T23:34:14.091737', 'out': 'E:\\\\SpeakNSign\\\\out\\\\openpose\\\\SS052_output.avi'}, 'height': 576, 'width': 720, 'fps': 25, 'n_frames': 20118, 'frames': 20118, 'maxpeople': 5, 'v': 46, 'c': 0, 'start': 0, 'end': 20118}\n",
      "{'shortname': 'SS052.camera2', 'stemname': 'CAM1_20150113-124346', 'fullname': 'CAM1_20150113-124346.mp4', 'fullpath': 'U:\\\\Toddler_videos\\\\ss052\\\\CAM1_20150113-124346.mp4', 'index': 64, 'format': '.mp4', 'openpose': {'exitcode': 0, 'when': '2020-04-18T23:53:24.686152', 'out': 'E:\\\\SpeakNSign\\\\out\\\\openpose\\\\SS052_output.avi'}, 'height': 576, 'width': 720, 'fps': 25, 'n_frames': 20130, 'frames': 20130, 'maxpeople': 5, 'v': 46, 'c': 1, 'start': 0, 'end': 20130}\n",
      "{'shortname': 'SS052.camera3', 'stemname': 'CAM2_20150113-124346', 'fullname': 'CAM2_20150113-124346.mp4', 'fullpath': 'U:\\\\Toddler_videos\\\\ss052\\\\CAM2_20150113-124346.mp4', 'index': 65, 'format': '.mp4', 'openpose': {'exitcode': 0, 'when': '2020-04-19T00:12:02.579143', 'out': 'E:\\\\SpeakNSign\\\\out\\\\openpose\\\\SS052_output.avi'}, 'height': 576, 'width': 720, 'fps': 25, 'n_frames': 20137, 'frames': 20137, 'maxpeople': 4, 'v': 46, 'c': 2, 'start': 0, 'end': 20137}\n",
      "SS055\n",
      "{'shortname': 'SS055.camera1', 'stemname': 'CAM3_20150127-121623', 'fullname': 'CAM3_20150127-121623.mp4', 'fullpath': 'U:\\\\Toddler_videos\\\\ss055\\\\CAM3_20150127-121623.mp4', 'index': 66, 'format': '.mp4', 'openpose': {'exitcode': 0, 'when': '2020-04-19T00:19:27.866550', 'out': 'E:\\\\SpeakNSign\\\\out\\\\openpose\\\\SS055_output.avi'}, 'height': 576, 'width': 720, 'fps': 24, 'n_frames': 8496, 'frames': 8496, 'maxpeople': 4, 'v': 47, 'c': 0, 'start': 0, 'end': 8496}\n",
      "{'shortname': 'SS055.camera2', 'stemname': 'CAM1_20150127-121623', 'fullname': 'CAM1_20150127-121623.mp4', 'fullpath': 'U:\\\\Toddler_videos\\\\ss055\\\\CAM1_20150127-121623.mp4', 'index': 67, 'format': '.mp4', 'openpose': {'exitcode': 0, 'when': '2020-04-19T00:26:52.720112', 'out': 'E:\\\\SpeakNSign\\\\out\\\\openpose\\\\SS055_output.avi'}, 'height': 576, 'width': 720, 'fps': 24, 'n_frames': 8496, 'frames': 8496, 'maxpeople': 5, 'v': 47, 'c': 1, 'start': 0, 'end': 8496}\n",
      "{'shortname': 'SS055.camera3', 'stemname': 'CAM2_20150127-121623', 'fullname': 'CAM2_20150127-121623.mp4', 'fullpath': 'U:\\\\Toddler_videos\\\\ss055\\\\CAM2_20150127-121623.mp4', 'index': 68, 'format': '.mp4', 'openpose': {'exitcode': 0, 'when': '2020-04-19T00:34:14.611274', 'out': 'E:\\\\SpeakNSign\\\\out\\\\openpose\\\\SS055_output.avi'}, 'height': 576, 'width': 720, 'fps': 25, 'n_frames': 8496, 'frames': 8496, 'maxpeople': 5, 'v': 47, 'c': 2, 'start': 0, 'end': 8496}\n",
      "SS059\n",
      "{'shortname': 'SS059.camera1', 'stemname': 'CAM3_20150218-104833', 'fullname': 'CAM3_20150218-104833.mp4', 'fullpath': 'U:\\\\Toddler_videos\\\\ss059\\\\CAM3_20150218-104833.mp4', 'index': 69, 'format': '.mp4', 'openpose': {'exitcode': 0, 'when': '2020-04-19T00:40:23.078821', 'out': 'E:\\\\SpeakNSign\\\\out\\\\openpose\\\\SS059_output.avi'}, 'height': 576, 'width': 720, 'fps': 25, 'n_frames': 7166, 'frames': 7166, 'maxpeople': 4, 'v': 48, 'c': 0, 'start': 0, 'end': 7166}\n",
      "{'shortname': 'SS059.camera2', 'stemname': 'CAM1_20150218-104833', 'fullname': 'CAM1_20150218-104833.mp4', 'fullpath': 'U:\\\\Toddler_videos\\\\ss059\\\\CAM1_20150218-104833.mp4', 'index': 70, 'format': '.mp4', 'openpose': {'exitcode': 0, 'when': '2020-04-19T00:46:33.229557', 'out': 'E:\\\\SpeakNSign\\\\out\\\\openpose\\\\SS059_output.avi'}, 'height': 576, 'width': 720, 'fps': 25, 'n_frames': 7166, 'frames': 7166, 'maxpeople': 4, 'v': 48, 'c': 1, 'start': 0, 'end': 7166}\n",
      "{'shortname': 'SS059.camera3', 'stemname': 'CAM2_20150218-104833', 'fullname': 'CAM2_20150218-104833.mp4', 'fullpath': 'U:\\\\Toddler_videos\\\\ss059\\\\CAM2_20150218-104833.mp4', 'index': 71, 'format': '.mp4', 'openpose': {'exitcode': 0, 'when': '2020-04-19T00:52:44.852308', 'out': 'E:\\\\SpeakNSign\\\\out\\\\openpose\\\\SS059_output.avi'}, 'height': 576, 'width': 720, 'fps': 25, 'n_frames': 7167, 'frames': 7167, 'maxpeople': 4, 'v': 48, 'c': 2, 'start': 0, 'end': 7167}\n",
      "SS064\n",
      "{'shortname': 'SS064.camera1', 'stemname': 'CAM1_20150312-144733', 'fullname': 'CAM1_20150312-144733.mp4', 'fullpath': 'U:\\\\Toddler_videos\\\\SS064\\\\CAM1_20150312-144733.mp4', 'index': 72, 'format': '.mp4', 'openpose': {'exitcode': 0, 'when': '2020-04-19T00:59:45.544461', 'out': 'E:\\\\SpeakNSign\\\\out\\\\openpose\\\\SS064_output.avi'}, 'height': 576, 'width': 720, 'fps': 25, 'n_frames': 8119, 'frames': 8119, 'maxpeople': 4, 'v': 49, 'c': 0, 'start': 0, 'end': 8119}\n",
      "{'shortname': 'SS064.camera2', 'stemname': 'CAM2_20150312-144733', 'fullname': 'CAM2_20150312-144733.mp4', 'fullpath': 'U:\\\\Toddler_videos\\\\SS064\\\\CAM2_20150312-144733.mp4', 'index': 21, 'format': '.mp4', 'openpose': {'exitcode': 0, 'when': '2020-04-14T15:48:36.819773', 'out': 'E:\\\\SpeakNSign\\\\out\\\\openpose\\\\SS064_output.avi'}, 'height': 576, 'width': 720, 'fps': 25, 'n_frames': 8111, 'frames': 8111, 'maxpeople': 4, 'v': 49, 'c': 1, 'start': 0, 'end': 8111}\n",
      "{'shortname': 'SS064.camera3', 'stemname': 'CAM3_20150312-144733', 'fullname': 'CAM3_20150312-144733.mp4', 'fullpath': 'U:\\\\Toddler_videos\\\\SS064\\\\CAM3_20150312-144733.mp4', 'index': 22, 'format': '.mp4', 'openpose': {'exitcode': 0, 'when': '2020-04-14T15:55:45.501182', 'out': 'E:\\\\SpeakNSign\\\\out\\\\openpose\\\\SS064_output.avi'}, 'height': 576, 'width': 720, 'fps': 25, 'n_frames': 8097, 'frames': 8097, 'maxpeople': 4, 'v': 49, 'c': 2, 'start': 0, 'end': 8097}\n",
      "SS066\n",
      "{'shortname': 'SS066.camera1', 'stemname': 'CAM3_20150322-122043', 'fullname': 'CAM3_20150322-122043.mp4', 'fullpath': 'U:\\\\Toddler_videos\\\\ss066\\\\CAM3_20150322-122043.mp4', 'index': 23, 'format': '.mp4', 'openpose': {'exitcode': 0, 'when': '2020-04-14T16:03:17.928332', 'out': 'E:\\\\SpeakNSign\\\\out\\\\openpose\\\\SS066_output.avi'}, 'height': 576, 'width': 720, 'fps': 25, 'n_frames': 8623, 'frames': 8623, 'maxpeople': 4, 'v': 50, 'c': 0, 'start': 0, 'end': 8623}\n",
      "{'shortname': 'SS066.camera2', 'stemname': 'CAM1_20150322-122043', 'fullname': 'CAM1_20150322-122043.mp4', 'fullpath': 'U:\\\\Toddler_videos\\\\ss066\\\\CAM1_20150322-122043.mp4', 'index': 24, 'format': '.mp4', 'openpose': {'exitcode': 0, 'when': '2020-04-14T16:10:50.102722', 'out': 'E:\\\\SpeakNSign\\\\out\\\\openpose\\\\SS066_output.avi'}, 'height': 576, 'width': 720, 'fps': 25, 'n_frames': 8646, 'frames': 8646, 'maxpeople': 4, 'v': 50, 'c': 1, 'start': 0, 'end': 8646}\n",
      "{'shortname': 'SS066.camera3', 'stemname': 'CAM2_20150322-122043', 'fullname': 'CAM2_20150322-122043.mp4', 'fullpath': 'U:\\\\Toddler_videos\\\\ss066\\\\CAM2_20150322-122043.mp4', 'index': 25, 'format': '.mp4', 'openpose': {'exitcode': 0, 'when': '2020-04-14T16:18:21.508596', 'out': 'E:\\\\SpeakNSign\\\\out\\\\openpose\\\\SS066_output.avi'}, 'height': 576, 'width': 720, 'fps': 25, 'n_frames': 8625, 'frames': 8625, 'maxpeople': 4, 'v': 50, 'c': 2, 'start': 0, 'end': 8625}\n",
      "SS067\n",
      "{'shortname': 'SS067.camera1', 'stemname': 'CAM3_20150324-100823', 'fullname': 'CAM3_20150324-100823.mp4', 'fullpath': 'U:\\\\Toddler_videos\\\\ss067\\\\CAM3_20150324-100823.mp4', 'index': 26, 'format': '.mp4', 'openpose': {'exitcode': 0, 'when': '2020-04-14T16:25:56.668422', 'out': 'E:\\\\SpeakNSign\\\\out\\\\openpose\\\\SS067_output.avi'}, 'height': 576, 'width': 720, 'fps': 25, 'n_frames': 8795, 'frames': 8795, 'maxpeople': 4, 'v': 51, 'c': 0, 'start': 0, 'end': 8795}\n",
      "{'shortname': 'SS067.camera2', 'stemname': 'CAM1_20150324-100823', 'fullname': 'CAM1_20150324-100823.mp4', 'fullpath': 'U:\\\\Toddler_videos\\\\ss067\\\\CAM1_20150324-100823.mp4', 'index': 27, 'format': '.mp4', 'openpose': {'exitcode': 0, 'when': '2020-04-14T16:33:33.568457', 'out': 'E:\\\\SpeakNSign\\\\out\\\\openpose\\\\SS067_output.avi'}, 'height': 576, 'width': 720, 'fps': 25, 'n_frames': 8792, 'frames': 8792, 'maxpeople': 5, 'v': 51, 'c': 1, 'start': 0, 'end': 8792}\n",
      "{'shortname': 'SS067.camera3', 'stemname': 'CAM2_20150324-100823', 'fullname': 'CAM2_20150324-100823.mp4', 'fullpath': 'U:\\\\Toddler_videos\\\\ss067\\\\CAM2_20150324-100823.mp4', 'index': 28, 'format': '.mp4', 'openpose': {'exitcode': 0, 'when': '2020-04-14T16:34:38.776895', 'out': 'E:\\\\SpeakNSign\\\\out\\\\openpose\\\\SS067_output.avi'}, 'height': 576, 'width': 720, 'fps': 25, 'n_frames': 8794, 'frames': 396, 'maxpeople': 5, 'v': 51, 'c': 2, 'start': 0, 'end': 396}\n",
      "SS069\n",
      "{'shortname': 'SS069.camera1', 'stemname': 'PCI_1_CAM3_20150326-104511', 'fullname': 'PCI_1_CAM3_20150326-104511.mp4', 'fullpath': 'U:\\\\Toddler_videos\\\\ss069\\\\PCI_1_CAM3_20150326-104511.mp4', 'index': 29, 'format': '.mp4', 'openpose': {'exitcode': 0, 'when': '2020-04-14T16:48:46.486689', 'out': 'E:\\\\SpeakNSign\\\\out\\\\openpose\\\\SS069_output.avi'}, 'height': 576, 'width': 720, 'fps': 25, 'n_frames': 9240, 'frames': 9240, 'maxpeople': 5, 'v': 52, 'c': 0, 'start': 0, 'end': 9240}\n",
      "{'shortname': 'SS069.camera2', 'stemname': 'PCI _1_CAM1_20150326-104511', 'fullname': 'PCI _1_CAM1_20150326-104511.mp4', 'fullpath': 'U:\\\\Toddler_videos\\\\ss069\\\\PCI _1_CAM1_20150326-104511.mp4', 'index': 30, 'format': '.mp4', 'openpose': {'exitcode': 0, 'when': '2020-04-14T16:57:09.882690', 'out': 'E:\\\\SpeakNSign\\\\out\\\\openpose\\\\SS069_output.avi'}, 'height': 576, 'width': 720, 'fps': 25, 'n_frames': 9240, 'frames': 9240, 'maxpeople': 4, 'v': 52, 'c': 1, 'start': 0, 'end': 9240}\n",
      "{'shortname': 'SS069.camera3', 'stemname': 'PCI_1_CAM2_20150326-104511', 'fullname': 'PCI_1_CAM2_20150326-104511.mp4', 'fullpath': 'U:\\\\Toddler_videos\\\\ss069\\\\PCI_1_CAM2_20150326-104511.mp4', 'index': 31, 'format': '.mp4', 'openpose': {'exitcode': 0, 'when': '2020-04-14T17:05:25.613888', 'out': 'E:\\\\SpeakNSign\\\\out\\\\openpose\\\\SS069_output.avi'}, 'height': 576, 'width': 720, 'fps': 25, 'n_frames': 9251, 'frames': 9251, 'maxpeople': 4, 'v': 52, 'c': 2, 'start': 0, 'end': 9251}\n",
      "SS071\n",
      "{'shortname': 'SS071.camera1', 'stemname': 'CAM3_20150425-132804', 'fullname': 'CAM3_20150425-132804.mp4', 'fullpath': 'U:\\\\Toddler_videos\\\\ss071\\\\CAM3_20150425-132804.mp4', 'index': 32, 'format': '.mp4', 'openpose': {'exitcode': 0, 'when': '2020-04-14T17:13:05.329324', 'out': 'E:\\\\SpeakNSign\\\\out\\\\openpose\\\\SS071_output.avi'}, 'height': 576, 'width': 720, 'fps': 25, 'n_frames': 8845, 'frames': 8845, 'maxpeople': 4, 'v': 53, 'c': 0, 'start': 0, 'end': 8845}\n",
      "{'shortname': 'SS071.camera2', 'stemname': 'CAM1_20150425-132804', 'fullname': 'CAM1_20150425-132804.mp4', 'fullpath': 'U:\\\\Toddler_videos\\\\ss071\\\\CAM1_20150425-132804.mp4', 'index': 33, 'format': '.mp4', 'openpose': {'exitcode': 0, 'when': '2020-04-14T17:20:50.386277', 'out': 'E:\\\\SpeakNSign\\\\out\\\\openpose\\\\SS071_output.avi'}, 'height': 576, 'width': 720, 'fps': 25, 'n_frames': 8859, 'frames': 8859, 'maxpeople': 4, 'v': 53, 'c': 1, 'start': 0, 'end': 8859}\n",
      "{'shortname': 'SS071.camera3', 'stemname': 'CAM2_20150425-132804', 'fullname': 'CAM2_20150425-132804.mp4', 'fullpath': 'U:\\\\Toddler_videos\\\\ss071\\\\CAM2_20150425-132804.mp4', 'index': 34, 'format': '.mp4', 'openpose': {'exitcode': 0, 'when': '2020-04-14T17:28:31.237663', 'out': 'E:\\\\SpeakNSign\\\\out\\\\openpose\\\\SS071_output.avi'}, 'height': 576, 'width': 720, 'fps': 25, 'n_frames': 8837, 'frames': 8837, 'maxpeople': 4, 'v': 53, 'c': 2, 'start': 0, 'end': 8837}\n",
      "SS074\n",
      "{'shortname': 'SS074.camera1', 'stemname': 'PCI_CAM3_20150507-111729', 'fullname': 'PCI_CAM3_20150507-111729.mp4', 'fullpath': 'U:\\\\Toddler_videos\\\\SS074\\\\PCI_CAM3_20150507-111729.mp4', 'index': 35, 'format': '.mp4', 'openpose': {'exitcode': 0, 'when': '2020-04-14T17:36:24.461088', 'out': 'E:\\\\SpeakNSign\\\\out\\\\openpose\\\\SS074_output.avi'}, 'height': 576, 'width': 720, 'fps': 25, 'n_frames': 9091, 'frames': 9091, 'maxpeople': 4, 'v': 54, 'c': 0, 'start': 0, 'end': 9091}\n",
      "{'shortname': 'SS074.camera2', 'stemname': 'PCI_CAM1_20150507-111729', 'fullname': 'PCI_CAM1_20150507-111729.mp4', 'fullpath': 'U:\\\\Toddler_videos\\\\SS074\\\\PCI_CAM1_20150507-111729.mp4', 'index': 36, 'format': '.mp4', 'openpose': {'exitcode': 0, 'when': '2020-04-14T17:44:22.904199', 'out': 'E:\\\\SpeakNSign\\\\out\\\\openpose\\\\SS074_output.avi'}, 'height': 576, 'width': 720, 'fps': 25, 'n_frames': 9088, 'frames': 9088, 'maxpeople': 5, 'v': 54, 'c': 1, 'start': 0, 'end': 9088}\n",
      "{'shortname': 'SS074.camera3', 'stemname': 'PCI_CAM2_20150507-111729', 'fullname': 'PCI_CAM2_20150507-111729.mp4', 'fullpath': 'U:\\\\Toddler_videos\\\\SS074\\\\PCI_CAM2_20150507-111729.mp4', 'index': 37, 'format': '.mp4', 'openpose': {'exitcode': 0, 'when': '2020-04-14T17:52:18.376162', 'out': 'E:\\\\SpeakNSign\\\\out\\\\openpose\\\\SS074_output.avi'}, 'height': 576, 'width': 720, 'fps': 25, 'n_frames': 9086, 'frames': 9086, 'maxpeople': 4, 'v': 54, 'c': 2, 'start': 0, 'end': 9086}\n",
      "SS075\n",
      "{'shortname': 'SS075.camera1', 'stemname': 'CAM3_20150509-122551', 'fullname': 'CAM3_20150509-122551.mp4', 'fullpath': 'U:\\\\Toddler_videos\\\\ss075\\\\CAM3_20150509-122551.mp4', 'index': 73, 'format': '.mp4', 'openpose': {'exitcode': 0, 'when': '2020-04-19T01:07:25.298451', 'out': 'E:\\\\SpeakNSign\\\\out\\\\openpose\\\\SS075_output.avi'}, 'height': 576, 'width': 720, 'fps': 25, 'n_frames': 8879, 'frames': 8879, 'maxpeople': 4, 'v': 55, 'c': 0, 'start': 0, 'end': 8879}\n",
      "{'shortname': 'SS075.camera2', 'stemname': 'CAM1_20150509-122551', 'fullname': 'CAM1_20150509-122551.mp4', 'fullpath': 'U:\\\\Toddler_videos\\\\ss075\\\\CAM1_20150509-122551.mp4', 'index': 38, 'format': '.mp4', 'openpose': {'exitcode': 0, 'when': '2020-04-14T18:05:41.292012', 'out': 'E:\\\\SpeakNSign\\\\out\\\\openpose\\\\SS075_output.avi'}, 'height': 576, 'width': 720, 'fps': 24, 'n_frames': 8894, 'frames': 8894, 'maxpeople': 4, 'v': 55, 'c': 1, 'start': 0, 'end': 8894}\n",
      "{'shortname': 'SS075.camera3', 'stemname': 'CAM2_20150509-122551', 'fullname': 'CAM2_20150509-122551.mp4', 'fullpath': 'U:\\\\Toddler_videos\\\\ss075\\\\CAM2_20150509-122551.mp4', 'index': 39, 'format': '.mp4', 'openpose': {'exitcode': 0, 'when': '2020-04-14T18:13:43.418464', 'out': 'E:\\\\SpeakNSign\\\\out\\\\openpose\\\\SS075_output.avi'}, 'height': 576, 'width': 720, 'fps': 25, 'n_frames': 8886, 'frames': 8886, 'maxpeople': 4, 'v': 55, 'c': 2, 'start': 0, 'end': 8886}\n",
      "SS081\n",
      "{'shortname': 'SS081.camera1', 'stemname': 'CAM3_20151022-140559', 'fullname': 'CAM3_20151022-140559.mp4', 'fullpath': 'U:\\\\Toddler_videos\\\\SS081\\\\CAM3_20151022-140559.mp4', 'index': 40, 'format': '.mp4', 'openpose': {'exitcode': 0, 'when': '2020-04-14T18:21:10.159460', 'out': 'E:\\\\SpeakNSign\\\\out\\\\openpose\\\\SS081_output.avi'}, 'height': 576, 'width': 720, 'fps': 25, 'n_frames': 7961, 'frames': 7961, 'maxpeople': 5, 'v': 56, 'c': 0, 'start': 0, 'end': 7961}\n",
      "{'shortname': 'SS081.camera2', 'stemname': 'CAM1_20151022-140559', 'fullname': 'CAM1_20151022-140559.mp4', 'fullpath': 'U:\\\\Toddler_videos\\\\SS081\\\\CAM1_20151022-140559.mp4', 'index': 41, 'format': '.mp4', 'openpose': {'exitcode': 0, 'when': '2020-04-14T18:28:05.677737', 'out': 'E:\\\\SpeakNSign\\\\out\\\\openpose\\\\SS081_output.avi'}, 'height': 576, 'width': 720, 'fps': 25, 'n_frames': 7957, 'frames': 7957, 'maxpeople': 4, 'v': 56, 'c': 1, 'start': 0, 'end': 7957}\n",
      "{'shortname': 'SS081.camera3', 'stemname': 'CAM2_20151022-140559', 'fullname': 'CAM2_20151022-140559.mp4', 'fullpath': 'U:\\\\Toddler_videos\\\\SS081\\\\CAM2_20151022-140559.mp4', 'index': 42, 'format': '.mp4', 'openpose': {'exitcode': 0, 'when': '2020-04-14T18:34:54.970949', 'out': 'E:\\\\SpeakNSign\\\\out\\\\openpose\\\\SS081_output.avi'}, 'height': 576, 'width': 720, 'fps': 25, 'n_frames': 7964, 'frames': 7964, 'maxpeople': 7, 'v': 56, 'c': 2, 'start': 0, 'end': 7964}\n",
      "SS083\n",
      "{'shortname': 'SS083.camera1', 'stemname': 'CAM3_20160206-125044', 'fullname': 'CAM3_20160206-125044.mp4', 'fullpath': 'U:\\\\Toddler_videos\\\\SS083\\\\CAM3_20160206-125044.mp4', 'index': 43, 'format': '.mp4', 'openpose': {'exitcode': 0, 'when': '2020-04-14T18:41:04.550405', 'out': 'E:\\\\SpeakNSign\\\\out\\\\openpose\\\\SS083_output.avi'}, 'height': 576, 'width': 720, 'fps': 25, 'n_frames': 7253, 'frames': 7253, 'maxpeople': 6, 'v': 57, 'c': 0, 'start': 0, 'end': 7253}\n",
      "{'shortname': 'SS083.camera2', 'stemname': 'CAM1_20160206-125044', 'fullname': 'CAM1_20160206-125044.mp4', 'fullpath': 'U:\\\\Toddler_videos\\\\SS083\\\\CAM1_20160206-125044.mp4', 'index': 44, 'format': '.mp4', 'openpose': {'exitcode': 0, 'when': '2020-04-14T18:47:17.618025', 'out': 'E:\\\\SpeakNSign\\\\out\\\\openpose\\\\SS083_output.avi'}, 'height': 576, 'width': 720, 'fps': 25, 'n_frames': 7267, 'frames': 7267, 'maxpeople': 6, 'v': 57, 'c': 1, 'start': 0, 'end': 7267}\n",
      "{'shortname': 'SS083.camera3', 'stemname': 'CAM2_20160206-125044', 'fullname': 'CAM2_20160206-125044.mp4', 'fullpath': 'U:\\\\Toddler_videos\\\\SS083\\\\CAM2_20160206-125044.mp4', 'index': 45, 'format': '.mp4', 'openpose': {'exitcode': 0, 'when': '2020-04-14T18:53:38.579621', 'out': 'E:\\\\SpeakNSign\\\\out\\\\openpose\\\\SS083_output.avi'}, 'height': 576, 'width': 720, 'fps': 25, 'n_frames': 7265, 'frames': 7265, 'maxpeople': 6, 'v': 57, 'c': 2, 'start': 0, 'end': 7265}\n",
      "SS088\n",
      "{'shortname': 'SS088.camera1', 'stemname': 'CAM1_20160401-115606', 'fullname': 'CAM1_20160401-115606.mp4', 'fullpath': 'U:\\\\Toddler_videos\\\\SS088\\\\CAM1_20160401-115606.mp4', 'index': 46, 'format': '.mp4', 'openpose': {'exitcode': 0, 'when': '2020-04-14T19:01:29.650912', 'out': 'E:\\\\SpeakNSign\\\\out\\\\openpose\\\\SS088_output.avi'}, 'height': 576, 'width': 720, 'fps': 25, 'n_frames': 8944, 'frames': 8944, 'maxpeople': 6, 'v': 58, 'c': 0, 'start': 0, 'end': 8944}\n",
      "{'shortname': 'SS088.camera2', 'stemname': 'CAM2_20160401-115606', 'fullname': 'CAM2_20160401-115606.mp4', 'fullpath': 'U:\\\\Toddler_videos\\\\SS088\\\\CAM2_20160401-115606.mp4', 'index': 47, 'format': '.mp4', 'openpose': {'exitcode': 0, 'when': '2020-04-14T19:09:32.265801', 'out': 'E:\\\\SpeakNSign\\\\out\\\\openpose\\\\SS088_output.avi'}, 'height': 576, 'width': 720, 'fps': 25, 'n_frames': 8935, 'frames': 8935, 'maxpeople': 4, 'v': 58, 'c': 1, 'start': 0, 'end': 8935}\n",
      "{'shortname': 'SS088.camera3', 'stemname': 'CAM3_20160401-115606', 'fullname': 'CAM3_20160401-115606.mp4', 'fullpath': 'U:\\\\Toddler_videos\\\\SS088\\\\CAM3_20160401-115606.mp4', 'index': 48, 'format': '.mp4', 'openpose': {'exitcode': 0, 'when': '2020-04-14T19:17:30.182174', 'out': 'E:\\\\SpeakNSign\\\\out\\\\openpose\\\\SS088_output.avi'}, 'height': 576, 'width': 720, 'fps': 25, 'n_frames': 8946, 'frames': 8946, 'maxpeople': 4, 'v': 58, 'c': 2, 'start': 0, 'end': 8946}\n",
      "SS094\n",
      "{'shortname': 'SS094.camera1', 'stemname': 'CAM1_20160529-123519', 'fullname': 'CAM1_20160529-123519.mp4', 'fullpath': 'U:\\\\Toddler_videos\\\\SS094\\\\CAM1_20160529-123519.mp4', 'index': 49, 'format': '.mp4', 'openpose': {'exitcode': 0, 'when': '2020-04-14T19:56:08.886666', 'out': 'E:\\\\SpeakNSign\\\\out\\\\openpose\\\\SS094_output.avi'}, 'height': 576, 'width': 720, 'fps': 25, 'n_frames': 38779, 'frames': 38779, 'maxpeople': 9, 'v': 59, 'c': 0, 'start': 0, 'end': 38779}\n",
      "{'shortname': 'SS094.camera2', 'stemname': 'CAM2_20160529-123519', 'fullname': 'CAM2_20160529-123519.mp4', 'fullpath': 'U:\\\\Toddler_videos\\\\SS094\\\\CAM2_20160529-123519.mp4', 'index': 50, 'format': '.mp4', 'openpose': {'exitcode': 0, 'when': '2020-04-14T20:34:34.043532', 'out': 'E:\\\\SpeakNSign\\\\out\\\\openpose\\\\SS094_output.avi'}, 'height': 576, 'width': 720, 'fps': 25, 'n_frames': 38793, 'frames': 38793, 'maxpeople': 10, 'v': 59, 'c': 1, 'start': 0, 'end': 38793}\n",
      "{'shortname': 'SS094.camera3', 'stemname': 'CAM3_20160529-123519', 'fullname': 'CAM3_20160529-123519.mp4', 'fullpath': 'U:\\\\Toddler_videos\\\\SS094\\\\CAM3_20160529-123519.mp4', 'index': 51, 'format': '.mp4', 'openpose': {'exitcode': 0, 'when': '2020-04-14T21:14:32.428706', 'out': 'E:\\\\SpeakNSign\\\\out\\\\openpose\\\\SS094_output.avi'}, 'height': 576, 'width': 720, 'fps': 25, 'n_frames': 38797, 'frames': 38797, 'maxpeople': 9, 'v': 59, 'c': 2, 'start': 0, 'end': 38797}\n"
     ]
    }
   ],
   "source": [
    "#optional - check the json\n",
    "for vid in videos:  \n",
    "    print(vid)\n",
    "    for cam in videos[vid]:\n",
    "        print(videos[vid][cam])"
   ]
  },
  {
   "cell_type": "code",
   "execution_count": 5,
   "metadata": {
    "lines_to_next_cell": 2
   },
   "outputs": [],
   "source": [
    "#can reload the values without recomputing\n",
    "#reloaded = np.load(videos_out_timeseries + '\\\\allframedata.npz')\n",
    "reloaded = np.load(videos_out_timeseries + '\\\\cleandata.npz')\n",
    "keypoints_original = reloaded[\"keypoints_array\"] #the unprocessed data\n",
    "#keypoints_array = np.copy(keypoints_original)  #an array where we clean the data."
   ]
  },
  {
   "cell_type": "code",
   "execution_count": 6,
   "metadata": {},
   "outputs": [],
   "source": [
    "keypoints_array = keypoints_original  #an array where we clean the data."
   ]
  },
  {
   "cell_type": "code",
   "execution_count": 7,
   "metadata": {},
   "outputs": [
    {
     "data": {
      "text/plain": [
       "(60, 3, 38797, 10, 75)"
      ]
     },
     "execution_count": 7,
     "metadata": {},
     "output_type": "execute_result"
    }
   ],
   "source": [
    "#check the shape\n",
    "keypoints_array.shape"
   ]
  },
  {
   "cell_type": "markdown",
   "metadata": {},
   "source": [
    "## Step 2.3 Clean the data\n",
    "\n",
    "We now have an numpy array called `keypoints_array` containing all the openpose numbers for all videos. Now we need to do some cleaning of the data. We provide set of tools to do this. There are several tasks we need to do.\n",
    "\n",
    "1. Pick camera with best view of both participants - swap this to camera 1 (if multiple cameras).\n",
    "2. You might delete sets for whom all data is too poor quality. But they can also be excluded in **Step 3** by a flag in the data spreadsheet. \n",
    "3. Tag the adult & infant in first frame of interest. So both individuals should be in first frame.\n",
    "4. Try to automatically tag then in subsequent frames.\n",
    "5. Manually fix anything the automatic process gets wrong.\n",
    "6. Exclude other detected people (3rd parties & false positives)\n",
    "\n",
    "We do all of this with the control panel below. \n"
   ]
  },
  {
   "cell_type": "markdown",
   "metadata": {},
   "source": [
    "### Step 2.3.1: Which is best camera angle?\n",
    "\n",
    "If we have just one camera then use that. If there are multiple angles, pick the best one and swap it to be \"camera1\". \n"
   ]
  },
  {
   "cell_type": "markdown",
   "metadata": {},
   "source": [
    "### Step 2.3.2: Where does the interesting data start and end?\n",
    "\n",
    "For many videos, the period of interest might start (and end) some time into the video. For now we are using the whole video .\n",
    "TODO  - We wiil give the user the opportunity to set these.\n"
   ]
  },
  {
   "cell_type": "code",
   "execution_count": 14,
   "metadata": {},
   "outputs": [],
   "source": [
    "#let's loop through the processed list and set and startframe and endframe for each video\n",
    "# for the moment we'll just use the full video.\n",
    "# TODO - we will let the use specify this per video \n",
    "for vid in videos:\n",
    "    for cam in videos[vid]:\n",
    "        videos[vid][cam][\"start\"] = 0\n",
    "        videos[vid][cam][\"end\"] = videos[vid][cam][\"frames\"]"
   ]
  },
  {
   "cell_type": "markdown",
   "metadata": {},
   "source": [
    "### Step 2.3.2: Tag the actors of interest at start\n",
    "\n",
    "We want to know which person is the adult and which is the infant in the first frame. We want the child to be Person 0 and Adult to be Person 1. The buttons below provide the choice to swap data series so that this is correct.\n",
    "\n",
    "For example, if child data starts in series 3, we pick 3 in the drop down list next to button `Swap to child (0)` and then press the button. This will swap these two series.\n",
    "\n",
    "This function operates beyond the current frame so it's possible to use it multiple times if data jumps around. However, there is a short cut for part of this process.."
   ]
  },
  {
   "cell_type": "markdown",
   "metadata": {},
   "source": [
    "### Step 2.3.3: Fix by location - Track actors frame by frame\n",
    "\n",
    "At present OpenPose doesn't track individuals from one frame to the next (I believe they are working on this). It just labels each person in each frame. This means that Person 1 in frame 1 might become Person 2 by frame 100. Here we provide some tools that automatically trying to guess who is who. This is tricky so we also ask for human input. \n",
    "\n",
    "Once the child and adult data start in series 0 and 1 respectively, press the `Fix by location` button.\n",
    "\n",
    "If this leaves a few errors we can move slider to affected frame and use the swap series function to manually correct."
   ]
  },
  {
   "cell_type": "markdown",
   "metadata": {},
   "source": [
    "### Step 2.3.4: Fix by size - identify data by size of wireframes.\n",
    "\n",
    "In many of our cases of interest we have an adult and a young child interacting. Therefore, it is handy to try autolabelling based on a sorting of the size of their wireframes. \n",
    "\n",
    "Pressing the `Fix by size` button, makes person 0 the smallest person in the frame, person 1 the next smallest and so on."
   ]
  },
  {
   "cell_type": "markdown",
   "metadata": {},
   "source": [
    "### Step 2.3.4: Exclude other people\n",
    "\n",
    "Finally we can delete any people in background or false positives (ghosts) detected by OpenPose. We simply set these to zero."
   ]
  },
  {
   "cell_type": "markdown",
   "metadata": {},
   "source": [
    "## CONTROL PANEL\n",
    "\n",
    "Run this BIG block of code to provide controls to edit and reorganise the data. \n",
    "If anything goes wrong you can revert to the original data. \n",
    "\n",
    "This needs `ipywidgets` and `ipycanvas` to be installed. (See [Step 0](Step0.GettingStarted.ipynb))"
   ]
  },
  {
   "cell_type": "code",
   "execution_count": 13,
   "metadata": {},
   "outputs": [
    {
     "data": {
      "application/vnd.jupyter.widget-view+json": {
       "model_id": "4bbf66c6252945b38480341c9b857e82",
       "version_major": 2,
       "version_minor": 0
      },
      "text/plain": [
       "Output()"
      ]
     },
     "metadata": {},
     "output_type": "display_data"
    }
   ],
   "source": [
    "###############################################################\n",
    "# All the code in this block draws our data editing control panel\n",
    "###############################################################\n",
    "\n",
    "###############################################################\n",
    "## a canvas object to show current frame of the video.\n",
    "canvas = Canvas(width=800, height=600)\n",
    "\n",
    "###############################################################\n",
    "## dropbown lists to select the video and the camera (if multiple angles)\n",
    "## next to the video dropdown we have Delete button to remove that vid\n",
    "## next to the camera dropdown we have a swap button to choose a primary camera.\n",
    "vidlist = [] #used to fill dropdown options\n",
    "camlist = [] #used to fill dropdown options\n",
    "for vid in videos:  \n",
    "    vidlist.append(vid)\n",
    "    \n",
    "for cam in videos[vid]:  \n",
    "    camlist.append(cam)\n",
    "    \n",
    "pickvid = widgets.Dropdown(\n",
    "    options= vidlist,\n",
    "    value= vidlist[0],\n",
    "    description='Select subject:'\n",
    ")\n",
    "button_exclude =  widgets.Button(description='DELETE THIS ONE!')\n",
    "\n",
    "pickcam = widgets.Dropdown(\n",
    "    options= camlist,\n",
    "    value= camlist[0],\n",
    "    description='Select camera:'\n",
    ")\n",
    "button_swapcam = widgets.Button(description=\"Swap this to camera1\")\n",
    "cambox = widgets.HBox([pickcam, button_swapcam])\n",
    "\n",
    "###############################################################\n",
    "## Who is who? \n",
    "## In processed video we want child in index 0 and adult in index 1.\n",
    "## so need ability to swap series and delete unwanted data.\n",
    "## pressing button_swapchild swaps selected set of data to be index 0 - default for child.\n",
    "\n",
    "button_swapchild = widgets.Button(description=\"Swap to child (0)\") \n",
    "child = widgets.Dropdown(\n",
    "    options = list(range(10)),\n",
    "    value= 0,\n",
    "    description='Set: '\n",
    ")\n",
    "babybox = widgets.HBox([button_swapchild, child])\n",
    "\n",
    "adult = widgets.Dropdown(\n",
    "    options = list(range(10)),\n",
    "    value= 1,\n",
    "    description='Set: '\n",
    ")\n",
    "button_swapadult = widgets.Button(description=\"Swap to adult (1)\")\n",
    "adultbox = widgets.HBox([button_swapadult,adult])\n",
    "\n",
    "button_remove = widgets.Button(description=\"Remove these data\")\n",
    "remove = widgets.Dropdown(\n",
    "    options = list(range(10)),\n",
    "    value= 2,\n",
    "    description='Set: '\n",
    ")\n",
    "removebox = widgets.HBox([button_remove,remove])\n",
    "\n",
    "\n",
    "###############################################################\n",
    "## What frame is displayed in the canvas?\n",
    "## all swap and delete operation work on data AFTER this frame.\n",
    "## include a few buttons to adjust the frame forward or backwards slightly\n",
    "slider = widgets.IntSlider(\n",
    "    value=0,\n",
    "    min=0,\n",
    "    max=161,\n",
    "    step=1,\n",
    "    description='Frame:',\n",
    "    continuous_update=False,\n",
    "    orientation='horizontal',\n",
    "    readout=True,\n",
    "    readout_format='d',\n",
    "    layout=widgets.Layout(width='800px')\n",
    ")\n",
    "\n",
    "#buttons to adjust the slider in small increments \n",
    "minus1pct = widgets.Button(description=\"-1%\")\n",
    "minus10 = widgets.Button(description=\"-10\")\n",
    "minus1 = widgets.Button(description=\"-1\")\n",
    "plus1 = widgets.Button(description=\"+1\")\n",
    "plus10 = widgets.Button(description=\"+10\")\n",
    "plus1pct = widgets.Button(description=\"+1%\")\n",
    "\n",
    "def minus1pct_clicked(output):\n",
    "    slider.value = max(0,slider.value - 0.01 * slider.max)\n",
    "def minus10_clicked(output):\n",
    "    slider.value = max(0,slider.value - 10)\n",
    "def minus1_clicked(output):\n",
    "    slider.value = max(0,slider.value - 1)\n",
    "def plus1_clicked(output):\n",
    "    slider.value = min(slider.max,slider.value + 1)\n",
    "def plus10_clicked(output):\n",
    "    slider.value = min(slider.max,slider.value + 10)\n",
    "def plus1pct_clicked(output):\n",
    "    slider.value = min(slider.max,slider.value + 0.01 * slider.max)\n",
    "                       \n",
    "minus1pct.on_click(minus1pct_clicked)\n",
    "minus10.on_click(minus10_clicked)\n",
    "minus1.on_click(minus1_clicked)\n",
    "plus1.on_click(plus1_clicked)\n",
    "plus10.on_click(plus10_clicked)\n",
    "plus1pct.on_click(plus1pct_clicked)\n",
    "\n",
    "adjustbox  = widgets.HBox([minus1pct,minus10,minus1,plus1,plus10,plus1pct])\n",
    "\n",
    "\n",
    "###############################################################\n",
    "## Action buttons\n",
    "## To redraw everything it's current state, to attempt autofixing or to undo some or all our changes\n",
    "\n",
    "button_update = widgets.Button(description=\"Redraw\")\n",
    "button_fixlocations = widgets.Button(description=\"Fix by location\",tooltip=\"match each person to nearest person in next frame\")\n",
    "button_fixsizes = widgets.Button(description=\"Fix by size\",tooltip=\"label people sequentially by size of their wireframe\")\n",
    "button_reset_one = widgets.Button(description=\"Reset this video\")\n",
    "button_reset_all = widgets.Button(description=\"Reset all\")\n",
    "buttonbox = widgets.HBox([button_update,button_fixlocations,button_fixsizes,button_exclude,button_reset_one,button_reset_all])\n",
    "output = widgets.Output()\n",
    "\n",
    "\n",
    "###############################################################\n",
    "## Widget 'Event' codes\n",
    "## watches each widget waiting for something to change and then executes these bits of code. \n",
    "\n",
    "def pickvid_change(change):\n",
    "    if change['name'] == 'value' and (change['new'] != change['old']):\n",
    "        updateAll(True)\n",
    "        \n",
    "def pickcam_change(change):\n",
    "    if change['name'] == 'value' and (change['new'] != change['old']):\n",
    "        updateAll(True)\n",
    "\n",
    "def slider_change(slider):\n",
    "    updateAll(False)\n",
    "\n",
    "def on_button_clicked(output):\n",
    "    logging.info('button_update_all clicked')\n",
    "    updateAll(True)\n",
    "\n",
    "def on_reset_all(output):\n",
    "    global keypoints_array\n",
    "    logging.info('button_reset_all clicked')\n",
    "    keypoints_array = np.copy(keypoints_original)\n",
    "    updateAll(True)\n",
    "\n",
    "def on_fixlocations(output):\n",
    "    global keypoints_array\n",
    "    logging.info('on_fixlocations')\n",
    "    v = videos[pickvid.value][pickcam.value][\"v\"]\n",
    "    c = videos[pickvid.value][pickcam.value][\"c\"]\n",
    "    end  = videos[pickvid.value][pickcam.value][\"end\"]\n",
    "    window = 10\n",
    "    vasc.fixpeopleSeries(keypoints_array,v,c,[0,1],slider.value, end, window)\n",
    "    updateAll(True)\n",
    "    \n",
    "def on_fixsizes(output):\n",
    "    global keypoints_array\n",
    "    logging.info('on_fixsizes')\n",
    "    v = videos[pickvid.value][pickcam.value][\"v\"]\n",
    "    c = videos[pickvid.value][pickcam.value][\"c\"]\n",
    "    N = videos[vid][cam][\"maxpeople\"]\n",
    "    end  = videos[pickvid.value][pickcam.value][\"end\"]\n",
    "    vasc.sortpeoplebySize(keypoints_array,v,c,N,slider.value, end)\n",
    "    updateAll(True)\n",
    "\n",
    "def on_deleteparticipant(output):\n",
    "    global keypoints_array\n",
    "    global videos\n",
    "    logging.info('on_deleteparticipant')\n",
    "    for cam in videos[pickvid.value]: #loop through delete all cameras for this video.\n",
    "        v = videos[pickvid.value][cam][\"v\"]\n",
    "        c = videos[pickvid.value][cam][\"c\"]\n",
    "        end  = videos[pickvid.value][cam][\"end\"]\n",
    "        vasc.deleteSeries(keypoints_array,v,c,remove.value,0, end)\n",
    "    #now remove this from videos object\n",
    "    if pickvid.value in videos:\n",
    "        logging.info(pickvid.value)\n",
    "        del videos[pickvid.value]\n",
    "    #repopulate the dropdown\n",
    "    for vid in videos:  \n",
    "        vidlist.append(vid)\n",
    "    pickvid.options = vidlist\n",
    "    updateAll(True)\n",
    "    \n",
    "def on_deleteseries(output):\n",
    "    global keypoints_array\n",
    "    global videos\n",
    "    logging.info('on_fixseries')\n",
    "    v = videos[pickvid.value][pickcam.value][\"v\"]\n",
    "    c = videos[pickvid.value][pickcam.value][\"c\"]\n",
    "    end  = videos[pickvid.value][pickcam.value][\"end\"]\n",
    "    vasc.deleteSeries(keypoints_array,v,c,remove.value,slider.value, end)\n",
    "    updateAll(True)\n",
    "\n",
    "def on_swapcam(output):\n",
    "    global keypoints_array\n",
    "    global videos\n",
    "    logging.info('on_swapcam')\n",
    "    print(videos[pickvid.value][pickcam.value])\n",
    "    videos, keypoints_array = vasc.swapCameras(videos, keypoints_array,pickvid.value,pickcam.value,\"camera1\")\n",
    "    updateAll(True)\n",
    "    \n",
    "def on_swapchild(output):\n",
    "    global keypoints_array\n",
    "    global videos\n",
    "    logging.info('on_swapchild')\n",
    "    v = videos[pickvid.value][pickcam.value][\"v\"]\n",
    "    c = videos[pickvid.value][pickcam.value][\"c\"]\n",
    "    end  = videos[pickvid.value][pickcam.value][\"end\"]\n",
    "    vasc.swapSeries(keypoints_array,v,c,0,child.value,slider.value,end)\n",
    "    updateAll(True)\n",
    "\n",
    "def on_swapadult(output):\n",
    "    global keypoints_array\n",
    "    global videos\n",
    "    logging.info('on_swapadult')\n",
    "    v = videos[pickvid.value][pickcam.value][\"v\"]\n",
    "    c = videos[pickvid.value][pickcam.value][\"c\"]\n",
    "    end  = int(videos[pickvid.value][pickcam.value][\"end\"])\n",
    "    vasc.swapSeries(keypoints_array,v,c,1,adult.value,slider.value,end)\n",
    "    updateAll(True)\n",
    "\n",
    "\n",
    "slider.observe(slider_change, 'value')\n",
    "pickvid.observe(pickvid_change, 'value') \n",
    "pickcam.observe(pickcam_change, 'value') \n",
    "button_exclude.on_click(on_deleteparticipant) \n",
    "button_swapcam.on_click(on_swapcam)\n",
    "button_swapchild.on_click(on_swapchild)\n",
    "button_swapadult.on_click(on_swapadult)\n",
    "button_fixsizes.on_click(on_fixsizes)\n",
    "button_fixlocations.on_click(on_fixlocations)\n",
    "button_remove.on_click(on_deleteseries)\n",
    "button_update.on_click(on_button_clicked)\n",
    "button_reset_all.on_click(on_reset_all)\n",
    "\n",
    "###############################################################\n",
    "## ## functions to draw complicated stuff..\n",
    "def drawOneFrame(vid, cam, frameNum):\n",
    "    # which subarray of data do we need?\n",
    "    v = videos[vid][cam][\"v\"]\n",
    "    c = videos[vid][cam][\"c\"]\n",
    "    if anon == True:\n",
    "        #draw a black image\n",
    "        frame = np.zeros((videos[vid][cam][\"height\"], videos[vid][cam][\"width\"], 3), dtype = \"uint8\")\n",
    "    else:\n",
    "        vidpath = videos[pickvid.value][pickcam.value][\"fullpath\"]\n",
    "        frame = vasc.getframeimage(vidpath,frameNum) \n",
    "    vasc.drawPoints(frame,keypoints_array[v,c,frameNum,:,:],videos[vid][cam][\"maxpeople\"])\n",
    "    vasc.drawLines(frame,keypoints_array[v,c,frameNum,:,:],videos[vid][cam][\"maxpeople\"])\n",
    "    vasc.drawBodyCG(frame,keypoints_array[v,c,frameNum,:,:],videos[vid][cam][\"maxpeople\"])\n",
    "    #send the image to the canvas\n",
    "    img = cv2.cvtColor(frame, cv2.COLOR_BGR2RGB)\n",
    "    hiddencanvas = Canvas(width=img.shape[1], height=img.shape[0])\n",
    "    hiddencanvas.put_image_data(img, 0, 0)\n",
    "    canvas.draw_image(hiddencanvas,0,0,canvas.width,canvas.height)\n",
    "    canvas.restore()\n",
    "    \n",
    "def drawMovementGraph(vid, cam, points, frame = 0, average = True):\n",
    "    v = videos[vid][cam][\"v\"]\n",
    "    c = videos[vid][cam][\"c\"]\n",
    "    N = videos[vid][cam][\"frames\"]\n",
    "    t = np.zeros([N,1])\n",
    "    t[:,0]= list(range(N))\n",
    "\n",
    "    #variable to track the centre of gravity for each person\n",
    "    ceegees = np.zeros([N,videos[vid][cam][\"maxpeople\"]])\n",
    "\n",
    "    for frameNum in range(N):\n",
    "        for p in range(videos[vid][cam][\"maxpeople\"]):\n",
    "            personkeypoints = keypoints_array[v,c,frameNum,p,:]\n",
    "            avx = vasc.averagePoint(personkeypoints,vasc.xs)\n",
    "            if (avx > 0):\n",
    "                ceegees[frameNum,p] = avx\n",
    "            else:\n",
    "                ceegees[frameNum,p] = None\n",
    "\n",
    "    plt.figure(figsize=(12, 4))\n",
    "    plt.plot(t,ceegees)\n",
    "    plt.axvline(x=frame,c='tab:cyan')\n",
    "    plt.title('Horizontal movement of people (average) over time.)')\n",
    "    plt.legend([0, 1, 2, 3])\n",
    "    plt.show()\n",
    "\n",
    "###############################################################\n",
    "## Handy update routine to run each time something has changed\n",
    "def updateAll(forceUpdate = False):\n",
    "    output.clear_output(wait = True)\n",
    "    if forceUpdate:\n",
    "        slider.value = 0\n",
    "        slider.max = videos[pickvid.value][pickcam.value][\"end\"]\n",
    "    with output:\n",
    "        display(canvas,pickvid,cambox, babybox,adultbox,removebox, buttonbox, slider, adjustbox)  \n",
    "        drawOneFrame(pickvid.value,pickcam.value,slider.value)\n",
    "        drawMovementGraph(pickvid.value,pickcam.value,vasc.xs,slider.value,True)\n",
    "\n",
    "#draw everything for first time\n",
    "updateAll(True)\n",
    "output"
   ]
  },
  {
   "cell_type": "markdown",
   "metadata": {},
   "source": [
    "### Step 2.4: TODO - Correct for camera motion?\n",
    "\n",
    "Some video sets the camera is not fixed. Any camera movements will cause perfectly correlated movements in the pair of signals. We need to decide what (if anything) to do about this. (Not yet implemented.)\n",
    "\n"
   ]
  },
  {
   "cell_type": "markdown",
   "metadata": {},
   "source": [
    "### Step 2.5: TODO - Interpolate missing data\n",
    "\n",
    "There are still likely to be gaps. We need to decide what to do about those.  At the moment interpolation is done by scipy in the Step 3 code.\n",
    "\n",
    "#### Step 2.5.1. TODO - autofix to cope with missing data\n",
    "\n",
    "Missing data currently confuses autofix and on it's own interpolation won't help here. Because you can't interpolate until you know who is who. Our current approach is to let autofix by location use a moving average of several previous frames. "
   ]
  },
  {
   "cell_type": "markdown",
   "metadata": {},
   "source": [
    "### Step 2.6: TODO - Save your game\n",
    "\n",
    "Ought to be able to save the array when you half way through cleaning it. So you don't lose progress can come back another time. "
   ]
  },
  {
   "cell_type": "code",
   "execution_count": 16,
   "metadata": {},
   "outputs": [
    {
     "data": {
      "text/plain": [
       "(60, 3, 38797, 10, 75)"
      ]
     },
     "execution_count": 16,
     "metadata": {},
     "output_type": "execute_result"
    }
   ],
   "source": [
    "keypoints_array.shape"
   ]
  },
  {
   "cell_type": "markdown",
   "metadata": {},
   "source": [
    "### *Warning these steps can take several minutes each...*\n",
    "\n",
    "## Step 2.7: Save the numpy data!\n",
    "\n",
    "Saving the data at this stage so we don't have to repeat these steps again if we reorganise or reanalyse the data.\n",
    "\n",
    "We create a compressed NumPy array `cleandata.npz` containing the person location data for all the videos. \n",
    "\n",
    "We also update the `videos.json` file with more info about the videos. in a new file called `clean.json`. \n"
   ]
  },
  {
   "cell_type": "code",
   "execution_count": 17,
   "metadata": {},
   "outputs": [],
   "source": [
    "#update the json file in the video out directory\n",
    "with open(videos_out + '\\\\clean.json', 'w') as outfile:\n",
    "    json.dump(videos, outfile)\n",
    "\n",
    "# in the time series folder we save the data file. \n",
    "#in a compressed format as it has a lot of empty values\n",
    "np.savez_compressed(videos_out_timeseries + '\\\\cleandata.npz', keypoints_array=keypoints_array)"
   ]
  },
  {
   "cell_type": "markdown",
   "metadata": {
    "jupyter": {
     "source_hidden": true
    }
   },
   "source": [
    "## Step 2.8: Save a pandas dataframe version too.\n",
    "\n",
    "Most of our analysis will be done with SciPy which uses pandas dataframes as its main data format. So let's build a multiindex dataframe containing just the data we need. \n",
    "\n",
    "The rows will have three levels of hierarchy (video x person x BODY25-coordinate). The rows are the individual frames. So a single column will contain the complete time-series of a single dimension of a single point of one person.  So in this example: \n",
    "```\n",
    "rows 0-411 represent the 412 frames of data.\n",
    "\n",
    "col 0 is x-coordinate of point 0 (nose) of infant in video 'lookit.01'\n",
    "col 1 is y-coordinate of point 0 (nose) of infant in video 'lookit.01'\n",
    "col 2 is openpose confidence score for how well it identified that point.\n",
    "```\n",
    "\n",
    "<img src=\"multiindexdataframe.png\" alt=\"multiindex\" width=\"871\"/>\n"
   ]
  },
  {
   "cell_type": "code",
   "execution_count": null,
   "metadata": {},
   "outputs": [],
   "source": [
    "#optional\n",
    "#can reload the clean values without recomputing steps above\n",
    "reloaded = np.load(videos_out_timeseries + '\\\\cleandata.npz')\n",
    "keypoints_array = reloaded[\"keypoints_array\"] #the unprocessed data\n",
    "keypoints_array.shape"
   ]
  },
  {
   "cell_type": "code",
   "execution_count": 18,
   "metadata": {
    "lines_to_next_cell": 2
   },
   "outputs": [],
   "source": [
    "#delete all cameras except 0 \n",
    "keypoints_array = np.delete(keypoints_array,np.s_[1:],1)\n",
    "#delete all people except 0 & 1\n",
    "keypoints_array = np.delete(keypoints_array,np.s_[2:],3)"
   ]
  },
  {
   "cell_type": "code",
   "execution_count": 19,
   "metadata": {
    "lines_to_next_cell": 2
   },
   "outputs": [
    {
     "data": {
      "text/plain": [
       "(60, 1, 10000, 2, 75)"
      ]
     },
     "execution_count": 19,
     "metadata": {},
     "output_type": "execute_result"
    }
   ],
   "source": [
    "#truncate the timeseries - many videos are longer than we need\n",
    "keypoints_array = np.delete(keypoints_array,np.s_[10000:],2)\n",
    "shp = keypoints_array.shape\n",
    "keypoints_array.shape"
   ]
  },
  {
   "cell_type": "markdown",
   "metadata": {},
   "source": [
    "Another save point - this array is much smaller so will load / Save quicker."
   ]
  },
  {
   "cell_type": "code",
   "execution_count": 20,
   "metadata": {},
   "outputs": [],
   "source": [
    "np.savez_compressed(videos_out_timeseries + '\\\\trimdata.npz', keypoints_array=keypoints_array)"
   ]
  },
  {
   "cell_type": "code",
   "execution_count": null,
   "metadata": {
    "lines_to_next_cell": 2
   },
   "outputs": [],
   "source": [
    "#Another save point here if it helps.\n",
    "trimmed = np.load(videos_out_timeseries + '\\\\trimdata.npz')\n",
    "keypoints_array = trimmed[\"keypoints_array\"] #the unprocessed data\n",
    "keypoints_array.shape"
   ]
  },
  {
   "cell_type": "markdown",
   "metadata": {},
   "source": [
    "Now we reorganise the data in a multiindex pandas array and save using `pyarrow`. \n",
    "First create an empty dataframe with right shape"
   ]
  },
  {
   "cell_type": "code",
   "execution_count": 21,
   "metadata": {},
   "outputs": [],
   "source": [
    "#first list the three levels of row hierarchy\n",
    "toplevel = videos.keys()\n",
    "participants = [\"infant\",\"parent\"]\n",
    "coords = list(range(3*vasc.nPoints)) #we have 3 x 25 coordinates to store\n",
    "\n",
    "#columns are frames\n",
    "timeseries = list(range(shp[2])) #how big is third dimension of the array?\n",
    "\n",
    "col_names = ['video','person','coord']\n",
    "#row_names = ['frames']\n",
    "\n",
    "col_index = pd.MultiIndex.from_product([toplevel,participants,coords], names=col_names)\n",
    "\n",
    "cleandf = pd.DataFrame(columns=col_index, index = timeseries)\n",
    "#cleandf.head()"
   ]
  },
  {
   "cell_type": "markdown",
   "metadata": {},
   "source": [
    "Then populate the dataframe row by row.\n",
    "\n",
    "*This step is particularly SLOW*"
   ]
  },
  {
   "cell_type": "code",
   "execution_count": 22,
   "metadata": {},
   "outputs": [],
   "source": [
    "for vid in videos:\n",
    "    for p in range(2) :\n",
    "        v = videos[vid][\"camera1\"][\"v\"]\n",
    "        part = participants[p]\n",
    "        for r in range(3*vasc.nPoints):\n",
    "            cleandf[(vid, part, r)] = keypoints_array[v,0,:,p,r]"
   ]
  },
  {
   "cell_type": "code",
   "execution_count": 23,
   "metadata": {},
   "outputs": [],
   "source": [
    "#Sort the columns into alphabetical order (helps with step 3 calculations.)\n",
    "cleandf = cleandf.sort_index(axis = 1)"
   ]
  },
  {
   "cell_type": "markdown",
   "metadata": {},
   "source": [
    "### Finally save this to a compressed file.\n",
    "\n",
    "We use the fast `parquet` format with library `pyarrow` in order to preserve our hierarchical index in a compressed format. We save into the timeseries sub-folder. \n"
   ]
  },
  {
   "cell_type": "code",
   "execution_count": 24,
   "metadata": {
    "lines_to_end_of_cell_marker": 2
   },
   "outputs": [],
   "source": [
    "import pyarrow.parquet as pq\n",
    "import pyarrow as pa"
   ]
  },
  {
   "cell_type": "code",
   "execution_count": 25,
   "metadata": {
    "lines_to_end_of_cell_marker": 2
   },
   "outputs": [],
   "source": [
    "pq.write_table(pa.Table.from_pandas(cleandf), videos_out_timeseries + '\\\\cleandata.parquet')"
   ]
  },
  {
   "cell_type": "code",
   "execution_count": null,
   "metadata": {
    "lines_to_next_cell": 2
   },
   "outputs": [],
   "source": [
    "print('reading parquet file:')\n",
    "pqdf = pq.read_table(videos_out_timeseries + '\\\\cleandata.parquet').to_pandas()\n",
    "print(pqdf.head())"
   ]
  },
  {
   "cell_type": "markdown",
   "metadata": {},
   "source": [
    "#### That's it. \n",
    "\n",
    "Now go onto [Step 3 - Analyse the data](Step3.AnalyseData.scipy)"
   ]
  }
 ],
 "metadata": {
  "jupytext": {
   "formats": "ipynb,py:light"
  },
  "kernelspec": {
   "display_name": "Python 3",
   "language": "python",
   "name": "python3"
  },
  "language_info": {
   "codemirror_mode": {
    "name": "ipython",
    "version": 3
   },
   "file_extension": ".py",
   "mimetype": "text/x-python",
   "name": "python",
   "nbconvert_exporter": "python",
   "pygments_lexer": "ipython3",
   "version": "3.8.5"
  }
 },
 "nbformat": 4,
 "nbformat_minor": 4
}
