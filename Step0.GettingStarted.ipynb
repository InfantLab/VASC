{
 "cells": [
  {
   "cell_type": "markdown",
   "metadata": {},
   "source": [
    "# Video Actor Synchroncy and Causality (VASC)\n",
    "## RAEng: Measuring Responsive Caregiving Project\n",
    "### Caspar Addyman, 2020\n",
    "### https://github.com/infantlab/VASC\n",
    "\n",
    "# Step 0 - Before we start\n",
    "\n",
    "Before anything else we need to install a few apps and libraries to make everything work. You should only have to do these steps once when you first install everything."
   ]
  },
  {
   "cell_type": "markdown",
   "metadata": {},
   "source": [
    "### 0.0 - Jupyter notebook environment\n",
    "\n",
    "*If you can read this you are probably already running [Jupyter](https://jupyter.org/). Congratulations!*\n",
    "\n",
    "There's a [getting started guide](https://jupyter.readthedocs.io/en/latest/content-quickstart.html) at the [Jupyter documentation page](https://jupyter.readthedocs.io/en/latest/index.html)\n",
    "\n",
    "If you're impatient we recommend using the Anaconda Data Science platform (Python 3 version) \n",
    "https://www.anaconda.com/distribution/\n",
    "\n",
    "and then running the command\n",
    "```\n",
    "conda install -c conda-forge jupyterlab\n",
    "```\n",
    "\n",
    "These notebooks will run in the original Jupyter Notebook format or with the newer JupyterLab interface. We recommend the latter. "
   ]
  },
  {
   "cell_type": "markdown",
   "metadata": {},
   "source": [
    "### 0.1 - OpenPoseDemo application\n",
    "\n",
    "Next we need to download and install the [OpenPoseDemo](https://github.com/CMU-Perceptual-Computing-Lab/openpose/blob/master/doc/demo_overview.md) executable.\n",
    "\n",
    "Additionally, you need to download the trained neural-network models that OpenPose uses. To do this go to the `models` subdirectory of OpenPose directory, and double-click / run the `models.bat` script.\n",
    "\n",
    "The `openposedemo` bin/exe file can be run manually from the command line. It is worth trying this first so you understand what  `openposedemo` is. See [this guide](https://github.com/CMU-Perceptual-Computing-Lab/openpose/blob/master/doc/demo_overview.md) or open a terminal app or Windows Powershell, navigate to the openpose installation folder and then try this command \n",
    "\n",
    "```\n",
    ":: Windows\n",
    "bin\\OpenPoseDemo.exe --video examples\\media\\video.avi --write_json output\n",
    "# Mac/Linux\n",
    "./build/examples/openpose/openpose.bin --video examples/media/video.avi --write_json output\n",
    "```\n",
    "\n",
    "Changing the `examples\\media\\video.avi` to the path to another video on your machine will process that instead. "
   ]
  },
  {
   "cell_type": "markdown",
   "metadata": {},
   "source": [
    "### 0.2 - Load python libraries\n",
    "\n",
    "There are a handful of python libraries that we use for things like image manipulation, file operations, maths and stats. Many are probably already installed by default such as `os, math, numpy, pandas, matplotlib`. Others need adding to our python environment. \n",
    "\n",
    "For example, `PyArrow` is a useful extension for saving Pandas and NumPy data. We need it to move the large array created in Step 2 to Step 3. \n",
    "\n",
    "**If you are using conda then run the following command to install all the main libraries.**\n",
    "```\n",
    "conda install glob2 opencv pyarrow xlrd openpyxl\n",
    "```\n",
    "#### Troubleshooting\n",
    "When you run the code in Steps 1, 2 & 3 you might see an error like `ModuleNotFoundError: No module named 'glob'` this is because that python module needs to be installed on your computer. If you use Anaconda, the missing module can usually be installed with the command `conda install glob`. You then need to restart the script with the problem by choosing `Restart kernel..` from the Kernel menu dropdown."
   ]
  },
  {
   "cell_type": "markdown",
   "metadata": {},
   "source": [
    "### 0.3 - iPyWidgets\n",
    "\n",
    "We also install `iPyWidgets` & `iPyCanvas` in order to use buttons and sliders and images in Jupyter notebooks (these are used in Step 2). \n",
    "```\n",
    "conda install -c conda-forge ipywidgets \n",
    "conda install -c conda-forge ipycanvas\n",
    "```\n",
    "To make these work with the newer Jupyter Lab we also need to install the widgets lab extension, like so:\n",
    "\n",
    "```\n",
    "conda install -c conda-forge nodejs\n",
    "jupyter labextension install @jupyter-widgets/jupyterlab-manager\n",
    "jupyter labextension install @jupyter-widgets/jupyterlab-manager ipycanvas\n",
    "```\n",
    "\n",
    "Documentation:\n",
    "+ https://ipywidgets.readthedocs.io/en/latest/\n",
    "+ https://ipycanvas.readthedocs.io/en/latest/\n",
    "+ https://ipycanvas.readthedocs.io/en/latest/installation.html#jupyterlab-extension\n"
   ]
  },
  {
   "cell_type": "markdown",
   "metadata": {},
   "source": [
    "### 0.4 - JupyText \n",
    "\n",
    "The standard ipython notebook format (`mynotebook.ipynb`) is a single file that mixes together code, formatting commands and outputs both as the results of running code and embedded binaries (images, graphs). This makes it non-human readable and very hard to tell what changed from one version to the next. `Jupytext` solves this by creating a synchronised plain text version of the file saved as a plain `.py` file (`mynotebook.py`). These are useful for developers (as it helps you track differences between versions more easily) but can mostly be ignored by users. \n",
    "\n",
    "\n",
    "Install JupyText by running\n",
    "\n",
    "```conda install -c conda-forge jupytext```"
   ]
  },
  {
   "cell_type": "markdown",
   "metadata": {},
   "source": [
    "### 0.5 Notebook extensions (optional)\n",
    "Installing Jupyter notebook extenstions provide some useful tools for navigating notebooks (e.g. table of contents) and other features.\n",
    "\n",
    "To install, run these commands in terminal window.\n",
    "\n",
    "```conda install -c conda-forge jupyter_nbextensions_configurator```\n",
    "\n",
    "```jupyter nbextensions_configurator enable --user```\n",
    "\n",
    "* https://jupyter-contrib-nbextensions.readthedocs.io/en/latest/index.html\n",
    "* https://moonbooks.org/Articles/How-to-create-a-table-of-contents-in-a-jupyter-notebook-/\n"
   ]
  },
  {
   "cell_type": "markdown",
   "metadata": {},
   "source": [
    "### 0.6 - Using Jupyter with network drives\n",
    "\n",
    "By default Jupyter launched from Anaconda Navigator will open it in your home directory. It then might not be possible to access files on a network drive you need. To get around this first launch a command window for the correct Jupyter environment. Then use this command to launch Jupyter itself (assuming you want to access the U:/ drive). \n",
    "\n",
    "```jupyter lab --notebook-dir U:/```"
   ]
  }
 ],
 "metadata": {
  "jupytext": {
   "formats": "ipynb,py:light"
  },
  "kernelspec": {
   "display_name": "Python 3",
   "language": "python",
   "name": "python3"
  },
  "language_info": {
   "codemirror_mode": {
    "name": "ipython",
    "version": 3
   },
   "file_extension": ".py",
   "mimetype": "text/x-python",
   "name": "python",
   "nbconvert_exporter": "python",
   "pygments_lexer": "ipython3",
   "version": "3.8.5"
  }
 },
 "nbformat": 4,
 "nbformat_minor": 4
}
