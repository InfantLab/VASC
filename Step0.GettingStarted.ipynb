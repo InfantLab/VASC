{
 "cells": [
  {
   "cell_type": "markdown",
   "metadata": {},
   "source": [
    "# Video Actor Synchroncy and Causality (VASC)\n",
    "## RAEng: Measuring Responsive Caregiving Project\n",
    "### Caspar Addyman, 2020\n",
    "### https://github.com/infantlab/VASC\n",
    "\n",
    "# Step 0 - Before we start\n",
    "\n",
    "Before anything else we need to install a few apps and libraries to make everything work. You should only have to do these steps once when you first install everything."
   ]
  },
  {
   "cell_type": "markdown",
   "metadata": {},
   "source": [
    "### 0.0 - Jupyter notebook environment\n",
    "\n",
    "*If you can read this you are probably already running Jupyter. Congratulations!*\n",
    "\n",
    "We recommend using the Anaconda Data Science platform (Python 3 version) \n",
    "\n",
    "https://www.anaconda.com/distribution/\n"
   ]
  },
  {
   "cell_type": "markdown",
   "metadata": {},
   "source": [
    "### 0.1 - OpenPoseDemo application\n",
    "\n",
    "Next we need to download and install the [OpenPoseDemo](https://github.com/CMU-Perceptual-Computing-Lab/openpose/blob/master/doc/demo_overview.md) executable.\n",
    "\n",
    "Additionally, you need to download the trained neural-network models that OpenPose uses. To do this go to the `models` subdirectory of OpenPose directory, and double-click / run the `models.bat` script.\n",
    "\n",
    "The `openposedemo` bin/exe file can be run manually from the command line. It is worth trying this first so you understand what  `openposedemo` is. See [this guide](https://github.com/CMU-Perceptual-Computing-Lab/openpose/blob/master/doc/demo_overview.md) or open a terminal app or Windows Powershell, navigate to the openpose installation folder and then try this command\n",
    "\n",
    "```\n",
    ":: Windows\n",
    "bin\\OpenPoseDemo.exe --video examples\\media\\video.avi --write_json output\n",
    "# Mac/Linux\n",
    "./build/examples/openpose/openpose.bin --video examples/media/video.avi --write_json output\n",
    "```"
   ]
  },
  {
   "cell_type": "markdown",
   "metadata": {},
   "source": [
    "### 0.2 - Load python libraries\n",
    "\n",
    "There are a handful of python libraries that we use for things like image manipulation, file operations, maths and stats. Many are probably already installed by default such as `os, math, numpy, matplotlib`. Others need adding to our python environment. \n",
    "\n",
    "**If you are using conda then run the following command to install all the main libraries.**\n",
    "```\n",
    "conda install glob2 opencv \n",
    "```\n",
    "#### Troubleshooting\n",
    "If when you run the code in Steps 1, 2 & 3 you might ee an error like `ModuleNotFoundError: No module named 'glob'` this is because that python module needs to be installed on your computer. If you use Anaconda, the missing module can usually be installed with the command `conda install glob`."
   ]
  },
  {
   "cell_type": "markdown",
   "metadata": {},
   "source": [
    "### 0.3 - iPyWidgets\n",
    "\n",
    "We also install `iPyWidgets` & `iPyCanvas` in order to use buttons and sliders and images in Jupyter notebooks (these are used in Step 2). \n",
    "```\n",
    "conda install -c conda-forgeipywidgets \n",
    "conda install -c conda-forge ipycanvas\n",
    "```\n",
    "To make these work with the newer Jupyter Lab we also need to install the widgets lab extension, like so:\n",
    "\n",
    "```\n",
    "conda install -c conda-forge nodejs\n",
    "jupyter labextension install @jupyter-widgets/jupyterlab-manager\n",
    "```\n",
    "\n",
    "Documentation:\n",
    "+ https://ipywidgets.readthedocs.io/en/latest/\n",
    "+ https://ipycanvas.readthedocs.io/en/latest/\n",
    "+ https://ipycanvas.readthedocs.io/en/latest/installation.html#jupyterlab-extension\n"
   ]
  }
 ],
 "metadata": {
  "kernelspec": {
   "display_name": "Python 3",
   "language": "python",
   "name": "python3"
  },
  "language_info": {
   "codemirror_mode": {
    "name": "ipython",
    "version": 3
   },
   "file_extension": ".py",
   "mimetype": "text/x-python",
   "name": "python",
   "nbconvert_exporter": "python",
   "pygments_lexer": "ipython3",
   "version": "3.7.6"
  }
 },
 "nbformat": 4,
 "nbformat_minor": 4
}
